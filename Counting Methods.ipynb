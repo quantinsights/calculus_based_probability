{
 "cells": [
  {
   "cell_type": "markdown",
   "metadata": {},
   "source": [
    "## The Sample Space.\n",
    "\n",
    "The mathematical theory of probability gains practical value and an intuitive meaning in connection with real or conceptual experiments such as tossing a coin once, tossing a coin one hundred times, throwing three dice, arranging a deck of cards, matching two decks of cards, playing roulette, observing the life-span of a radio-active atom or a person, the number of busy trunklines in a telephone exchange, a random noise in an electrical communication system, routine quality control of a production process, frequency of accidents, the position of a particle under diffusion.\n",
    "\n",
    "All these descriptions are rather vague, and in, order to render the theory meaningful, we have to agree on what we mean by possible results of the experiment or observation in question. "
   ]
  },
  {
   "cell_type": "markdown",
   "metadata": {},
   "source": [
    "---\n",
    "**Definition.** (Event) The results of an experiment or observations are called *events*.\n",
    "\n",
    "---"
   ]
  },
  {
   "cell_type": "markdown",
   "metadata": {},
   "source": [
    "We speak of the event that (i) rolling a dice resulted in face value $6$, (ii) tossing a coin resulted in a heads, (iii) of five coins tossed more than three fell heads."
   ]
  },
  {
   "cell_type": "code",
   "execution_count": null,
   "metadata": {},
   "outputs": [],
   "source": []
  }
 ],
 "metadata": {
  "kernelspec": {
   "display_name": "Julia 1.5.3",
   "language": "julia",
   "name": "julia-1.5"
  },
  "language_info": {
   "file_extension": ".jl",
   "mimetype": "application/julia",
   "name": "julia",
   "version": "1.5.3"
  }
 },
 "nbformat": 4,
 "nbformat_minor": 4
}
