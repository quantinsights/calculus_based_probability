{
 "cells": [
  {
   "cell_type": "markdown",
   "metadata": {},
   "source": [
    "## Bernoulli Trials\n",
    "\n",
    "Repeated independent trials are called Bernoulli trials if there are only two possible outcomes for each trial and their probabilities remain the same throughout the trials. It is usual to denote the two probabilities by $p$ and $q$, and to refer to the outcome with probability $p$ as success, $S$, and to the other as failure, $F$. Clearly, $p$ and $q$ must be non-negative and \n",
    "\n",
    "\\begin{align*}\n",
    "p + q = 1\n",
    "\\end{align*}"
   ]
  },
  {
   "cell_type": "markdown",
   "metadata": {},
   "source": [
    "The sample space of each individual trial is formed by the two points $S$ and $F$. The sample space of $n$ Bernoulli trials contains $2^n$ points or successions of $n$ symbols $S$ and $F$, each point representing one possible outcome of the compound experiment. Since the trials are independent, the probabilities multiply. In other words, *the probability of any specified sequence is the product obtained on replacing the symbols $S$ and $F$ by $p$ and $q$* respectively.  Thus, $P\\{SSFSF \\ldots FFS\\} = ppqpq\\ldots qqp$."
   ]
  },
  {
   "cell_type": "markdown",
   "metadata": {},
   "source": [
    "## The Binomial Distribution\n",
    "\n",
    "Frequently, we are interested only in the total number of successes produced in a succession of $n$ Bernoulli trials but not in their order. The number of successes can be $0,1,2\\ldots,n$ and our first problem is to determine the corresponding probabilities. Now, the event $n$ trials result in $k$ successes and $n-k$ failures can happen in as many ways as $k$ letters $S$ can be distributed among $n$ places. In other words, our event contains ${n \\choose k}$ points, and, by definition, each point has the probability $p^k q^{n-k}$. This proves the\n",
    "\n",
    "---\n",
    "**Theorem.** Let $b(k;n,p)$ be the probability that $n$ Bernoulli trails with probabilities $p$ for success and $q = 1-p$ for failure result in $k$ successes and $n-k$ failures. Then,\n",
    "\n",
    "\\begin{equation*}\n",
    "b(k;n,p) = {n \\choose k} p^k q^{n - k} \\tag{1}\n",
    "\\end{equation*}\n",
    "\n",
    "---\n",
    "\n",
    "In particular, the probability of no success is $q^n$ and the probability of atleast one success is $1-q^n$."
   ]
  },
  {
   "cell_type": "markdown",
   "metadata": {},
   "source": [
    "We shall treat $p$ as a constant and denote the number of successes in $n$ trilas by $S_n$; then $b(k;n,p) = P\\{S_n = k\\}$. In the general terminology, $S_n$ is a random variable, and the function $b(l;n,p)$ is the PMF of this random variable; we shall refer to it as the binomial PMF. The attribute binomial refers to the fact that equation (1) represents the $k$th term of the binomial expansion of $(q+p)^n$. This remark also shows that \n",
    "\n",
    "\\begin{align*}\n",
    "b(0;n,p) + b(1;n,p) + \\ldots + b(n;n,p) = (q+p)^n = 1\n",
    "\\end{align*}\n",
    "\n",
    "as is required by the notion of probability."
   ]
  },
  {
   "cell_type": "markdown",
   "metadata": {},
   "source": [
    "## The Central Term and the tails\n",
    "\n",
    "From equation (1), we see that\n",
    "\n",
    "\\begin{align*}\n",
    "\\frac{b(k;n,p)}{b(k-1;n,p)} &= \\frac{{n \\choose k}p^k q^{n-k}}{{n \\choose {k-1}}p^{k-1} q^{n-k+1}} = \\frac{\\frac{n!}{k!(n-k)!}\\cdot p}{\\frac{n!}{(k-1)!(n-k+1)!}\\cdot q}\\\\\n",
    "&= \\frac{p}{q} \\left(\\frac{n - k + 1}{k}\\right) = \\frac{(n+1)p - pk + qk - qk}{qk}\\\\\n",
    "&= 1 + \\frac{(n+1)p - k}{qk}\n",
    "\\end{align*}"
   ]
  },
  {
   "cell_type": "markdown",
   "metadata": {},
   "source": [
    "Accordingly, the term $b(k;n,p)$ is greater than the preceding one for $(n+1)p > k$, that is $k < (n+1)p$ and is small for $k > (n+1)p$. If $(n+1)p = m$ happens to be an integer, then $b(m;n,p) = b(m-1;n,p)$. Thus, there exists exactly one integer $m$ such that,\n",
    "\n",
    "\\begin{equation*}\n",
    "(n+1)p - 1 < m \\le (n+1)p \\tag{2}\n",
    "\\end{equation*}"
   ]
  },
  {
   "cell_type": "markdown",
   "metadata": {},
   "source": [
    "---\n",
    "**Theorem.** As $k$ goes from $0$ to $n$, the terms $b(k;n,p)$ first inrease monotonically, then decrease monotonically, reaching their greatest value when $k = m$, except that $b(m-1;n,p) = b(m;n,p)$ when $m = (n+1)p$. \n",
    "\n",
    "---\n",
    "\n",
    "We shall call $b(m;n,p)$ the *central* term. Often $m$ is called the most probable number of successes, but it must be understood that for large values of $n$, all terms $b(k;n,p)$ are small. In 100 tossings of a true coin, the most probable number of heads is 50, but its probability is less than $0.09$. In the next chapter we shall find that $b(m;n,p)$ is approximately $1/\\sqrt{2\\pi npq}$.\n",
    "\n",
    "Consider the sequence $(a_k)$ whose terms are ratio of the binomial coefficients $\\frac{b(k;n,p)}{b(k-1;n,p)}$, we saw above. We have, $a_k = \\frac{(n+1)p}{kq}-\\frac{p}{q}$. Clearly therefore, as $k$ increases, the ratio $a_k$ decreases monotonically. "
   ]
  },
  {
   "cell_type": "markdown",
   "metadata": {},
   "source": [
    "If $k \\geq (r+1)$, then, $(n+1-k)p \\leq (n+1-(r+1))p = (n-r)p$. And $qk \\geq q(r+1)$. So, $\\frac{1}{qk} \\leq \\frac{1}{(r+1)q}$. So, we have an upper bound on $\\frac{b(k;n,p)}{b(k-1;n,p)}$.\n",
    "\n",
    "When $k \\geq (r+1)$,\n",
    "\n",
    "\\begin{equation*}\n",
    "\\frac{b(k;n,p)}{b(k-1;n,p)} \\leq \\frac{(n-r)p}{(r+1)q} \\tag{3}\n",
    "\\end{equation*}"
   ]
  },
  {
   "cell_type": "markdown",
   "metadata": {},
   "source": [
    "Set herein $k=r+1,\\ldots,r+\\nu$ and multiply the $\\nu$ inequalities to obtain\n",
    "\n",
    "\\begin{align*}\n",
    "\\frac{b(r+\\nu;n,p)}{b(r+\\nu-1;n,p)} \\cdot \\frac{b(r+\\nu-1;n,p)}{b(r+\\nu-2;n,p)} \\cdots \\frac{b(r+1;n,p)}{b(r;n,p)} \\le \\left\\{\\frac{(n-r)p}{(r+1)q}\\right\\}^{\\nu}\n",
    "\\end{align*}\n",
    "\n",
    "Consequently,\n",
    "\n",
    "\\begin{equation*}\n",
    "\\frac{b(r+\\nu;n,p)}{b(r;n,p)} \\leq \\left\\{\\frac{(n-r)p}{(r+1)q}\\right\\}^{\\nu} \\tag{4}\n",
    "\\end{equation*}"
   ]
  },
  {
   "cell_type": "markdown",
   "metadata": {},
   "source": [
    "For $r \\geq np$, let's find an upper bound for the fraction $\\frac{(n-r)p}{(r+1)q}$."
   ]
  },
  {
   "cell_type": "markdown",
   "metadata": {},
   "source": [
    "Clearly, if $r \\geq np$, $(n-r)p \\leq (n-np)p = npq$. So,\n",
    "\n",
    "\\begin{align*}\n",
    "\\frac{(n-r)p}{(r+1)q} \\leq \\frac{npq}{(r+1)q} = \\frac{np}{r+1}\n",
    "\\end{align*}"
   ]
  },
  {
   "cell_type": "markdown",
   "metadata": {},
   "source": [
    "Moreover, we want a lower bound on the denominator. $(r+1) \\geq (np + 1)$. So, \n",
    "\n",
    "\\begin{align*}\n",
    "\\frac{(n-r)p}{(r+1)q} \\leq \\frac{np}{np+1} = 1 - \\frac{1}{np + 1}\n",
    "\\end{align*}"
   ]
  },
  {
   "cell_type": "markdown",
   "metadata": {},
   "source": [
    "So, for $r \\geq np$, the fraction $\\frac{(n-r)p}{(r+1)q}$ is strictly less than unity, and the summation over $\\nu$ leads to a finite geometric series with the ratio $\\frac{(n-r)p}{(r+1)q}$. "
   ]
  },
  {
   "cell_type": "markdown",
   "metadata": {},
   "source": [
    "\\begin{align*}\n",
    "\\sum_{\\nu = 0}^{(n-r)} \\left(\\frac{(n-r)p}{(r+1)q}\\right)^{\\nu} &\\leq \\sum_{\\nu = 0}^{\\infty} \\left(\\frac{(n-r)p}{(r+1)q}\\right)^{\\nu} = \\frac{1}{1-\\frac{(n-r)p}{(r+1)q}} \\\\\n",
    "&= \\frac{(r+1)q}{(r+1)q-(n-r)p}  \\\\\n",
    "&= \\frac{(r+1)q}{(r+1)q-((n+1)-(r+1))p} = \\frac{(r+1)q}{(r+1)q-(n+1)p+(r+1)p}\\\\\n",
    "&= \\frac{(r+1)q}{(r+1)-(n+1)p}\n",
    "\\end{align*}"
   ]
  },
  {
   "cell_type": "markdown",
   "metadata": {},
   "source": [
    "We conclude that for $r \\geq np$,\n",
    "\n",
    "\\begin{align*}\n",
    "\\sum_{\\nu=0}^{(n-r)} \\frac{b(r+\\nu;n,p)}{b(r;n,p)} \\leq \\frac{(r+1)q}{(r+1)-(n+1)p}\n",
    "\\end{align*}"
   ]
  },
  {
   "cell_type": "markdown",
   "metadata": {},
   "source": [
    "Thus,\n",
    "\n",
    "\\begin{equation*}\n",
    "\\sum_{\\nu=0}^{(n-r)}b(r+\\nu;n,p) \\leq b(r;n,p)\\cdot\\frac{(r+1)q}{(r+1)-(n+1)p} \\tag{5}\n",
    "\\end{equation*}"
   ]
  },
  {
   "cell_type": "markdown",
   "metadata": {},
   "source": [
    "On the left, we have the **right tail** of the binomial distribution, namely the probability of atleast $r$ successes. The same calculation applied to the left tail shows that for $s \\leq np$\n",
    "\n",
    "\\begin{equation*}\n",
    "\\sum_{\\rho=0}^{s}b(\\rho;n,p) \\leq b(s;n,p)\\cdot\\frac{(n-s+1)p}{(n+1)p - s} \\tag{6}\n",
    "\\end{equation*}"
   ]
  },
  {
   "cell_type": "markdown",
   "metadata": {},
   "source": [
    "---\n",
    "**Theorem.** If $r \\geq np$, the probability of atleast $r$ successes satisfies the inequality (5); if $s \\leq np$, the probability of at most $s$ successes satisfies inequality (6).\n",
    "\n",
    "---"
   ]
  },
  {
   "cell_type": "markdown",
   "metadata": {},
   "source": [
    "## The Law Of Large Numbers\n",
    "\n",
    "On several occasions, we have mentioned that our intuitive notion of probability is based on the following assumption. If in $n$ identical trails, $A$ occurs $\\nu$ times, and if $n$ is very large, then $\\nu/n$ should be near the probability of $A$. Clearly, a formal mathematical theory can never refer directly to real life, but it should atleast provie theoretical counterparts to the phenomena, which it tries to explain. Accordingly, we require that the vague introductory remark be made precise in the form a theorem. For this purpose we translate *identical trials* as *Bernoulli trials* with probability $p$ for success. If $S_n$ is the number of successes in $n$ trials, then $S_n/n$ is the average number of successes and should be near $p$. It is now easy to give a precise meaning to this. Pick an arbitrary $\\epsilon > 0$. Consider for example, the probability that $\\frac{S_n}{n} - p$ exceeds $\\epsilon$. "
   ]
  },
  {
   "cell_type": "markdown",
   "metadata": {},
   "source": [
    "This probability is the same as $P\\{S_n > n(p + \\epsilon)\\}$ and equals the left side of the inequality (5), when $r \\geq n(p + \\epsilon)$. Then, we can find an upper bound for the fraction $\\frac{(r+1)q}{(r+1)-(n+1)p}$. Since $r \\leq n$, we have:\n",
    "\n",
    "\\begin{align*}\n",
    "\\frac{(r+1)q}{(r+1)-(n+1)p} &\\leq \\frac{(n+1)q}{(n(p+\\epsilon)+1)-(n+1)p}\\\\\n",
    "&=\\frac{(n+1)q}{np + n\\epsilon + 1 - np - p} \\\\\n",
    "&=\\frac{(n+1)q}{n\\epsilon + q}\n",
    "\\end{align*}"
   ]
  },
  {
   "cell_type": "markdown",
   "metadata": {},
   "source": [
    "So, we proved that the $n$th term of the sequence $(p_n)$ has an upper bound:\n",
    "\n",
    "\\begin{align*}\n",
    "P\\{S_n > n(p + \\epsilon)\\} \\leq b(r;n,p) \\cdot \\frac{(n+1)q}{n\\epsilon + q}\n",
    "\\end{align*}\n",
    "\n",
    "Since probabilities are non-negative,\n",
    "\n",
    "\\begin{align*}\n",
    "0 \\leq P\\{S_n > n(p + \\epsilon)\\} \\leq b(r;n,p) \\cdot \\frac{(n+1)q}{n\\epsilon + q}\n",
    "\\end{align*}"
   ]
  },
  {
   "cell_type": "markdown",
   "metadata": {},
   "source": [
    "Passing to the limit, as $n \\to \\infty$, we have:\n",
    "\n",
    "\\begin{align*}\n",
    "\\lim 0 \\leq \\lim P\\{S_n > n(p + \\epsilon)\\} \\leq \\lim \\left[ b(r;n,p) \\cdot \\frac{(n+1)q}{n\\epsilon + q}\\right]\n",
    "\\end{align*}"
   ]
  },
  {
   "cell_type": "markdown",
   "metadata": {},
   "source": [
    "Now,\n",
    "\n",
    "\\begin{align*}\n",
    "\\lim \\left[b(r;n,p) \\cdot \\frac{(n+1)q}{n\\epsilon + q}\\right] &= \\lim b(r;n,p) \\cdot \\lim \\frac{\\left(1+\\frac{1}{n}\\right)q}{\\epsilon + \\frac{q}{n}}\\\\\n",
    "&= \\lim b(r;n,p) \\cdot \\frac{q}{\\epsilon}\n",
    "\\end{align*}"
   ]
  },
  {
   "cell_type": "markdown",
   "metadata": {},
   "source": [
    "It's easy to see, that as $n \\to \\infty$, $b(r;n,p) \\to 0$. Note that, as $n \\to \\infty$, $r \\to \\infty$, because $r \\geq n(p + \\epsilon)$."
   ]
  },
  {
   "cell_type": "markdown",
   "metadata": {},
   "source": [
    "\\begin{align*}\n",
    "\\lim b(r;n,p) &= \\lim \\frac{n!}{(n-r)!r!} \\cdot \\lim p^r q^{n-r}\\\\\n",
    "&\\leq \\lim \\frac{n!}{n!0!} \\cdot \\lim p^n q^n \\quad \\{ r \\ge 0 \\text{ and } r \\leq n \\} \\\\\n",
    "&= \\lim p^n q^n \\{ \\text{ since } (q^n) \\to 0, \\text{ if } |q|<1 \\}\\\\\n",
    "&= 0\n",
    "\\end{align*}"
   ]
  },
  {
   "cell_type": "markdown",
   "metadata": {},
   "source": [
    "By the Squeeze theorem, \n",
    "\n",
    "\\begin{align*}\n",
    "\\lim P\\{S_n > n(p + \\epsilon)\\} = 0\n",
    "\\end{align*}"
   ]
  },
  {
   "cell_type": "markdown",
   "metadata": {},
   "source": [
    "Using the inequality (6), we see in the same way that $P\\{S_n < n(p - \\epsilon)\\} \\to 0$, and we have thus \n",
    "\n",
    "\\begin{align*}\n",
    "P\\left\\{\\left\\lvert\\frac{S_n}{n} - p\\right\\rvert < \\epsilon\\right\\} \\to 1 \\tag{8}\n",
    "\\end{align*}"
   ]
  },
  {
   "cell_type": "markdown",
   "metadata": {},
   "source": [
    "*In words: As $n$ increases, the probability that the average number of successes deviates from $p$ by more than any preassigned $\\epsilon$ tends to zero.* This is one form of the law of large numbers and serves as a basis for the intuitive notion of probability as a measure of relative frequencies. For practical applications it must be supplemented by a more precise estimate of the probability on the left side in (8); such an estimate is provided by the normal approximation to the binomial distribution. \n",
    "\n",
    "The assertion (8) is the classical law of large numbers. It is of very limited interest and should be replaced by the more previse and more useful strong law of large numbers.\n",
    "\n",
    "*Warning.* It is usual to read into the law of large numbers things which it definitely does not imply. If Peter and Paul toss a perfect coin 10,000 times, it is customary to expect that Peter will lead roughly half the time. **This is not true.** The arc sine law states that such an equalization is least probable. The probability that Peter leads in less than $20$ trials is very much larger than the probability that the number of trials in which he leads lies between 4990 and 5010. There does not exist any tendency for the periods of lead to equalize. The law of large numbers asserts only that in a a large number of different coin tossing games, the frequency of those in which heads lead is, at any given moment, close to $\\frac{1}{2}$. Nothing is said about the fluctuations of the lead within a fixed game."
   ]
  },
  {
   "cell_type": "markdown",
   "metadata": {},
   "source": [
    "## The Poisson Approximation\n",
    "\n",
    "In many applications, we deal with Bernoulli trials where, comparatively speaking $n$ is large and $p$ is small, whereas the product \n",
    "\n",
    "\\begin{align*}\n",
    "\\lambda = np \\tag{9}\n",
    "\\end{align*}\n",
    "\n",
    "is of modertate magnitude. In such cases, it is convenient to use an approximation formula to $b(k;n,p)$ which is due to Poisson and which we proceed to derive. We have $b(0;n,p) = (1 - p)^n$ or substituting from (9),\n",
    "\n",
    "\\begin{equation*}\n",
    "b(0;n,p) = \\left(1 - \\frac{\\lambda}{n}\\right)^n \\tag{10}\n",
    "\\end{equation*}\n",
    "\n",
    "Taking the logarithm on both sides:\n",
    "\n",
    "\\begin{equation*}\n",
    "\\log b(0;n,p) = n \\log\\left(1 - \\frac{\\lambda}{n}\\right)\n",
    "\\end{equation*}"
   ]
  },
  {
   "cell_type": "markdown",
   "metadata": {},
   "source": [
    "The Taylor's series for $\\log (1 + x)$ at $x = 0$ is given by:\n",
    "\n",
    "\\begin{align*}\n",
    "\\log (1 + x) &= f(0) + xf'(0) + \\frac{x^2}{2!}f''(0) + \\frac{x^3}{3!}f'''(0) + \\ldots\\\\\n",
    "&= x + \\frac{x^2}{2!}\\cdot (-1) + \\frac{x^3}{3!} \\cdot 2 + \\frac{x^4}{4!}\\cdot (-3 \\cdot 2 \\cdot 1) \\\\\n",
    "&= x - \\frac{x^2}{2} + \\frac{x^3}{3} - \\frac{x^4}{4} + \\ldots\n",
    "\\end{align*}"
   ]
  },
  {
   "cell_type": "markdown",
   "metadata": {},
   "source": [
    "So, \n",
    "\n",
    "\\begin{align*}\n",
    "\\log b(0;n,p) &= n \\log\\left(1- \\frac{\\lambda}{n}\\right) = n\\left(-\\frac{\\lambda}{n}-\\frac{\\lambda^2}{2n^2}-\\ldots\\right)\\\\\n",
    "&= -\\lambda - \\frac{\\lambda^2}{2n} - \\frac{\\lambda^3}{3n^2} - \\ldots \\tag{11}\n",
    "\\end{align*}"
   ]
  },
  {
   "cell_type": "markdown",
   "metadata": {},
   "source": [
    "As $n \\to \\infty$, $\\lim \\log b(0;n,p) = - \\lambda$, so that for large $n$,\n",
    "\n",
    "\\begin{align*}\n",
    "b(0;n,p) \\approx e^{-\\lambda} \\tag{12}\n",
    "\\end{align*}"
   ]
  },
  {
   "cell_type": "markdown",
   "metadata": {},
   "source": [
    "where the sign $\\approx$ is used to indicate approximate equality. Furthermore, from the expression for $b(k;n,p)/b(k-1;n,p)$, it is seen that for any fixed $k$ and sufficiently large $n$ we have, "
   ]
  },
  {
   "cell_type": "markdown",
   "metadata": {},
   "source": [
    "\\begin{align*}\n",
    "\\frac{b(k;n,p)}{b(k-1;n,p)} &= \\frac{(n-k+1)p}{kq}\\\\\n",
    "&=\\frac{np-(k-1)p}{kq}\\\\\n",
    "&= \\frac{\\lambda - (k-1)p}{kq}\n",
    "\\end{align*}\n",
    "\n",
    "For very small values of $p$, we can write $p \\approx 0$ and $q \\approx 1$. Thus,\n",
    "\n",
    "\\begin{align*}\n",
    "\\frac{b(k;n,p)}{b(k-1;n,p)} \\approx \\frac{\\lambda}{k} \\tag{13}\n",
    "\\end{align*}"
   ]
  },
  {
   "cell_type": "markdown",
   "metadata": {},
   "source": [
    "For $k=1$, we get from this and (12), $b(1;n,p)\\approx \\lambda e^{-\\lambda}$. For $k=2$, we get $b(2;n,p) \\approx \\frac{\\lambda^2}{2}e^{-\\lambda}$. Generally, we see by induction that,\n",
    "\n",
    "\\begin{equation*}\n",
    "b(k;n,p) \\approx \\frac{\\lambda^k}{k!} e^{-\\lambda} \\tag{14}\n",
    "\\end{equation*}"
   ]
  },
  {
   "cell_type": "markdown",
   "metadata": {},
   "source": [
    "This is the famous *Poisson approximation to the binomial distribution*. (See problems 30-34 for an estimate of the error and a proof that the approximation in (14) is uniform when $n \\to \\infty$ and $p \\to 0$ in such a way that $\\lambda = np$ remains bounded.) It is convenient to have a symbol for the right-hand member in (14) and we shall put\n",
    "\n",
    "\\begin{align*}\n",
    "p(k;\\lambda) = \\frac{\\lambda^k}{k!}e^{-\\lambda} \\tag{15}\n",
    "\\end{align*}\n",
    "\n",
    "With this notation $p(k;\\lambda)$ should be an approximation to $b(k;n,\\lambda/n)$ when $n$ is sufficiently large."
   ]
  },
  {
   "cell_type": "code",
   "execution_count": 7,
   "metadata": {},
   "outputs": [
    {
     "data": {
      "text/plain": [
       "p (generic function with 1 method)"
      ]
     },
     "execution_count": 7,
     "metadata": {},
     "output_type": "execute_result"
    }
   ],
   "source": [
    "function p(k,λ)\n",
    "    ((λ^k)/factorial(k)) * ℯ^(-λ)\n",
    "end"
   ]
  },
  {
   "cell_type": "markdown",
   "metadata": {},
   "source": [
    "*Birthdays*. What is the probability, $p_k$, that in a company of $500$ people exactly $k$ will have birthdays on New Year's day? \n",
    "\n",
    "If the $500$ people are cosen at random, we may apply the scheme of 500 Bernoulli trials with the probability of success $p = \\frac{1}{365}$. Then, $p_0 = \\left(\\frac{364}{365}\\right)^{500} \\approx 0.2537$. For the Poisson approximation, we put $\\lambda = \\frac{500}{365}$. Then, "
   ]
  },
  {
   "cell_type": "code",
   "execution_count": 11,
   "metadata": {},
   "outputs": [
    {
     "name": "stdout",
     "output_type": "stream",
     "text": [
      "p(0,1.369863) = 0.254142\n",
      "p(1,1.369863) = 0.348139\n",
      "p(2,1.369863) = 0.238452\n",
      "p(3,1.369863) = 0.108882\n",
      "p(4,1.369863) = 0.037288\n",
      "p(5,1.369863) = 0.010216\n",
      "p(6,1.369863) = 0.002332\n"
     ]
    }
   ],
   "source": [
    "using Printf\n",
    "\n",
    "λ = 500/365\n",
    "\n",
    "for k = 0:6\n",
    "    @printf(\"p(%d,%f) = %f\\n\",k,λ,p(k,λ))\n",
    "end"
   ]
  },
  {
   "cell_type": "markdown",
   "metadata": {},
   "source": [
    "*Centenarians.* At birth any particular person has a small chance of living 100 years, and in a large community the number of yearly births are large. Owing to wars, epidemics etc. different lives are not stochastically independent, but as a first approximation we may compare $n$ births to $n$ Bernoulli trials with death after $100$ years as success. In a stable community, where neither size nor mortality rate appreciably, it is reasonable to expect that the frequency of years in which exactly $k$ centenarians die is approximately $p(k;\\lambda)$, with $\\lambda$ depending on the size and health of the community.\n",
    "\n",
    "Intuitively, there will be years in which exactly $1$ centenarian dies, there will be years in which $2$ centenarians die and there will be years in which exactly $k$ centenarians die. $p(k,\\lambda)$ is on an average the count(number) of 365-day years in which $k$ centenarians die."
   ]
  },
  {
   "cell_type": "markdown",
   "metadata": {},
   "source": [
    "*Misprints, Raisins*. If in printing a book there is a constant probability of any letter's being misprinted, and if the conditions of printing remain unchanged, then we have as many Bernoulli trials as there are letters. The frequency of the pages containing exactly $k$ misprints will then be approximately $p(k;\\lambda)$ where $\\lambda$ is the characteristic of the printer. Thus, the Poisson formula may be used to discover radical departures from uniformity or from the state of statistical control. A similar agrument applies in many cases. For example, if many raisins are distributed in the dough, we should expect that thorough mixing will result in the frequency of loaves with exactly $k$ raisin to be approximately $p(k;\\lambda)$ with $\\lambda$ a measure of the density of raisins in the dough. "
   ]
  },
  {
   "cell_type": "markdown",
   "metadata": {},
   "source": [
    "## The Poisson Distribution\n",
    "\n",
    "In the preceding section, we have used the Poisson expression merely as a convenient approximation to the binomial distribution in the case of large $n$ and small $p$. In connection with the matching and occupany problems of chapter IV, we have studied different probability distributions, which have also led to the Poisson expressions $p(k;\\lambda)$ as a limiting form. We have here a special case of the remarkable fact that there exist a few distributions of great universaility that occur in a surprisingly large variety of problems. The three principal distributions, with ramifications throughout probability theory are the binomial distribution, the normal distribution (to be introduced in the following chapter), and the Poisson distribution\n",
    "\n",
    "\\begin{align*}\n",
    "p(k;\\lambda) = \\frac{\\lambda^k}{k!}e^{-\\lambda} \\tag{16}\n",
    "\\end{align*}\n",
    "\n",
    "which we shall now consider on its own merits. "
   ]
  },
  {
   "cell_type": "markdown",
   "metadata": {},
   "source": [
    "We note first that on adding the equations (16) for $k = 0,1,2,\\ldots$ we get on the right side $e^{-\\lambda}$ times the Taylor's series for $e^\\lambda$. Hence, for any fixed $\\lambda$, the quantities $p(k;\\lambda)$ add to unity, and therefore it is possible to conceive of an ideal experiment in which $p(k;\\lambda)$ is the probability of exactly $k$ successes. We shall now indicate by many physical experiments and statistical observations actually lead to such an interpretation of (16). The examples of the next section will illustrate the wide range and the importance of the various applications of (16). The true nature of the Poisson distribution will become apparent only in connection with the theory of stochastic processes. \n",
    "\n",
    "Consider a sequence of random events occurring in time, such as, radioactive disintegrations or incoming calls at a telephone exchange. Each event is represented by a point on the time axis, and we are concerned with chance distributions of points. There exists many different types of such distributions, but their study belongs to the domain of continuous probabilities which we have postponed to the second volume. Here, we shall be content to show that the simplest physical assumptions lead to $p(k;\\lambda)$ as the probability of finding exactly $k$ points (events) within a fixed interval of specified length. Our methods are necessarily crude, and we shall return to the same problem with more adequate methods in chapter XVII.\n",
    "\n",
    "The physical assumptions which we want to express mathematically are that the conditions of the experiment remain constant in time, and that non-overlapping time intervals are stochastically independent in the sense that information concerning the number of events in one interval reveals nothing about the other. The theory of probabilities in a continuum makes it possible to express these statements directly, but being restricted to discrete probabilities, we have to use an approximate finite model and pass to the limit. \n",
    "\n",
    "Imagine that the unit time interval divided into a great number $n$ of intervals, each of length $1/n$. Either a particular subinterval is empty or it contains atleast one of our random points(or events) and we agree to call the two possibilities failure and success, respectively. The probability $p_n$ of success must be the same for all $n$ subintervals, since they have the same length. \n",
    "\n",
    "Think of the intervals as bins and the events such as an emission of an $\\alpha$-particle by a radioactive element as a ball. Then, a ball is equally likely to be placed in any of the $n$ bins, as they are intervals of equal length. \n",
    "\n",
    "The assumed independence of non-overlapping intervals then implies that we have $n$ Bernoulli trials and the probability of exactly $k$ successes is given by $b(k;n,p)$. Now the number of successes is not necessarily the same as the number of random points, since a subinterval may contain several random points. Because, when a bin is assigned its first ball, that counts as a success, any subsequent placement of balls into this bin are technically failures. \n",
    "\n",
    "However, it is natural to introduce the additional assumption that the probability of two or more random points($\\alpha$-particls being emitted) during a very short teeny-weeny time interval is negligible. So, if you divvy up the unit time interval in a very large number $n$ of subintervals, it is unlikely two have two or more random points in the same sub-interval. \n",
    "\n",
    "In this limiting case, the probability of finding exactly $k$ random points in the unit time interval is given by the limit of $(b,k;n,p_n)$ as $n \\to \\infty$. When we divide each subinterval into two parts of equal length, we find that, the probability that one or more balls falls into this sub-interval equals, $p_n = p_{2n} + p_{2n} - p_{2n}^2 = 2p_n - p_{2n}^2$ by inclusion-exclusion."
   ]
  },
  {
   "cell_type": "markdown",
   "metadata": {},
   "source": [
    "This equation states that success in the left half, or success in the right half, or in both. It follows that $p_n < 2p_{2n}$. So, $p_n < 2p_{2n} < 4p_{4n} < 8p_{8n} < \\ldots$. Thus, $np_n$ increases monotonically. If $np_n \\to \\lambda$, then $b(k;n,p_n) \\approx b(k;n,\\frac{\\lambda}{n}) \\to p(k;\\lambda)$ and we find that (16) as the the probability that there is a total of $k$ random points cotained in our unit interval. \n",
    "\n",
    "Note, that by the weak LLN formulation, the average number of successes; or the average number of random points($\\alpha$-particles emitted) in a unit interval of time is $np_n$. The assumption, $np_n \\to \\infty$ leads to no sensible result, as it would imply infinitely many random points even in the smallest interval. "
   ]
  },
  {
   "cell_type": "markdown",
   "metadata": {},
   "source": [
    "If instead of the unit interval, we take an arbitrary interval of length $t$ and again use a subdivision into intervals of length $1/n$, then we have Bernoulli trials with the same probability $p_n$ of success, but the number of trials is the integer nearest to $nt$ rather than $n$. The passage to the limit is the same, but we get $nt \\cdot p_n \\to \\lambda t$ instead of $\\lambda$. \n",
    "\n",
    "---\n",
    "This leads us to consider,\n",
    "\n",
    "\\begin{align*}\n",
    "p(k;\\lambda t) = e^{-\\lambda t} \\frac{(\\lambda t)^k}{k!} \\tag{17}\n",
    "\\end{align*}\n",
    "\n",
    "as the probability of finding exactly $k$ points in a fixed interval of length $t$.\n",
    "\n",
    "---\n",
    "\n",
    "In particular, the probability of no poinnt in an interval of length $t$ is:\n",
    "\n",
    "\\begin{align*}\n",
    "p(0;\\lambda t) = e^{-\\lambda t} \\tag{18}\n",
    "\\end{align*}\n",
    "\n",
    "and the probability of one or more points is therefore $1 - e^{-\\lambda t}$.\n",
    "\n",
    "The parameter $\\lambda$ is a physical constant which determines the density of points on the $t$-axis. The larger $\\lambda$ is, the smaller is the probability of finding no point. Suppose that a physical experiment is repeated a great number $N$ of times, and that each time we count the number of events in an interval of fixed length $t$. Let $N_k$ be the number of times that exactly $k$ events are observed. Then,\n",
    "\n",
    "\\begin{align*}\n",
    "N_0 + N_1 + N_2 + \\ldots = N \\tag{19}\n",
    "\\end{align*}\n",
    "\n",
    "The total number of points observed in the $N$ experiments is:\n",
    "\n",
    "\\begin{align*}\n",
    "N_1 + 2N_2 + 3N_3 + \\ldots = T \\tag{20}\n",
    "\\end{align*}\n",
    "\n",
    "and $T/N$ is average. If $N$ is large, we expect that\n",
    "\n",
    "\\begin{align*}\n",
    "N_k \\approx N p(k;\\lambda t) \\tag{21}\n",
    "\\end{align*}\n",
    "\n",
    "(this lies at the root of all applications of probability and will be justified and made more precise by the law of large numbers in chapter X). Substituting from (21) into (20), we find \n",
    "\n",
    "\\begin{align*}\n",
    "T &\\approx N\\{p(1;\\lambda t) + 2p(2;\\lambda t) + 3p(3;\\lambda t) + \\ldots\\} \\tag{22} \\\\\n",
    "&= Ne^{-\\lambda t} \\sum_{k=1}^{\\infty}\\frac{(\\lambda t)^k}{k!}\\\\\n",
    "&= Ne^{-\\lambda t} \\lambda t \\sum_{k=0}^{\\infty}\\frac{(\\lambda t)^k}{k!}\\\\\n",
    "&= Ne^{-\\lambda t} \\lambda t e^{\\lambda t}\\\\\n",
    "&= N\\lambda t\n",
    "\\end{align*}\n",
    "\n",
    "and hence,\n",
    "\n",
    "\\begin{align*}\n",
    "\\lambda t = \\frac{T}{N} \\tag{23}\n",
    "\\end{align*}\n",
    "\n",
    "This relation gives us a means of estimating $\\lambda$ from observations and of comparing the theory with experiments. The examples of the next section will illustrate this.\n",
    "\n",
    "### Spatial Distributions.\n",
    "\n"
   ]
  },
  {
   "cell_type": "markdown",
   "metadata": {},
   "source": [
    "We have considered the distribution of random events or points along the $t$-axis, but the same argument applies to the distribution of points in plane or space. Instead of intervals of length $t$, we have domains of length, area or volume $t$, and the fundamental assumption is that the probability of finding $k$ points in any specified domain depends only on the area or volume of the domain, but not it's shape. Otherwise, we have the same assumptions as before: (1) If $t$ is small, the probability of finding more than one point in a domain of volume $t$ is small as compared to $t$; (2) non-overlapping domains are mutually independent. To find the probability that a domain of volume $t$ contains exactly $k$ random points, we subdivide it into $n$ subdomains and approximate the required probability of $k$ successes in $n$ trials. This means neglecting the possibility of finding more than one point in the same subdomain, but our assumption (1) implies that the error tends to zero as $n \\to \\infty$. In the limit we again get the Poisson distribution (17). Stars in space, raisins in cake, weed seeds among grass seeds, flaws in materials, animal litters in fields are distributed in accordance with the Poisson law. "
   ]
  },
  {
   "cell_type": "markdown",
   "metadata": {},
   "source": [
    "## Observations Fitting the Poisson Distribution.\n",
    "\n",
    "*Radioactive disintegrations.* A radioactive substance emits $\\alpha$-particles; the number of particles reaching a given portion of space during time $t$ is the best-known example of random events obeying the Poisson law. Of course, the substance continues to decay and in the long run, the density of $\\alpha$-particles will decline. However, with radium it takes years before a decrease of matter can be detected; for relatively short periods, the conditions may be considered constant, and we have an ideal realization of the hypotheses which led to the Poisson distribution. \n",
    "\n",
    "In a famous experiment by Ernest Rutherford, a radioactive substance was observed during $N=2608$ time intervals of $7.5$ seconds each; the number of particles reaching a counter was obtained for each period. The below table records the number $N_k$ of the periods with exactly $k$ particles. The total number of particles is $T = \\sum k N_k = 10,094$, the average $T/N=3.870$. The theoretical values $Np(k;3.870)$ are seen rather close to the observed numbers $N_k$.\n",
    "\n",
    "\\begin{array}{ccc}\n",
    "\\hline \n",
    "k & N_k & Np(k;3.870)\\\\\n",
    "\\hline\n",
    "0 & 57 & 54.399\\\\\n",
    "1 & 203 & 210.523 \\\\\n",
    "2 & 383 & 407.361 \\\\\n",
    "3 & 525 & 525.496 \\\\\n",
    "4 & 532 & 508.418 \\\\\n",
    "5 & 408 & 393.515 \\\\\n",
    "6 & 273 & 253.817 \\\\\n",
    "7 & 139 & 140.325 \\\\\n",
    "8 & 45 & 67.882 \\\\\n",
    "9 & 27 & 29.189 \\\\\n",
    "k\\geq 10 & 16 & 17.075\\\\\n",
    "\\hline\n",
    "\\text{ Total } & 2608 & 2608.00\n",
    "\\end{array}"
   ]
  },
  {
   "cell_type": "markdown",
   "metadata": {},
   "source": [
    "*Flying bomb hits on London.* As an example of a spatial distribution of random points consider the statistics of flying-bomb hits in the South of London during World War II. The entire area is divided into $N=576$ small areas of $t=\\frac{1}{4}$ square kilometers each, and records the number $N_k$ of areas with exactly $k$ hits. The total number of hits is $T = \\sum k N_k = 537$, the average $\\lambda t = T/N = 0.9323$. The fit of the Poisson distribution is surprisingly good. It is interesting to note that most people believed in a tendency of the points of impact to cluster. If this were true, there would be a higher frequency of areas with either many hits or no hit and a deficiency in the intermediate classes. "
   ]
  },
  {
   "cell_type": "markdown",
   "metadata": {},
   "source": [
    "*Chromosome interchanges in cells.* Irradiation by X-rays produces certain processes in organic cells which we call chromosome interchanges. As long as radiation continues, the probability of such interchanges remains constant, and according to theory, the numbers $N_k$ of the cells with exactly $k$ interchanges should follow a Poisson distribution. The theory is also able to predict the dependence of the parameter $\\lambda$ on the intensity of radiation, the temperature etc., but we shall not enter into these details.\n",
    "\n",
    "*Connections to the wrong number.* A total of $N=267$ telephone numbers were observed; $N_k$ indicates how many number had exactly $k$ wrong connections. The Poisson distribution $p(k;8.74)$ shows again an excellent fit.\n",
    "\n",
    "*Bacteria and blood counts*. Consider a photograph of a petri plate with bacterial colonies, whch are visible under the microscope as dark spots. The plate is divided into small squares. The observed number of squares with exactly $k$ dark spots was $Np(k;\\lambda t)$. We have here an important practical application of the poisson distribution to spatial distributions of random points."
   ]
  },
  {
   "cell_type": "markdown",
   "metadata": {},
   "source": [
    "## Waiting times. The negative Binomial Distribution.\n",
    "\n",
    "Consider a succession of $n$ Bernoulli trials and let us inquire how long it will take for the $r$th success to turn up. Here $r$ is a fixed positive integer. The total number of successes in $n$ trials may, of course, fall short of $r$, but the probability that the $r$th success occurs at the trial number $\\nu \\leq n$ is clearly independent of $n$ and depends only on $\\nu,r,p$. Since, necessarily $\\nu \\geq r$, it is prefereable to write $\\nu = k + r$. The probability that the $r$th successes occurs at the trial number $r + k$ (where $k=0,1,2,\\ldots$) will be denoted by $f(k;r,p)$. It equals the probability that exactly $k$ failures preced the $r$th success. This event occurs if, and only if, among the $r+ k - 1$ trials there are exactly $k$ failures, and the following, or $(r+k)$th trial, results in success; the corresponding probabilities are ${{r + k - 1} \\choose k} \\cdot p^{r-1}q^k$ and $p$, so that:\n",
    "\n",
    "\\begin{align*}\n",
    "f(k;r,p) = {{r + k - 1} \\choose k} \\cdot p^r q^k \\tag{24}\n",
    "\\end{align*}"
   ]
  },
  {
   "cell_type": "markdown",
   "metadata": {},
   "source": [
    "Since, for any $a > 0$\n",
    "\n",
    "\\begin{align*}\n",
    "{-a \\choose k} &= \\frac{(-a)(-a-1)\\cdots(-a-(k-1))(-a-k)(-a-(k+1))\\cdots (-3)(-2)(-1)}{(-a-k)!k!}\\\\\n",
    "&= \\frac{(-a)(-a-1)\\cdots(-a-(k-1))}{k!}\\\\\n",
    "&= (-1)^k \\frac{(a+k-1)\\cdots (a+1)a}{k!} \\\\\n",
    "&= (-1)^k \\frac{(a+k-1)\\cdots (a+1)a(a-1)!}{k!(a-1)!} \\\\\n",
    "&= (-1)^k \\frac{(a+k-1)!}{(a-1)!k!}\\\\\n",
    "&= (-1)^k {a + k - 1 \\choose k}\n",
    "\\end{align*}"
   ]
  },
  {
   "cell_type": "markdown",
   "metadata": {},
   "source": [
    "We find the alternative form:\n",
    "\n",
    "\\begin{align*}\n",
    "f(k;r,p) = {-r \\choose k}p^r (-q)^k  \\tag{25}\n",
    "\\end{align*}"
   ]
  },
  {
   "cell_type": "markdown",
   "metadata": {},
   "source": [
    "Suppose now that Bernoulli trials are continued as long  as necessary for $r$ successes to turn up. A typical sample point is represented by a sequence containing an arbitrary number, $k$, of letters $F$ and exactly $r$ letters $S$, the sequence terminating by  an $S$; the probabilty of such a point is, by definition $p^r q^k$. We must ask, however, whether it is possible that the trials never end, that is, whether an infinite sequence of trials may produce fewer than $r$ successes. Now, $\\sum_{k=0}^{\\infty}f(k;r,p)$ is the probability that the trials never end, that is, whether an infinite sequence of trials may produce fewer than $r$ successes. Now, $\\sum_{k=0}^{\\infty}f(k;r,p)$ is the probability that the $r$th success occurs after finitely many trials; accordingly, the possibility of an infinite sequence with fewer than $r$ successes can be discounted if, and only if,\n",
    "\n",
    "\\begin{align*}\n",
    "\\sum_{k=0}^{\\infty}f(k;r,p) = 1 \\tag{26}\n",
    "\\end{align*}\n",
    "\n",
    "To prove that (26) holds, it suffices to note that:\n",
    "\n",
    "\\begin{align*}\n",
    "\\frac{1}{1-q} &= 1 + q + q^2 + q^3 + \\ldots + q^r + q^{r+1} + q^{r+2} + \\ldots \\\\\n",
    "\\frac{1}{(1-q)^2} &= 1 + 2q + 3q^2 + 4q^3 + \\ldots + rq^{r-1} + (r+1)q^r + (r+2)q^{r+1} + \\ldots \\quad \\{ \\text{ Differentiating on both sides} \\} \\\\\n",
    "\\frac{1\\cdot 2}{(1-q)^3} &= 2 \\cdot 1 + 3 \\cdot 2q + 4\\cdot 3q^2 + \\ldots + r(r-1)q^{r-2} + (r+1)rq^{r-1} + (r+2)(r+1)q^{r} + \\ldots \\quad \\{ \\text{ Differentiating on both sides} \\} \\\\\n",
    "\\frac{(r-1)!}{(1-q)^r} &= r! + \\frac{(r+1)!}{2!}q^{1} + \\frac{(r+2)!}{3!}q^{2} + \\ldots \\quad \\{ \\text{ Differentiating $r$ times} \\} \\\\\n",
    "\\frac{1}{(1-q)^r} &= \\frac{r!}{(r-1)!1!} + \\frac{(r+(2-1))!}{(r-1)!2!}q^{1} + \\frac{(r+(3-1))!}{(r-1)!3!}q^{2} + \\ldots \\\\\n",
    "& = \\sum_{k=0}^{\\infty}{{r + k - 1} \\choose k}q^k \\\\\n",
    "&=  \\sum_{k=0}^{\\infty}(-1)^k{-r \\choose k}q^k \\\\\n",
    "&=  \\sum_{k=0}^{\\infty}{-r \\choose k}(-q)^k \\tag{27}\n",
    "\\end{align*}"
   ]
  },
  {
   "cell_type": "markdown",
   "metadata": {},
   "source": [
    "From (27), we have that \n",
    "\n",
    "\\begin{align*}\n",
    "\\sum_{k=0}^{\\infty}{-r \\choose k}(-q)^k &= (1-q)^{-r} = p^{-r}\\\\\n",
    "\\sum_{k=0}^{\\infty}{-r \\choose k}p^r(-q)^k &= p^{-r} \\cdot p^r = 1 \\\\\n",
    "\\sum_{k=0}^{\\infty}f(k;r,p) &= 1 \\tag{28}\n",
    "\\end{align*}"
   ]
  },
  {
   "cell_type": "markdown",
   "metadata": {},
   "source": [
    "In our waiting time problem, $r$ is necessarily a positive integer, but the quantity defined by either (24) or (25) is non-negative and holds for any positive $r$. For arbitrary fixed real $r>0$ and $0<p<1$, the sequence $\\{f(k;r,p)\\}$ is called a **negative binomial distribution**. When $r$ is a positive integer, $\\{f(k;r,p)\\}$ may be interpreted as the probability distribution for the waiting time to the $r$th success; as such it is aalso called the Pascal distribution. For $r = 1$, it reduces to the geometric distribution $\\{pq^k\\}$."
   ]
  },
  {
   "cell_type": "markdown",
   "metadata": {},
   "source": [
    "*Banach's Matchbox problem.* A certain mathematician always carries one match box in his right pocket and one in his left. When he wants a match, he selects a pocket at random, the successive choices thus constituting Bernoulli trials with $p=\\frac{1}{2}$. Suppose that initially each box contained exactly $N$  matches and consider the moment when, for the first time, our mathematician discovers that a box is empty. At that moment the other box may contain $0,1,2,\\ldots,N$ matches and we denote the corresponding probabilities by $u_r$ Let us identify success with the choice of the left pocket. The left pocket will be found empty at a moment when the right pocket contains exactly $r$ matches, if and only if, $N-r$ failures precede the $(N+1)$st success. The probability of this event is $f(N-r;N+1,\\frac{1}{2})$. The same argument applies to the right pocket and therefore the required probability is:\n",
    "\n",
    "\\begin{align*}\n",
    "u_r = 2f(N-r;N+1,\\frac{1}{2}) ={{2N - r} \\choose {N-r}}\\left(\\frac{1}{2}\\right)^{2N-r} = {{2N - r} \\choose {N}}\\left(\\frac{1}{2}\\right)^{2N-r}  \\tag{29}\n",
    "\\end{align*}"
   ]
  },
  {
   "cell_type": "code",
   "execution_count": 20,
   "metadata": {},
   "outputs": [
    {
     "data": {
      "image/svg+xml": [
       "<?xml version=\"1.0\" encoding=\"utf-8\"?>\n",
       "<svg xmlns=\"http://www.w3.org/2000/svg\" xmlns:xlink=\"http://www.w3.org/1999/xlink\" width=\"600\" height=\"400\" viewBox=\"0 0 2400 1600\">\n",
       "<defs>\n",
       "  <clipPath id=\"clip060\">\n",
       "    <rect x=\"0\" y=\"0\" width=\"2400\" height=\"1600\"/>\n",
       "  </clipPath>\n",
       "</defs>\n",
       "<path clip-path=\"url(#clip060)\" d=\"\n",
       "M0 1600 L2400 1600 L2400 0 L0 0  Z\n",
       "  \" fill=\"#ffffff\" fill-rule=\"evenodd\" fill-opacity=\"1\"/>\n",
       "<defs>\n",
       "  <clipPath id=\"clip061\">\n",
       "    <rect x=\"480\" y=\"0\" width=\"1681\" height=\"1600\"/>\n",
       "  </clipPath>\n",
       "</defs>\n",
       "<path clip-path=\"url(#clip060)\" d=\"\n",
       "M250.028 1423.18 L2352.76 1423.18 L2352.76 47.2441 L250.028 47.2441  Z\n",
       "  \" fill=\"#ffffff\" fill-rule=\"evenodd\" fill-opacity=\"1\"/>\n",
       "<defs>\n",
       "  <clipPath id=\"clip062\">\n",
       "    <rect x=\"250\" y=\"47\" width=\"2104\" height=\"1377\"/>\n",
       "  </clipPath>\n",
       "</defs>\n",
       "<polyline clip-path=\"url(#clip062)\" style=\"stroke:#000000; stroke-width:2; stroke-opacity:0.1; fill:none\" points=\"\n",
       "  309.539,1423.18 309.539,47.2441 \n",
       "  \"/>\n",
       "<polyline clip-path=\"url(#clip062)\" style=\"stroke:#000000; stroke-width:2; stroke-opacity:0.1; fill:none\" points=\"\n",
       "  805.466,1423.18 805.466,47.2441 \n",
       "  \"/>\n",
       "<polyline clip-path=\"url(#clip062)\" style=\"stroke:#000000; stroke-width:2; stroke-opacity:0.1; fill:none\" points=\"\n",
       "  1301.39,1423.18 1301.39,47.2441 \n",
       "  \"/>\n",
       "<polyline clip-path=\"url(#clip062)\" style=\"stroke:#000000; stroke-width:2; stroke-opacity:0.1; fill:none\" points=\"\n",
       "  1797.32,1423.18 1797.32,47.2441 \n",
       "  \"/>\n",
       "<polyline clip-path=\"url(#clip062)\" style=\"stroke:#000000; stroke-width:2; stroke-opacity:0.1; fill:none\" points=\"\n",
       "  2293.24,1423.18 2293.24,47.2441 \n",
       "  \"/>\n",
       "<polyline clip-path=\"url(#clip060)\" style=\"stroke:#000000; stroke-width:4; stroke-opacity:1; fill:none\" points=\"\n",
       "  250.028,1423.18 2352.76,1423.18 \n",
       "  \"/>\n",
       "<polyline clip-path=\"url(#clip060)\" style=\"stroke:#000000; stroke-width:4; stroke-opacity:1; fill:none\" points=\"\n",
       "  309.539,1423.18 309.539,1406.67 \n",
       "  \"/>\n",
       "<polyline clip-path=\"url(#clip060)\" style=\"stroke:#000000; stroke-width:4; stroke-opacity:1; fill:none\" points=\"\n",
       "  805.466,1423.18 805.466,1406.67 \n",
       "  \"/>\n",
       "<polyline clip-path=\"url(#clip060)\" style=\"stroke:#000000; stroke-width:4; stroke-opacity:1; fill:none\" points=\"\n",
       "  1301.39,1423.18 1301.39,1406.67 \n",
       "  \"/>\n",
       "<polyline clip-path=\"url(#clip060)\" style=\"stroke:#000000; stroke-width:4; stroke-opacity:1; fill:none\" points=\"\n",
       "  1797.32,1423.18 1797.32,1406.67 \n",
       "  \"/>\n",
       "<polyline clip-path=\"url(#clip060)\" style=\"stroke:#000000; stroke-width:4; stroke-opacity:1; fill:none\" points=\"\n",
       "  2293.24,1423.18 2293.24,1406.67 \n",
       "  \"/>\n",
       "<path clip-path=\"url(#clip060)\" d=\"M 0 0 M309.539 1452.37 Q305.928 1452.37 304.1 1455.94 Q302.294 1459.48 302.294 1466.61 Q302.294 1473.71 304.1 1477.28 Q305.928 1480.82 309.539 1480.82 Q313.174 1480.82 314.979 1477.28 Q316.808 1473.71 316.808 1466.61 Q316.808 1459.48 314.979 1455.94 Q313.174 1452.37 309.539 1452.37 M309.539 1448.67 Q315.349 1448.67 318.405 1453.27 Q321.484 1457.86 321.484 1466.61 Q321.484 1475.33 318.405 1479.94 Q315.349 1484.52 309.539 1484.52 Q303.729 1484.52 300.65 1479.94 Q297.595 1475.33 297.595 1466.61 Q297.595 1457.86 300.65 1453.27 Q303.729 1448.67 309.539 1448.67 Z\" fill=\"#000000\" fill-rule=\"evenodd\" fill-opacity=\"1\" /><path clip-path=\"url(#clip060)\" d=\"M 0 0 M795.743 1449.29 L814.1 1449.29 L814.1 1453.23 L800.026 1453.23 L800.026 1461.7 Q801.044 1461.35 802.063 1461.19 Q803.081 1461 804.1 1461 Q809.887 1461 813.267 1464.18 Q816.646 1467.35 816.646 1472.76 Q816.646 1478.34 813.174 1481.44 Q809.702 1484.52 803.382 1484.52 Q801.206 1484.52 798.938 1484.15 Q796.693 1483.78 794.285 1483.04 L794.285 1478.34 Q796.368 1479.48 798.591 1480.03 Q800.813 1480.59 803.29 1480.59 Q807.294 1480.59 809.632 1478.48 Q811.97 1476.38 811.97 1472.76 Q811.97 1469.15 809.632 1467.05 Q807.294 1464.94 803.29 1464.94 Q801.415 1464.94 799.54 1465.36 Q797.688 1465.77 795.743 1466.65 L795.743 1449.29 Z\" fill=\"#000000\" fill-rule=\"evenodd\" fill-opacity=\"1\" /><path clip-path=\"url(#clip060)\" d=\"M 0 0 M1276.08 1479.92 L1283.72 1479.92 L1283.72 1453.55 L1275.41 1455.22 L1275.41 1450.96 L1283.67 1449.29 L1288.35 1449.29 L1288.35 1479.92 L1295.99 1479.92 L1295.99 1483.85 L1276.08 1483.85 L1276.08 1479.92 Z\" fill=\"#000000\" fill-rule=\"evenodd\" fill-opacity=\"1\" /><path clip-path=\"url(#clip060)\" d=\"M 0 0 M1315.43 1452.37 Q1311.82 1452.37 1309.99 1455.94 Q1308.19 1459.48 1308.19 1466.61 Q1308.19 1473.71 1309.99 1477.28 Q1311.82 1480.82 1315.43 1480.82 Q1319.07 1480.82 1320.87 1477.28 Q1322.7 1473.71 1322.7 1466.61 Q1322.7 1459.48 1320.87 1455.94 Q1319.07 1452.37 1315.43 1452.37 M1315.43 1448.67 Q1321.24 1448.67 1324.3 1453.27 Q1327.38 1457.86 1327.38 1466.61 Q1327.38 1475.33 1324.3 1479.94 Q1321.24 1484.52 1315.43 1484.52 Q1309.62 1484.52 1306.54 1479.94 Q1303.49 1475.33 1303.49 1466.61 Q1303.49 1457.86 1306.54 1453.27 Q1309.62 1448.67 1315.43 1448.67 Z\" fill=\"#000000\" fill-rule=\"evenodd\" fill-opacity=\"1\" /><path clip-path=\"url(#clip060)\" d=\"M 0 0 M1772.5 1479.92 L1780.14 1479.92 L1780.14 1453.55 L1771.83 1455.22 L1771.83 1450.96 L1780.1 1449.29 L1784.77 1449.29 L1784.77 1479.92 L1792.41 1479.92 L1792.41 1483.85 L1772.5 1483.85 L1772.5 1479.92 Z\" fill=\"#000000\" fill-rule=\"evenodd\" fill-opacity=\"1\" /><path clip-path=\"url(#clip060)\" d=\"M 0 0 M1801.9 1449.29 L1820.26 1449.29 L1820.26 1453.23 L1806.18 1453.23 L1806.18 1461.7 Q1807.2 1461.35 1808.22 1461.19 Q1809.24 1461 1810.26 1461 Q1816.05 1461 1819.42 1464.18 Q1822.8 1467.35 1822.8 1472.76 Q1822.8 1478.34 1819.33 1481.44 Q1815.86 1484.52 1809.54 1484.52 Q1807.36 1484.52 1805.1 1484.15 Q1802.85 1483.78 1800.44 1483.04 L1800.44 1478.34 Q1802.53 1479.48 1804.75 1480.03 Q1806.97 1480.59 1809.45 1480.59 Q1813.45 1480.59 1815.79 1478.48 Q1818.13 1476.38 1818.13 1472.76 Q1818.13 1469.15 1815.79 1467.05 Q1813.45 1464.94 1809.45 1464.94 Q1807.57 1464.94 1805.7 1465.36 Q1803.85 1465.77 1801.9 1466.65 L1801.9 1449.29 Z\" fill=\"#000000\" fill-rule=\"evenodd\" fill-opacity=\"1\" /><path clip-path=\"url(#clip060)\" d=\"M 0 0 M2272.02 1479.92 L2288.34 1479.92 L2288.34 1483.85 L2266.39 1483.85 L2266.39 1479.92 Q2269.06 1477.16 2273.64 1472.53 Q2278.24 1467.88 2279.43 1466.54 Q2281.67 1464.01 2282.55 1462.28 Q2283.45 1460.52 2283.45 1458.83 Q2283.45 1456.07 2281.51 1454.34 Q2279.59 1452.6 2276.49 1452.6 Q2274.29 1452.6 2271.83 1453.37 Q2269.4 1454.13 2266.62 1455.68 L2266.62 1450.96 Q2269.45 1449.82 2271.9 1449.25 Q2274.36 1448.67 2276.39 1448.67 Q2281.76 1448.67 2284.96 1451.35 Q2288.15 1454.04 2288.15 1458.53 Q2288.15 1460.66 2287.34 1462.58 Q2286.55 1464.48 2284.45 1467.07 Q2283.87 1467.74 2280.77 1470.96 Q2277.67 1474.15 2272.02 1479.92 Z\" fill=\"#000000\" fill-rule=\"evenodd\" fill-opacity=\"1\" /><path clip-path=\"url(#clip060)\" d=\"M 0 0 M2308.15 1452.37 Q2304.54 1452.37 2302.71 1455.94 Q2300.91 1459.48 2300.91 1466.61 Q2300.91 1473.71 2302.71 1477.28 Q2304.54 1480.82 2308.15 1480.82 Q2311.79 1480.82 2313.59 1477.28 Q2315.42 1473.71 2315.42 1466.61 Q2315.42 1459.48 2313.59 1455.94 Q2311.79 1452.37 2308.15 1452.37 M2308.15 1448.67 Q2313.96 1448.67 2317.02 1453.27 Q2320.1 1457.86 2320.1 1466.61 Q2320.1 1475.33 2317.02 1479.94 Q2313.96 1484.52 2308.15 1484.52 Q2302.34 1484.52 2299.26 1479.94 Q2296.21 1475.33 2296.21 1466.61 Q2296.21 1457.86 2299.26 1453.27 Q2302.34 1448.67 2308.15 1448.67 Z\" fill=\"#000000\" fill-rule=\"evenodd\" fill-opacity=\"1\" /><path clip-path=\"url(#clip060)\" d=\"M 0 0 M884.152 1520.52 L892.809 1520.52 L913.88 1560.28 L913.88 1520.52 L920.118 1520.52 L920.118 1568.04 L911.461 1568.04 L890.39 1528.29 L890.39 1568.04 L884.152 1568.04 L884.152 1520.52 Z\" fill=\"#000000\" fill-rule=\"evenodd\" fill-opacity=\"1\" /><path clip-path=\"url(#clip060)\" d=\"M 0 0 M932.054 1553.98 L932.054 1532.4 L937.91 1532.4 L937.91 1553.75 Q937.91 1558.81 939.884 1561.36 Q941.857 1563.87 945.804 1563.87 Q950.546 1563.87 953.283 1560.85 Q956.052 1557.83 956.052 1552.61 L956.052 1532.4 L961.909 1532.4 L961.909 1568.04 L956.052 1568.04 L956.052 1562.57 Q953.92 1565.82 951.087 1567.41 Q948.286 1568.97 944.562 1568.97 Q938.419 1568.97 935.237 1565.15 Q932.054 1561.33 932.054 1553.98 M946.79 1531.54 L946.79 1531.54 Z\" fill=\"#000000\" fill-rule=\"evenodd\" fill-opacity=\"1\" /><path clip-path=\"url(#clip060)\" d=\"M 0 0 M1001.73 1539.24 Q1003.92 1535.29 1006.98 1533.41 Q1010.03 1531.54 1014.17 1531.54 Q1019.74 1531.54 1022.77 1535.45 Q1025.79 1539.33 1025.79 1546.53 L1025.79 1568.04 L1019.9 1568.04 L1019.9 1546.72 Q1019.9 1541.59 1018.09 1539.11 Q1016.27 1536.63 1012.55 1536.63 Q1008 1536.63 1005.35 1539.65 Q1002.71 1542.68 1002.71 1547.9 L1002.71 1568.04 L996.825 1568.04 L996.825 1546.72 Q996.825 1541.56 995.011 1539.11 Q993.196 1536.63 989.409 1536.63 Q984.921 1536.63 982.279 1539.68 Q979.637 1542.71 979.637 1547.9 L979.637 1568.04 L973.749 1568.04 L973.749 1532.4 L979.637 1532.4 L979.637 1537.93 Q981.643 1534.66 984.443 1533.1 Q987.244 1531.54 991.096 1531.54 Q994.979 1531.54 997.684 1533.51 Q1000.42 1535.48 1001.73 1539.24 Z\" fill=\"#000000\" fill-rule=\"evenodd\" fill-opacity=\"1\" /><path clip-path=\"url(#clip060)\" d=\"M 0 0 M1063.06 1550.25 Q1063.06 1543.79 1060.39 1540.13 Q1057.74 1536.44 1053.1 1536.44 Q1048.45 1536.44 1045.78 1540.13 Q1043.14 1543.79 1043.14 1550.25 Q1043.14 1556.71 1045.78 1560.4 Q1048.45 1564.07 1053.1 1564.07 Q1057.74 1564.07 1060.39 1560.4 Q1063.06 1556.71 1063.06 1550.25 M1043.14 1537.81 Q1044.98 1534.62 1047.78 1533.1 Q1050.62 1531.54 1054.53 1531.54 Q1061.02 1531.54 1065.07 1536.69 Q1069.14 1541.85 1069.14 1550.25 Q1069.14 1558.65 1065.07 1563.81 Q1061.02 1568.97 1054.53 1568.97 Q1050.62 1568.97 1047.78 1567.44 Q1044.98 1565.88 1043.14 1562.7 L1043.14 1568.04 L1037.25 1568.04 L1037.25 1518.52 L1043.14 1518.52 L1043.14 1537.81 Z\" fill=\"#000000\" fill-rule=\"evenodd\" fill-opacity=\"1\" /><path clip-path=\"url(#clip060)\" d=\"M 0 0 M1109.34 1548.76 L1109.34 1551.62 L1082.41 1551.62 Q1082.79 1557.67 1086.04 1560.85 Q1089.32 1564 1095.14 1564 Q1098.52 1564 1101.67 1563.17 Q1104.85 1562.35 1107.97 1560.69 L1107.97 1566.23 Q1104.82 1567.57 1101.51 1568.27 Q1098.2 1568.97 1094.79 1568.97 Q1086.26 1568.97 1081.27 1564 Q1076.3 1559.04 1076.3 1550.57 Q1076.3 1541.82 1081.01 1536.69 Q1085.75 1531.54 1093.77 1531.54 Q1100.97 1531.54 1105.14 1536.18 Q1109.34 1540.8 1109.34 1548.76 M1103.48 1547.04 Q1103.42 1542.23 1100.78 1539.37 Q1098.17 1536.5 1093.84 1536.5 Q1088.94 1536.5 1085.98 1539.27 Q1083.05 1542.04 1082.6 1547.07 L1103.48 1547.04 Z\" fill=\"#000000\" fill-rule=\"evenodd\" fill-opacity=\"1\" /><path clip-path=\"url(#clip060)\" d=\"M 0 0 M1139.61 1537.87 Q1138.62 1537.3 1137.44 1537.04 Q1136.3 1536.76 1134.9 1536.76 Q1129.93 1536.76 1127.26 1540 Q1124.62 1543.22 1124.62 1549.27 L1124.62 1568.04 L1118.73 1568.04 L1118.73 1532.4 L1124.62 1532.4 L1124.62 1537.93 Q1126.46 1534.69 1129.42 1533.13 Q1132.38 1531.54 1136.62 1531.54 Q1137.22 1531.54 1137.95 1531.63 Q1138.68 1531.7 1139.58 1531.85 L1139.61 1537.87 Z\" fill=\"#000000\" fill-rule=\"evenodd\" fill-opacity=\"1\" /><path clip-path=\"url(#clip060)\" d=\"M 0 0 M1180.28 1536.5 Q1175.57 1536.5 1172.84 1540.19 Q1170.1 1543.85 1170.1 1550.25 Q1170.1 1556.65 1172.8 1560.34 Q1175.54 1564 1180.28 1564 Q1184.96 1564 1187.7 1560.31 Q1190.44 1556.62 1190.44 1550.25 Q1190.44 1543.92 1187.7 1540.23 Q1184.96 1536.5 1180.28 1536.5 M1180.28 1531.54 Q1187.92 1531.54 1192.28 1536.5 Q1196.64 1541.47 1196.64 1550.25 Q1196.64 1559 1192.28 1564 Q1187.92 1568.97 1180.28 1568.97 Q1172.61 1568.97 1168.25 1564 Q1163.92 1559 1163.92 1550.25 Q1163.92 1541.47 1168.25 1536.5 Q1172.61 1531.54 1180.28 1531.54 Z\" fill=\"#000000\" fill-rule=\"evenodd\" fill-opacity=\"1\" /><path clip-path=\"url(#clip060)\" d=\"M 0 0 M1224.4 1518.52 L1224.4 1523.39 L1218.8 1523.39 Q1215.65 1523.39 1214.4 1524.66 Q1213.2 1525.93 1213.2 1529.24 L1213.2 1532.4 L1222.84 1532.4 L1222.84 1536.95 L1213.2 1536.95 L1213.2 1568.04 L1207.31 1568.04 L1207.31 1536.95 L1201.71 1536.95 L1201.71 1532.4 L1207.31 1532.4 L1207.31 1529.91 Q1207.31 1523.96 1210.08 1521.26 Q1212.85 1518.52 1218.86 1518.52 L1224.4 1518.52 Z\" fill=\"#000000\" fill-rule=\"evenodd\" fill-opacity=\"1\" /><path clip-path=\"url(#clip060)\" d=\"M 0 0 M1277.78 1539.24 Q1279.97 1535.29 1283.03 1533.41 Q1286.08 1531.54 1290.22 1531.54 Q1295.79 1531.54 1298.81 1535.45 Q1301.84 1539.33 1301.84 1546.53 L1301.84 1568.04 L1295.95 1568.04 L1295.95 1546.72 Q1295.95 1541.59 1294.14 1539.11 Q1292.32 1536.63 1288.6 1536.63 Q1284.05 1536.63 1281.4 1539.65 Q1278.76 1542.68 1278.76 1547.9 L1278.76 1568.04 L1272.87 1568.04 L1272.87 1546.72 Q1272.87 1541.56 1271.06 1539.11 Q1269.25 1536.63 1265.46 1536.63 Q1260.97 1536.63 1258.33 1539.68 Q1255.69 1542.71 1255.69 1547.9 L1255.69 1568.04 L1249.8 1568.04 L1249.8 1532.4 L1255.69 1532.4 L1255.69 1537.93 Q1257.69 1534.66 1260.49 1533.1 Q1263.29 1531.54 1267.14 1531.54 Q1271.03 1531.54 1273.73 1533.51 Q1276.47 1535.48 1277.78 1539.24 Z\" fill=\"#000000\" fill-rule=\"evenodd\" fill-opacity=\"1\" /><path clip-path=\"url(#clip060)\" d=\"M 0 0 M1329.72 1550.12 Q1322.62 1550.12 1319.88 1551.75 Q1317.15 1553.37 1317.15 1557.29 Q1317.15 1560.4 1319.18 1562.25 Q1321.25 1564.07 1324.79 1564.07 Q1329.66 1564.07 1332.58 1560.63 Q1335.54 1557.16 1335.54 1551.43 L1335.54 1550.12 L1329.72 1550.12 M1341.4 1547.71 L1341.4 1568.04 L1335.54 1568.04 L1335.54 1562.63 Q1333.54 1565.88 1330.55 1567.44 Q1327.56 1568.97 1323.23 1568.97 Q1317.75 1568.97 1314.51 1565.91 Q1311.29 1562.82 1311.29 1557.67 Q1311.29 1551.65 1315.3 1548.6 Q1319.34 1545.54 1327.33 1545.54 L1335.54 1545.54 L1335.54 1544.97 Q1335.54 1540.93 1332.87 1538.73 Q1330.23 1536.5 1325.42 1536.5 Q1322.37 1536.5 1319.47 1537.23 Q1316.57 1537.97 1313.9 1539.43 L1313.9 1534.02 Q1317.12 1532.78 1320.14 1532.17 Q1323.16 1531.54 1326.03 1531.54 Q1333.76 1531.54 1337.58 1535.55 Q1341.4 1539.56 1341.4 1547.71 Z\" fill=\"#000000\" fill-rule=\"evenodd\" fill-opacity=\"1\" /><path clip-path=\"url(#clip060)\" d=\"M 0 0 M1359.26 1522.27 L1359.26 1532.4 L1371.32 1532.4 L1371.32 1536.95 L1359.26 1536.95 L1359.26 1556.3 Q1359.26 1560.66 1360.43 1561.9 Q1361.64 1563.14 1365.3 1563.14 L1371.32 1563.14 L1371.32 1568.04 L1365.3 1568.04 Q1358.52 1568.04 1355.95 1565.53 Q1353.37 1562.98 1353.37 1556.3 L1353.37 1536.95 L1349.07 1536.95 L1349.07 1532.4 L1353.37 1532.4 L1353.37 1522.27 L1359.26 1522.27 Z\" fill=\"#000000\" fill-rule=\"evenodd\" fill-opacity=\"1\" /><path clip-path=\"url(#clip060)\" d=\"M 0 0 M1404.68 1533.76 L1404.68 1539.24 Q1402.19 1537.87 1399.68 1537.2 Q1397.2 1536.5 1394.65 1536.5 Q1388.95 1536.5 1385.8 1540.13 Q1382.65 1543.73 1382.65 1550.25 Q1382.65 1556.78 1385.8 1560.4 Q1388.95 1564 1394.65 1564 Q1397.2 1564 1399.68 1563.33 Q1402.19 1562.63 1404.68 1561.26 L1404.68 1566.68 Q1402.22 1567.82 1399.58 1568.39 Q1396.97 1568.97 1394.01 1568.97 Q1385.96 1568.97 1381.22 1563.91 Q1376.48 1558.85 1376.48 1550.25 Q1376.48 1541.53 1381.25 1536.53 Q1386.06 1531.54 1394.39 1531.54 Q1397.1 1531.54 1399.68 1532.11 Q1402.26 1532.65 1404.68 1533.76 Z\" fill=\"#000000\" fill-rule=\"evenodd\" fill-opacity=\"1\" /><path clip-path=\"url(#clip060)\" d=\"M 0 0 M1444.49 1546.53 L1444.49 1568.04 L1438.64 1568.04 L1438.64 1546.72 Q1438.64 1541.66 1436.66 1539.14 Q1434.69 1536.63 1430.74 1536.63 Q1426 1536.63 1423.26 1539.65 Q1420.53 1542.68 1420.53 1547.9 L1420.53 1568.04 L1414.64 1568.04 L1414.64 1518.52 L1420.53 1518.52 L1420.53 1537.93 Q1422.63 1534.72 1425.46 1533.13 Q1428.32 1531.54 1432.05 1531.54 Q1438.19 1531.54 1441.34 1535.36 Q1444.49 1539.14 1444.49 1546.53 Z\" fill=\"#000000\" fill-rule=\"evenodd\" fill-opacity=\"1\" /><path clip-path=\"url(#clip060)\" d=\"M 0 0 M1486.67 1548.76 L1486.67 1551.62 L1459.74 1551.62 Q1460.12 1557.67 1463.37 1560.85 Q1466.65 1564 1472.47 1564 Q1475.84 1564 1479 1563.17 Q1482.18 1562.35 1485.3 1560.69 L1485.3 1566.23 Q1482.15 1567.57 1478.84 1568.27 Q1475.53 1568.97 1472.12 1568.97 Q1463.59 1568.97 1458.59 1564 Q1453.63 1559.04 1453.63 1550.57 Q1453.63 1541.82 1458.34 1536.69 Q1463.08 1531.54 1471.1 1531.54 Q1478.3 1531.54 1482.46 1536.18 Q1486.67 1540.8 1486.67 1548.76 M1480.81 1547.04 Q1480.75 1542.23 1478.1 1539.37 Q1475.49 1536.5 1471.17 1536.5 Q1466.26 1536.5 1463.3 1539.27 Q1460.38 1542.04 1459.93 1547.07 L1480.81 1547.04 Z\" fill=\"#000000\" fill-rule=\"evenodd\" fill-opacity=\"1\" /><path clip-path=\"url(#clip060)\" d=\"M 0 0 M1519 1533.45 L1519 1538.98 Q1516.52 1537.71 1513.85 1537.07 Q1511.17 1536.44 1508.31 1536.44 Q1503.95 1536.44 1501.75 1537.77 Q1499.59 1539.11 1499.59 1541.79 Q1499.59 1543.82 1501.15 1545 Q1502.71 1546.15 1507.42 1547.2 L1509.42 1547.64 Q1515.66 1548.98 1518.27 1551.43 Q1520.91 1553.85 1520.91 1558.21 Q1520.91 1563.17 1516.97 1566.07 Q1513.05 1568.97 1506.18 1568.97 Q1503.31 1568.97 1500.19 1568.39 Q1497.11 1567.85 1493.67 1566.74 L1493.67 1560.69 Q1496.91 1562.38 1500.07 1563.24 Q1503.22 1564.07 1506.3 1564.07 Q1510.44 1564.07 1512.67 1562.66 Q1514.9 1561.23 1514.9 1558.65 Q1514.9 1556.27 1513.27 1554.99 Q1511.68 1553.72 1506.24 1552.54 L1504.2 1552.07 Q1498.76 1550.92 1496.34 1548.56 Q1493.92 1546.18 1493.92 1542.04 Q1493.92 1537.01 1497.49 1534.27 Q1501.05 1531.54 1507.61 1531.54 Q1510.86 1531.54 1513.72 1532.01 Q1516.58 1532.49 1519 1533.45 Z\" fill=\"#000000\" fill-rule=\"evenodd\" fill-opacity=\"1\" /><path clip-path=\"url(#clip060)\" d=\"M 0 0 M1550.96 1518.52 L1556.82 1518.52 L1556.82 1568.04 L1550.96 1568.04 L1550.96 1518.52 Z\" fill=\"#000000\" fill-rule=\"evenodd\" fill-opacity=\"1\" /><path clip-path=\"url(#clip060)\" d=\"M 0 0 M1599.56 1548.76 L1599.56 1551.62 L1572.63 1551.62 Q1573.02 1557.67 1576.26 1560.85 Q1579.54 1564 1585.37 1564 Q1588.74 1564 1591.89 1563.17 Q1595.07 1562.35 1598.19 1560.69 L1598.19 1566.23 Q1595.04 1567.57 1591.73 1568.27 Q1588.42 1568.97 1585.02 1568.97 Q1576.49 1568.97 1571.49 1564 Q1566.52 1559.04 1566.52 1550.57 Q1566.52 1541.82 1571.23 1536.69 Q1575.98 1531.54 1584 1531.54 Q1591.19 1531.54 1595.36 1536.18 Q1599.56 1540.8 1599.56 1548.76 M1593.71 1547.04 Q1593.64 1542.23 1591 1539.37 Q1588.39 1536.5 1584.06 1536.5 Q1579.16 1536.5 1576.2 1539.27 Q1573.27 1542.04 1572.83 1547.07 L1593.71 1547.04 Z\" fill=\"#000000\" fill-rule=\"evenodd\" fill-opacity=\"1\" /><path clip-path=\"url(#clip060)\" d=\"M 0 0 M1627.22 1518.52 L1627.22 1523.39 L1621.62 1523.39 Q1618.47 1523.39 1617.23 1524.66 Q1616.02 1525.93 1616.02 1529.24 L1616.02 1532.4 L1625.66 1532.4 L1625.66 1536.95 L1616.02 1536.95 L1616.02 1568.04 L1610.13 1568.04 L1610.13 1536.95 L1604.53 1536.95 L1604.53 1532.4 L1610.13 1532.4 L1610.13 1529.91 Q1610.13 1523.96 1612.9 1521.26 Q1615.67 1518.52 1621.68 1518.52 L1627.22 1518.52 Z\" fill=\"#000000\" fill-rule=\"evenodd\" fill-opacity=\"1\" /><path clip-path=\"url(#clip060)\" d=\"M 0 0 M1636.77 1522.27 L1636.77 1532.4 L1648.83 1532.4 L1648.83 1536.95 L1636.77 1536.95 L1636.77 1556.3 Q1636.77 1560.66 1637.95 1561.9 Q1639.16 1563.14 1642.82 1563.14 L1648.83 1563.14 L1648.83 1568.04 L1642.82 1568.04 Q1636.04 1568.04 1633.46 1565.53 Q1630.88 1562.98 1630.88 1556.3 L1630.88 1536.95 L1626.58 1536.95 L1626.58 1532.4 L1630.88 1532.4 L1630.88 1522.27 L1636.77 1522.27 Z\" fill=\"#000000\" fill-rule=\"evenodd\" fill-opacity=\"1\" /><path clip-path=\"url(#clip060)\" d=\"M 0 0 M1658.03 1559.96 L1664.75 1559.96 L1664.75 1565.43 L1659.53 1575.62 L1655.42 1575.62 L1658.03 1565.43 L1658.03 1559.96 Z\" fill=\"#000000\" fill-rule=\"evenodd\" fill-opacity=\"1\" /><path clip-path=\"url(#clip060)\" d=\"M 0 0 M1718.63 1537.87 Q1717.65 1537.3 1716.47 1537.04 Q1715.32 1536.76 1713.92 1536.76 Q1708.96 1536.76 1706.28 1540 Q1703.64 1543.22 1703.64 1549.27 L1703.64 1568.04 L1697.75 1568.04 L1697.75 1532.4 L1703.64 1532.4 L1703.64 1537.93 Q1705.49 1534.69 1708.45 1533.13 Q1711.41 1531.54 1715.64 1531.54 Q1716.25 1531.54 1716.98 1531.63 Q1717.71 1531.7 1718.6 1531.85 L1718.63 1537.87 Z\" fill=\"#000000\" fill-rule=\"evenodd\" fill-opacity=\"1\" /><polyline clip-path=\"url(#clip062)\" style=\"stroke:#000000; stroke-width:2; stroke-opacity:0.1; fill:none\" points=\"\n",
       "  250.028,1384.24 2352.76,1384.24 \n",
       "  \"/>\n",
       "<polyline clip-path=\"url(#clip062)\" style=\"stroke:#000000; stroke-width:2; stroke-opacity:0.1; fill:none\" points=\"\n",
       "  250.028,1177.16 2352.76,1177.16 \n",
       "  \"/>\n",
       "<polyline clip-path=\"url(#clip062)\" style=\"stroke:#000000; stroke-width:2; stroke-opacity:0.1; fill:none\" points=\"\n",
       "  250.028,970.09 2352.76,970.09 \n",
       "  \"/>\n",
       "<polyline clip-path=\"url(#clip062)\" style=\"stroke:#000000; stroke-width:2; stroke-opacity:0.1; fill:none\" points=\"\n",
       "  250.028,763.015 2352.76,763.015 \n",
       "  \"/>\n",
       "<polyline clip-path=\"url(#clip062)\" style=\"stroke:#000000; stroke-width:2; stroke-opacity:0.1; fill:none\" points=\"\n",
       "  250.028,555.941 2352.76,555.941 \n",
       "  \"/>\n",
       "<polyline clip-path=\"url(#clip062)\" style=\"stroke:#000000; stroke-width:2; stroke-opacity:0.1; fill:none\" points=\"\n",
       "  250.028,348.867 2352.76,348.867 \n",
       "  \"/>\n",
       "<polyline clip-path=\"url(#clip062)\" style=\"stroke:#000000; stroke-width:2; stroke-opacity:0.1; fill:none\" points=\"\n",
       "  250.028,141.792 2352.76,141.792 \n",
       "  \"/>\n",
       "<polyline clip-path=\"url(#clip060)\" style=\"stroke:#000000; stroke-width:4; stroke-opacity:1; fill:none\" points=\"\n",
       "  250.028,1423.18 250.028,47.2441 \n",
       "  \"/>\n",
       "<polyline clip-path=\"url(#clip060)\" style=\"stroke:#000000; stroke-width:4; stroke-opacity:1; fill:none\" points=\"\n",
       "  250.028,1384.24 275.261,1384.24 \n",
       "  \"/>\n",
       "<polyline clip-path=\"url(#clip060)\" style=\"stroke:#000000; stroke-width:4; stroke-opacity:1; fill:none\" points=\"\n",
       "  250.028,1177.16 275.261,1177.16 \n",
       "  \"/>\n",
       "<polyline clip-path=\"url(#clip060)\" style=\"stroke:#000000; stroke-width:4; stroke-opacity:1; fill:none\" points=\"\n",
       "  250.028,970.09 275.261,970.09 \n",
       "  \"/>\n",
       "<polyline clip-path=\"url(#clip060)\" style=\"stroke:#000000; stroke-width:4; stroke-opacity:1; fill:none\" points=\"\n",
       "  250.028,763.015 275.261,763.015 \n",
       "  \"/>\n",
       "<polyline clip-path=\"url(#clip060)\" style=\"stroke:#000000; stroke-width:4; stroke-opacity:1; fill:none\" points=\"\n",
       "  250.028,555.941 275.261,555.941 \n",
       "  \"/>\n",
       "<polyline clip-path=\"url(#clip060)\" style=\"stroke:#000000; stroke-width:4; stroke-opacity:1; fill:none\" points=\"\n",
       "  250.028,348.867 275.261,348.867 \n",
       "  \"/>\n",
       "<polyline clip-path=\"url(#clip060)\" style=\"stroke:#000000; stroke-width:4; stroke-opacity:1; fill:none\" points=\"\n",
       "  250.028,141.792 275.261,141.792 \n",
       "  \"/>\n",
       "<path clip-path=\"url(#clip060)\" d=\"M 0 0 M126.691 1370.04 Q123.08 1370.04 121.251 1373.6 Q119.445 1377.14 119.445 1384.27 Q119.445 1391.38 121.251 1394.94 Q123.08 1398.49 126.691 1398.49 Q130.325 1398.49 132.13 1394.94 Q133.959 1391.38 133.959 1384.27 Q133.959 1377.14 132.13 1373.6 Q130.325 1370.04 126.691 1370.04 M126.691 1366.33 Q132.501 1366.33 135.556 1370.94 Q138.635 1375.52 138.635 1384.27 Q138.635 1393 135.556 1397.61 Q132.501 1402.19 126.691 1402.19 Q120.88 1402.19 117.802 1397.61 Q114.746 1393 114.746 1384.27 Q114.746 1375.52 117.802 1370.94 Q120.88 1366.33 126.691 1366.33 Z\" fill=\"#000000\" fill-rule=\"evenodd\" fill-opacity=\"1\" /><path clip-path=\"url(#clip060)\" d=\"M 0 0 M146.853 1395.64 L151.737 1395.64 L151.737 1401.52 L146.853 1401.52 L146.853 1395.64 Z\" fill=\"#000000\" fill-rule=\"evenodd\" fill-opacity=\"1\" /><path clip-path=\"url(#clip060)\" d=\"M 0 0 M171.922 1370.04 Q168.311 1370.04 166.482 1373.6 Q164.677 1377.14 164.677 1384.27 Q164.677 1391.38 166.482 1394.94 Q168.311 1398.49 171.922 1398.49 Q175.556 1398.49 177.362 1394.94 Q179.19 1391.38 179.19 1384.27 Q179.19 1377.14 177.362 1373.6 Q175.556 1370.04 171.922 1370.04 M171.922 1366.33 Q177.732 1366.33 180.788 1370.94 Q183.866 1375.52 183.866 1384.27 Q183.866 1393 180.788 1397.61 Q177.732 1402.19 171.922 1402.19 Q166.112 1402.19 163.033 1397.61 Q159.978 1393 159.978 1384.27 Q159.978 1375.52 163.033 1370.94 Q166.112 1366.33 171.922 1366.33 Z\" fill=\"#000000\" fill-rule=\"evenodd\" fill-opacity=\"1\" /><path clip-path=\"url(#clip060)\" d=\"M 0 0 M202.084 1370.04 Q198.473 1370.04 196.644 1373.6 Q194.838 1377.14 194.838 1384.27 Q194.838 1391.38 196.644 1394.94 Q198.473 1398.49 202.084 1398.49 Q205.718 1398.49 207.524 1394.94 Q209.352 1391.38 209.352 1384.27 Q209.352 1377.14 207.524 1373.6 Q205.718 1370.04 202.084 1370.04 M202.084 1366.33 Q207.894 1366.33 210.949 1370.94 Q214.028 1375.52 214.028 1384.27 Q214.028 1393 210.949 1397.61 Q207.894 1402.19 202.084 1402.19 Q196.274 1402.19 193.195 1397.61 Q190.139 1393 190.139 1384.27 Q190.139 1375.52 193.195 1370.94 Q196.274 1366.33 202.084 1366.33 Z\" fill=\"#000000\" fill-rule=\"evenodd\" fill-opacity=\"1\" /><path clip-path=\"url(#clip060)\" d=\"M 0 0 M128.288 1162.96 Q124.677 1162.96 122.848 1166.53 Q121.043 1170.07 121.043 1177.2 Q121.043 1184.31 122.848 1187.87 Q124.677 1191.41 128.288 1191.41 Q131.922 1191.41 133.728 1187.87 Q135.556 1184.31 135.556 1177.2 Q135.556 1170.07 133.728 1166.53 Q131.922 1162.96 128.288 1162.96 M128.288 1159.26 Q134.098 1159.26 137.154 1163.87 Q140.232 1168.45 140.232 1177.2 Q140.232 1185.93 137.154 1190.53 Q134.098 1195.12 128.288 1195.12 Q122.478 1195.12 119.399 1190.53 Q116.343 1185.93 116.343 1177.2 Q116.343 1168.45 119.399 1163.87 Q122.478 1159.26 128.288 1159.26 Z\" fill=\"#000000\" fill-rule=\"evenodd\" fill-opacity=\"1\" /><path clip-path=\"url(#clip060)\" d=\"M 0 0 M148.45 1188.56 L153.334 1188.56 L153.334 1194.44 L148.45 1194.44 L148.45 1188.56 Z\" fill=\"#000000\" fill-rule=\"evenodd\" fill-opacity=\"1\" /><path clip-path=\"url(#clip060)\" d=\"M 0 0 M173.519 1162.96 Q169.908 1162.96 168.079 1166.53 Q166.274 1170.07 166.274 1177.2 Q166.274 1184.31 168.079 1187.87 Q169.908 1191.41 173.519 1191.41 Q177.153 1191.41 178.959 1187.87 Q180.788 1184.31 180.788 1177.2 Q180.788 1170.07 178.959 1166.53 Q177.153 1162.96 173.519 1162.96 M173.519 1159.26 Q179.329 1159.26 182.385 1163.87 Q185.463 1168.45 185.463 1177.2 Q185.463 1185.93 182.385 1190.53 Q179.329 1195.12 173.519 1195.12 Q167.709 1195.12 164.63 1190.53 Q161.575 1185.93 161.575 1177.2 Q161.575 1168.45 164.63 1163.87 Q167.709 1159.26 173.519 1159.26 Z\" fill=\"#000000\" fill-rule=\"evenodd\" fill-opacity=\"1\" /><path clip-path=\"url(#clip060)\" d=\"M 0 0 M197.709 1190.51 L214.028 1190.51 L214.028 1194.44 L192.084 1194.44 L192.084 1190.51 Q194.746 1187.75 199.329 1183.12 Q203.936 1178.47 205.116 1177.13 Q207.362 1174.61 208.241 1172.87 Q209.144 1171.11 209.144 1169.42 Q209.144 1166.67 207.199 1164.93 Q205.278 1163.19 202.176 1163.19 Q199.977 1163.19 197.524 1163.96 Q195.093 1164.72 192.315 1166.27 L192.315 1161.55 Q195.139 1160.42 197.593 1159.84 Q200.047 1159.26 202.084 1159.26 Q207.454 1159.26 210.649 1161.94 Q213.843 1164.63 213.843 1169.12 Q213.843 1171.25 213.033 1173.17 Q212.246 1175.07 210.139 1177.66 Q209.561 1178.33 206.459 1181.55 Q203.357 1184.74 197.709 1190.51 Z\" fill=\"#000000\" fill-rule=\"evenodd\" fill-opacity=\"1\" /><path clip-path=\"url(#clip060)\" d=\"M 0 0 M126.205 955.888 Q122.593 955.888 120.765 959.453 Q118.959 962.995 118.959 970.124 Q118.959 977.231 120.765 980.796 Q122.593 984.337 126.205 984.337 Q129.839 984.337 131.644 980.796 Q133.473 977.231 133.473 970.124 Q133.473 962.995 131.644 959.453 Q129.839 955.888 126.205 955.888 M126.205 952.185 Q132.015 952.185 135.07 956.791 Q138.149 961.374 138.149 970.124 Q138.149 978.851 135.07 983.458 Q132.015 988.041 126.205 988.041 Q120.394 988.041 117.316 983.458 Q114.26 978.851 114.26 970.124 Q114.26 961.374 117.316 956.791 Q120.394 952.185 126.205 952.185 Z\" fill=\"#000000\" fill-rule=\"evenodd\" fill-opacity=\"1\" /><path clip-path=\"url(#clip060)\" d=\"M 0 0 M146.366 981.49 L151.251 981.49 L151.251 987.37 L146.366 987.37 L146.366 981.49 Z\" fill=\"#000000\" fill-rule=\"evenodd\" fill-opacity=\"1\" /><path clip-path=\"url(#clip060)\" d=\"M 0 0 M171.436 955.888 Q167.825 955.888 165.996 959.453 Q164.19 962.995 164.19 970.124 Q164.19 977.231 165.996 980.796 Q167.825 984.337 171.436 984.337 Q175.07 984.337 176.876 980.796 Q178.704 977.231 178.704 970.124 Q178.704 962.995 176.876 959.453 Q175.07 955.888 171.436 955.888 M171.436 952.185 Q177.246 952.185 180.301 956.791 Q183.38 961.374 183.38 970.124 Q183.38 978.851 180.301 983.458 Q177.246 988.041 171.436 988.041 Q165.626 988.041 162.547 983.458 Q159.491 978.851 159.491 970.124 Q159.491 961.374 162.547 956.791 Q165.626 952.185 171.436 952.185 Z\" fill=\"#000000\" fill-rule=\"evenodd\" fill-opacity=\"1\" /><path clip-path=\"url(#clip060)\" d=\"M 0 0 M204.445 956.884 L192.639 975.333 L204.445 975.333 L204.445 956.884 M203.218 952.81 L209.098 952.81 L209.098 975.333 L214.028 975.333 L214.028 979.221 L209.098 979.221 L209.098 987.37 L204.445 987.37 L204.445 979.221 L188.843 979.221 L188.843 974.708 L203.218 952.81 Z\" fill=\"#000000\" fill-rule=\"evenodd\" fill-opacity=\"1\" /><path clip-path=\"url(#clip060)\" d=\"M 0 0 M126.529 748.814 Q122.918 748.814 121.089 752.379 Q119.283 755.92 119.283 763.05 Q119.283 770.156 121.089 773.721 Q122.918 777.263 126.529 777.263 Q130.163 777.263 131.968 773.721 Q133.797 770.156 133.797 763.05 Q133.797 755.92 131.968 752.379 Q130.163 748.814 126.529 748.814 M126.529 745.11 Q132.339 745.11 135.394 749.717 Q138.473 754.3 138.473 763.05 Q138.473 771.777 135.394 776.383 Q132.339 780.967 126.529 780.967 Q120.718 780.967 117.64 776.383 Q114.584 771.777 114.584 763.05 Q114.584 754.3 117.64 749.717 Q120.718 745.11 126.529 745.11 Z\" fill=\"#000000\" fill-rule=\"evenodd\" fill-opacity=\"1\" /><path clip-path=\"url(#clip060)\" d=\"M 0 0 M146.691 774.416 L151.575 774.416 L151.575 780.295 L146.691 780.295 L146.691 774.416 Z\" fill=\"#000000\" fill-rule=\"evenodd\" fill-opacity=\"1\" /><path clip-path=\"url(#clip060)\" d=\"M 0 0 M171.76 748.814 Q168.149 748.814 166.32 752.379 Q164.515 755.92 164.515 763.05 Q164.515 770.156 166.32 773.721 Q168.149 777.263 171.76 777.263 Q175.394 777.263 177.2 773.721 Q179.028 770.156 179.028 763.05 Q179.028 755.92 177.2 752.379 Q175.394 748.814 171.76 748.814 M171.76 745.11 Q177.57 745.11 180.626 749.717 Q183.704 754.3 183.704 763.05 Q183.704 771.777 180.626 776.383 Q177.57 780.967 171.76 780.967 Q165.95 780.967 162.871 776.383 Q159.815 771.777 159.815 763.05 Q159.815 754.3 162.871 749.717 Q165.95 745.11 171.76 745.11 Z\" fill=\"#000000\" fill-rule=\"evenodd\" fill-opacity=\"1\" /><path clip-path=\"url(#clip060)\" d=\"M 0 0 M202.5 761.152 Q199.352 761.152 197.5 763.305 Q195.672 765.457 195.672 769.207 Q195.672 772.934 197.5 775.11 Q199.352 777.263 202.5 777.263 Q205.649 777.263 207.477 775.11 Q209.329 772.934 209.329 769.207 Q209.329 765.457 207.477 763.305 Q205.649 761.152 202.5 761.152 M211.783 746.499 L211.783 750.758 Q210.024 749.925 208.218 749.485 Q206.436 749.045 204.676 749.045 Q200.047 749.045 197.593 752.17 Q195.163 755.295 194.815 761.615 Q196.181 759.601 198.241 758.536 Q200.301 757.448 202.778 757.448 Q207.987 757.448 210.996 760.619 Q214.028 763.768 214.028 769.207 Q214.028 774.531 210.88 777.749 Q207.732 780.967 202.5 780.967 Q196.505 780.967 193.334 776.383 Q190.163 771.777 190.163 763.05 Q190.163 754.856 194.051 749.994 Q197.94 745.11 204.491 745.11 Q206.25 745.11 208.033 745.457 Q209.838 745.805 211.783 746.499 Z\" fill=\"#000000\" fill-rule=\"evenodd\" fill-opacity=\"1\" /><path clip-path=\"url(#clip060)\" d=\"M 0 0 M126.783 541.74 Q123.172 541.74 121.343 545.304 Q119.538 548.846 119.538 555.976 Q119.538 563.082 121.343 566.647 Q123.172 570.189 126.783 570.189 Q130.417 570.189 132.223 566.647 Q134.052 563.082 134.052 555.976 Q134.052 548.846 132.223 545.304 Q130.417 541.74 126.783 541.74 M126.783 538.036 Q132.593 538.036 135.649 542.642 Q138.728 547.226 138.728 555.976 Q138.728 564.702 135.649 569.309 Q132.593 573.892 126.783 573.892 Q120.973 573.892 117.894 569.309 Q114.839 564.702 114.839 555.976 Q114.839 547.226 117.894 542.642 Q120.973 538.036 126.783 538.036 Z\" fill=\"#000000\" fill-rule=\"evenodd\" fill-opacity=\"1\" /><path clip-path=\"url(#clip060)\" d=\"M 0 0 M146.945 567.341 L151.829 567.341 L151.829 573.221 L146.945 573.221 L146.945 567.341 Z\" fill=\"#000000\" fill-rule=\"evenodd\" fill-opacity=\"1\" /><path clip-path=\"url(#clip060)\" d=\"M 0 0 M172.014 541.74 Q168.403 541.74 166.575 545.304 Q164.769 548.846 164.769 555.976 Q164.769 563.082 166.575 566.647 Q168.403 570.189 172.014 570.189 Q175.649 570.189 177.454 566.647 Q179.283 563.082 179.283 555.976 Q179.283 548.846 177.454 545.304 Q175.649 541.74 172.014 541.74 M172.014 538.036 Q177.825 538.036 180.88 542.642 Q183.959 547.226 183.959 555.976 Q183.959 564.702 180.88 569.309 Q177.825 573.892 172.014 573.892 Q166.204 573.892 163.126 569.309 Q160.07 564.702 160.07 555.976 Q160.07 547.226 163.126 542.642 Q166.204 538.036 172.014 538.036 Z\" fill=\"#000000\" fill-rule=\"evenodd\" fill-opacity=\"1\" /><path clip-path=\"url(#clip060)\" d=\"M 0 0 M202.176 556.809 Q198.843 556.809 196.922 558.591 Q195.024 560.374 195.024 563.499 Q195.024 566.624 196.922 568.406 Q198.843 570.189 202.176 570.189 Q205.51 570.189 207.431 568.406 Q209.352 566.601 209.352 563.499 Q209.352 560.374 207.431 558.591 Q205.533 556.809 202.176 556.809 M197.5 554.818 Q194.491 554.078 192.801 552.017 Q191.135 549.957 191.135 546.994 Q191.135 542.851 194.075 540.443 Q197.037 538.036 202.176 538.036 Q207.338 538.036 210.278 540.443 Q213.218 542.851 213.218 546.994 Q213.218 549.957 211.528 552.017 Q209.861 554.078 206.875 554.818 Q210.255 555.605 212.13 557.897 Q214.028 560.189 214.028 563.499 Q214.028 568.522 210.949 571.207 Q207.894 573.892 202.176 573.892 Q196.459 573.892 193.38 571.207 Q190.325 568.522 190.325 563.499 Q190.325 560.189 192.223 557.897 Q194.121 555.605 197.5 554.818 M195.787 547.434 Q195.787 550.119 197.454 551.624 Q199.144 553.128 202.176 553.128 Q205.186 553.128 206.875 551.624 Q208.588 550.119 208.588 547.434 Q208.588 544.749 206.875 543.244 Q205.186 541.74 202.176 541.74 Q199.144 541.74 197.454 543.244 Q195.787 544.749 195.787 547.434 Z\" fill=\"#000000\" fill-rule=\"evenodd\" fill-opacity=\"1\" /><path clip-path=\"url(#clip060)\" d=\"M 0 0 M126.691 334.665 Q123.08 334.665 121.251 338.23 Q119.445 341.772 119.445 348.901 Q119.445 356.008 121.251 359.573 Q123.08 363.114 126.691 363.114 Q130.325 363.114 132.13 359.573 Q133.959 356.008 133.959 348.901 Q133.959 341.772 132.13 338.23 Q130.325 334.665 126.691 334.665 M126.691 330.962 Q132.501 330.962 135.556 335.568 Q138.635 340.151 138.635 348.901 Q138.635 357.628 135.556 362.235 Q132.501 366.818 126.691 366.818 Q120.88 366.818 117.802 362.235 Q114.746 357.628 114.746 348.901 Q114.746 340.151 117.802 335.568 Q120.88 330.962 126.691 330.962 Z\" fill=\"#000000\" fill-rule=\"evenodd\" fill-opacity=\"1\" /><path clip-path=\"url(#clip060)\" d=\"M 0 0 M146.853 360.267 L151.737 360.267 L151.737 366.147 L146.853 366.147 L146.853 360.267 Z\" fill=\"#000000\" fill-rule=\"evenodd\" fill-opacity=\"1\" /><path clip-path=\"url(#clip060)\" d=\"M 0 0 M162.732 362.211 L170.371 362.211 L170.371 335.846 L162.061 337.512 L162.061 333.253 L170.325 331.587 L175.001 331.587 L175.001 362.211 L182.639 362.211 L182.639 366.147 L162.732 366.147 L162.732 362.211 Z\" fill=\"#000000\" fill-rule=\"evenodd\" fill-opacity=\"1\" /><path clip-path=\"url(#clip060)\" d=\"M 0 0 M202.084 334.665 Q198.473 334.665 196.644 338.23 Q194.838 341.772 194.838 348.901 Q194.838 356.008 196.644 359.573 Q198.473 363.114 202.084 363.114 Q205.718 363.114 207.524 359.573 Q209.352 356.008 209.352 348.901 Q209.352 341.772 207.524 338.23 Q205.718 334.665 202.084 334.665 M202.084 330.962 Q207.894 330.962 210.949 335.568 Q214.028 340.151 214.028 348.901 Q214.028 357.628 210.949 362.235 Q207.894 366.818 202.084 366.818 Q196.274 366.818 193.195 362.235 Q190.139 357.628 190.139 348.901 Q190.139 340.151 193.195 335.568 Q196.274 330.962 202.084 330.962 Z\" fill=\"#000000\" fill-rule=\"evenodd\" fill-opacity=\"1\" /><path clip-path=\"url(#clip060)\" d=\"M 0 0 M128.288 127.591 Q124.677 127.591 122.848 131.156 Q121.043 134.697 121.043 141.827 Q121.043 148.933 122.848 152.498 Q124.677 156.04 128.288 156.04 Q131.922 156.04 133.728 152.498 Q135.556 148.933 135.556 141.827 Q135.556 134.697 133.728 131.156 Q131.922 127.591 128.288 127.591 M128.288 123.887 Q134.098 123.887 137.154 128.494 Q140.232 133.077 140.232 141.827 Q140.232 150.554 137.154 155.16 Q134.098 159.744 128.288 159.744 Q122.478 159.744 119.399 155.16 Q116.343 150.554 116.343 141.827 Q116.343 133.077 119.399 128.494 Q122.478 123.887 128.288 123.887 Z\" fill=\"#000000\" fill-rule=\"evenodd\" fill-opacity=\"1\" /><path clip-path=\"url(#clip060)\" d=\"M 0 0 M148.45 153.193 L153.334 153.193 L153.334 159.072 L148.45 159.072 L148.45 153.193 Z\" fill=\"#000000\" fill-rule=\"evenodd\" fill-opacity=\"1\" /><path clip-path=\"url(#clip060)\" d=\"M 0 0 M164.329 155.137 L171.968 155.137 L171.968 128.771 L163.658 130.438 L163.658 126.179 L171.922 124.512 L176.598 124.512 L176.598 155.137 L184.237 155.137 L184.237 159.072 L164.329 159.072 L164.329 155.137 Z\" fill=\"#000000\" fill-rule=\"evenodd\" fill-opacity=\"1\" /><path clip-path=\"url(#clip060)\" d=\"M 0 0 M197.709 155.137 L214.028 155.137 L214.028 159.072 L192.084 159.072 L192.084 155.137 Q194.746 152.382 199.329 147.753 Q203.936 143.1 205.116 141.758 Q207.362 139.234 208.241 137.498 Q209.144 135.739 209.144 134.049 Q209.144 131.295 207.199 129.559 Q205.278 127.822 202.176 127.822 Q199.977 127.822 197.524 128.586 Q195.093 129.35 192.315 130.901 L192.315 126.179 Q195.139 125.045 197.593 124.466 Q200.047 123.887 202.084 123.887 Q207.454 123.887 210.649 126.572 Q213.843 129.258 213.843 133.748 Q213.843 135.878 213.033 137.799 Q212.246 139.697 210.139 142.29 Q209.561 142.961 206.459 146.179 Q203.357 149.373 197.709 155.137 Z\" fill=\"#000000\" fill-rule=\"evenodd\" fill-opacity=\"1\" /><path clip-path=\"url(#clip060)\" d=\"M 0 0 M21.7677 896.901 L39.6235 896.901 L39.6235 888.816 Q39.6235 884.329 37.3 881.878 Q34.9765 879.427 30.6797 879.427 Q26.4147 879.427 24.0912 881.878 Q21.7677 884.329 21.7677 888.816 L21.7677 896.901 M16.4842 903.33 L16.4842 888.816 Q16.4842 880.828 20.1126 876.753 Q23.7092 872.648 30.6797 872.648 Q37.7138 872.648 41.3104 876.753 Q44.907 880.828 44.907 888.816 L44.907 896.901 L64.0042 896.901 L64.0042 903.33 L16.4842 903.33 Z\" fill=\"#000000\" fill-rule=\"evenodd\" fill-opacity=\"1\" /><path clip-path=\"url(#clip060)\" d=\"M 0 0 M33.8307 844.766 Q33.2578 845.752 33.0032 846.93 Q32.7167 848.076 32.7167 849.476 Q32.7167 854.442 35.9632 857.115 Q39.1779 859.757 45.2253 859.757 L64.0042 859.757 L64.0042 865.645 L28.3562 865.645 L28.3562 859.757 L33.8944 859.757 Q30.6479 857.911 29.0883 854.951 Q27.4968 851.991 27.4968 847.758 Q27.4968 847.153 27.5923 846.421 Q27.656 845.689 27.8151 844.798 L33.8307 844.766 Z\" fill=\"#000000\" fill-rule=\"evenodd\" fill-opacity=\"1\" /><path clip-path=\"url(#clip060)\" d=\"M 0 0 M32.4621 826.242 Q32.4621 830.952 36.1542 833.689 Q39.8145 836.427 46.212 836.427 Q52.6095 836.427 56.3017 833.721 Q59.9619 830.984 59.9619 826.242 Q59.9619 821.563 56.2698 818.826 Q52.5777 816.088 46.212 816.088 Q39.8781 816.088 36.186 818.826 Q32.4621 821.563 32.4621 826.242 M27.4968 826.242 Q27.4968 818.603 32.4621 814.242 Q37.4273 809.882 46.212 809.882 Q54.9649 809.882 59.9619 814.242 Q64.9272 818.603 64.9272 826.242 Q64.9272 833.912 59.9619 838.273 Q54.9649 842.601 46.212 842.601 Q37.4273 842.601 32.4621 838.273 Q27.4968 833.912 27.4968 826.242 Z\" fill=\"#000000\" fill-rule=\"evenodd\" fill-opacity=\"1\" /><path clip-path=\"url(#clip060)\" d=\"M 0 0 M46.212 774.584 Q39.7508 774.584 36.0905 777.257 Q32.3984 779.899 32.3984 784.546 Q32.3984 789.193 36.0905 791.867 Q39.7508 794.509 46.212 794.509 Q52.6732 794.509 56.3653 791.867 Q60.0256 789.193 60.0256 784.546 Q60.0256 779.899 56.3653 777.257 Q52.6732 774.584 46.212 774.584 M33.7671 794.509 Q30.5842 792.662 29.0564 789.862 Q27.4968 787.029 27.4968 783.114 Q27.4968 776.621 32.6531 772.579 Q37.8093 768.505 46.212 768.505 Q54.6147 768.505 59.771 772.579 Q64.9272 776.621 64.9272 783.114 Q64.9272 787.029 63.3994 789.862 Q61.8398 792.662 58.657 794.509 L64.0042 794.509 L64.0042 800.397 L14.479 800.397 L14.479 794.509 L33.7671 794.509 Z\" fill=\"#000000\" fill-rule=\"evenodd\" fill-opacity=\"1\" /><path clip-path=\"url(#clip060)\" d=\"M 0 0 M46.0847 742.596 Q46.0847 749.694 47.7079 752.431 Q49.3312 755.168 53.2461 755.168 Q56.3653 755.168 58.2114 753.131 Q60.0256 751.063 60.0256 747.53 Q60.0256 742.66 56.5881 739.732 Q53.1188 736.772 47.3897 736.772 L46.0847 736.772 L46.0847 742.596 M43.6657 730.915 L64.0042 730.915 L64.0042 736.772 L58.5933 736.772 Q61.8398 738.777 63.3994 741.769 Q64.9272 744.761 64.9272 749.089 Q64.9272 754.564 61.8716 757.81 Q58.7843 761.025 53.6281 761.025 Q47.6125 761.025 44.5569 757.015 Q41.5014 752.972 41.5014 744.983 L41.5014 736.772 L40.9285 736.772 Q36.8862 736.772 34.6901 739.445 Q32.4621 742.087 32.4621 746.893 Q32.4621 749.949 33.1941 752.845 Q33.9262 755.741 35.3903 758.415 L29.9795 758.415 Q28.7381 755.2 28.1334 752.177 Q27.4968 749.153 27.4968 746.288 Q27.4968 738.554 31.5072 734.735 Q35.5176 730.915 43.6657 730.915 Z\" fill=\"#000000\" fill-rule=\"evenodd\" fill-opacity=\"1\" /><path clip-path=\"url(#clip060)\" d=\"M 0 0 M46.212 693.262 Q39.7508 693.262 36.0905 695.936 Q32.3984 698.577 32.3984 703.224 Q32.3984 707.871 36.0905 710.545 Q39.7508 713.187 46.212 713.187 Q52.6732 713.187 56.3653 710.545 Q60.0256 707.871 60.0256 703.224 Q60.0256 698.577 56.3653 695.936 Q52.6732 693.262 46.212 693.262 M33.7671 713.187 Q30.5842 711.341 29.0564 708.54 Q27.4968 705.707 27.4968 701.792 Q27.4968 695.299 32.6531 691.257 Q37.8093 687.183 46.212 687.183 Q54.6147 687.183 59.771 691.257 Q64.9272 695.299 64.9272 701.792 Q64.9272 705.707 63.3994 708.54 Q61.8398 711.341 58.657 713.187 L64.0042 713.187 L64.0042 719.075 L14.479 719.075 L14.479 713.187 L33.7671 713.187 Z\" fill=\"#000000\" fill-rule=\"evenodd\" fill-opacity=\"1\" /><path clip-path=\"url(#clip060)\" d=\"M 0 0 M28.3562 677.475 L28.3562 671.619 L64.0042 671.619 L64.0042 677.475 L28.3562 677.475 M14.479 677.475 L14.479 671.619 L21.895 671.619 L21.895 677.475 L14.479 677.475 Z\" fill=\"#000000\" fill-rule=\"evenodd\" fill-opacity=\"1\" /><path clip-path=\"url(#clip060)\" d=\"M 0 0 M14.479 659.365 L14.479 653.508 L64.0042 653.508 L64.0042 659.365 L14.479 659.365 Z\" fill=\"#000000\" fill-rule=\"evenodd\" fill-opacity=\"1\" /><path clip-path=\"url(#clip060)\" d=\"M 0 0 M28.3562 641.254 L28.3562 635.398 L64.0042 635.398 L64.0042 641.254 L28.3562 641.254 M14.479 641.254 L14.479 635.398 L21.895 635.398 L21.895 641.254 L14.479 641.254 Z\" fill=\"#000000\" fill-rule=\"evenodd\" fill-opacity=\"1\" /><path clip-path=\"url(#clip060)\" d=\"M 0 0 M18.2347 617.351 L28.3562 617.351 L28.3562 605.288 L32.9077 605.288 L32.9077 617.351 L52.2594 617.351 Q56.6199 617.351 57.8613 616.173 Q59.1026 614.964 59.1026 611.303 L59.1026 605.288 L64.0042 605.288 L64.0042 611.303 Q64.0042 618.083 61.4897 620.661 Q58.9434 623.239 52.2594 623.239 L32.9077 623.239 L32.9077 627.536 L28.3562 627.536 L28.3562 623.239 L18.2347 623.239 L18.2347 617.351 Z\" fill=\"#000000\" fill-rule=\"evenodd\" fill-opacity=\"1\" /><path clip-path=\"url(#clip060)\" d=\"M 0 0 M67.3143 582.753 Q73.68 585.236 75.6216 587.591 Q77.5631 589.947 77.5631 593.893 L77.5631 598.572 L72.6615 598.572 L72.6615 595.135 Q72.6615 592.716 71.5157 591.379 Q70.3699 590.042 66.1048 588.419 L63.4312 587.368 L28.3562 601.787 L28.3562 595.58 L56.238 584.44 L28.3562 573.3 L28.3562 567.094 L67.3143 582.753 Z\" fill=\"#000000\" fill-rule=\"evenodd\" fill-opacity=\"1\" /><circle clip-path=\"url(#clip062)\" cx=\"309.539\" cy=\"86.1857\" r=\"14\" fill=\"#ff0000\" fill-rule=\"evenodd\" fill-opacity=\"1\" stroke=\"#000000\" stroke-opacity=\"1\" stroke-width=\"3.2\"/>\n",
       "<circle clip-path=\"url(#clip062)\" cx=\"408.725\" cy=\"86.1857\" r=\"14\" fill=\"#ff0000\" fill-rule=\"evenodd\" fill-opacity=\"1\" stroke=\"#000000\" stroke-opacity=\"1\" stroke-width=\"3.2\"/>\n",
       "<circle clip-path=\"url(#clip062)\" cx=\"507.91\" cy=\"119.469\" r=\"14\" fill=\"#ff0000\" fill-rule=\"evenodd\" fill-opacity=\"1\" stroke=\"#000000\" stroke-opacity=\"1\" stroke-width=\"3.2\"/>\n",
       "<circle clip-path=\"url(#clip062)\" cx=\"607.095\" cy=\"186.036\" r=\"14\" fill=\"#ff0000\" fill-rule=\"evenodd\" fill-opacity=\"1\" stroke=\"#000000\" stroke-opacity=\"1\" stroke-width=\"3.2\"/>\n",
       "<circle clip-path=\"url(#clip062)\" cx=\"706.28\" cy=\"283.187\" r=\"14\" fill=\"#ff0000\" fill-rule=\"evenodd\" fill-opacity=\"1\" stroke=\"#000000\" stroke-opacity=\"1\" stroke-width=\"3.2\"/>\n",
       "<circle clip-path=\"url(#clip062)\" cx=\"805.466\" cy=\"405.526\" r=\"14\" fill=\"#ff0000\" fill-rule=\"evenodd\" fill-opacity=\"1\" stroke=\"#000000\" stroke-opacity=\"1\" stroke-width=\"3.2\"/>\n",
       "<circle clip-path=\"url(#clip062)\" cx=\"904.651\" cy=\"545.342\" r=\"14\" fill=\"#ff0000\" fill-rule=\"evenodd\" fill-opacity=\"1\" stroke=\"#000000\" stroke-opacity=\"1\" stroke-width=\"3.2\"/>\n",
       "<circle clip-path=\"url(#clip062)\" cx=\"1003.84\" cy=\"693.383\" r=\"14\" fill=\"#ff0000\" fill-rule=\"evenodd\" fill-opacity=\"1\" stroke=\"#000000\" stroke-opacity=\"1\" stroke-width=\"3.2\"/>\n",
       "<circle clip-path=\"url(#clip062)\" cx=\"1103.02\" cy=\"839.928\" r=\"14\" fill=\"#ff0000\" fill-rule=\"evenodd\" fill-opacity=\"1\" stroke=\"#000000\" stroke-opacity=\"1\" stroke-width=\"3.2\"/>\n",
       "<circle clip-path=\"url(#clip062)\" cx=\"1202.21\" cy=\"976.006\" r=\"14\" fill=\"#ff0000\" fill-rule=\"evenodd\" fill-opacity=\"1\" stroke=\"#000000\" stroke-opacity=\"1\" stroke-width=\"3.2\"/>\n",
       "<circle clip-path=\"url(#clip062)\" cx=\"1301.39\" cy=\"1094.52\" r=\"14\" fill=\"#ff0000\" fill-rule=\"evenodd\" fill-opacity=\"1\" stroke=\"#000000\" stroke-opacity=\"1\" stroke-width=\"3.2\"/>\n",
       "<circle clip-path=\"url(#clip062)\" cx=\"1400.58\" cy=\"1191.1\" r=\"14\" fill=\"#ff0000\" fill-rule=\"evenodd\" fill-opacity=\"1\" stroke=\"#000000\" stroke-opacity=\"1\" stroke-width=\"3.2\"/>\n",
       "<circle clip-path=\"url(#clip062)\" cx=\"1499.76\" cy=\"1264.36\" r=\"14\" fill=\"#ff0000\" fill-rule=\"evenodd\" fill-opacity=\"1\" stroke=\"#000000\" stroke-opacity=\"1\" stroke-width=\"3.2\"/>\n",
       "<circle clip-path=\"url(#clip062)\" cx=\"1598.95\" cy=\"1315.73\" r=\"14\" fill=\"#ff0000\" fill-rule=\"evenodd\" fill-opacity=\"1\" stroke=\"#000000\" stroke-opacity=\"1\" stroke-width=\"3.2\"/>\n",
       "<circle clip-path=\"url(#clip062)\" cx=\"1698.13\" cy=\"1348.72\" r=\"14\" fill=\"#ff0000\" fill-rule=\"evenodd\" fill-opacity=\"1\" stroke=\"#000000\" stroke-opacity=\"1\" stroke-width=\"3.2\"/>\n",
       "<circle clip-path=\"url(#clip062)\" cx=\"1797.32\" cy=\"1367.84\" r=\"14\" fill=\"#ff0000\" fill-rule=\"evenodd\" fill-opacity=\"1\" stroke=\"#000000\" stroke-opacity=\"1\" stroke-width=\"3.2\"/>\n",
       "<circle clip-path=\"url(#clip062)\" cx=\"1896.5\" cy=\"1377.68\" r=\"14\" fill=\"#ff0000\" fill-rule=\"evenodd\" fill-opacity=\"1\" stroke=\"#000000\" stroke-opacity=\"1\" stroke-width=\"3.2\"/>\n",
       "<circle clip-path=\"url(#clip062)\" cx=\"1995.69\" cy=\"1382.05\" r=\"14\" fill=\"#ff0000\" fill-rule=\"evenodd\" fill-opacity=\"1\" stroke=\"#000000\" stroke-opacity=\"1\" stroke-width=\"3.2\"/>\n",
       "<circle clip-path=\"url(#clip062)\" cx=\"2094.87\" cy=\"1383.67\" r=\"14\" fill=\"#ff0000\" fill-rule=\"evenodd\" fill-opacity=\"1\" stroke=\"#000000\" stroke-opacity=\"1\" stroke-width=\"3.2\"/>\n",
       "<circle clip-path=\"url(#clip062)\" cx=\"2194.06\" cy=\"1384.13\" r=\"14\" fill=\"#ff0000\" fill-rule=\"evenodd\" fill-opacity=\"1\" stroke=\"#000000\" stroke-opacity=\"1\" stroke-width=\"3.2\"/>\n",
       "<circle clip-path=\"url(#clip062)\" cx=\"2293.24\" cy=\"1384.23\" r=\"14\" fill=\"#ff0000\" fill-rule=\"evenodd\" fill-opacity=\"1\" stroke=\"#000000\" stroke-opacity=\"1\" stroke-width=\"3.2\"/>\n",
       "<polyline clip-path=\"url(#clip062)\" style=\"stroke:#ff0000; stroke-width:4; stroke-opacity:1; fill:none\" points=\"\n",
       "  309.539,1384.24 309.539,86.1857 \n",
       "  \"/>\n",
       "<polyline clip-path=\"url(#clip062)\" style=\"stroke:#ff0000; stroke-width:4; stroke-opacity:1; fill:none\" points=\"\n",
       "  408.725,1384.24 408.725,86.1857 \n",
       "  \"/>\n",
       "<polyline clip-path=\"url(#clip062)\" style=\"stroke:#ff0000; stroke-width:4; stroke-opacity:1; fill:none\" points=\"\n",
       "  507.91,1384.24 507.91,119.469 \n",
       "  \"/>\n",
       "<polyline clip-path=\"url(#clip062)\" style=\"stroke:#ff0000; stroke-width:4; stroke-opacity:1; fill:none\" points=\"\n",
       "  607.095,1384.24 607.095,186.036 \n",
       "  \"/>\n",
       "<polyline clip-path=\"url(#clip062)\" style=\"stroke:#ff0000; stroke-width:4; stroke-opacity:1; fill:none\" points=\"\n",
       "  706.28,1384.24 706.28,283.187 \n",
       "  \"/>\n",
       "<polyline clip-path=\"url(#clip062)\" style=\"stroke:#ff0000; stroke-width:4; stroke-opacity:1; fill:none\" points=\"\n",
       "  805.466,1384.24 805.466,405.526 \n",
       "  \"/>\n",
       "<polyline clip-path=\"url(#clip062)\" style=\"stroke:#ff0000; stroke-width:4; stroke-opacity:1; fill:none\" points=\"\n",
       "  904.651,1384.24 904.651,545.342 \n",
       "  \"/>\n",
       "<polyline clip-path=\"url(#clip062)\" style=\"stroke:#ff0000; stroke-width:4; stroke-opacity:1; fill:none\" points=\"\n",
       "  1003.84,1384.24 1003.84,693.383 \n",
       "  \"/>\n",
       "<polyline clip-path=\"url(#clip062)\" style=\"stroke:#ff0000; stroke-width:4; stroke-opacity:1; fill:none\" points=\"\n",
       "  1103.02,1384.24 1103.02,839.928 \n",
       "  \"/>\n",
       "<polyline clip-path=\"url(#clip062)\" style=\"stroke:#ff0000; stroke-width:4; stroke-opacity:1; fill:none\" points=\"\n",
       "  1202.21,1384.24 1202.21,976.006 \n",
       "  \"/>\n",
       "<polyline clip-path=\"url(#clip062)\" style=\"stroke:#ff0000; stroke-width:4; stroke-opacity:1; fill:none\" points=\"\n",
       "  1301.39,1384.24 1301.39,1094.52 \n",
       "  \"/>\n",
       "<polyline clip-path=\"url(#clip062)\" style=\"stroke:#ff0000; stroke-width:4; stroke-opacity:1; fill:none\" points=\"\n",
       "  1400.58,1384.24 1400.58,1191.1 \n",
       "  \"/>\n",
       "<polyline clip-path=\"url(#clip062)\" style=\"stroke:#ff0000; stroke-width:4; stroke-opacity:1; fill:none\" points=\"\n",
       "  1499.76,1384.24 1499.76,1264.36 \n",
       "  \"/>\n",
       "<polyline clip-path=\"url(#clip062)\" style=\"stroke:#ff0000; stroke-width:4; stroke-opacity:1; fill:none\" points=\"\n",
       "  1598.95,1384.24 1598.95,1315.73 \n",
       "  \"/>\n",
       "<polyline clip-path=\"url(#clip062)\" style=\"stroke:#ff0000; stroke-width:4; stroke-opacity:1; fill:none\" points=\"\n",
       "  1698.13,1384.24 1698.13,1348.72 \n",
       "  \"/>\n",
       "<polyline clip-path=\"url(#clip062)\" style=\"stroke:#ff0000; stroke-width:4; stroke-opacity:1; fill:none\" points=\"\n",
       "  1797.32,1384.24 1797.32,1367.84 \n",
       "  \"/>\n",
       "<polyline clip-path=\"url(#clip062)\" style=\"stroke:#ff0000; stroke-width:4; stroke-opacity:1; fill:none\" points=\"\n",
       "  1896.5,1384.24 1896.5,1377.68 \n",
       "  \"/>\n",
       "<polyline clip-path=\"url(#clip062)\" style=\"stroke:#ff0000; stroke-width:4; stroke-opacity:1; fill:none\" points=\"\n",
       "  1995.69,1384.24 1995.69,1382.05 \n",
       "  \"/>\n",
       "<polyline clip-path=\"url(#clip062)\" style=\"stroke:#ff0000; stroke-width:4; stroke-opacity:1; fill:none\" points=\"\n",
       "  2094.87,1384.24 2094.87,1383.67 \n",
       "  \"/>\n",
       "<polyline clip-path=\"url(#clip062)\" style=\"stroke:#ff0000; stroke-width:4; stroke-opacity:1; fill:none\" points=\"\n",
       "  2194.06,1384.24 2194.06,1384.13 \n",
       "  \"/>\n",
       "<polyline clip-path=\"url(#clip062)\" style=\"stroke:#ff0000; stroke-width:4; stroke-opacity:1; fill:none\" points=\"\n",
       "  2293.24,1384.24 2293.24,1384.23 \n",
       "  \"/>\n",
       "<path clip-path=\"url(#clip060)\" d=\"\n",
       "M1959.68 214.069 L2282.66 214.069 L2282.66 93.1086 L1959.68 93.1086  Z\n",
       "  \" fill=\"#ffffff\" fill-rule=\"evenodd\" fill-opacity=\"1\"/>\n",
       "<polyline clip-path=\"url(#clip060)\" style=\"stroke:#000000; stroke-width:4; stroke-opacity:1; fill:none\" points=\"\n",
       "  1959.68,214.069 2282.66,214.069 2282.66,93.1086 1959.68,93.1086 1959.68,214.069 \n",
       "  \"/>\n",
       "<circle clip-path=\"url(#clip060)\" cx=\"2053.13\" cy=\"153.589\" r=\"23\" fill=\"#ff0000\" fill-rule=\"evenodd\" fill-opacity=\"1\" stroke=\"#000000\" stroke-opacity=\"1\" stroke-width=\"5.12\"/>\n",
       "<path clip-path=\"url(#clip060)\" d=\"M 0 0 M2151.26 140.151 L2151.26 153.137 L2157.14 153.137 Q2160.41 153.137 2162.19 151.447 Q2163.97 149.758 2163.97 146.633 Q2163.97 143.531 2162.19 141.841 Q2160.41 140.151 2157.14 140.151 L2151.26 140.151 M2146.59 136.309 L2157.14 136.309 Q2162.95 136.309 2165.91 138.947 Q2168.9 141.563 2168.9 146.633 Q2168.9 151.748 2165.91 154.364 Q2162.95 156.98 2157.14 156.98 L2151.26 156.98 L2151.26 170.869 L2146.59 170.869 L2146.59 136.309 Z\" fill=\"#000000\" fill-rule=\"evenodd\" fill-opacity=\"1\" /><path clip-path=\"url(#clip060)\" d=\"M 0 0 M2175.17 136.309 L2182.14 136.309 L2190.96 159.827 L2199.83 136.309 L2206.79 136.309 L2206.79 170.869 L2202.23 170.869 L2202.23 140.522 L2193.32 164.225 L2188.62 164.225 L2179.71 140.522 L2179.71 170.869 L2175.17 170.869 L2175.17 136.309 Z\" fill=\"#000000\" fill-rule=\"evenodd\" fill-opacity=\"1\" /><path clip-path=\"url(#clip060)\" d=\"M 0 0 M2216.08 136.309 L2235.94 136.309 L2235.94 140.244 L2220.75 140.244 L2220.75 150.429 L2234.46 150.429 L2234.46 154.364 L2220.75 154.364 L2220.75 170.869 L2216.08 170.869 L2216.08 136.309 Z\" fill=\"#000000\" fill-rule=\"evenodd\" fill-opacity=\"1\" /></svg>\n"
      ]
     },
     "execution_count": 20,
     "metadata": {},
     "output_type": "execute_result"
    }
   ],
   "source": [
    "# Banach's matchbox problem\n",
    "# Distribution of the waiting time to find the any of the matchboxes empty\n",
    "\n",
    "using Plots\n",
    "using Distributions\n",
    "gr()\n",
    "\n",
    "N = 20\n",
    "\n",
    "function negative_binomial(k,r,p)\n",
    "    return binomial(r + k - 1,k) * (p^r) * (1-p)^k\n",
    "end\n",
    "\n",
    "plot([r for r in 0:N],[2*negative_binomial(N-r,N+1,0.50) for r in 0:N],\n",
    "        line=:stem, marker=:circle, c=:red,\n",
    "        xlabel=\"Number of matches left, r\",\n",
    "        ylabel=\"Probability\",\n",
    "        label=\"PMF\")"
   ]
  },
  {
   "cell_type": "markdown",
   "metadata": {},
   "source": [
    "## The Multinomial Distribution.\n",
    "\n"
   ]
  }
 ],
 "metadata": {
  "kernelspec": {
   "display_name": "Julia 1.5.3",
   "language": "julia",
   "name": "julia-1.5"
  },
  "language_info": {
   "file_extension": ".jl",
   "mimetype": "application/julia",
   "name": "julia",
   "version": "1.5.3"
  }
 },
 "nbformat": 4,
 "nbformat_minor": 4
}
