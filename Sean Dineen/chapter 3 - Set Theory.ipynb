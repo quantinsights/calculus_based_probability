{
 "cells": [
  {
   "cell_type": "markdown",
   "metadata": {},
   "source": [
    "So far, we have concentrated on the financial world and got by with very little mathematics. We now enter the world of mathematics and later model aspects of the financial world using mathematics. We do not assume any familiarity with the abstract axiomatic approach to mathematics, but because of its central role in our investigations, begin with a simplified discussion of its evolution. This may appear pedantic at the moment, but, later, it may help put in perspective our overall strategy. The pattern of development we describe is common to many disciplines, and more importantly the same route, with some variation, is followed subconsciously by most individuals. \n",
    "\n",
    "Ancient civilizations found it necessary to develop basic mathematical skills : arithmetic for counting and tabulating, and geometry for measuring. Frequent repetition of the same or very similar mathematical routines led to familiarity with patterns and to some intuitive feeling for the processes involved. This resulted in elementary mathematical rules of thumb. Useful rules were passed on and sometimes improved. The ancient greeks over two and half thousand years ago, began to organise what was then known. In collecting these intuitive rules, they observed that some rules appeared as minor variations of others and others could be combined and expressed as special cases of a more general rule. This led to abstraction, which the dictionary tells us is *the formation of an idea, as of the qualities or properties of a thing* by mental separation from particular instances. The concept of *proof* arose in order to verify those abstract results, and at the same time it was observed that many abstract results were themselves consequences of more basic results. From this emerged the desire to find the basic rules or principles from which all others could be derived using proofs. This enormous task, which involved organizing in a logical order a large selection of facts, was undertaken by a number of authors in succession and culminated in the thirteen books of Euclid, The Elements of Euclid. Euclid showed that all geometry could be deduced from five basic geometric facts, called postulates, so simple and obvious that their validity must be assumed and on axioms which were regarded as higher forms of universal truth, or as primitive concepts, and which were proclaimed to be self-evident truths which did not require proof. This was the beginning of the abstract axiomatic approach approach to mathematics. It ranks as one of the most remarkable achievements in the history of mankind's intellectual development.\n",
    "\n",
    "The ancient greeks introduced many useful concepts, techniques and conventions that we still use today. A simple but effective innovation was their use, at times rather formal, of definitions. For example:\n",
    "\n",
    "---\n",
    "**Definition.** A positive integer $p$ is a prime number if (a) p > 1 (b) the only positive integer divisors of $p$ are $p$ and $1$.\n",
    "\n",
    "---\n",
    "\n",
    "This means a name or title is conferred on something if it satisfies certain specified conditions. It is common nowadays to call these conditions *axioms*. Conditions (a) and (b) above are the axioms for prime numbers and are the rules to refer to when in doubt. Definitions do not appear out of thin air but are usually the result of years of our accumulated intuitive thinking, experience and experiment by many different people and are introduced for various reasons, none trivial. In the simplest cases, it is economical to name an object that frequently occurs instead of constantly repeating a lengthy description. In other cases, certain combinations of conditions may assume importance as a theory develops, one may emphasize and enhance its role. In a small number of cases it has been found that a complete mathematical theory can be reconstructed from a number of key definitions. Note that in stating a definition we are not asserting that examples exist. "
   ]
  },
  {
   "cell_type": "markdown",
   "metadata": {},
   "source": [
    "The abstract axiomatic approach to a mathematical theory consists of starting with either a small number of definitions or postulates from which all results in the theory are derived. This approach generally leads to a more powerful and richer theory built on a more secure foundation. \n",
    "\n",
    "A strong argument in favor of the practical usefulness of the axiomatic approach can be found in the history of probability theory, which shows some parallels with the history of Euclidean geometry. By 1900, when probability theory already contained varied and interesting results and also a degree of fuzziness about the precise meaning of the terms, David Hilbert proposed in a list of problems which were to keep mathematicians occupied for the better part of a century, that a proper axiomatic foundation be provided for probability theory. In 1933, Kolmogorov published a set of axioms which were immediately and universally recognized as being eminently suitable, and these were directly responsible for the flowering of the subject over the next twenty years. \n",
    "\n",
    "The abstraction frequently apparent in a set of axioms can initially unsettle those who associate mathematics exclusively with numbers, equations and formulae. However, greater abstraction leads to wider variety of examples and a simplicity which helps us recognize more easily situations governed by the axioms. \n",
    "\n",
    "The first step towards understanding how a set of axioms works is to examine simple, usually very simple, situations in which they are satisfied and afterwards to derive simple consequences from the axioms. The proofs at this initial stage, are often surprisingly easy once one understands precisely what has to be proved. As understanding grows and examples analysed, the subject becomes more concrete and begins to reproduce the traditional signs of normal mathematical activity. When the foundations are understood, it becomes easier to recognize the similarities between apparently different settings and to modify one situation to deal with the other. \n",
    "\n",
    "Added bonuses are the realization that the amount of basic mathematics required is small and that understanding unconsciously ranks in order of importance what should be remembered and what trivial facts should be filtered out. Moreover, through understanding, techniques are mastered with less effort and often in a way that is not case specific. This sharpens our intuition. The axiomatic approach does contain a degree of uncertainty not experienced when the classical approach of learning by rote and reproducing mathematical responses in carefully controlled situations is followed, but this uncertainty gradually diminishes as progress is achieved. The cause of this uncertainty is easy to identify. Over time one becomes confident, that understanding has been acquired, but then a new example or result or failure to solve a problem or even to understand a solution may destroy this confidence and everything becomes confused. A re-examination is required, and with clarification a better understanding is achieved and confidence returns. This cycle of effort, understanding, confidence and confusion keeps repeating itself, but with each cycle progress is achieved. \n",
    "\n",
    "To initiate this new way of thinking usually requires a change of attitude towards mathematics and this takes time. To begin the process, consider the role of proofs in mathematics. Formally, they are required to verify that the results are correct, but they also play an important role in helping students concentrate on the result being proved and its relationship with other parts of the subject."
   ]
  }
 ],
 "metadata": {
  "kernelspec": {
   "display_name": "Julia 1.5.3",
   "language": "julia",
   "name": "julia-1.5"
  },
  "language_info": {
   "file_extension": ".jl",
   "mimetype": "application/julia",
   "name": "julia",
   "version": "1.5.3"
  }
 },
 "nbformat": 4,
 "nbformat_minor": 4
}
