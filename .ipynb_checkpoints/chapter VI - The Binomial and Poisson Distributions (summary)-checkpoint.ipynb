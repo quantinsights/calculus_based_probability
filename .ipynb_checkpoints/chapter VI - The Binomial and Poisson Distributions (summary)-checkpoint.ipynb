{
 "cells": [
  {
   "cell_type": "markdown",
   "metadata": {},
   "source": [
    "## Bernoulli Trials\n",
    "\n",
    "Repeated independent trials are called Bernoulli trials if there are only two possible outcomes for each trial and their probabilities remain the same throughout the trials. It is usual to denote the two probabilities by $p$ and $q$, and to refer to the outcome with probability $p$ as success, $S$, and to the other as failure, $F$. Clearly, $p$ and $q$ must be non-negative and \n",
    "\n",
    "\\begin{align*}\n",
    "p + q = 1\n",
    "\\end{align*}"
   ]
  },
  {
   "cell_type": "markdown",
   "metadata": {},
   "source": [
    "The sample space of each individual trial is formed by the two points $S$ and $F$. The sample space of $n$ Bernoulli trials contains $2^n$ points or successions of $n$ symbols $S$ and $F$, each point representing one possible outcome of the compound experiment. Since the trials are independent, the probabilities multiply. In other words, *the probability of any specified sequence is the product obtained on replacing the symbols $S$ and $F$ by $p$ and $q$* respectively.  Thus, $P\\{SSFSF \\ldots FFS\\} = ppqpq\\ldots qqp$."
   ]
  },
  {
   "cell_type": "markdown",
   "metadata": {},
   "source": [
    "## The Binomial Distribution\n",
    "\n",
    "Frequently, we are interested only in the total number of successes produced in a succession of $n$ Bernoulli trials but not in their order. The number of successes can be $0,1,2\\ldots,n$ and our first problem is to determine the corresponding probabilities. Now, the event $n$ trials result in $k$ successes and $n-k$ failures can happen in as many ways as $k$ letters $S$ can be distributed among $n$ places. In other words, our event contains ${n \\choose k}$ points, and, by definition, each point has the probability $p^k q^{n-k}$. This proves the\n",
    "\n",
    "---\n",
    "**Theorem.** Let $b(k;n,p)$ be the probability that $n$ Bernoulli trails with probabilities $p$ for success and $q = 1-p$ for failure result in $k$ successes and $n-k$ failures. Then,\n",
    "\n",
    "\\begin{equation*}\n",
    "b(k;n,p) = {n \\choose k} p^k q^{n - k} \\tag{1}\n",
    "\\end{equation*}\n",
    "\n",
    "---\n",
    "\n",
    "In particular, the probability of no success is $q^n$ and the probability of atleast one success is $1-q^n$."
   ]
  },
  {
   "cell_type": "markdown",
   "metadata": {},
   "source": [
    "We shall treat $p$ as a constant and denote the number of successes in $n$ trilas by $S_n$; then $b(k;n,p) = P\\{S_n = k\\}$. In the general terminology, $S_n$ is a random variable, and the function $b(l;n,p)$ is the PMF of this random variable; we shall refer to it as the binomial PMF. The attribute binomial refers to the fact that equation (1) represents the $k$th term of the binomial expansion of $(q+p)^n$. This remark also shows that \n",
    "\n",
    "\\begin{align*}\n",
    "b(0;n,p) + b(1;n,p) + \\ldots + b(n;n,p) = (q+p)^n = 1\n",
    "\\end{align*}\n",
    "\n",
    "as is required by the notion of probability."
   ]
  },
  {
   "cell_type": "markdown",
   "metadata": {},
   "source": [
    "## The Central Term and the tails\n",
    "\n",
    "From equation (1), we see that\n",
    "\n",
    "\\begin{align*}\n",
    "\\frac{b(k;n,p)}{b(k-1;n,p)} &= \\frac{{n \\choose k}p^k q^{n-k}}{{n \\choose {k-1}}p^{k-1} q^{n-k+1}} = \\frac{\\frac{n!}{k!(n-k)!}\\cdot p}{\\frac{n!}{(k-1)!(n-k+1)!}\\cdot q}\\\\\n",
    "&= \\frac{p}{q} \\left(\\frac{n - k + 1}{k}\\right) = \\frac{(n+1)p - pk + qk - qk}{qk}\\\\\n",
    "&= 1 + \\frac{(n+1)p - k}{qk}\n",
    "\\end{align*}"
   ]
  },
  {
   "cell_type": "markdown",
   "metadata": {},
   "source": [
    "Accordingly, the term $b(k;n,p)$ is greater than the preceding one for $(n+1)p > k$, that is $k < (n+1)p$ and is small for $k > (n+1)p$. If $(n+1)p = m$ happens to be an integer, then $b(m;n,p) = b(m-1;n,p)$. Thus, there exists exactly one integer $m$ such that,\n",
    "\n",
    "\\begin{equation*}\n",
    "(n+1)p - 1 < m \\le (n+1)p \\tag{2}\n",
    "\\end{equation*}"
   ]
  },
  {
   "cell_type": "markdown",
   "metadata": {},
   "source": [
    "---\n",
    "**Theorem.** As $k$ goes from $0$ to $n$, the terms $b(k;n,p)$ first inrease monotonically, then decrease monotonically, reaching their greatest value when $k = m$, except that $b(m-1;n,p) = b(m;n,p)$ when $m = (n+1)p$. \n",
    "\n",
    "---\n",
    "\n",
    "We shall call $b(m;n,p)$ the *central* term. Often $m$ is called the most probable number of successes, but it must be understood that for large values of $n$, all terms $b(k;n,p)$ are small. In 100 tossings of a true coin, the most probable number of heads is 50, but its probability is less than $0.09$. In the next chapter we shall find that $b(m;n,p)$ is approximately $1/\\sqrt{2\\pi npq}$.\n",
    "\n",
    "Consider the sequence $(a_k)$ whose terms are ratio of the binomial coefficients $\\frac{b(k;n,p)}{b(k-1;n,p)}$, we saw above. We have, $a_k = \\frac{(n+1)p}{kq}-\\frac{p}{q}$. Clearly therefore, as $k$ increases, the ratio $a_k$ decreases monotonically. "
   ]
  },
  {
   "cell_type": "markdown",
   "metadata": {},
   "source": [
    "If $k \\geq (r+1)$, then, $(n+1-k)p \\leq (n+1-(r+1))p = (n-r)p$. And $qk \\geq q(r+1)$. So, $\\frac{1}{qk} \\leq \\frac{1}{(r+1)q}$. So, we have an upper bound on $\\frac{b(k;n,p)}{b(k-1;n,p)}$.\n",
    "\n",
    "When $k \\geq (r+1)$,\n",
    "\n",
    "\\begin{equation*}\n",
    "\\frac{b(k;n,p)}{b(k-1;n,p)} \\leq \\frac{(n-r)p}{(r+1)q} \\tag{3}\n",
    "\\end{equation*}"
   ]
  },
  {
   "cell_type": "markdown",
   "metadata": {},
   "source": [
    "Set herein $k=r+1,\\ldots,r+\\nu$ and multiply the $\\nu$ inequalities to obtain\n",
    "\n",
    "\\begin{align*}\n",
    "\\frac{b(r+\\nu;n,p)}{b(r+\\nu-1;n,p)} \\cdot \\frac{b(r+\\nu-1;n,p)}{b(r+\\nu-2;n,p)} \\cdots \\frac{b(r+1;n,p)}{b(r;n,p)} \\le \\left\\{\\frac{(n-r)p}{(r+1)q}\\right\\}^{\\nu}\n",
    "\\end{align*}\n",
    "\n",
    "Consequently,\n",
    "\n",
    "\\begin{equation*}\n",
    "\\frac{b(r+\\nu;n,p)}{b(r;n,p)} \\leq \\left\\{\\frac{(n-r)p}{(r+1)q}\\right\\}^{\\nu} \\tag{4}\n",
    "\\end{equation*}"
   ]
  },
  {
   "cell_type": "markdown",
   "metadata": {},
   "source": [
    "For $r \\geq np$, let's find an upper bound for the fraction $\\frac{(n-r)p}{(r+1)q}$."
   ]
  },
  {
   "cell_type": "markdown",
   "metadata": {},
   "source": [
    "Clearly, if $r \\geq np$, $(n-r)p \\leq (n-np)p = npq$. So,\n",
    "\n",
    "\\begin{align*}\n",
    "\\frac{(n-r)p}{(r+1)q} \\leq \\frac{npq}{(r+1)q} = \\frac{np}{r+1}\n",
    "\\end{align*}"
   ]
  },
  {
   "cell_type": "markdown",
   "metadata": {},
   "source": [
    "Moreover, "
   ]
  }
 ],
 "metadata": {
  "kernelspec": {
   "display_name": "Julia 1.5.3",
   "language": "julia",
   "name": "julia-1.5"
  },
  "language_info": {
   "file_extension": ".jl",
   "mimetype": "application/julia",
   "name": "julia",
   "version": "1.5.3"
  }
 },
 "nbformat": 4,
 "nbformat_minor": 4
}
