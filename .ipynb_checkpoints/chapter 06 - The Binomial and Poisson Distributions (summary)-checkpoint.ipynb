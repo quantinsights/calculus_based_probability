{
 "cells": [
  {
   "cell_type": "markdown",
   "metadata": {},
   "source": [
    "## Bernoulli Trials\n",
    "\n",
    "Repeated independent trials are called Bernoulli trials if there are only two possible outcomes for each trial and their probabilities remain the same throughout the trials. It is usual to denote the two probabilities by $p$ and $q$, and to refer to the outcome with probability $p$ as success, $S$, and to the other as failure, $F$. Clearly, $p$ and $q$ must be non-negative and \n",
    "\n",
    "\\begin{align*}\n",
    "p + q = 1\n",
    "\\end{align*}"
   ]
  },
  {
   "cell_type": "markdown",
   "metadata": {},
   "source": [
    "The sample space of each individual trial is formed by the two points $S$ and $F$. The sample space of $n$ Bernoulli trials contains $2^n$ points or successions of $n$ symbols $S$ and $F$, each point representing one possible outcome of the compound experiment. Since the trials are independent, the probabilities multiply. In other words, *the probability of any specified sequence is the product obtained on replacing the symbols $S$ and $F$ by $p$ and $q$* respectively.  Thus, $P\\{SSFSF \\ldots FFS\\} = ppqpq\\ldots qqp$."
   ]
  },
  {
   "cell_type": "markdown",
   "metadata": {},
   "source": [
    "## The Binomial Distribution\n",
    "\n",
    "Frequently, we are interested only in the total number of successes produced in a succession of $n$ Bernoulli trials but not in their order. The number of successes can be $0,1,2\\ldots,n$ and our first problem is to determine the corresponding probabilities. Now, the event $n$ trials result in $k$ successes and $n-k$ failures can happen in as many ways as $k$ letters $S$ can be distributed among $n$ places. In other words, our event contains ${n \\choose k}$ points, and, by definition, each point has the probability $p^k q^{n-k}$. This proves the\n",
    "\n",
    "---\n",
    "**Theorem.** Let $b(k;n,p)$ be the probability that $n$ Bernoulli trails with probabilities $p$ for success and $q = 1-p$ for failure result in $k$ successes and $n-k$ failures. Then,\n",
    "\n",
    "\\begin{equation*}\n",
    "b(k;n,p) = {n \\choose k} p^k q^{n - k} \\tag{1}\n",
    "\\end{equation*}\n",
    "\n",
    "---\n",
    "\n",
    "In particular, the probability of no success is $q^n$ and the probability of atleast one success is $1-q^n$."
   ]
  },
  {
   "cell_type": "markdown",
   "metadata": {},
   "source": [
    "We shall treat $p$ as a constant and denote the number of successes in $n$ trilas by $S_n$; then $b(k;n,p) = P\\{S_n = k\\}$. In the general terminology, $S_n$ is a random variable, and the function $b(l;n,p)$ is the PMF of this random variable; we shall refer to it as the binomial PMF. The attribute binomial refers to the fact that equation (1) represents the $k$th term of the binomial expansion of $(q+p)^n$. This remark also shows that \n",
    "\n",
    "\\begin{align*}\n",
    "b(0;n,p) + b(1;n,p) + \\ldots + b(n;n,p) = (q+p)^n = 1\n",
    "\\end{align*}\n",
    "\n",
    "as is required by the notion of probability."
   ]
  },
  {
   "cell_type": "markdown",
   "metadata": {},
   "source": [
    "## The Central Term and the tails\n",
    "\n",
    "From equation (1), we see that\n",
    "\n",
    "\\begin{align*}\n",
    "\\frac{b(k;n,p)}{b(k-1;n,p)} &= \\frac{{n \\choose k}p^k q^{n-k}}{{n \\choose {k-1}}p^{k-1} q^{n-k+1}} = \\frac{\\frac{n!}{k!(n-k)!}\\cdot p}{\\frac{n!}{(k-1)!(n-k+1)!}\\cdot q}\\\\\n",
    "&= \\frac{p}{q} \\left(\\frac{n - k + 1}{k}\\right) = \\frac{(n+1)p - pk + qk - qk}{qk}\\\\\n",
    "&= 1 + \\frac{(n+1)p - k}{qk}\n",
    "\\end{align*}"
   ]
  },
  {
   "cell_type": "markdown",
   "metadata": {},
   "source": [
    "Accordingly, the term $b(k;n,p)$ is greater than the preceding one for $(n+1)p > k$, that is $k < (n+1)p$ and is small for $k > (n+1)p$. If $(n+1)p = m$ happens to be an integer, then $b(m;n,p) = b(m-1;n,p)$. Thus, there exists exactly one integer $m$ such that,\n",
    "\n",
    "\\begin{equation*}\n",
    "(n+1)p - 1 < m \\le (n+1)p \\tag{2}\n",
    "\\end{equation*}"
   ]
  },
  {
   "cell_type": "markdown",
   "metadata": {},
   "source": [
    "---\n",
    "**Theorem.** As $k$ goes from $0$ to $n$, the terms $b(k;n,p)$ first inrease monotonically, then decrease monotonically, reaching their greatest value when $k = m$, except that $b(m-1;n,p) = b(m;n,p)$ when $m = (n+1)p$. \n",
    "\n",
    "---\n",
    "\n",
    "We shall call $b(m;n,p)$ the *central* term. Often $m$ is called the most probable number of successes, but it must be understood that for large values of $n$, all terms $b(k;n,p)$ are small. In 100 tossings of a true coin, the most probable number of heads is 50, but its probability is less than $0.09$. In the next chapter we shall find that $b(m;n,p)$ is approximately $1/\\sqrt{2\\pi npq}$.\n",
    "\n",
    "Consider the sequence $(a_k)$ whose terms are ratio of the binomial coefficients $\\frac{b(k;n,p)}{b(k-1;n,p)}$, we saw above. We have, $a_k = \\frac{(n+1)p}{kq}-\\frac{p}{q}$. Clearly therefore, as $k$ increases, the ratio $a_k$ decreases monotonically. "
   ]
  },
  {
   "cell_type": "markdown",
   "metadata": {},
   "source": [
    "If $k \\geq (r+1)$, then, $(n+1-k)p \\leq (n+1-(r+1))p = (n-r)p$. And $qk \\geq q(r+1)$. So, $\\frac{1}{qk} \\leq \\frac{1}{(r+1)q}$. So, we have an upper bound on $\\frac{b(k;n,p)}{b(k-1;n,p)}$.\n",
    "\n",
    "When $k \\geq (r+1)$,\n",
    "\n",
    "\\begin{equation*}\n",
    "\\frac{b(k;n,p)}{b(k-1;n,p)} \\leq \\frac{(n-r)p}{(r+1)q} \\tag{3}\n",
    "\\end{equation*}"
   ]
  },
  {
   "cell_type": "markdown",
   "metadata": {},
   "source": [
    "Set herein $k=r+1,\\ldots,r+\\nu$ and multiply the $\\nu$ inequalities to obtain\n",
    "\n",
    "\\begin{align*}\n",
    "\\frac{b(r+\\nu;n,p)}{b(r+\\nu-1;n,p)} \\cdot \\frac{b(r+\\nu-1;n,p)}{b(r+\\nu-2;n,p)} \\cdots \\frac{b(r+1;n,p)}{b(r;n,p)} \\le \\left\\{\\frac{(n-r)p}{(r+1)q}\\right\\}^{\\nu}\n",
    "\\end{align*}\n",
    "\n",
    "Consequently,\n",
    "\n",
    "\\begin{equation*}\n",
    "\\frac{b(r+\\nu;n,p)}{b(r;n,p)} \\leq \\left\\{\\frac{(n-r)p}{(r+1)q}\\right\\}^{\\nu} \\tag{4}\n",
    "\\end{equation*}"
   ]
  },
  {
   "cell_type": "markdown",
   "metadata": {},
   "source": [
    "For $r \\geq np$, let's find an upper bound for the fraction $\\frac{(n-r)p}{(r+1)q}$."
   ]
  },
  {
   "cell_type": "markdown",
   "metadata": {},
   "source": [
    "Clearly, if $r \\geq np$, $(n-r)p \\leq (n-np)p = npq$. So,\n",
    "\n",
    "\\begin{align*}\n",
    "\\frac{(n-r)p}{(r+1)q} \\leq \\frac{npq}{(r+1)q} = \\frac{np}{r+1}\n",
    "\\end{align*}"
   ]
  },
  {
   "cell_type": "markdown",
   "metadata": {},
   "source": [
    "Moreover, we want a lower bound on the denominator. $(r+1) \\geq (np + 1)$. So, \n",
    "\n",
    "\\begin{align*}\n",
    "\\frac{(n-r)p}{(r+1)q} \\leq \\frac{np}{np+1} = 1 - \\frac{1}{np + 1}\n",
    "\\end{align*}"
   ]
  },
  {
   "cell_type": "markdown",
   "metadata": {},
   "source": [
    "So, for $r \\geq np$, the fraction $\\frac{(n-r)p}{(r+1)q}$ is strictly less than unity, and the summation over $\\nu$ leads to a finite geometric series with the ratio $\\frac{(n-r)p}{(r+1)q}$. "
   ]
  },
  {
   "cell_type": "markdown",
   "metadata": {},
   "source": [
    "\\begin{align*}\n",
    "\\sum_{\\nu = 0}^{(n-r)} \\left(\\frac{(n-r)p}{(r+1)q}\\right)^{\\nu} &\\leq \\sum_{\\nu = 0}^{\\infty} \\left(\\frac{(n-r)p}{(r+1)q}\\right)^{\\nu} = \\frac{1}{1-\\frac{(n-r)p}{(r+1)q}} \\\\\n",
    "&= \\frac{(r+1)q}{(r+1)q-(n-r)p}  \\\\\n",
    "&= \\frac{(r+1)q}{(r+1)q-((n+1)-(r+1))p} = \\frac{(r+1)q}{(r+1)q-(n+1)p+(r+1)p}\\\\\n",
    "&= \\frac{(r+1)q}{(r+1)-(n+1)p}\n",
    "\\end{align*}"
   ]
  },
  {
   "cell_type": "markdown",
   "metadata": {},
   "source": [
    "We conclude that for $r \\geq np$,\n",
    "\n",
    "\\begin{align*}\n",
    "\\sum_{\\nu=0}^{(n-r)} \\frac{b(r+\\nu;n,p)}{b(r;n,p)} \\leq \\frac{(r+1)q}{(r+1)-(n+1)p}\n",
    "\\end{align*}"
   ]
  },
  {
   "cell_type": "markdown",
   "metadata": {},
   "source": [
    "Thus,\n",
    "\n",
    "\\begin{equation*}\n",
    "\\sum_{\\nu=0}^{(n-r)}b(r+\\nu;n,p) \\leq b(r;n,p)\\cdot\\frac{(r+1)q}{(r+1)-(n+1)p} \\tag{5}\n",
    "\\end{equation*}"
   ]
  },
  {
   "cell_type": "markdown",
   "metadata": {},
   "source": [
    "On the left, we have the **right tail** of the binomial distribution, namely the probability of atleast $r$ successes. The same calculation applied to the left tail shows that for $s \\leq np$\n",
    "\n",
    "\\begin{equation*}\n",
    "\\sum_{\\rho=0}^{s}b(\\rho;n,p) \\leq b(s;n,p)\\cdot\\frac{(n-s+1)p}{(n+1)p - s} \\tag{6}\n",
    "\\end{equation*}"
   ]
  },
  {
   "cell_type": "markdown",
   "metadata": {},
   "source": [
    "---\n",
    "**Theorem.** If $r \\geq np$, the probability of atleast $r$ successes satisfies the inequality (5); if $s \\leq np$, the probability of at most $s$ successes satisfies inequality (6).\n",
    "\n",
    "---"
   ]
  },
  {
   "cell_type": "markdown",
   "metadata": {},
   "source": [
    "## The Law Of Large Numbers\n",
    "\n",
    "On several occasions, we have mentioned that our intuitive notion of probability is based on the following assumption. If in $n$ identical trails, $A$ occurs $\\nu$ times, and if $n$ is very large, then $\\nu/n$ should be near the probability of $A$. Clearly, a formal mathematical theory can never refer directly to real life, but it should atleast provie theoretical counterparts to the phenomena, which it tries to explain. Accordingly, we require that the vague introductory remark be made precise in the form a theorem. For this purpose we translate *identical trials* as *Bernoulli trials* with probability $p$ for success. If $S_n$ is the number of successes in $n$ trials, then $S_n/n$ is the average number of successes and should be near $p$. It is now easy to give a precise meaning to this. Pick an arbitrary $\\epsilon > 0$. Consider for example, the probability that $\\frac{S_n}{n} - p$ exceeds $\\epsilon$. "
   ]
  },
  {
   "cell_type": "markdown",
   "metadata": {},
   "source": [
    "This probability is the same as $P\\{S_n > n(p + \\epsilon)\\}$ and equals the left side of the inequality (5), when $r \\geq n(p + \\epsilon)$. Then, we can find an upper bound for the fraction $\\frac{(r+1)q}{(r+1)-(n+1)p}$. Since $r \\leq n$, we have:\n",
    "\n",
    "\\begin{align*}\n",
    "\\frac{(r+1)q}{(r+1)-(n+1)p} &\\leq \\frac{(n+1)q}{(n(p+\\epsilon)+1)-(n+1)p}\\\\\n",
    "&=\\frac{(n+1)q}{np + n\\epsilon + 1 - np - p} \\\\\n",
    "&=\\frac{(n+1)q}{n\\epsilon + q}\n",
    "\\end{align*}"
   ]
  },
  {
   "cell_type": "markdown",
   "metadata": {},
   "source": [
    "So, we proved that the $n$th term of the sequence $(p_n)$ has an upper bound:\n",
    "\n",
    "\\begin{align*}\n",
    "P\\{S_n > n(p + \\epsilon)\\} \\leq b(r;n,p) \\cdot \\frac{(n+1)q}{n\\epsilon + q}\n",
    "\\end{align*}\n",
    "\n",
    "Since probabilities are non-negative,\n",
    "\n",
    "\\begin{align*}\n",
    "0 \\leq P\\{S_n > n(p + \\epsilon)\\} \\leq b(r;n,p) \\cdot \\frac{(n+1)q}{n\\epsilon + q}\n",
    "\\end{align*}"
   ]
  },
  {
   "cell_type": "markdown",
   "metadata": {},
   "source": [
    "Passing to the limit, as $n \\to \\infty$, we have:\n",
    "\n",
    "\\begin{align*}\n",
    "\\lim 0 \\leq \\lim P\\{S_n > n(p + \\epsilon)\\} \\leq \\lim \\left[ b(r;n,p) \\cdot \\frac{(n+1)q}{n\\epsilon + q}\\right]\n",
    "\\end{align*}"
   ]
  },
  {
   "cell_type": "markdown",
   "metadata": {},
   "source": [
    "Now,\n",
    "\n",
    "\\begin{align*}\n",
    "\\lim \\left[b(r;n,p) \\cdot \\frac{(n+1)q}{n\\epsilon + q}\\right] &= \\lim b(r;n,p) \\cdot \\lim \\frac{\\left(1+\\frac{1}{n}\\right)q}{\\epsilon + \\frac{q}{n}}\\\\\n",
    "&= \\lim b(r;n,p) \\cdot \\frac{q}{\\epsilon}\n",
    "\\end{align*}"
   ]
  },
  {
   "cell_type": "markdown",
   "metadata": {},
   "source": [
    "It's easy to see, that as $n \\to \\infty$, $b(r;n,p) \\to 0$. Note that, as $n \\to \\infty$, $r \\to \\infty$, because $r \\geq n(p + \\epsilon)$."
   ]
  },
  {
   "cell_type": "markdown",
   "metadata": {},
   "source": [
    "\\begin{align*}\n",
    "\\lim b(r;n,p) &= \\lim \\frac{n!}{(n-r)!r!} \\cdot \\lim p^r q^{n-r}\\\\\n",
    "&\\leq \\lim \\frac{n!}{n!0!} \\cdot \\lim p^n q^n \\quad \\{ r \\ge 0 \\text{ and } r \\leq n \\} \\\\\n",
    "&= \\lim p^n q^n \\{ \\text{ since } (q^n) \\to 0, \\text{ if } |q|<1 \\}\\\\\n",
    "&= 0\n",
    "\\end{align*}"
   ]
  },
  {
   "cell_type": "markdown",
   "metadata": {},
   "source": [
    "By the Squeeze theorem, \n",
    "\n",
    "\\begin{align*}\n",
    "\\lim P\\{S_n > n(p + \\epsilon)\\} = 0\n",
    "\\end{align*}"
   ]
  },
  {
   "cell_type": "markdown",
   "metadata": {},
   "source": [
    "Using the inequality (6), we see in the same way that $P\\{S_n < n(p - \\epsilon)\\} \\to 0$, and we have thus \n",
    "\n",
    "\\begin{align*}\n",
    "P\\left\\{\\left\\lvert\\frac{S_n}{n} - p\\right\\rvert < \\epsilon\\right\\} \\to 1 \\tag{8}\n",
    "\\end{align*}"
   ]
  },
  {
   "cell_type": "markdown",
   "metadata": {},
   "source": [
    "*In words: As $n$ increases, the probability that the average number of successes deviates from $p$ by more than any preassigned $\\epsilon$ tends to zero.* This is one form of the law of large numbers and serves as a basis for the intuitive notion of probability as a measure of relative frequencies. For practical applications it must be supplemented by a more precise estimate of the probability on the left side in (8); such an estimate is provided by the normal approximation to the binomial distribution. \n",
    "\n",
    "The assertion (8) is the classical law of large numbers. It is of very limited interest and should be replaced by the more previse and more useful strong law of large numbers.\n",
    "\n",
    "*Warning.* It is usual to read into the law of large numbers things which it definitely does not imply. If Peter and Paul toss a perfect coin 10,000 times, it is customary to expect that Peter will lead roughly half the time. **This is not true.** The arc sine law states that such an equalization is least probable. The probability that Peter leads in less than $20$ trials is very much larger than the probability that the number of trials in which he leads lies between 4990 and 5010. There does not exist any tendency for the periods of lead to equalize. The law of large numbers asserts only that in a a large number of different coin tossing games, the frequency of those in which heads lead is, at any given moment, close to $\\frac{1}{2}$. Nothing is said about the fluctuations of the lead within a fixed game."
   ]
  },
  {
   "cell_type": "markdown",
   "metadata": {},
   "source": [
    "## The Poisson Approximation\n",
    "\n",
    "In many applications, we deal with Bernoulli trials where, comparatively speaking $n$ is large and $p$ is small, whereas the product \n",
    "\n",
    "\\begin{align*}\n",
    "\\lambda = np \\tag{9}\n",
    "\\end{align*}\n",
    "\n",
    "is of modertate magnitude. In such cases, it is convenient to use an approximation formula to $b(k;n,p)$ which is due to Poisson and which we proceed to derive. We have $b(0;n,p) = (1 - p)^n$ or substituting from (9),\n",
    "\n",
    "\\begin{equation*}\n",
    "b(0;n,p) = \\left(1 - \\frac{\\lambda}{n}\\right)^n \\tag{10}\n",
    "\\end{equation*}\n",
    "\n",
    "Taking the logarithm on both sides:\n",
    "\n",
    "\\begin{equation*}\n",
    "\\log b(0;n,p) = n \\log\\left(1 - \\frac{\\lambda}{n}\\right)\n",
    "\\end{equation*}"
   ]
  },
  {
   "cell_type": "markdown",
   "metadata": {},
   "source": [
    "The Taylor's series for $\\log (1 + x)$ at $x = 0$ is given by:\n",
    "\n",
    "\\begin{align*}\n",
    "\\log (1 + x) &= f(0) + xf'(0) + \\frac{x^2}{2!}f''(0) + \\frac{x^3}{3!}f'''(0) + \\ldots\\\\\n",
    "&= x + \\frac{x^2}{2!}\\cdot (-1) + \\frac{x^3}{3!} \\cdot 2 + \\frac{x^4}{4!}\\cdot (-3 \\cdot 2 \\cdot 1) \\\\\n",
    "&= x - \\frac{x^2}{2} + \\frac{x^3}{3} - \\frac{x^4}{4} + \\ldots\n",
    "\\end{align*}"
   ]
  },
  {
   "cell_type": "markdown",
   "metadata": {},
   "source": [
    "So, \n",
    "\n",
    "\\begin{align*}\n",
    "\\log b(0;n,p) &= n \\log\\left(1- \\frac{\\lambda}{n}\\right) = n\\left(-\\frac{\\lambda}{n}-\\frac{\\lambda^2}{2n^2}-\\ldots\\right)\\\\\n",
    "&= -\\lambda - \\frac{\\lambda^2}{2n} - \\frac{\\lambda^3}{3n^2} - \\ldots \\tag{11}\n",
    "\\end{align*}"
   ]
  },
  {
   "cell_type": "markdown",
   "metadata": {},
   "source": [
    "As $n \\to \\infty$, $\\lim \\log b(0;n,p) = - \\lambda$, so that for large $n$,\n",
    "\n",
    "\\begin{align*}\n",
    "b(0;n,p) \\approx e^{-\\lambda} \\tag{12}\n",
    "\\end{align*}"
   ]
  },
  {
   "cell_type": "markdown",
   "metadata": {},
   "source": [
    "where the sign $\\approx$ is used to indicate approximate equality. Furthermore, from the expression for $b(k;n,p)/b(k-1;n,p)$, it is seen that for any fixed $k$ and sufficiently large $n$ we have, "
   ]
  },
  {
   "cell_type": "markdown",
   "metadata": {},
   "source": [
    "\\begin{align*}\n",
    "\\frac{b(k;n,p)}{b(k-1;n,p)} &= \\frac{(n-k+1)p}{kq}\\\\\n",
    "&=\\frac{np-(k-1)p}{kq}\\\\\n",
    "&= \\frac{\\lambda - (k-1)p}{kq}\n",
    "\\end{align*}\n",
    "\n",
    "For very small values of $p$, we can write $p \\approx 0$ and $q \\approx 1$. Thus,\n",
    "\n",
    "\\begin{align*}\n",
    "\\frac{b(k;n,p)}{b(k-1;n,p)} \\approx \\frac{\\lambda}{k} \\tag{13}\n",
    "\\end{align*}"
   ]
  },
  {
   "cell_type": "markdown",
   "metadata": {},
   "source": [
    "For $k=1$, we get from this and (12), $b(1;n,p)\\approx \\lambda e^{-\\lambda}$. For $k=2$, we get $b(2;n,p) \\approx \\frac{\\lambda^2}{2}e^{-\\lambda}$. Generally, we see by induction that,\n",
    "\n",
    "\\begin{equation*}\n",
    "b(k;n,p) \\approx \\frac{\\lambda^k}{k!} e^{-\\lambda} \\tag{14}\n",
    "\\end{equation*}"
   ]
  },
  {
   "cell_type": "markdown",
   "metadata": {},
   "source": [
    "This is the famous *Poisson approximation to the binomial distribution*. (See problems 30-34 for an estimate of the error and a proof that the approximation in (14) is uniform when $n \\to \\infty$ and $p \\to 0$ in such a way that $\\lambda = np$ remains bounded.) It is convenient to have a symbol for the right-hand member in (14) and we shall put\n",
    "\n",
    "\\begin{align*}\n",
    "p(k;\\lambda) = \\frac{\\lambda^k}{k!}e^{-\\lambda} \\tag{15}\n",
    "\\end{align*}\n",
    "\n",
    "With this notation $p(k;\\lambda)$ should be an approximation to $b(k;n,\\lambda/n)$ when $n$ is sufficiently large."
   ]
  },
  {
   "cell_type": "code",
   "execution_count": 7,
   "metadata": {},
   "outputs": [
    {
     "data": {
      "text/plain": [
       "p (generic function with 1 method)"
      ]
     },
     "execution_count": 7,
     "metadata": {},
     "output_type": "execute_result"
    }
   ],
   "source": [
    "function p(k,λ)\n",
    "    ((λ^k)/factorial(k)) * ℯ^(-λ)\n",
    "end"
   ]
  },
  {
   "cell_type": "markdown",
   "metadata": {},
   "source": [
    "*Birthdays*. What is the probability, $p_k$, that in a company of $500$ people exactly $k$ will have birthdays on New Year's day? \n",
    "\n",
    "If the $500$ people are cosen at random, we may apply the scheme of 500 Bernoulli trials with the probability of success $p = \\frac{1}{365}$. Then, $p_0 = \\left(\\frac{364}{365}\\right)^{500} \\approx 0.2537$. For the Poisson approximation, we put $\\lambda = \\frac{500}{365}$. Then, "
   ]
  },
  {
   "cell_type": "code",
   "execution_count": 11,
   "metadata": {},
   "outputs": [
    {
     "name": "stdout",
     "output_type": "stream",
     "text": [
      "p(0,1.369863) = 0.254142\n",
      "p(1,1.369863) = 0.348139\n",
      "p(2,1.369863) = 0.238452\n",
      "p(3,1.369863) = 0.108882\n",
      "p(4,1.369863) = 0.037288\n",
      "p(5,1.369863) = 0.010216\n",
      "p(6,1.369863) = 0.002332\n"
     ]
    }
   ],
   "source": [
    "using Printf\n",
    "\n",
    "λ = 500/365\n",
    "\n",
    "for k = 0:6\n",
    "    @printf(\"p(%d,%f) = %f\\n\",k,λ,p(k,λ))\n",
    "end"
   ]
  },
  {
   "cell_type": "markdown",
   "metadata": {},
   "source": [
    "*Centenarians.* At birth any particular person has a small chance of living 100 years, and in a large community the number of yearly births are large. Owing to wars, epidemics etc. different lives are not stochastically independent, but as a first approximation we may compare $n$ births to $n$ Bernoulli trials with death after $100$ years as success. In a stable community, where neither size nor mortality rate appreciably, it is reasonable to expect that the frequency of years in which exactly $k$ centenarians die is approximately $p(k;\\lambda)$, with $\\lambda$ depending on the size and health of the community.\n",
    "\n",
    "Intuitively, there will be years in which exactly $1$ centenarian dies, there will be years in which $2$ centenarians die and there will be years in which exactly $k$ centenarians die. $p(k,\\lambda)$ is on an average the count(number) of 365-day years in which $k$ centenarians die."
   ]
  },
  {
   "cell_type": "markdown",
   "metadata": {},
   "source": [
    "*Misprints, Raisins*. If in printing a book there is a constant probability of any letter's being misprinted, and if the conditions of printing remain unchanged, then we have as many Bernoulli trials as there are letters. The frequency of the pages containing exactly $k$ misprints will then be approximately $p(k;\\lambda)$ where $\\lambda$ is the characteristic of the printer. Thus, the Poisson formula may be used to discover radical departures from uniformity or from the state of statistical control. A similar agrument applies in many cases. For example, if many raisins are distributed in the dough, we should expect that thorough mixing will result in the frequency of loaves with exactly $k$ raisin to be approximately $p(k;\\lambda)$ with $\\lambda$ a measure of the density of raisins in the dough. "
   ]
  },
  {
   "cell_type": "markdown",
   "metadata": {},
   "source": [
    "## The Poisson Distribution\n",
    "\n",
    "In the preceding section, we have used the Poisson expression merely as a convenient approximation to the binomial distribution in the case of large $n$ and small $p$. In connection with the matching and occupany problems of chapter IV, we have studied different probability distributions, which have also led to the Poisson expressions $p(k;\\lambda)$ as a limiting form. We have here a special case of the remarkable fact that there exist a few distributions of great universaility that occur in a surprisingly large variety of problems. The three principal distributions, with ramifications throughout probability theory are the binomial distribution, the normal distribution (to be introduced in the following chapter), and the Poisson distribution\n",
    "\n",
    "\\begin{align*}\n",
    "p(k;\\lambda) = \\frac{\\lambda^k}{k!}e^{-\\lambda} \\tag{16}\n",
    "\\end{align*}\n",
    "\n",
    "which we shall now consider on its own merits. "
   ]
  },
  {
   "cell_type": "markdown",
   "metadata": {},
   "source": [
    "We note first that on adding the equations (16) for $k = 0,1,2,\\ldots$ we get on the right side $e^{-\\lambda}$ times the Taylor's series for $e^\\lambda$. Hence, for any fixed $\\lambda$, the quantities $p(k;\\lambda)$ add to unity, and therefore it is possible to conceive of an ideal experiment in which $p(k;\\lambda)$ is the probability of exactly $k$ successes. We shall now indicate by many physical experiments and statistical observations actually lead to such an interpretation of (16). The examples of the next section will illustrate the wide range and the importance of the various applications of (16). The true nature of the Poisson distribution will become apparent only in connection with the theory of stochastic processes. \n",
    "\n",
    "Consider a sequence of random events occurring in time, such as, radioactive disintegrations or incoming calls at a telephone exchange. Each event is represented by a point on the time axis, and we are concerned with chance distributions of points. There exists many different types of such distributions, but their study belongs to the domain of continuous probabilities which we have postponed to the second volume. Here, we shall be content to show that the simplest physical assumptions lead to $p(k;\\lambda)$ as the probability of finding exactly $k$ points (events) within a fixed interval of specified length. Our methods are necessarily crude, and we shall return to the same problem with more adequate methods in chapter XVII.\n",
    "\n",
    "The physical assumptions which we want to express mathematically are that the conditions of the experiment remain constant in time, and that non-overlapping time intervals are stochastically independent in the sense that information concerning the number of events in one interval reveals nothing about the other. The theory of probabilities in a continuum makes it possible to express these statements directly, but being restricted to discrete probabilities, we have to use an approximate finite model and pass to the limit. \n",
    "\n",
    "Imagine that the unit time interval divided into a great number $n$ of intervals, each of length $1/n$. Either a particular subinterval is empty or it contains atleast one of our random points(or events) and we agree to call the two possibilities failure and success, respectively. The probability $p_n$ of success must be the same for all $n$ subintervals, since they have the same length. \n",
    "\n",
    "Think of the intervals as bins and the events such as an emission of an $\\alpha$-particle by a radioactive element as a ball. Then, a ball is equally likely to be placed in any of the $n$ bins, as they are intervals of equal length. \n",
    "\n",
    "The assumed independence of non-overlapping intervals then implies that we have $n$ Bernoulli trials and the probability of exactly $k$ successes is given by $b(k;n,p)$. Now the number of successes is not necessarily the same as the number of random points, since a subinterval may contain several random points. Because, when a bin is assigned its first ball, that counts as a success, any subsequent placement of balls into this bin are technically failures. \n",
    "\n",
    "However, it is natural to introduce the additional assumption that the probability of two or more random points($\\alpha$-particls being emitted) during a very short teeny-weeny time interval is negligible. So, if you divvy up the unit time interval in a very large number $n$ of subintervals, it is unlikely two have two or more random points in the same sub-interval. \n",
    "\n",
    "In this limiting case, the probability of finding exactly $k$ random points in the unit time interval is given by the limit of $(b,k;n,p_n)$ as $n \\to \\infty$. When we divide each subinterval into two parts of equal length, we find that, the probability that one or more balls falls into this sub-interval equals, $p_n = p_{2n} + p_{2n} - p_{2n}^2 = 2p_n - p_{2n}^2$ by inclusion-exclusion."
   ]
  },
  {
   "cell_type": "markdown",
   "metadata": {},
   "source": [
    "This equation states that success in the left half, or success in the right half, or in both. It follows that $p_n < 2p_{2n}$. So, $p_n < 2p_{2n} < 4p_{4n} < 8p_{8n} < \\ldots$. Thus, $np_n$ increases monotonically. If $np_n \\to \\lambda$, then $b(k;n,p_n) \\approx b(k;n,\\frac{\\lambda}{n}) \\to p(k;\\lambda)$ and we find that (16) as the the probability that there is a total of $k$ random points cotained in our unit interval. \n",
    "\n",
    "Note, that by the weak LLN formulation, the average number of successes; or the average number of random points($\\alpha$-particles emitted) in a unit interval of time is $np_n$. The assumption, $np_n \\to \\infty$ leads to no sensible result, as it would imply infinitely many random points even in the smallest interval. "
   ]
  },
  {
   "cell_type": "markdown",
   "metadata": {},
   "source": [
    "If instead of the unit interval, we take an arbitrary interval of length $t$ and again use a subdivision into intervals of length $1/n$, then we have Bernoulli trials with the same probability $p_n$ of success, but the number of trials is the integer nearest to $nt$ rather than $n$. The passage to the limit is the same, but we get $nt \\cdot p_n \\to \\lambda t$ instead of $\\lambda$. \n",
    "\n",
    "---\n",
    "This leads us to consider,\n",
    "\n",
    "\\begin{align*}\n",
    "p(k;\\lambda t) = e^{-\\lambda t} \\frac{(\\lambda t)^k}{k!} \\tag{17}\n",
    "\\end{align*}\n",
    "\n",
    "as the probability of finding exactly $k$ points in a fixed interval of length $t$.\n",
    "\n",
    "---\n",
    "\n",
    "In particular, the probability of no poinnt in an interval of length $t$ is:\n",
    "\n",
    "\\begin{align*}\n",
    "p(0;\\lambda t) = e^{-\\lambda t} \\tag{18}\n",
    "\\end{align*}\n",
    "\n",
    "and the probability of one or more points is therefore $1 - e^{-\\lambda t}$.\n",
    "\n",
    "The parameter $\\lambda$ is a physical constant which determines the density of points on the $t$-axis. The larger $\\lambda$ is, the smaller is the probability of finding no point. Suppose that a physical experiment is repeated a great number $N$ of times, and that each time we count the number of events in an interval of fixed length $t$. Let $N_k$ be the number of times that exactly $k$ events are observed. Then,\n",
    "\n",
    "\\begin{align*}\n",
    "N_0 + N_1 + N_2 + \\ldots = N \\tag{19}\n",
    "\\end{align*}\n",
    "\n",
    "The total number of points observed in the $N$ experiments is:\n",
    "\n",
    "\\begin{align*}\n",
    "N_1 + 2N_2 + 3N_3 + \\ldots = T \\tag{20}\n",
    "\\end{align*}\n",
    "\n",
    "and $T/N$ is average. If $N$ is large, we expect that\n",
    "\n",
    "\\begin{align*}\n",
    "N_k \\approx N p(k;\\lambda t) \\tag{21}\n",
    "\\end{align*}\n",
    "\n",
    "(this lies at the root of all applications of probability and will be justified and made more precise by the law of large numbers in chapter X). Substituting from (21) into (20), we find \n",
    "\n",
    "\\begin{align*}\n",
    "T &\\approx N\\{p(1;\\lambda t) + 2p(2;\\lambda t) + 3p(3;\\lambda t) + \\ldots\\} \\tag{22} \\\\\n",
    "&= Ne^{-\\lambda t} \\sum_{k=1}^{\\infty}\\frac{(\\lambda t)^k}{k!}\\\\\n",
    "&= Ne^{-\\lambda t} \\lambda t \\sum_{k=0}^{\\infty}\\frac{(\\lambda t)^k}{k!}\\\\\n",
    "&= Ne^{-\\lambda t} \\lambda t e^{\\lambda t}\\\\\n",
    "&= N\\lambda t\n",
    "\\end{align*}\n",
    "\n",
    "and hence,\n",
    "\n",
    "\\begin{align*}\n",
    "\\lambda t = \\frac{T}{N} \\tag{23}\n",
    "\\end{align*}\n",
    "\n",
    "This relation gives us a means of estimating $\\lambda$ from observations and of comparing the theory with experiments. The examples of the next section will illustrate this.\n",
    "\n",
    "### Spatial Distributions.\n",
    "\n"
   ]
  },
  {
   "cell_type": "markdown",
   "metadata": {},
   "source": [
    "We have considered the distribution of random events or points along the $t$-axis, but the same argument applies to the distribution of points in plane or space. Instead of intervals of length $t$, we have domains of length, area or volume $t$, and the fundamental assumption is that the probability of finding $k$ points in any specified domain depends only on the area or volume of the domain, but not it's shape. Otherwise, we have the same assumptions as before: (1) If $t$ is small, the probability of finding more than one point in a domain of volume $t$ is small as compared to $t$; (2) non-overlapping domains are mutually independent. To find the probability that a domain of volume $t$ contains exactly $k$ random points, we subdivide it into $n$ subdomains and approximate the required probability of $k$ successes in $n$ trials. This means neglecting the possibility of finding more than one point in the same subdomain, but our assumption (1) implies that the error tends to zero as $n \\to \\infty$. In the limit we again get the Poisson distribution (17). Stars in space, raisins in cake, weed seeds among grass seeds, flaws in materials, animal litters in fields are distributed in accordance with the Poisson law. "
   ]
  },
  {
   "cell_type": "markdown",
   "metadata": {},
   "source": [
    "## Observations Fitting the Poisson Distribution.\n",
    "\n",
    "*Radioactive disintegrations.* A radioactive substance emits $\\alpha$-particles; the number of particles reaching a given portion of space during time $t$ is the best-known example of random events obeying the Poisson law. Of course, the substance continues to decay and in the long run, the density of $\\alpha$-particles will decline. However, with radium it takes years before a decrease of matter can be detected; for relatively short periods, the conditions may be considered constant, and we have an ideal realization of the hypotheses which led to the Poisson distribution. \n",
    "\n",
    "In a famous experiment by Ernest Rutherford, a radioactive substance was observed during $N=2608$ time intervals of $7.5$ seconds each; the number of particles reaching a counter was obtained for each period. The below table records the number $N_k$ of the periods with exactly $k$ particles. The total number of particles is $T = \\sum k N_k = 10,094$, the average $T/N=3.870$. The theoretical values $Np(k;3.870)$ are seen rather close to the observed numbers $N_k$.\n",
    "\n",
    "\\begin{array}{ccc}\n",
    "\\hline \n",
    "k & N_k & Np(k;3.870)\\\\\n",
    "\\hline\n",
    "0 & 57 & 54.399\\\\\n",
    "1 & 203 & 210.523 \\\\\n",
    "2 & 383 & 407.361 \\\\\n",
    "3 & 525 & 525.496 \\\\\n",
    "4 & 532 & 508.418 \\\\\n",
    "5 & 408 & 393.515 \\\\\n",
    "6 & 273 & 253.817 \\\\\n",
    "7 & 139 & 140.325 \\\\\n",
    "8 & 45 & 67.882 \\\\\n",
    "9 & 27 & 29.189 \\\\\n",
    "k\\geq 10 & 16 & 17.075\\\\\n",
    "\\hline\n",
    "\\text{ Total } & 2608 & 2608.00\n",
    "\\end{array}"
   ]
  },
  {
   "cell_type": "markdown",
   "metadata": {},
   "source": [
    "*Flying bomb hits on London.* As an example of a spatial distribution of random points consider the statistics of flying-bomb hits in the South of London during World War II. The entire area is divided into $N=576$ small areas of $t=\\frac{1}{4}$ square kilometers each, and records the number $N_k$ of areas with exactly $k$ hits. The total number of hits is $T = \\sum k N_k = 537$, the average $\\lambda t = T/N = 0.9323$. The fit of the Poisson distribution is surprisingly good. It is interesting to note that most people believed in a tendency of the points of impact to cluster. If this were true, there would be a higher frequency of areas with either many hits or no hit and a deficiency in the intermediate classes. "
   ]
  },
  {
   "cell_type": "markdown",
   "metadata": {},
   "source": [
    "*Chromosome interchanges in cells.* Irradiation by X-rays produces certain processes in organic cells which we call chromosome interchanges. As long as radiation continues, the probability of such interchanges remains constant, and according to theory, the numbers $N_k$ of the cells with exactly $k$ interchanges should follow a Poisson distribution. The theory is also able to predict the dependence of the parameter $\\lambda$ on the intensity of radiation, the temperature etc., but we shall not enter into these details.\n",
    "\n",
    "*Connections to the wrong number.* A total of $N=267$ telephone numbers were observed; $N_k$ indicates how many number had exactly $k$ wrong connections. The Poisson distribution $p(k;8.74)$ shows again an excellent fit.\n",
    "\n",
    "*Bacteria and blood counts*. Consider a photograph of a petri plate with bacterial colonies, whch are visible under the microscope as dark spots. The plate is divided into small squares. The observed number of squares with exactly $k$ dark spots was $Np(k;\\lambda t)$. We have here an important practical application of the poisson distribution to spatial distributions of random points."
   ]
  },
  {
   "cell_type": "markdown",
   "metadata": {},
   "source": [
    "## Waiting times. The negative Binomial Distribution.\n",
    "\n",
    "Consider a succession of $n$ Bernoulli trials and let us inquire how long it will take for the $r$th success to turn up. Here $r$ is a fixed positive integer. The total number of successes in $n$ trials may, of course, fall short of $r$, but the probability that the $r$th success occurs at the trial number $\\nu \\leq n$ is clearly independent of $n$ and depends only on $\\nu,r,p$. Since, necessarily $\\nu \\geq r$, it is prefereable to write $\\nu = k + r$. The probability that the $r$th successes occurs at the trial number $r + k$ (where $k=0,1,2,\\ldots$) will be denoted by $f(k;r,p)$. It equals the probability that exactly $k$ failures preced the $r$th success. This event occurs if, and only if, among the $r+ k - 1$ trials there are exactly $k$ failures, and the following, or $(r+k)$th trial, results in success; the corresponding probabilities are ${{r + k - 1} \\choose k} \\cdot p^{r-1}q^k$ and $p$, so that:\n",
    "\n",
    "\\begin{align*}\n",
    "f(k;r,p) = {{r + k - 1} \\choose k} \\cdot p^r q^k \\tag{24}\n",
    "\\end{align*}"
   ]
  },
  {
   "cell_type": "markdown",
   "metadata": {},
   "source": [
    "Since, for any $a > 0$\n",
    "\n",
    "\\begin{align*}\n",
    "{-a \\choose k} &= \\frac{(-a)(-a-1)\\cdots(-a-(k-1))(-a-k)(-a-(k+1))\\cdots (-3)(-2)(-1)}{(-a-k)!k!}\\\\\n",
    "&= \\frac{(-a)(-a-1)\\cdots(-a-(k-1))}{k!}\\\\\n",
    "&= (-1)^k \\frac{(a+k-1)\\cdots (a+1)a}{k!} \\\\\n",
    "&= (-1)^k \\frac{(a+k-1)\\cdots (a+1)a(a-1)!}{k!(a-1)!} \\\\\n",
    "&= (-1)^k \\frac{(a+k-1)!}{(a-1)!k!}\\\\\n",
    "&= (-1)^k {a + k - 1 \\choose k}\n",
    "\\end{align*}"
   ]
  },
  {
   "cell_type": "markdown",
   "metadata": {},
   "source": [
    "We find the alternative form:\n",
    "\n",
    "\\begin{align*}\n",
    "f(k;r,p) = {-r \\choose k}p^r (-q)^k  \\tag{25}\n",
    "\\end{align*}"
   ]
  },
  {
   "cell_type": "markdown",
   "metadata": {},
   "source": [
    "Suppose now that Bernoulli trials are continued as long  as necessary for $r$ successes to turn up. A typical sample point is represented by a sequence containing an arbitrary number, $k$, of letters $F$ and exactly $r$ letters $S$, the sequence terminating by  an $S$; the probabilty of such a point is, by definition $p^r q^k$. We must ask, however, whether it is possible that the trials never end, that is, whether an infinite sequence of trials may produce fewer than $r$ successes. Now, $\\sum_{k=0}^{\\infty}f(k;r,p)$ is the probability that the trials never end, that is, whether an infinite sequence of trials may produce fewer than $r$ successes. Now, $\\sum_{k=0}^{\\infty}f(k;r,p)$ is the probability that the $r$th success occurs after finitely many trials; accordingly, the possibility of an infinite sequence with fewer than $r$ successes can be discounted if, and only if,\n",
    "\n",
    "\\begin{align*}\n",
    "\\sum_{k=0}^{\\infty}f(k;r,p) = 1 \\tag{26}\n",
    "\\end{align*}\n",
    "\n",
    "To prove that (26) holds, it suffices to note that:\n",
    "\n",
    "\\begin{align*}\n",
    "\\frac{1}{1-q} &= 1 + q + q^2 + q^3 + \\ldots + q^r + q^{r+1} + q^{r+2} + \\ldots \\\\\n",
    "\\frac{1}{(1-q)^2} &= 1 + 2q + 3q^2 + 4q^3 + \\ldots + rq^{r-1} + (r+1)q^r + (r+2)q^{r+1} + \\ldots \\quad \\{ \\text{ Differentiating on both sides} \\} \\\\\n",
    "\\frac{1\\cdot 2}{(1-q)^3} &= 2 \\cdot 1 + 3 \\cdot 2q + 4\\cdot 3q^2 + \\ldots + r(r-1)q^{r-2} + (r+1)rq^{r-1} + (r+2)(r+1)q^{r} + \\ldots \\quad \\{ \\text{ Differentiating on both sides} \\} \\\\\n",
    "\\frac{(r-1)!}{(1-q)^r} &= r! + \\frac{(r+1)!}{2!}q^{1} + \\frac{(r+2)!}{3!}q^{2} + \\ldots \\quad \\{ \\text{ Differentiating $r$ times} \\} \\\\\n",
    "\\frac{1}{(1-q)^r} &= \\frac{r!}{(r-1)!1!} + \\frac{(r+(2-1))!}{(r-1)!2!}q^{1} + \\frac{(r+(3-1))!}{(r-1)!3!}q^{2} + \\ldots \\\\\n",
    "& = \\sum_{k=0}^{\\infty}{{r + k - 1} \\choose k}q^k \\\\\n",
    "&=  \\sum_{k=0}^{\\infty}(-1)^k{-r \\choose k}q^k \\\\\n",
    "&=  \\sum_{k=0}^{\\infty}{-r \\choose k}(-q)^k \\tag{27}\n",
    "\\end{align*}"
   ]
  },
  {
   "cell_type": "markdown",
   "metadata": {},
   "source": [
    "From (27), we have that \n",
    "\n",
    "\\begin{align*}\n",
    "\\sum_{k=0}^{\\infty}{-r \\choose k}(-q)^k &= (1-q)^{-r} = p^{-r}\\\\\n",
    "\\sum_{k=0}^{\\infty}{-r \\choose k}p^r(-q)^k &= p^{-r} \\cdot p^r = 1 \\\\\n",
    "\\sum_{k=0}^{\\infty}f(k;r,p) &= 1 \\tag{28}\n",
    "\\end{align*}"
   ]
  },
  {
   "cell_type": "markdown",
   "metadata": {},
   "source": [
    "In our waiting time problem, $r$ is necessarily a positive integer, but the quantity defined by either (24) or (25) is non-negative and holds for any positive $r$. For arbitrary fixed real $r>0$ and $0<p<1$, the sequence $\\{f(k;r,p)\\}$ is called a **negative binomial distribution**. When $r$ is a positive integer, $\\{f(k;r,p)\\}$ may be interpreted as the probability distribution for the waiting time to the $r$th success; as such it is aalso called the Pascal distribution. For $r = 1$, it reduces to the geometric distribution $\\{pq^k\\}$."
   ]
  },
  {
   "cell_type": "markdown",
   "metadata": {},
   "source": [
    "*Banach's Matchbox problem.* A certain mathematician always carries one match box in his right pocket and one in his left. When he wants a match, he selects a pocket at random, the successive choices thus constituting Bernoulli trials with $p=\\frac{1}{2}$. Suppose that initially each box contained exactly $N$  matches and consider the moment when, for the first time, our mathematician discovers that a box is empty. At that moment the other box may contain $0,1,2,\\ldots,N$ matches and we denote the corresponding probabilities by $u_r$ Let us identify success with the choice of the left pocket. The left pocket will be found empty at a moment when the right pocket contains exactly $r$ matches, if and only if, $N-r$ failures precede the $(N+1)$st success. The probability of this event is $f(N-r;N+1,\\frac{1}{2})$. The same argument applies to the right pocket and therefore the required probability is:\n",
    "\n",
    "\\begin{align*}\n",
    "u_r = 2f(N-r;N+1,\\frac{1}{2}) ={{2N - r} \\choose {N-r}}\\left(\\frac{1}{2}\\right)^{2N-r} = {{2N - r} \\choose {N}}\\left(\\frac{1}{2}\\right)^{2N-r}  \\tag{29}\n",
    "\\end{align*}"
   ]
  },
  {
   "cell_type": "code",
   "execution_count": 22,
   "metadata": {},
   "outputs": [
    {
     "data": {
      "application/vnd.plotly.v1+json": {
       "data": [
        {
         "colorbar": {
          "title": ""
         },
         "legendgroup": "PMF",
         "marker": {
          "color": "rgba(255, 0, 0, 1.000)",
          "line": {
           "color": "rgba(0, 0, 0, 1.000)",
           "width": 1
          },
          "size": 8,
          "symbol": "circle"
         },
         "mode": "markers",
         "name": "PMF",
         "showlegend": true,
         "type": "scatter",
         "x": [
          0,
          1,
          2,
          3,
          4,
          5,
          6,
          7,
          8,
          9,
          10,
          11,
          12,
          13,
          14,
          15,
          16,
          17,
          18,
          19,
          20
         ],
         "xaxis": "x",
         "y": [
          0.12537068761957926,
          0.12537068761957926,
          0.12215605460369261,
          0.11572678857191931,
          0.1063435354444664,
          0.09452758706174791,
          0.08102364605292678,
          0.06672535557299852,
          0.0525714922696352,
          0.0394286192022264,
          0.02798160072416067,
          0.01865440048277378,
          0.011578593403100967,
          0.006616339087486267,
          0.003430694341659546,
          0.001583397388458252,
          0.0006333589553833008,
          0.0002111196517944336,
          5.507469177246094e-05,
          1.0013580322265625e-05,
          9.5367431640625e-07
         ],
         "yaxis": "y",
         "zmax": null,
         "zmin": null
        },
        {
         "colorbar": {
          "title": ""
         },
         "legendgroup": "PMF",
         "line": {
          "color": "rgba(255, 0, 0, 1.000)",
          "dash": "solid",
          "shape": "linear",
          "width": 1
         },
         "mode": "lines",
         "name": "PMF",
         "showlegend": false,
         "type": "scatter",
         "x": [
          0,
          0
         ],
         "xaxis": "x",
         "y": [
          0,
          0.12537068761957926
         ],
         "yaxis": "y",
         "zmax": null,
         "zmin": null
        },
        {
         "colorbar": {
          "title": ""
         },
         "legendgroup": "PMF",
         "line": {
          "color": "rgba(255, 0, 0, 1.000)",
          "dash": "solid",
          "shape": "linear",
          "width": 1
         },
         "mode": "lines",
         "name": "PMF",
         "showlegend": false,
         "type": "scatter",
         "x": [
          1,
          1
         ],
         "xaxis": "x",
         "y": [
          0,
          0.12537068761957926
         ],
         "yaxis": "y",
         "zmax": null,
         "zmin": null
        },
        {
         "colorbar": {
          "title": ""
         },
         "legendgroup": "PMF",
         "line": {
          "color": "rgba(255, 0, 0, 1.000)",
          "dash": "solid",
          "shape": "linear",
          "width": 1
         },
         "mode": "lines",
         "name": "PMF",
         "showlegend": false,
         "type": "scatter",
         "x": [
          2,
          2
         ],
         "xaxis": "x",
         "y": [
          0,
          0.12215605460369261
         ],
         "yaxis": "y",
         "zmax": null,
         "zmin": null
        },
        {
         "colorbar": {
          "title": ""
         },
         "legendgroup": "PMF",
         "line": {
          "color": "rgba(255, 0, 0, 1.000)",
          "dash": "solid",
          "shape": "linear",
          "width": 1
         },
         "mode": "lines",
         "name": "PMF",
         "showlegend": false,
         "type": "scatter",
         "x": [
          3,
          3
         ],
         "xaxis": "x",
         "y": [
          0,
          0.11572678857191931
         ],
         "yaxis": "y",
         "zmax": null,
         "zmin": null
        },
        {
         "colorbar": {
          "title": ""
         },
         "legendgroup": "PMF",
         "line": {
          "color": "rgba(255, 0, 0, 1.000)",
          "dash": "solid",
          "shape": "linear",
          "width": 1
         },
         "mode": "lines",
         "name": "PMF",
         "showlegend": false,
         "type": "scatter",
         "x": [
          4,
          4
         ],
         "xaxis": "x",
         "y": [
          0,
          0.1063435354444664
         ],
         "yaxis": "y",
         "zmax": null,
         "zmin": null
        },
        {
         "colorbar": {
          "title": ""
         },
         "legendgroup": "PMF",
         "line": {
          "color": "rgba(255, 0, 0, 1.000)",
          "dash": "solid",
          "shape": "linear",
          "width": 1
         },
         "mode": "lines",
         "name": "PMF",
         "showlegend": false,
         "type": "scatter",
         "x": [
          5,
          5
         ],
         "xaxis": "x",
         "y": [
          0,
          0.09452758706174791
         ],
         "yaxis": "y",
         "zmax": null,
         "zmin": null
        },
        {
         "colorbar": {
          "title": ""
         },
         "legendgroup": "PMF",
         "line": {
          "color": "rgba(255, 0, 0, 1.000)",
          "dash": "solid",
          "shape": "linear",
          "width": 1
         },
         "mode": "lines",
         "name": "PMF",
         "showlegend": false,
         "type": "scatter",
         "x": [
          6,
          6
         ],
         "xaxis": "x",
         "y": [
          0,
          0.08102364605292678
         ],
         "yaxis": "y",
         "zmax": null,
         "zmin": null
        },
        {
         "colorbar": {
          "title": ""
         },
         "legendgroup": "PMF",
         "line": {
          "color": "rgba(255, 0, 0, 1.000)",
          "dash": "solid",
          "shape": "linear",
          "width": 1
         },
         "mode": "lines",
         "name": "PMF",
         "showlegend": false,
         "type": "scatter",
         "x": [
          7,
          7
         ],
         "xaxis": "x",
         "y": [
          0,
          0.06672535557299852
         ],
         "yaxis": "y",
         "zmax": null,
         "zmin": null
        },
        {
         "colorbar": {
          "title": ""
         },
         "legendgroup": "PMF",
         "line": {
          "color": "rgba(255, 0, 0, 1.000)",
          "dash": "solid",
          "shape": "linear",
          "width": 1
         },
         "mode": "lines",
         "name": "PMF",
         "showlegend": false,
         "type": "scatter",
         "x": [
          8,
          8
         ],
         "xaxis": "x",
         "y": [
          0,
          0.0525714922696352
         ],
         "yaxis": "y",
         "zmax": null,
         "zmin": null
        },
        {
         "colorbar": {
          "title": ""
         },
         "legendgroup": "PMF",
         "line": {
          "color": "rgba(255, 0, 0, 1.000)",
          "dash": "solid",
          "shape": "linear",
          "width": 1
         },
         "mode": "lines",
         "name": "PMF",
         "showlegend": false,
         "type": "scatter",
         "x": [
          9,
          9
         ],
         "xaxis": "x",
         "y": [
          0,
          0.0394286192022264
         ],
         "yaxis": "y",
         "zmax": null,
         "zmin": null
        },
        {
         "colorbar": {
          "title": ""
         },
         "legendgroup": "PMF",
         "line": {
          "color": "rgba(255, 0, 0, 1.000)",
          "dash": "solid",
          "shape": "linear",
          "width": 1
         },
         "mode": "lines",
         "name": "PMF",
         "showlegend": false,
         "type": "scatter",
         "x": [
          10,
          10
         ],
         "xaxis": "x",
         "y": [
          0,
          0.02798160072416067
         ],
         "yaxis": "y",
         "zmax": null,
         "zmin": null
        },
        {
         "colorbar": {
          "title": ""
         },
         "legendgroup": "PMF",
         "line": {
          "color": "rgba(255, 0, 0, 1.000)",
          "dash": "solid",
          "shape": "linear",
          "width": 1
         },
         "mode": "lines",
         "name": "PMF",
         "showlegend": false,
         "type": "scatter",
         "x": [
          11,
          11
         ],
         "xaxis": "x",
         "y": [
          0,
          0.01865440048277378
         ],
         "yaxis": "y",
         "zmax": null,
         "zmin": null
        },
        {
         "colorbar": {
          "title": ""
         },
         "legendgroup": "PMF",
         "line": {
          "color": "rgba(255, 0, 0, 1.000)",
          "dash": "solid",
          "shape": "linear",
          "width": 1
         },
         "mode": "lines",
         "name": "PMF",
         "showlegend": false,
         "type": "scatter",
         "x": [
          12,
          12
         ],
         "xaxis": "x",
         "y": [
          0,
          0.011578593403100967
         ],
         "yaxis": "y",
         "zmax": null,
         "zmin": null
        },
        {
         "colorbar": {
          "title": ""
         },
         "legendgroup": "PMF",
         "line": {
          "color": "rgba(255, 0, 0, 1.000)",
          "dash": "solid",
          "shape": "linear",
          "width": 1
         },
         "mode": "lines",
         "name": "PMF",
         "showlegend": false,
         "type": "scatter",
         "x": [
          13,
          13
         ],
         "xaxis": "x",
         "y": [
          0,
          0.006616339087486267
         ],
         "yaxis": "y",
         "zmax": null,
         "zmin": null
        },
        {
         "colorbar": {
          "title": ""
         },
         "legendgroup": "PMF",
         "line": {
          "color": "rgba(255, 0, 0, 1.000)",
          "dash": "solid",
          "shape": "linear",
          "width": 1
         },
         "mode": "lines",
         "name": "PMF",
         "showlegend": false,
         "type": "scatter",
         "x": [
          14,
          14
         ],
         "xaxis": "x",
         "y": [
          0,
          0.003430694341659546
         ],
         "yaxis": "y",
         "zmax": null,
         "zmin": null
        },
        {
         "colorbar": {
          "title": ""
         },
         "legendgroup": "PMF",
         "line": {
          "color": "rgba(255, 0, 0, 1.000)",
          "dash": "solid",
          "shape": "linear",
          "width": 1
         },
         "mode": "lines",
         "name": "PMF",
         "showlegend": false,
         "type": "scatter",
         "x": [
          15,
          15
         ],
         "xaxis": "x",
         "y": [
          0,
          0.001583397388458252
         ],
         "yaxis": "y",
         "zmax": null,
         "zmin": null
        },
        {
         "colorbar": {
          "title": ""
         },
         "legendgroup": "PMF",
         "line": {
          "color": "rgba(255, 0, 0, 1.000)",
          "dash": "solid",
          "shape": "linear",
          "width": 1
         },
         "mode": "lines",
         "name": "PMF",
         "showlegend": false,
         "type": "scatter",
         "x": [
          16,
          16
         ],
         "xaxis": "x",
         "y": [
          0,
          0.0006333589553833008
         ],
         "yaxis": "y",
         "zmax": null,
         "zmin": null
        },
        {
         "colorbar": {
          "title": ""
         },
         "legendgroup": "PMF",
         "line": {
          "color": "rgba(255, 0, 0, 1.000)",
          "dash": "solid",
          "shape": "linear",
          "width": 1
         },
         "mode": "lines",
         "name": "PMF",
         "showlegend": false,
         "type": "scatter",
         "x": [
          17,
          17
         ],
         "xaxis": "x",
         "y": [
          0,
          0.0002111196517944336
         ],
         "yaxis": "y",
         "zmax": null,
         "zmin": null
        },
        {
         "colorbar": {
          "title": ""
         },
         "legendgroup": "PMF",
         "line": {
          "color": "rgba(255, 0, 0, 1.000)",
          "dash": "solid",
          "shape": "linear",
          "width": 1
         },
         "mode": "lines",
         "name": "PMF",
         "showlegend": false,
         "type": "scatter",
         "x": [
          18,
          18
         ],
         "xaxis": "x",
         "y": [
          0,
          5.507469177246094e-05
         ],
         "yaxis": "y",
         "zmax": null,
         "zmin": null
        },
        {
         "colorbar": {
          "title": ""
         },
         "legendgroup": "PMF",
         "line": {
          "color": "rgba(255, 0, 0, 1.000)",
          "dash": "solid",
          "shape": "linear",
          "width": 1
         },
         "mode": "lines",
         "name": "PMF",
         "showlegend": false,
         "type": "scatter",
         "x": [
          19,
          19
         ],
         "xaxis": "x",
         "y": [
          0,
          1.0013580322265625e-05
         ],
         "yaxis": "y",
         "zmax": null,
         "zmin": null
        },
        {
         "colorbar": {
          "title": ""
         },
         "legendgroup": "PMF",
         "line": {
          "color": "rgba(255, 0, 0, 1.000)",
          "dash": "solid",
          "shape": "linear",
          "width": 1
         },
         "mode": "lines",
         "name": "PMF",
         "showlegend": false,
         "type": "scatter",
         "x": [
          20,
          20
         ],
         "xaxis": "x",
         "y": [
          0,
          9.5367431640625e-07
         ],
         "yaxis": "y",
         "zmax": null,
         "zmin": null
        }
       ],
       "layout": {
        "annotations": [],
        "height": 400,
        "legend": {
         "bgcolor": "rgba(255, 255, 255, 1.000)",
         "bordercolor": "rgba(0, 0, 0, 1.000)",
         "borderwidth": 1,
         "font": {
          "color": "rgba(0, 0, 0, 1.000)",
          "family": "sans-serif",
          "size": 11
         },
         "title": {
          "font": {
           "color": "rgba(0, 0, 0, 1.000)",
           "family": "sans-serif",
           "size": 15
          },
          "text": ""
         },
         "tracegroupgap": 0,
         "traceorder": "normal",
         "x": 1,
         "xanchor": "auto",
         "y": 1,
         "yanchor": "auto"
        },
        "margin": {
         "b": 20,
         "l": 0,
         "r": 0,
         "t": 20
        },
        "paper_bgcolor": "rgba(255, 255, 255, 1.000)",
        "plot_bgcolor": "rgba(255, 255, 255, 1.000)",
        "showlegend": true,
        "width": 600,
        "xaxis": {
         "anchor": "y",
         "domain": [
          0.09128390201224845,
          0.9934383202099738
         ],
         "gridcolor": "rgba(0, 0, 0, 0.100)",
         "gridwidth": 0.5,
         "linecolor": "rgba(0, 0, 0, 1.000)",
         "mirror": false,
         "range": [
          -0.6,
          20.6
         ],
         "showgrid": true,
         "showline": true,
         "showticklabels": true,
         "tickangle": 0,
         "tickcolor": "rgb(0, 0, 0)",
         "tickfont": {
          "color": "rgba(0, 0, 0, 1.000)",
          "family": "sans-serif",
          "size": 11
         },
         "tickmode": "array",
         "ticks": "inside",
         "ticktext": [
          "0",
          "5",
          "10",
          "15",
          "20"
         ],
         "tickvals": [
          0,
          5,
          10,
          15,
          20
         ],
         "title": "Number of matches left, r",
         "titlefont": {
          "color": "rgba(0, 0, 0, 1.000)",
          "family": "sans-serif",
          "size": 15
         },
         "type": "-",
         "visible": true,
         "zeroline": false,
         "zerolinecolor": "rgba(0, 0, 0, 1.000)"
        },
        "yaxis": {
         "anchor": "x",
         "domain": [
          0.07581474190726165,
          0.9901574803149606
         ],
         "gridcolor": "rgba(0, 0, 0, 0.100)",
         "gridwidth": 0.5,
         "linecolor": "rgba(0, 0, 0, 1.000)",
         "mirror": false,
         "range": [
          -0.0037611206285873776,
          0.12913180824816664
         ],
         "showgrid": true,
         "showline": true,
         "showticklabels": true,
         "tickangle": 0,
         "tickcolor": "rgb(0, 0, 0)",
         "tickfont": {
          "color": "rgba(0, 0, 0, 1.000)",
          "family": "sans-serif",
          "size": 11
         },
         "tickmode": "array",
         "ticks": "inside",
         "ticktext": [
          "0.00",
          "0.02",
          "0.04",
          "0.06",
          "0.08",
          "0.10",
          "0.12"
         ],
         "tickvals": [
          0,
          0.02,
          0.04,
          0.06,
          0.08,
          0.1,
          0.12
         ],
         "title": "Probability",
         "titlefont": {
          "color": "rgba(0, 0, 0, 1.000)",
          "family": "sans-serif",
          "size": 15
         },
         "type": "-",
         "visible": true,
         "zeroline": false,
         "zerolinecolor": "rgba(0, 0, 0, 1.000)"
        }
       }
      },
      "text/html": [
       "<!DOCTYPE html>\n",
       "<html>\n",
       "    <head>\n",
       "        <title>Plots.jl</title>\n",
       "        <meta http-equiv=\"content-type\" content=\"text/html; charset=UTF-8\">\n",
       "        \n",
       "    </head>\n",
       "    <body>\n",
       "            <div id=\"b406f199-1076-4c14-b6ce-8cec79a788bb\" style=\"width:600px;height:400px;\"></div>\n",
       "    <script>\n",
       "        requirejs.config({\n",
       "        paths: {\n",
       "            Plotly: 'https://cdn.plot.ly/plotly-1.57.1.min'\n",
       "        }\n",
       "    });\n",
       "    require(['Plotly'], function (Plotly) {\n",
       "\n",
       "    PLOT = document.getElementById('b406f199-1076-4c14-b6ce-8cec79a788bb');\n",
       "    Plotly.plot(PLOT, [\n",
       "    {\n",
       "        \"xaxis\": \"x\",\n",
       "        \"colorbar\": {\n",
       "            \"title\": \"\"\n",
       "        },\n",
       "        \"yaxis\": \"y\",\n",
       "        \"x\": [\n",
       "            0.0,\n",
       "            1.0,\n",
       "            2.0,\n",
       "            3.0,\n",
       "            4.0,\n",
       "            5.0,\n",
       "            6.0,\n",
       "            7.0,\n",
       "            8.0,\n",
       "            9.0,\n",
       "            10.0,\n",
       "            11.0,\n",
       "            12.0,\n",
       "            13.0,\n",
       "            14.0,\n",
       "            15.0,\n",
       "            16.0,\n",
       "            17.0,\n",
       "            18.0,\n",
       "            19.0,\n",
       "            20.0\n",
       "        ],\n",
       "        \"showlegend\": true,\n",
       "        \"mode\": \"markers\",\n",
       "        \"name\": \"PMF\",\n",
       "        \"zmin\": null,\n",
       "        \"legendgroup\": \"PMF\",\n",
       "        \"marker\": {\n",
       "            \"symbol\": \"circle\",\n",
       "            \"color\": \"rgba(255, 0, 0, 1.000)\",\n",
       "            \"line\": {\n",
       "                \"color\": \"rgba(0, 0, 0, 1.000)\",\n",
       "                \"width\": 1\n",
       "            },\n",
       "            \"size\": 8\n",
       "        },\n",
       "        \"zmax\": null,\n",
       "        \"y\": [\n",
       "            0.12537068761957926,\n",
       "            0.12537068761957926,\n",
       "            0.12215605460369261,\n",
       "            0.11572678857191931,\n",
       "            0.1063435354444664,\n",
       "            0.09452758706174791,\n",
       "            0.08102364605292678,\n",
       "            0.06672535557299852,\n",
       "            0.0525714922696352,\n",
       "            0.0394286192022264,\n",
       "            0.02798160072416067,\n",
       "            0.01865440048277378,\n",
       "            0.011578593403100967,\n",
       "            0.006616339087486267,\n",
       "            0.003430694341659546,\n",
       "            0.001583397388458252,\n",
       "            0.0006333589553833008,\n",
       "            0.0002111196517944336,\n",
       "            5.507469177246094e-5,\n",
       "            1.0013580322265625e-5,\n",
       "            9.5367431640625e-7\n",
       "        ],\n",
       "        \"type\": \"scatter\"\n",
       "    },\n",
       "    {\n",
       "        \"xaxis\": \"x\",\n",
       "        \"colorbar\": {\n",
       "            \"title\": \"\"\n",
       "        },\n",
       "        \"yaxis\": \"y\",\n",
       "        \"x\": [\n",
       "            0.0,\n",
       "            0.0\n",
       "        ],\n",
       "        \"showlegend\": false,\n",
       "        \"mode\": \"lines\",\n",
       "        \"name\": \"PMF\",\n",
       "        \"zmin\": null,\n",
       "        \"legendgroup\": \"PMF\",\n",
       "        \"zmax\": null,\n",
       "        \"line\": {\n",
       "            \"color\": \"rgba(255, 0, 0, 1.000)\",\n",
       "            \"shape\": \"linear\",\n",
       "            \"dash\": \"solid\",\n",
       "            \"width\": 1\n",
       "        },\n",
       "        \"y\": [\n",
       "            0.0,\n",
       "            0.12537068761957926\n",
       "        ],\n",
       "        \"type\": \"scatter\"\n",
       "    },\n",
       "    {\n",
       "        \"xaxis\": \"x\",\n",
       "        \"colorbar\": {\n",
       "            \"title\": \"\"\n",
       "        },\n",
       "        \"yaxis\": \"y\",\n",
       "        \"x\": [\n",
       "            1.0,\n",
       "            1.0\n",
       "        ],\n",
       "        \"showlegend\": false,\n",
       "        \"mode\": \"lines\",\n",
       "        \"name\": \"PMF\",\n",
       "        \"zmin\": null,\n",
       "        \"legendgroup\": \"PMF\",\n",
       "        \"zmax\": null,\n",
       "        \"line\": {\n",
       "            \"color\": \"rgba(255, 0, 0, 1.000)\",\n",
       "            \"shape\": \"linear\",\n",
       "            \"dash\": \"solid\",\n",
       "            \"width\": 1\n",
       "        },\n",
       "        \"y\": [\n",
       "            0.0,\n",
       "            0.12537068761957926\n",
       "        ],\n",
       "        \"type\": \"scatter\"\n",
       "    },\n",
       "    {\n",
       "        \"xaxis\": \"x\",\n",
       "        \"colorbar\": {\n",
       "            \"title\": \"\"\n",
       "        },\n",
       "        \"yaxis\": \"y\",\n",
       "        \"x\": [\n",
       "            2.0,\n",
       "            2.0\n",
       "        ],\n",
       "        \"showlegend\": false,\n",
       "        \"mode\": \"lines\",\n",
       "        \"name\": \"PMF\",\n",
       "        \"zmin\": null,\n",
       "        \"legendgroup\": \"PMF\",\n",
       "        \"zmax\": null,\n",
       "        \"line\": {\n",
       "            \"color\": \"rgba(255, 0, 0, 1.000)\",\n",
       "            \"shape\": \"linear\",\n",
       "            \"dash\": \"solid\",\n",
       "            \"width\": 1\n",
       "        },\n",
       "        \"y\": [\n",
       "            0.0,\n",
       "            0.12215605460369261\n",
       "        ],\n",
       "        \"type\": \"scatter\"\n",
       "    },\n",
       "    {\n",
       "        \"xaxis\": \"x\",\n",
       "        \"colorbar\": {\n",
       "            \"title\": \"\"\n",
       "        },\n",
       "        \"yaxis\": \"y\",\n",
       "        \"x\": [\n",
       "            3.0,\n",
       "            3.0\n",
       "        ],\n",
       "        \"showlegend\": false,\n",
       "        \"mode\": \"lines\",\n",
       "        \"name\": \"PMF\",\n",
       "        \"zmin\": null,\n",
       "        \"legendgroup\": \"PMF\",\n",
       "        \"zmax\": null,\n",
       "        \"line\": {\n",
       "            \"color\": \"rgba(255, 0, 0, 1.000)\",\n",
       "            \"shape\": \"linear\",\n",
       "            \"dash\": \"solid\",\n",
       "            \"width\": 1\n",
       "        },\n",
       "        \"y\": [\n",
       "            0.0,\n",
       "            0.11572678857191931\n",
       "        ],\n",
       "        \"type\": \"scatter\"\n",
       "    },\n",
       "    {\n",
       "        \"xaxis\": \"x\",\n",
       "        \"colorbar\": {\n",
       "            \"title\": \"\"\n",
       "        },\n",
       "        \"yaxis\": \"y\",\n",
       "        \"x\": [\n",
       "            4.0,\n",
       "            4.0\n",
       "        ],\n",
       "        \"showlegend\": false,\n",
       "        \"mode\": \"lines\",\n",
       "        \"name\": \"PMF\",\n",
       "        \"zmin\": null,\n",
       "        \"legendgroup\": \"PMF\",\n",
       "        \"zmax\": null,\n",
       "        \"line\": {\n",
       "            \"color\": \"rgba(255, 0, 0, 1.000)\",\n",
       "            \"shape\": \"linear\",\n",
       "            \"dash\": \"solid\",\n",
       "            \"width\": 1\n",
       "        },\n",
       "        \"y\": [\n",
       "            0.0,\n",
       "            0.1063435354444664\n",
       "        ],\n",
       "        \"type\": \"scatter\"\n",
       "    },\n",
       "    {\n",
       "        \"xaxis\": \"x\",\n",
       "        \"colorbar\": {\n",
       "            \"title\": \"\"\n",
       "        },\n",
       "        \"yaxis\": \"y\",\n",
       "        \"x\": [\n",
       "            5.0,\n",
       "            5.0\n",
       "        ],\n",
       "        \"showlegend\": false,\n",
       "        \"mode\": \"lines\",\n",
       "        \"name\": \"PMF\",\n",
       "        \"zmin\": null,\n",
       "        \"legendgroup\": \"PMF\",\n",
       "        \"zmax\": null,\n",
       "        \"line\": {\n",
       "            \"color\": \"rgba(255, 0, 0, 1.000)\",\n",
       "            \"shape\": \"linear\",\n",
       "            \"dash\": \"solid\",\n",
       "            \"width\": 1\n",
       "        },\n",
       "        \"y\": [\n",
       "            0.0,\n",
       "            0.09452758706174791\n",
       "        ],\n",
       "        \"type\": \"scatter\"\n",
       "    },\n",
       "    {\n",
       "        \"xaxis\": \"x\",\n",
       "        \"colorbar\": {\n",
       "            \"title\": \"\"\n",
       "        },\n",
       "        \"yaxis\": \"y\",\n",
       "        \"x\": [\n",
       "            6.0,\n",
       "            6.0\n",
       "        ],\n",
       "        \"showlegend\": false,\n",
       "        \"mode\": \"lines\",\n",
       "        \"name\": \"PMF\",\n",
       "        \"zmin\": null,\n",
       "        \"legendgroup\": \"PMF\",\n",
       "        \"zmax\": null,\n",
       "        \"line\": {\n",
       "            \"color\": \"rgba(255, 0, 0, 1.000)\",\n",
       "            \"shape\": \"linear\",\n",
       "            \"dash\": \"solid\",\n",
       "            \"width\": 1\n",
       "        },\n",
       "        \"y\": [\n",
       "            0.0,\n",
       "            0.08102364605292678\n",
       "        ],\n",
       "        \"type\": \"scatter\"\n",
       "    },\n",
       "    {\n",
       "        \"xaxis\": \"x\",\n",
       "        \"colorbar\": {\n",
       "            \"title\": \"\"\n",
       "        },\n",
       "        \"yaxis\": \"y\",\n",
       "        \"x\": [\n",
       "            7.0,\n",
       "            7.0\n",
       "        ],\n",
       "        \"showlegend\": false,\n",
       "        \"mode\": \"lines\",\n",
       "        \"name\": \"PMF\",\n",
       "        \"zmin\": null,\n",
       "        \"legendgroup\": \"PMF\",\n",
       "        \"zmax\": null,\n",
       "        \"line\": {\n",
       "            \"color\": \"rgba(255, 0, 0, 1.000)\",\n",
       "            \"shape\": \"linear\",\n",
       "            \"dash\": \"solid\",\n",
       "            \"width\": 1\n",
       "        },\n",
       "        \"y\": [\n",
       "            0.0,\n",
       "            0.06672535557299852\n",
       "        ],\n",
       "        \"type\": \"scatter\"\n",
       "    },\n",
       "    {\n",
       "        \"xaxis\": \"x\",\n",
       "        \"colorbar\": {\n",
       "            \"title\": \"\"\n",
       "        },\n",
       "        \"yaxis\": \"y\",\n",
       "        \"x\": [\n",
       "            8.0,\n",
       "            8.0\n",
       "        ],\n",
       "        \"showlegend\": false,\n",
       "        \"mode\": \"lines\",\n",
       "        \"name\": \"PMF\",\n",
       "        \"zmin\": null,\n",
       "        \"legendgroup\": \"PMF\",\n",
       "        \"zmax\": null,\n",
       "        \"line\": {\n",
       "            \"color\": \"rgba(255, 0, 0, 1.000)\",\n",
       "            \"shape\": \"linear\",\n",
       "            \"dash\": \"solid\",\n",
       "            \"width\": 1\n",
       "        },\n",
       "        \"y\": [\n",
       "            0.0,\n",
       "            0.0525714922696352\n",
       "        ],\n",
       "        \"type\": \"scatter\"\n",
       "    },\n",
       "    {\n",
       "        \"xaxis\": \"x\",\n",
       "        \"colorbar\": {\n",
       "            \"title\": \"\"\n",
       "        },\n",
       "        \"yaxis\": \"y\",\n",
       "        \"x\": [\n",
       "            9.0,\n",
       "            9.0\n",
       "        ],\n",
       "        \"showlegend\": false,\n",
       "        \"mode\": \"lines\",\n",
       "        \"name\": \"PMF\",\n",
       "        \"zmin\": null,\n",
       "        \"legendgroup\": \"PMF\",\n",
       "        \"zmax\": null,\n",
       "        \"line\": {\n",
       "            \"color\": \"rgba(255, 0, 0, 1.000)\",\n",
       "            \"shape\": \"linear\",\n",
       "            \"dash\": \"solid\",\n",
       "            \"width\": 1\n",
       "        },\n",
       "        \"y\": [\n",
       "            0.0,\n",
       "            0.0394286192022264\n",
       "        ],\n",
       "        \"type\": \"scatter\"\n",
       "    },\n",
       "    {\n",
       "        \"xaxis\": \"x\",\n",
       "        \"colorbar\": {\n",
       "            \"title\": \"\"\n",
       "        },\n",
       "        \"yaxis\": \"y\",\n",
       "        \"x\": [\n",
       "            10.0,\n",
       "            10.0\n",
       "        ],\n",
       "        \"showlegend\": false,\n",
       "        \"mode\": \"lines\",\n",
       "        \"name\": \"PMF\",\n",
       "        \"zmin\": null,\n",
       "        \"legendgroup\": \"PMF\",\n",
       "        \"zmax\": null,\n",
       "        \"line\": {\n",
       "            \"color\": \"rgba(255, 0, 0, 1.000)\",\n",
       "            \"shape\": \"linear\",\n",
       "            \"dash\": \"solid\",\n",
       "            \"width\": 1\n",
       "        },\n",
       "        \"y\": [\n",
       "            0.0,\n",
       "            0.02798160072416067\n",
       "        ],\n",
       "        \"type\": \"scatter\"\n",
       "    },\n",
       "    {\n",
       "        \"xaxis\": \"x\",\n",
       "        \"colorbar\": {\n",
       "            \"title\": \"\"\n",
       "        },\n",
       "        \"yaxis\": \"y\",\n",
       "        \"x\": [\n",
       "            11.0,\n",
       "            11.0\n",
       "        ],\n",
       "        \"showlegend\": false,\n",
       "        \"mode\": \"lines\",\n",
       "        \"name\": \"PMF\",\n",
       "        \"zmin\": null,\n",
       "        \"legendgroup\": \"PMF\",\n",
       "        \"zmax\": null,\n",
       "        \"line\": {\n",
       "            \"color\": \"rgba(255, 0, 0, 1.000)\",\n",
       "            \"shape\": \"linear\",\n",
       "            \"dash\": \"solid\",\n",
       "            \"width\": 1\n",
       "        },\n",
       "        \"y\": [\n",
       "            0.0,\n",
       "            0.01865440048277378\n",
       "        ],\n",
       "        \"type\": \"scatter\"\n",
       "    },\n",
       "    {\n",
       "        \"xaxis\": \"x\",\n",
       "        \"colorbar\": {\n",
       "            \"title\": \"\"\n",
       "        },\n",
       "        \"yaxis\": \"y\",\n",
       "        \"x\": [\n",
       "            12.0,\n",
       "            12.0\n",
       "        ],\n",
       "        \"showlegend\": false,\n",
       "        \"mode\": \"lines\",\n",
       "        \"name\": \"PMF\",\n",
       "        \"zmin\": null,\n",
       "        \"legendgroup\": \"PMF\",\n",
       "        \"zmax\": null,\n",
       "        \"line\": {\n",
       "            \"color\": \"rgba(255, 0, 0, 1.000)\",\n",
       "            \"shape\": \"linear\",\n",
       "            \"dash\": \"solid\",\n",
       "            \"width\": 1\n",
       "        },\n",
       "        \"y\": [\n",
       "            0.0,\n",
       "            0.011578593403100967\n",
       "        ],\n",
       "        \"type\": \"scatter\"\n",
       "    },\n",
       "    {\n",
       "        \"xaxis\": \"x\",\n",
       "        \"colorbar\": {\n",
       "            \"title\": \"\"\n",
       "        },\n",
       "        \"yaxis\": \"y\",\n",
       "        \"x\": [\n",
       "            13.0,\n",
       "            13.0\n",
       "        ],\n",
       "        \"showlegend\": false,\n",
       "        \"mode\": \"lines\",\n",
       "        \"name\": \"PMF\",\n",
       "        \"zmin\": null,\n",
       "        \"legendgroup\": \"PMF\",\n",
       "        \"zmax\": null,\n",
       "        \"line\": {\n",
       "            \"color\": \"rgba(255, 0, 0, 1.000)\",\n",
       "            \"shape\": \"linear\",\n",
       "            \"dash\": \"solid\",\n",
       "            \"width\": 1\n",
       "        },\n",
       "        \"y\": [\n",
       "            0.0,\n",
       "            0.006616339087486267\n",
       "        ],\n",
       "        \"type\": \"scatter\"\n",
       "    },\n",
       "    {\n",
       "        \"xaxis\": \"x\",\n",
       "        \"colorbar\": {\n",
       "            \"title\": \"\"\n",
       "        },\n",
       "        \"yaxis\": \"y\",\n",
       "        \"x\": [\n",
       "            14.0,\n",
       "            14.0\n",
       "        ],\n",
       "        \"showlegend\": false,\n",
       "        \"mode\": \"lines\",\n",
       "        \"name\": \"PMF\",\n",
       "        \"zmin\": null,\n",
       "        \"legendgroup\": \"PMF\",\n",
       "        \"zmax\": null,\n",
       "        \"line\": {\n",
       "            \"color\": \"rgba(255, 0, 0, 1.000)\",\n",
       "            \"shape\": \"linear\",\n",
       "            \"dash\": \"solid\",\n",
       "            \"width\": 1\n",
       "        },\n",
       "        \"y\": [\n",
       "            0.0,\n",
       "            0.003430694341659546\n",
       "        ],\n",
       "        \"type\": \"scatter\"\n",
       "    },\n",
       "    {\n",
       "        \"xaxis\": \"x\",\n",
       "        \"colorbar\": {\n",
       "            \"title\": \"\"\n",
       "        },\n",
       "        \"yaxis\": \"y\",\n",
       "        \"x\": [\n",
       "            15.0,\n",
       "            15.0\n",
       "        ],\n",
       "        \"showlegend\": false,\n",
       "        \"mode\": \"lines\",\n",
       "        \"name\": \"PMF\",\n",
       "        \"zmin\": null,\n",
       "        \"legendgroup\": \"PMF\",\n",
       "        \"zmax\": null,\n",
       "        \"line\": {\n",
       "            \"color\": \"rgba(255, 0, 0, 1.000)\",\n",
       "            \"shape\": \"linear\",\n",
       "            \"dash\": \"solid\",\n",
       "            \"width\": 1\n",
       "        },\n",
       "        \"y\": [\n",
       "            0.0,\n",
       "            0.001583397388458252\n",
       "        ],\n",
       "        \"type\": \"scatter\"\n",
       "    },\n",
       "    {\n",
       "        \"xaxis\": \"x\",\n",
       "        \"colorbar\": {\n",
       "            \"title\": \"\"\n",
       "        },\n",
       "        \"yaxis\": \"y\",\n",
       "        \"x\": [\n",
       "            16.0,\n",
       "            16.0\n",
       "        ],\n",
       "        \"showlegend\": false,\n",
       "        \"mode\": \"lines\",\n",
       "        \"name\": \"PMF\",\n",
       "        \"zmin\": null,\n",
       "        \"legendgroup\": \"PMF\",\n",
       "        \"zmax\": null,\n",
       "        \"line\": {\n",
       "            \"color\": \"rgba(255, 0, 0, 1.000)\",\n",
       "            \"shape\": \"linear\",\n",
       "            \"dash\": \"solid\",\n",
       "            \"width\": 1\n",
       "        },\n",
       "        \"y\": [\n",
       "            0.0,\n",
       "            0.0006333589553833008\n",
       "        ],\n",
       "        \"type\": \"scatter\"\n",
       "    },\n",
       "    {\n",
       "        \"xaxis\": \"x\",\n",
       "        \"colorbar\": {\n",
       "            \"title\": \"\"\n",
       "        },\n",
       "        \"yaxis\": \"y\",\n",
       "        \"x\": [\n",
       "            17.0,\n",
       "            17.0\n",
       "        ],\n",
       "        \"showlegend\": false,\n",
       "        \"mode\": \"lines\",\n",
       "        \"name\": \"PMF\",\n",
       "        \"zmin\": null,\n",
       "        \"legendgroup\": \"PMF\",\n",
       "        \"zmax\": null,\n",
       "        \"line\": {\n",
       "            \"color\": \"rgba(255, 0, 0, 1.000)\",\n",
       "            \"shape\": \"linear\",\n",
       "            \"dash\": \"solid\",\n",
       "            \"width\": 1\n",
       "        },\n",
       "        \"y\": [\n",
       "            0.0,\n",
       "            0.0002111196517944336\n",
       "        ],\n",
       "        \"type\": \"scatter\"\n",
       "    },\n",
       "    {\n",
       "        \"xaxis\": \"x\",\n",
       "        \"colorbar\": {\n",
       "            \"title\": \"\"\n",
       "        },\n",
       "        \"yaxis\": \"y\",\n",
       "        \"x\": [\n",
       "            18.0,\n",
       "            18.0\n",
       "        ],\n",
       "        \"showlegend\": false,\n",
       "        \"mode\": \"lines\",\n",
       "        \"name\": \"PMF\",\n",
       "        \"zmin\": null,\n",
       "        \"legendgroup\": \"PMF\",\n",
       "        \"zmax\": null,\n",
       "        \"line\": {\n",
       "            \"color\": \"rgba(255, 0, 0, 1.000)\",\n",
       "            \"shape\": \"linear\",\n",
       "            \"dash\": \"solid\",\n",
       "            \"width\": 1\n",
       "        },\n",
       "        \"y\": [\n",
       "            0.0,\n",
       "            5.507469177246094e-5\n",
       "        ],\n",
       "        \"type\": \"scatter\"\n",
       "    },\n",
       "    {\n",
       "        \"xaxis\": \"x\",\n",
       "        \"colorbar\": {\n",
       "            \"title\": \"\"\n",
       "        },\n",
       "        \"yaxis\": \"y\",\n",
       "        \"x\": [\n",
       "            19.0,\n",
       "            19.0\n",
       "        ],\n",
       "        \"showlegend\": false,\n",
       "        \"mode\": \"lines\",\n",
       "        \"name\": \"PMF\",\n",
       "        \"zmin\": null,\n",
       "        \"legendgroup\": \"PMF\",\n",
       "        \"zmax\": null,\n",
       "        \"line\": {\n",
       "            \"color\": \"rgba(255, 0, 0, 1.000)\",\n",
       "            \"shape\": \"linear\",\n",
       "            \"dash\": \"solid\",\n",
       "            \"width\": 1\n",
       "        },\n",
       "        \"y\": [\n",
       "            0.0,\n",
       "            1.0013580322265625e-5\n",
       "        ],\n",
       "        \"type\": \"scatter\"\n",
       "    },\n",
       "    {\n",
       "        \"xaxis\": \"x\",\n",
       "        \"colorbar\": {\n",
       "            \"title\": \"\"\n",
       "        },\n",
       "        \"yaxis\": \"y\",\n",
       "        \"x\": [\n",
       "            20.0,\n",
       "            20.0\n",
       "        ],\n",
       "        \"showlegend\": false,\n",
       "        \"mode\": \"lines\",\n",
       "        \"name\": \"PMF\",\n",
       "        \"zmin\": null,\n",
       "        \"legendgroup\": \"PMF\",\n",
       "        \"zmax\": null,\n",
       "        \"line\": {\n",
       "            \"color\": \"rgba(255, 0, 0, 1.000)\",\n",
       "            \"shape\": \"linear\",\n",
       "            \"dash\": \"solid\",\n",
       "            \"width\": 1\n",
       "        },\n",
       "        \"y\": [\n",
       "            0.0,\n",
       "            9.5367431640625e-7\n",
       "        ],\n",
       "        \"type\": \"scatter\"\n",
       "    }\n",
       "]\n",
       ", {\n",
       "    \"showlegend\": true,\n",
       "    \"xaxis\": {\n",
       "        \"showticklabels\": true,\n",
       "        \"gridwidth\": 0.5,\n",
       "        \"tickvals\": [\n",
       "            0.0,\n",
       "            5.0,\n",
       "            10.0,\n",
       "            15.0,\n",
       "            20.0\n",
       "        ],\n",
       "        \"visible\": true,\n",
       "        \"ticks\": \"inside\",\n",
       "        \"range\": [\n",
       "            -0.6,\n",
       "            20.6\n",
       "        ],\n",
       "        \"domain\": [\n",
       "            0.09128390201224845,\n",
       "            0.9934383202099738\n",
       "        ],\n",
       "        \"tickmode\": \"array\",\n",
       "        \"linecolor\": \"rgba(0, 0, 0, 1.000)\",\n",
       "        \"showgrid\": true,\n",
       "        \"title\": \"Number of matches left, r\",\n",
       "        \"mirror\": false,\n",
       "        \"tickangle\": 0,\n",
       "        \"showline\": true,\n",
       "        \"gridcolor\": \"rgba(0, 0, 0, 0.100)\",\n",
       "        \"titlefont\": {\n",
       "            \"color\": \"rgba(0, 0, 0, 1.000)\",\n",
       "            \"family\": \"sans-serif\",\n",
       "            \"size\": 15\n",
       "        },\n",
       "        \"tickcolor\": \"rgb(0, 0, 0)\",\n",
       "        \"ticktext\": [\n",
       "            \"0\",\n",
       "            \"5\",\n",
       "            \"10\",\n",
       "            \"15\",\n",
       "            \"20\"\n",
       "        ],\n",
       "        \"zeroline\": false,\n",
       "        \"type\": \"-\",\n",
       "        \"tickfont\": {\n",
       "            \"color\": \"rgba(0, 0, 0, 1.000)\",\n",
       "            \"family\": \"sans-serif\",\n",
       "            \"size\": 11\n",
       "        },\n",
       "        \"zerolinecolor\": \"rgba(0, 0, 0, 1.000)\",\n",
       "        \"anchor\": \"y\"\n",
       "    },\n",
       "    \"paper_bgcolor\": \"rgba(255, 255, 255, 1.000)\",\n",
       "    \"annotations\": [],\n",
       "    \"height\": 400,\n",
       "    \"margin\": {\n",
       "        \"l\": 0,\n",
       "        \"b\": 20,\n",
       "        \"r\": 0,\n",
       "        \"t\": 20\n",
       "    },\n",
       "    \"plot_bgcolor\": \"rgba(255, 255, 255, 1.000)\",\n",
       "    \"yaxis\": {\n",
       "        \"showticklabels\": true,\n",
       "        \"gridwidth\": 0.5,\n",
       "        \"tickvals\": [\n",
       "            0.0,\n",
       "            0.02,\n",
       "            0.04,\n",
       "            0.06,\n",
       "            0.08,\n",
       "            0.1,\n",
       "            0.12\n",
       "        ],\n",
       "        \"visible\": true,\n",
       "        \"ticks\": \"inside\",\n",
       "        \"range\": [\n",
       "            -0.0037611206285873776,\n",
       "            0.12913180824816664\n",
       "        ],\n",
       "        \"domain\": [\n",
       "            0.07581474190726165,\n",
       "            0.9901574803149606\n",
       "        ],\n",
       "        \"tickmode\": \"array\",\n",
       "        \"linecolor\": \"rgba(0, 0, 0, 1.000)\",\n",
       "        \"showgrid\": true,\n",
       "        \"title\": \"Probability\",\n",
       "        \"mirror\": false,\n",
       "        \"tickangle\": 0,\n",
       "        \"showline\": true,\n",
       "        \"gridcolor\": \"rgba(0, 0, 0, 0.100)\",\n",
       "        \"titlefont\": {\n",
       "            \"color\": \"rgba(0, 0, 0, 1.000)\",\n",
       "            \"family\": \"sans-serif\",\n",
       "            \"size\": 15\n",
       "        },\n",
       "        \"tickcolor\": \"rgb(0, 0, 0)\",\n",
       "        \"ticktext\": [\n",
       "            \"0.00\",\n",
       "            \"0.02\",\n",
       "            \"0.04\",\n",
       "            \"0.06\",\n",
       "            \"0.08\",\n",
       "            \"0.10\",\n",
       "            \"0.12\"\n",
       "        ],\n",
       "        \"zeroline\": false,\n",
       "        \"type\": \"-\",\n",
       "        \"tickfont\": {\n",
       "            \"color\": \"rgba(0, 0, 0, 1.000)\",\n",
       "            \"family\": \"sans-serif\",\n",
       "            \"size\": 11\n",
       "        },\n",
       "        \"zerolinecolor\": \"rgba(0, 0, 0, 1.000)\",\n",
       "        \"anchor\": \"x\"\n",
       "    },\n",
       "    \"legend\": {\n",
       "        \"borderwidth\": 1,\n",
       "        \"tracegroupgap\": 0,\n",
       "        \"font\": {\n",
       "            \"color\": \"rgba(0, 0, 0, 1.000)\",\n",
       "            \"family\": \"sans-serif\",\n",
       "            \"size\": 11\n",
       "        },\n",
       "        \"title\": {\n",
       "            \"font\": {\n",
       "                \"color\": \"rgba(0, 0, 0, 1.000)\",\n",
       "                \"family\": \"sans-serif\",\n",
       "                \"size\": 15\n",
       "            },\n",
       "            \"text\": \"\"\n",
       "        },\n",
       "        \"traceorder\": \"normal\",\n",
       "        \"x\": 1.0,\n",
       "        \"yanchor\": \"auto\",\n",
       "        \"xanchor\": \"auto\",\n",
       "        \"bordercolor\": \"rgba(0, 0, 0, 1.000)\",\n",
       "        \"bgcolor\": \"rgba(255, 255, 255, 1.000)\",\n",
       "        \"y\": 1.0\n",
       "    },\n",
       "    \"width\": 600\n",
       "}\n",
       ");\n",
       "    });\n",
       "    </script>\n",
       "\n",
       "    </body>\n",
       "</html>\n"
      ]
     },
     "execution_count": 22,
     "metadata": {},
     "output_type": "execute_result"
    }
   ],
   "source": [
    "# Banach's matchbox problem\n",
    "# Distribution of the waiting time to find the any of the matchboxes empty\n",
    "\n",
    "using Plots\n",
    "using Distributions\n",
    "plotlyjs()\n",
    "\n",
    "N = 20\n",
    "\n",
    "function negative_binomial(k,r,p)\n",
    "    return binomial(r + k - 1,k) * (p^r) * (1-p)^k\n",
    "end\n",
    "\n",
    "plot([r for r in 0:N],[2*negative_binomial(N-r,N+1,0.50) for r in 0:N],\n",
    "        line=:stem, marker=:circle, c=:red,\n",
    "        xlabel=\"Number of matches left, r\",\n",
    "        ylabel=\"Probability\",\n",
    "        label=\"PMF\")"
   ]
  },
  {
   "cell_type": "markdown",
   "metadata": {},
   "source": [
    "## The Hypergeometric distribution.\n",
    "\n",
    "If we have an urn filled with $w$ white balls and $b$ black balls, then drawing $n$ balls out of the urn with replacement yields a $b(k;n,w/(w+b))$ distribution for the number of white balls obtained in $n$ trials, since the draws are independent Bernoulli trials, each with probability $w/(w+b)$ of success. If we instead sample without replacement, then the number of white balls follows a *hypergeometric distribution*\n",
    "\n",
    "Consider an urn with $w$ white balls and $b$ black balls. We draw $n$ balls out of the urn at random without replacement, such that all ${w + b} \\choose n$ samples are equally likely. Let $X$ be the number of white balls in the sample. Then, $X$ is said to have the *hypergeometric distribution* with parameters $w$, $b$ and $n$; we denote this by $X \\sim HGeom(w,b,n)$.\n",
    "\n",
    "As with the binomial distribution, we can obtain the PMF of the hypergeometric distribution from the story.\n",
    "\n",
    "---\n",
    "*Theorem.* If $X \\sim HGeom(w,b,n)$, then the PMF of $X$ is\n",
    "\n",
    "\\begin{align*}\n",
    "P(X=k) = \\frac{{w \\choose k}{b \\choose n -k}}{{w+b} \\choose n} \\tag{30}\n",
    "\\end{align*}\n",
    "\n",
    "---"
   ]
  },
  {
   "cell_type": "markdown",
   "metadata": {},
   "source": [
    "*Proof.*\n",
    "\n",
    "To get $P(X=k)$, we first count the number of possible ways to draw exactly $k$ white balls and $n-k$ black balls (without distinguishing between different orderings for getting the same set of balls.) There are ${w \\choose k}{b \\choose {n - k}}$ ways to draw $k$ white balls and $n - k$ black balls by the multiplication rule, and there are a total of ${w + b} \\choose n$ total ways to draw $n$ balls from $w + b$ balls. Since all samples are equally likely, the naive definition of probability gives\n",
    "\n",
    "\\begin{align*}\n",
    "P(X = k) = \\frac{{w \\choose k}{b \\choose {n-k}}}{{w + b} \\choose n}\n",
    "\\end{align*}"
   ]
  },
  {
   "cell_type": "markdown",
   "metadata": {},
   "source": [
    "The hypergeometric distribution comes up in many scenarios which, on the surface, have little in common with white and black balls in an urn. The essential structure of the Hypergeometric story is that items in a population are classified using two sets of tags: in the urn story, each ball is either white or black(this is the first set of tags), and each ball is either sampled or not sampled(this is the second set of tags). Furthermore, at least one of these sets of tags is assigned completely at random (in the urn story, the balls are sampled randomly, with all sets of the correct size equally likely). Then, $X \\sim HGeom(w,b,n)$ represents the number of twice-tagged items: in the urn story, balls that are both white and sampled.\n",
    "\n",
    "The next two examples show seemingly dissimilar scenarios that are nonetheless isomorphic to the urn story."
   ]
  },
  {
   "cell_type": "markdown",
   "metadata": {},
   "source": [
    "Example. *Elk capture-recapture*. A forest has $N$ elk. Today, $m$ of the elks are captured, tagged and released into the wild. At a later date, $n$ elks are recaptured at random. Assume that the recaptured elks are equally likely to be any set of $n$ of the elk e.g. an elk that has been captured does not learn how to avoid being captured again."
   ]
  },
  {
   "cell_type": "markdown",
   "metadata": {},
   "source": [
    "By the story of the hypergeometric, the number of tagged elks in the recaptured sample is $HGeom(m,N-m,n)$. The $m$ tagged elks in this story correspond to the white balls and the $N-m$ untagged elks correspond to the black balls. Instead of sampling $n$ balls from the urn, we recapture $n$ elk from the forest. "
   ]
  },
  {
   "cell_type": "markdown",
   "metadata": {},
   "source": [
    "Example. *Aces in a poker hand* In a five card hand drawn at random from well-shuffled deck, the number of aces in the hand $HGeom(4,48,5)$ distribution, which can be seen by thinking of the aces as the white balls and the non-aces as the black balls. Using the hypergeometric PMF, the probability that the hand has exactly three aces is\n",
    "\n",
    "\\begin{align*}\n",
    "P(X = 3) = \\frac{{4 \\choose 3}{48 \\choose 2}}{52 \\choose 5} \\approx 0.0017\n",
    "\\end{align*}"
   ]
  },
  {
   "cell_type": "markdown",
   "metadata": {},
   "source": [
    "## Discrete Uniform distribution.\n",
    "\n",
    "A very simple story, closely connected to the naive definition of probability describes picking a random number from some finite set of possibilities. \n",
    "\n",
    "---\n",
    "Story. (*Discrete Uniform distribution*) Let $C$ be a finite, nonempty set of numbers. Choose one of the numbers uniformly at random (all values in $C$ are equally likely). Call the chosen number $X$. Then, $X$ is said to have the *discrete uniform distribution* with parameter $C$; we denote this by $X \\sim DUnif(C)$.\n",
    "\n",
    "The PMF of $X \\sim DUnif(C)$ is:\n",
    "\n",
    "\\begin{align*}\n",
    "P(X = x) = \\frac{1}{|C|} \\tag{31}\n",
    "\\end{align*}\n",
    "\n",
    "for $x \\in C$ (and $0$ otherwise), since a PMF must sum to $1$.\n",
    "\n",
    "---\n",
    "\n",
    "As with questions based on the naive definition of probability, questions based on a discrete uniform distribution reduce to counting problems. Specifically, for $X \\sim DUnif(C)$ and any $A \\subseteq C$, we have:\n",
    "\n",
    "\\begin{align*}\n",
    "P(X \\in A) = \\frac{|A|}{|C|} \\tag{32}\n",
    "\\end{align*}"
   ]
  },
  {
   "cell_type": "markdown",
   "metadata": {},
   "source": [
    "---\n",
    "Example. *Random slips of paper*. There are 100 slips of paper in a hat, each of which has one of the numbers $1,2,\\ldots,100$ written on to it, with no number appearing more than once. Five of the slips are drawn one at a time.\n",
    "\n",
    "First consider random sampling with replacement (with equal probabilities).\n",
    "\n",
    "(a) What is the distribution of how many of the drawn slips have a value of atleast 80 written on them?\n",
    "\n",
    "(b) What is the distribution of the value of the $j$th draw (for $1 \\leq j \\le 5$)?\n",
    "\n",
    "(c) What is the probability that the number $100$ is drawn atleast once?\n",
    "\n",
    "*Now consider random sampling without replacement (with all sets of five slips equally likely to be chosen).*\n",
    "\n",
    "(d) What is the distribution of how many of the drawn slips have a value of atleast 80 written on them?\n",
    "\n",
    "(e) What is the distribution of the value of the $j$th draw (for $1 \\leq j \\le 5$)?\n",
    "\n",
    "(f) What is the probability that the number $100$ is drawn in the sample?\n",
    "\n",
    "---\n",
    "\n",
    "*Solution.*\n",
    "(a) Let us identify success as drawing a slip with a value of atleast $80$ written on it. We are sampling with replacement. Hence, these are independent and identical Bernoulli trials. The probability of success $p = \\frac{21}{100}$, the probability of failure $q = \\frac{79}{100}$. Let $X$ be the number of successes in $n=5$ trials. $X \\sim Bin(k;5,0.21)$. The PMF of $X$ is given by,\n",
    "\n",
    "\\begin{align*}\n",
    "P(X=k) &= {5 \\choose k}(0.21)^k (0.79)^{5-k}\n",
    "\\end{align*}"
   ]
  },
  {
   "cell_type": "markdown",
   "metadata": {},
   "source": [
    "(b) Let $X$ be the value of the $j$th draw. $X \\sim DUnif(\\{1,2,3,\\ldots,100\\})$. The PMF of $X$ is given by,\n",
    "\n",
    "\\begin{align*}\n",
    "P(X = x) &= \\frac{1}{100}\n",
    "\\end{align*}"
   ]
  },
  {
   "cell_type": "markdown",
   "metadata": {},
   "source": [
    "(c) Let us identify success with drawing $100$. We are sampling with replacement. Hence, these are independent and identical Bernoulli trials with probability of success, $p = \\frac{1}{100}$. Let $X$ be the number of times $100$ is drawn. $X \\sim Bin(k;5,\\frac{1}{100})$.\n",
    "\n",
    "\\begin{align*}\n",
    "P(X \\geq 1) &= 1 - P(X=0)\\\\\n",
    "&= 1 - q^5 \\\\\n",
    "&= 1 - \\left(\\frac{99}{100}\\right)^5\n",
    "\\end{align*}"
   ]
  },
  {
   "cell_type": "markdown",
   "metadata": {},
   "source": [
    "(d) We are sampling without replacement. $X \\sim HGeom(21,79,5)$. The PMF of $X$ is given by \n",
    "\n",
    "\\begin{align*}\n",
    "P(X=k) = \\frac{{21 \\choose k}{79 \\choose 5-k}}{100 \\choose 5}\n",
    "\\end{align*}"
   ]
  },
  {
   "cell_type": "markdown",
   "metadata": {},
   "source": [
    "(e) Let $X$ be the number drawn in the $j$th trial. We are sampling without replacement, so the draws are not independent. However, still, the unconditional probability of drawing a pre-specified value in the $j$th draw, given that we don't have any knowledge about the numbers drawn in trials $1,\\ldots,j-1$, is given by:\n",
    "\n",
    "\\begin{align*}\n",
    "P(X = k) = \\frac{1}{100}\n",
    "\\end{align*}\n",
    "\n",
    "(f) Let us identify success as including the number $100$ in the sample.  We are sampling without replacement, so the draws are not independent. Let $X$ be the number of successes in $n = 5$ trials. $X \\sim HGeom(1,99,5)$. The probability of exactly one success is,\n",
    "\n",
    "\\begin{align*}\n",
    "P(X = 1) &= \\frac{{1 \\choose 1}{99 \\choose 4}}{100 \\choose 5}\n",
    "\\end{align*}"
   ]
  },
  {
   "cell_type": "markdown",
   "metadata": {},
   "source": [
    "## Cumulative Distribution Functions.\n",
    "\n",
    "Another function that describes the distribution of a random variable is the *cumulative distribution function*(CDF). Unlike the PMF, which only discrete r.v.s possess, the CDF is defined for all r.v.s.\n",
    "\n",
    "---\n",
    "**Definition** (Cumulative Distribution Function). The cumulative distribution function (CDF) of an r.v. $X$ is the function $F_X$ given by $F_X(x) = P(X \\leq x)$. When there is no risk of ambiguity, we sometimes drop the subscript and just write $F$ for a CDF.\n",
    "\n",
    "---"
   ]
  },
  {
   "cell_type": "markdown",
   "metadata": {},
   "source": [
    "---\n",
    "**Theorem.** (Valid CDFs). Any CDF $F$ has the following properties.\n",
    "\n",
    "1) Increasing. If $x_1 < x_2$, then $F(x_1) < F(x_2)$.\n",
    "\n",
    "2) Right-continuous. The CDF is right continuous, that is\n",
    "\n",
    "\\begin{align*}\n",
    "\\lim_{x \\to a^{+}} F(x) = F(a)\n",
    "\\end{align*}\n",
    "\n",
    "3) Convergence to $0$ and $1$ in the limits:\n",
    "\n",
    "\\begin{align*}\n",
    "\\lim_{x \\to -\\infty} F(x) = 0 \\quad \\text{ and } \\quad \\lim_{x \\to \\infty}F(x) = 1\n",
    "\\end{align*}\n",
    "\n",
    "---"
   ]
  },
  {
   "cell_type": "markdown",
   "metadata": {},
   "source": [
    "*Proof.*\n",
    "The above criteria are true for all CDFs.\n",
    "\n",
    "The first criterion is true, because the event $\\{X \\leq x_1\\}$ is a subset of the event $\\{X \\leq x_2\\}$. So, $P(X \\leq x_1) \\leq P(X \\leq x_2)$. Consequently, $F_X(x_1) \\leq F_X(x_2)$.\n",
    "\n",
    "To prove the second criterion rigorously, we need to first show that $\\mathbb{P}$ is a continuous set function. That is, if $A_1 \\supseteq A_2 \\supseteq A_3 \\ldots$ and $A = \\bigcap_{n=1}^{\\infty}A_n$, then as $n \\to \\infty$, $P(A_n) \\to P(A)$. We skip this rigorous proof for the moment, but see that it is intuitively true from the graph of a CDF.\n",
    "\n",
    "For the third criterion, we have $F(x) = 0$ for $x<0$ and\n",
    "\n",
    "\\begin{align*}\n",
    "\\lim_{x \\to \\infty}F(x) = \\lim_{x \\to \\infty} P(X \\leq [[x]]) = \\lim_{x \\to \\infty}\\sum_{n=0}^{[[x]]}P(X =n) = \\sum_{n=0}^{\\infty}P(X=n) = 1\n",
    "\\end{align*}\n",
    "\n",
    "The converse is true too: we will show that given any function $F$ that meets this criteria, we can construct a random variable $X$ whose CDF is $F$."
   ]
  },
  {
   "cell_type": "code",
   "execution_count": null,
   "metadata": {},
   "outputs": [],
   "source": []
  }
 ],
 "metadata": {
  "kernelspec": {
   "display_name": "Julia 1.5.3",
   "language": "julia",
   "name": "julia-1.5"
  },
  "language_info": {
   "file_extension": ".jl",
   "mimetype": "application/julia",
   "name": "julia",
   "version": "1.5.3"
  }
 },
 "nbformat": 4,
 "nbformat_minor": 4
}
