{
 "cells": [
  {
   "cell_type": "markdown",
   "metadata": {},
   "source": [
    "## Introduction.\n",
    "\n",
    "Suppose, we have a thin straight metallic bar of length $(b-a)$, placed on the $x$-axis in the Cartesian plane with end-points $x=a$ and $x=b$. Assume that the density $f$ (how compactly or sparsely the atoms in the metal are packed) of the metal is variable and is a function of the position $x$. Assume that density per unit length at the point $x$ is $f(x)$ kg/m. We plot the density function $y=f(x)$  in the Cartesian plane below.\n"
   ]
  },
  {
   "attachments": {
    "density_plot02.png": {
     "image/png": "[encoded data removed]"
    }
   },
   "cell_type": "markdown",
   "metadata": {},
   "source": [
    "![density_plot02.png](attachment:density_plot02.png)"
   ]
  },
  {
   "cell_type": "markdown",
   "metadata": {},
   "source": [
    "We are interested to compute the mass of the metallic bar. We divide the entire interval $[a,b]$ into $n$ subintervals:\n",
    "\n",
    "$$a = x_0 < x_1 < x_2 < \\ldots < x_n = b$$\n",
    "\n",
    "and let $\\Delta x_i = x_i - x_{i-1}$ be the length of the $i$th subinterval.\n",
    "\n",
    "The mass contribution of the $i$th subinterval is given by, $\\text{Mass} = \\text{Density} \\times \\text{Length}$. Let $x_i^{*}$ be a test-point chosen at random in the $i$th subinterval i.e. $x_{i-1} \\leq x_i^{*} \\leq x_i$. We sample the density function $f(x)$ at this point. So, the mass of this teeny weeny element is:\n",
    "\n",
    "$$m_i = f(x_i^{*})\\Delta x_i$$\n",
    "\n",
    "and the total mass is approximately given by adding up the mass contributions of all the small elements:\n",
    "\n",
    "$$M_n = \\sum_{i=1}^{n} f(x_i^{*})\\Delta x_i$$.\n",
    "\n",
    "Let us increase the number of sub-intervals $n$. As $n \\to \\infty$, the sum $M_n$ approaches true mass $M$. \n",
    "\n",
    "$$M = \\lim_{\\text{all } \\Delta x_i \\to 0} \\sum_{i=1}^{n} f(x_i^{*})\\Delta x_i$$\n",
    "\n",
    "The limit of the weighted sum is the definite integral \n",
    "\n",
    "$$M = \\int_{a}^{b}f(x) dx$$"
   ]
  },
  {
   "cell_type": "markdown",
   "metadata": {},
   "source": [
    "Let $X$ be a random variable, that can take on an uncountable number of values in $[a,b]$. Suppose that the probability that $X$ falls in a small infinitesimal interval $(x,x+dx)$ is variable and is a function of $x$, $f(x)dx$. $f(x)$ is said to be the probability density function of $X$. Then the total probability mass that $X$ falls between $a$ and $b$ is given by:\n",
    "\n",
    "$$P(a \\leq X \\leq b) = \\int_{a}^{b} f(x) dx$$\n",
    "\n",
    "*The numerical value $f(x)$ is not a probability*. It is a density. We can think of $f(x)dx$ as an element of probability $P(x < X \\leq x + dx)$. \n"
   ]
  },
  {
   "cell_type": "markdown",
   "metadata": {},
   "source": [
    "## Continuous Random Variables.\n",
    "\n",
    "A random variable $X$ is continuous if its cumulative distribution function $F(x) = P(X \\leq x)$ is differentiable. \n",
    "\n",
    "---\n",
    "**Definition.** A random variable $X$ is said to be continuous if its cumulative distribution function (CDF) $F(x)$ is differentiable and can be expressed as:\n",
    "\n",
    "$$F_X(x) = \\int_{-\\infty}^{x}f_X(x) dx \\tag{1}$$\n",
    "\n",
    "---\n",
    "\n",
    "---\n",
    "**Definition.** The function $f_X$ is called the probability density function (PDF) of the continuous random variable $X$. \n",
    "\n",
    "---\n",
    "\n",
    "Continuous random variables contrast starkly with discrete random variables in that $P(X=x)=0$ for all $x \\in \\mathbf{R}$; this may seem paradoxical since $X$ necessarily takes some value. Very roughly speaking the resolution of this paradox lies in the observation that there uncountably many possible values for $X$, this number is so large, that the probability of taking any particular value cannot exceed zero. "
   ]
  },
  {
   "cell_type": "markdown",
   "metadata": {},
   "source": [
    "The probability that $X$ takes a value in the interval $[a,b]$ from (1) is:\n",
    "\n",
    "$$P(a \\leq x \\leq b)=P(X \\leq b) - P(X \\leq a) = F_X(b) - F_X(a) = \\int_{a}^{b}f_X(x) dx \\tag{2}$$"
   ]
  },
  {
   "cell_type": "markdown",
   "metadata": {},
   "source": [
    "---\n",
    "**Theorem.** The PDF $f(x)$ of a continuous random variable must satisfy the following two criteria:\n",
    "\n",
    "1. Non-negative: $f(x) \\leq 0$\n",
    "2. Integrates to $1$ : $\\int_{\\infty}^{\\infty} f(x) dx = 1$\n",
    "\n",
    "---"
   ]
  },
  {
   "cell_type": "markdown",
   "metadata": {},
   "source": [
    "The first criterion is true, because probability is non-negative; if $f(x_0)$ were non-negative, then we could integrate over a tiny region around $x_0$ and get a negative probability.\n",
    "\n",
    "The second criterion is true, since $\\int_{\\infty}^{\\infty}f(x)dx$ is the probability of $X$ falling somewhere on the real line, which is $1$."
   ]
  },
  {
   "cell_type": "markdown",
   "metadata": {},
   "source": [
    "Conversely any such function $f$  is the PDF of some random variable. This is because if $f$ satisfies these properties, we can integrate is to get a function $F$ that satisfies the properties of a CDF. Then, a version of Universality of the uniform, the main concept in the next section can be used to create a random variable with CDF $F$."
   ]
  },
  {
   "cell_type": "markdown",
   "metadata": {},
   "source": [
    "---\n",
    "**Example 1.** (Logistic Distribution). The logistic distribution has the CDF\n",
    "\n",
    "$$F_X(x) = \\frac{e^x}{1 + e^x}, \\quad x \\in \\mathbf{R}$$\n",
    "\n",
    "---"
   ]
  },
  {
   "cell_type": "markdown",
   "metadata": {},
   "source": [
    "To get the PDF, we differentiate the CDF, which gives:\n",
    "\n",
    "\\begin{align*}\n",
    "f(x) &= \\frac{(1+e^x)e^x - e^x\\cdot e^x}{(1+e^x)^2}\\\\\n",
    "&=\\frac{e^x + e^{2x} -e^{2x}}{(1+e^x)^2}\\\\\n",
    "&=\\frac{e^x}{(1+e^x)^2}\n",
    "\\end{align*}"
   ]
  },
  {
   "cell_type": "markdown",
   "metadata": {},
   "source": [
    "Let $X$ be a logistic random variable. To find $P(-2 < X < 2)$, we need to integrate the PDF from $-2$ to $2$. \n",
    "\n",
    "$$P(-2 < X < 2) = \\int_{-2}^{2} \\frac{e^x}{(1 + e^x)^2} dx = F(2) - F(-2) \\approx 0.76$$"
   ]
  },
  {
   "cell_type": "markdown",
   "metadata": {},
   "source": [
    "The integral was easy to evaluate since we already knew that $F$ was an antiderivative for $f$ and we had a nice expression for $F$. Otherwise, we could have made the substitution $u = 1 + e^x$, so that $e^x dx = du$. This gives:\n",
    "\n",
    "\\begin{align*}\n",
    "\n",
    "\\end{align*}"
   ]
  }
 ],
 "metadata": {
  "kernelspec": {
   "display_name": "Python 3",
   "language": "python",
   "name": "python3"
  },
  "language_info": {
   "codemirror_mode": {
    "name": "ipython",
    "version": 3
   },
   "file_extension": ".py",
   "mimetype": "text/x-python",
   "name": "python",
   "nbconvert_exporter": "python",
   "pygments_lexer": "ipython3",
   "version": "3.8.3"
  }
 },
 "nbformat": 4,
 "nbformat_minor": 4
}
