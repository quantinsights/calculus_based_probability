{
 "cells": [
  {
   "cell_type": "markdown",
   "metadata": {},
   "source": [
    "## Random Variables\n",
    "\n",
    "According to the definition given in calculus textbooks, the quantity $y$ is called a function of the real number $x$, if to every $x$ there corresponds a value $y$. This definition can be extended to cases where the independent variable is not a real number. Thus, we call the distance a function of a pair of points; the perimeter of a triangle is a function defined on the set of triangles; a sequence $(a_n)$ is a function for all positive integers; the binomial coefficient ${x \\choose k}$ is a function defined for pairs of numbers $(x,k)$ of which the second is a non-negative integer. In the same sense, we can say the the number $S_n$ of successes in $n$ Bernoulli trails is a function defined on the same space; to each of the $2^n$ points in this space, there corresponds a number $S_n$.\n",
    "\n",
    "---\n",
    "**Definition (Random Variable).** A function defined on a sample space is called a random variable.\n",
    "\n",
    "---\n",
    "\n",
    "Typical random variables are the number of aces in a hand at bridge, the number of successes in $n$ Bernoulli trials, the waiting time for the $r$th success etc. In each case, there is unique rule which associates a number $X$ with any sample point $\\omega$. The classical theory of probability was devoted mainly to a study of gambler's gain, which is again a random variable; in fact every random variable can be interpreted as the gain of a real or imaginary gambler in a suitable game. The position of a particle under diffusion, the energy, temperature of physical systems are random variables, but they are defined in non-discrete sample spaces, and their study is therefore deferred."
   ]
  }
 ],
 "metadata": {
  "kernelspec": {
   "display_name": "Julia 1.5.3",
   "language": "julia",
   "name": "julia-1.5"
  },
  "language_info": {
   "file_extension": ".jl",
   "mimetype": "application/julia",
   "name": "julia",
   "version": "1.5.3"
  }
 },
 "nbformat": 4,
 "nbformat_minor": 4
}
