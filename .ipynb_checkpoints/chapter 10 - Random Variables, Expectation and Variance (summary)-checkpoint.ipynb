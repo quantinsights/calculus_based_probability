{
 "cells": [
  {
   "cell_type": "markdown",
   "metadata": {},
   "source": [
    "## Random Variables\n",
    "\n",
    "According to the definition given in calculus textbooks, the quantity $y$ is called a function of the real number $x$, if to every $x$ there corresponds a value $y$. This definition can be extended to cases where the independent variable is not a real number. Thus, we call the distance a function of a pair of points; the perimeter of a triangle is a function defined on the set of triangles; a sequence $(a_n)$ is a function for all positive integers; the binomial coefficient ${x \\choose k}$ is a function defined for pairs of numbers $(x,k)$ of which the second is a non-negative integer. In the same sense, we can say the the number $S_n$ of successes in $n$ Bernoulli trails is a function defined on the same space; to each of the $2^n$ points in this space, there corresponds a number $S_n$.\n",
    "\n",
    "---\n",
    "**Definition (Random Variable).** A function defined on a sample space is called a random variable.\n",
    "\n",
    "---\n",
    "\n",
    "Typical random variables are the number of aces in a hand at bridge, the number of successes in $n$ Bernoulli trials, the waiting time for the $r$th success etc. In each case, there is unique rule which associates a number $X$ with any sample point $\\omega$. The classical theory of probability was devoted mainly to a study of gambler's gain, which is again a random variable; in fact every random variable can be interpreted as the gain of a real or imaginary gambler in a suitable game. The position of a particle under diffusion, the energy, temperature of physical systems are random variables, but they are defined in non-discrete sample spaces, and their study is therefore deferred. In the case of a discrete sample space, we can actually tabulate any random variable $X$ by enumerating in some order all points of the space and associating with each the corresponding value of $X$.\n",
    "\n",
    "Let $X$ be a random variable and let $x_1,x_2,\\ldots$ be the values which it assumes; in most of what follows the $x_j$ will be integers. The aggregate of all sample points on which $X$ assumes the fixed value $x_j$ forms the event $X = x_j$; its probability is denoted by $P\\{X = x_j\\}$.\n",
    "\n",
    "The function\n",
    "\n",
    "\\begin{align*}\n",
    "P(X=x_j) = f(x_j) \\quad (j=1,2,\\ldots) \\tag{1}\n",
    "\\end{align*}\n",
    "\n",
    "is called the probability mass function (PMF) of the random varibale $X$. Clearly, \n",
    "\n",
    "\\begin{align*}\n",
    "f(x_j) \\geq 0, \\quad \\sum f(x_j) = 1 \\tag{2}\n",
    "\\end{align*}"
   ]
  },
  {
   "cell_type": "code",
   "execution_count": null,
   "metadata": {},
   "outputs": [],
   "source": []
  }
 ],
 "metadata": {
  "kernelspec": {
   "display_name": "Julia 1.5.3",
   "language": "julia",
   "name": "julia-1.5"
  },
  "language_info": {
   "file_extension": ".jl",
   "mimetype": "application/julia",
   "name": "julia",
   "version": "1.5.3"
  }
 },
 "nbformat": 4,
 "nbformat_minor": 4
}
