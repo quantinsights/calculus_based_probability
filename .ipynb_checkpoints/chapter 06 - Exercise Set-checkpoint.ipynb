{
 "cells": [
  {
   "cell_type": "markdown",
   "metadata": {},
   "source": [
    "# Exercise Problems.\n",
    "\n",
    "1.Assuming all sex distributions to be equally probable,  what proportion of families with exactly six children should be expected to have three boys and three girls?\n",
    "\n",
    "*Solution.*\n",
    "\n",
    "Let us identify success with the child being a girl, and failure as the child being a boy. Let the r.v. $X$ be the number of successes in $n=6$ trials. The required probability is,\n",
    "\n",
    "\\begin{align*}\n",
    "P(X=3) &= {6 \\choose 3}\\left(\\frac{1}{2}\\right)^3\\left(1-\\frac{1}{2}\\right)^3\\\\\n",
    "&={6 \\choose 3}\\left(\\frac{1}{2}\\right)^6 \\\\\n",
    "&=0.3125\n",
    "\\end{align*}"
   ]
  },
  {
   "cell_type": "code",
   "execution_count": 3,
   "metadata": {},
   "outputs": [
    {
     "data": {
      "text/plain": [
       "0.3125"
      ]
     },
     "execution_count": 3,
     "metadata": {},
     "output_type": "execute_result"
    }
   ],
   "source": [
    "using Distributions\n",
    "\n",
    "binomial(6,3)*(0.5)^6"
   ]
  },
  {
   "cell_type": "markdown",
   "metadata": {},
   "source": [
    "2.A bridge player had no ace in three consecutive hands. Did he have reason to complain of ill luck?\n",
    "\n",
    "*Solution*.\n",
    "\n",
    "Let us identify success with getting one or more aces in drawing a bridge card hand. The probability $q$ of no ace in a bridge card hand is given by,\n",
    "\n",
    "\\begin{align*}\n",
    "q &= \\frac{{48 \\choose 13}}{{52 \\choose 13}}\\\\\n",
    "&= 0.3038175\n",
    "\\end{align*}\n",
    "\n",
    "If the $3$ bridge card hands are drawn with replacement, then these are independent Bernoulli trials. So, the probability of no ace in three consecutive hands is $q^3 = 0.028043$."
   ]
  },
  {
   "cell_type": "code",
   "execution_count": 4,
   "metadata": {},
   "outputs": [
    {
     "data": {
      "text/plain": [
       "0.30381752701080433"
      ]
     },
     "execution_count": 4,
     "metadata": {},
     "output_type": "execute_result"
    }
   ],
   "source": [
    "q = binomial(48,13)/binomial(52,13)"
   ]
  },
  {
   "cell_type": "code",
   "execution_count": 6,
   "metadata": {},
   "outputs": [
    {
     "data": {
      "text/plain": [
       "0.028043904088925094"
      ]
     },
     "execution_count": 6,
     "metadata": {},
     "output_type": "execute_result"
    }
   ],
   "source": [
    "q^3"
   ]
  },
  {
   "cell_type": "markdown",
   "metadata": {},
   "source": [
    "3.How long has a series of random digits to be in order for the probability of the digit $7$ appearing to be atleast $\\frac{9}{10}$?\n",
    "\n",
    "*Solution.*\n",
    "\n",
    "Let us identify success with the appearance of the digit $7$. The probability $p$ of success is $\\frac{1}{10}$. Since each digit is randomly drawn from $\\{0,1,2,3,4,5,6,7,8,9\\}$ with replacement, these are independent Bernoulli trials. Let $X$ be the number of successes in $n$ Bernoulli trials. $X$ follows the binomial distribution.\n",
    "\n",
    "\\begin{align*}\n",
    "P(X=k) = {n \\choose k}p^k {q^{n-k}}\n",
    "\\end{align*}\n",
    "\n",
    "We are interested to find $k$ such that,\n",
    "\n",
    "\\begin{align*}\n",
    "P(X=0) &\\leq \\left(1-\\frac{9}{10}\\right)\\\\\n",
    "q^n &\\leq 0.1\\\\\n",
    "\\left(\\frac{9}{10}\\right)^n &\\leq 0.1 \\\\\n",
    "n \\log(0.9) &\\leq \\log 0.1 \\\\\n",
    "n &\\geq \\frac{\\log 0.1}{\\log 0.9}\\\\\n",
    "&= 21.85434\n",
    "\\end{align*}\n",
    "\n",
    "So, $n \\geq 22$ trials."
   ]
  },
  {
   "cell_type": "code",
   "execution_count": 9,
   "metadata": {},
   "outputs": [
    {
     "data": {
      "text/plain": [
       "21.854345326782834"
      ]
     },
     "execution_count": 9,
     "metadata": {},
     "output_type": "execute_result"
    }
   ],
   "source": [
    "log(0.1)/log(0.9)"
   ]
  },
  {
   "cell_type": "markdown",
   "metadata": {},
   "source": [
    "4.How many independent bridge dealings are required in order for the probability of a preassigned player having four aces at least once to be $\\frac{1}{2}$ or better? Solve again for some player instead of a given one.\n",
    "\n",
    "*Solution.*\n",
    "\n",
    "(a) Let us identify success as a pre-assigned player (e.g. North) getting four aces in a bridge card hand. The probability $p$ of success is ${48 \\choose 9}/{52 \\choose 13}$. Since each dealing is independent, these are independent Bernoulli trials. Let $X$ be the number of successes in $n$ independent dealings.\n",
    "\n",
    "We are interested to have,\n",
    "\n",
    "\\begin{align*}\n",
    "P(X \\geq 1) &\\geq \\frac{1}{2}\\\\\n",
    "1 - P(X \\geq 1) &\\leq \\frac{1}{2}\\\\\n",
    "P(X = 0) &\\leq 0.50 \\\\\n",
    "\\left(1-\\frac{48 \\choose 9}{52 \\choose 13}\\right)^n  &\\leq 0.50 \\\\\n",
    "0.9973589^n & \\leq 0.50 \\\\\n",
    "n &\\geq \\frac{\\log 0.50}{\\log 0.9973589}\\\\\n",
    "n &\\geq 262.10\n",
    "\\end{align*}"
   ]
  },
  {
   "cell_type": "code",
   "execution_count": 12,
   "metadata": {},
   "outputs": [
    {
     "data": {
      "text/plain": [
       "0.9973589435774309"
      ]
     },
     "execution_count": 12,
     "metadata": {},
     "output_type": "execute_result"
    }
   ],
   "source": [
    "1-binomial(48,9)/binomial(52,13)"
   ]
  },
  {
   "cell_type": "code",
   "execution_count": 14,
   "metadata": {},
   "outputs": [
    {
     "data": {
      "text/plain": [
       "262.10400156654214"
      ]
     },
     "execution_count": 14,
     "metadata": {},
     "output_type": "execute_result"
    }
   ],
   "source": [
    "log(0.50)/ log(0.9973589435774309)"
   ]
  },
  {
   "cell_type": "markdown",
   "metadata": {},
   "source": [
    "(b) Let us identify success as some player getting four aces in a bridge card hand. The probability $p$ of success is \n",
    "\n",
    "\\begin{align*}\n",
    "p &= \\frac{{4 \\choose 1}{48 \\choose 9}{39 \\choose 13}{26 \\choose 13}{13 \\choose 13}}{{52 \\choose 13}{39 \\choose 13}{26 \\choose 13}{13 \\choose 13}}\\\\\n",
    "&= 0.01056422\n",
    "\\end{align*}\n",
    "\n",
    "Repeating the calculations as above,\n",
    "\n",
    "\\begin{align*}\n",
    "(1 - 0.01056422)^n &\\leq 0.50 \\\\\n",
    "(0.98943578)^n &\\leq 0.50 \\\\\n",
    "n &\\geq \\frac{\\log 0.50}{\\log 0.98943578}\\\\\n",
    "n &\\geq 66\n",
    "\\end{align*}"
   ]
  },
  {
   "cell_type": "code",
   "execution_count": 15,
   "metadata": {},
   "outputs": [
    {
     "data": {
      "text/plain": [
       "0.01056422569027611"
      ]
     },
     "execution_count": 15,
     "metadata": {},
     "output_type": "execute_result"
    }
   ],
   "source": [
    "binomial(4,1) * binomial(48,9) / binomial(52,13)"
   ]
  },
  {
   "cell_type": "code",
   "execution_count": 16,
   "metadata": {},
   "outputs": [
    {
     "data": {
      "text/plain": [
       "0.98943578"
      ]
     },
     "execution_count": 16,
     "metadata": {},
     "output_type": "execute_result"
    }
   ],
   "source": [
    "1-0.01056422"
   ]
  },
  {
   "cell_type": "code",
   "execution_count": 17,
   "metadata": {},
   "outputs": [
    {
     "data": {
      "text/plain": [
       "65.26553027090138"
      ]
     },
     "execution_count": 17,
     "metadata": {},
     "output_type": "execute_result"
    }
   ],
   "source": [
    "log(0.50)/log(0.98943578)"
   ]
  },
  {
   "cell_type": "markdown",
   "metadata": {},
   "source": [
    "5.If the probability of hitting a target is $\\frac{1}{5}$ and ten shots are fired independently, what is the probability of the target's being hit at least twice?\n",
    "\n",
    "*Solution.*\n",
    "\n",
    "Let us identify success as the target being hit by a shot. Let $X$ be the number of shots hitting the target. $X$ follows the binomial distribution. We have,\n",
    "\n",
    "\\begin{align*}\n",
    "P(X \\geq 2) &= 1 - P(X=0) - P(X=1)\\\\\n",
    "&= 1 - {10 \\choose 0}(0.8)^{10} - {10 \\choose 1}(0.2)^{1}(0.8)^{9} \\\\\n",
    "&= 0.624190\n",
    "\\end{align*}"
   ]
  },
  {
   "cell_type": "code",
   "execution_count": 18,
   "metadata": {},
   "outputs": [
    {
     "data": {
      "text/plain": [
       "0.6241903615999997"
      ]
     },
     "execution_count": 18,
     "metadata": {},
     "output_type": "execute_result"
    }
   ],
   "source": [
    "p₀ = 0.8^10\n",
    "p₁ = binomial(10,1)*0.2*0.8^9\n",
    "1 - p₀ - p₁"
   ]
  },
  {
   "cell_type": "markdown",
   "metadata": {},
   "source": [
    "6.In problem 5, find the conditional probability of the target's being hit atleast twice, assuming that atleast one hit is scored.\n",
    "\n",
    "*Solution.* \n",
    "\\begin{align*}\n",
    "P(X \\geq 2 | X \\geq 1) &= \\frac{P(X \\geq 2, X \\geq 1)}{P(X \\geq 1)} \\\\\n",
    "&= \\frac{P(X \\geq 2)}{P(X \\geq 1)}\\\\\n",
    "&= \\frac{1 - P(X=0) - P(X=1)}{1 - P(X=0)}\\\\\n",
    "&= \\frac{0.6241903}{0.8926258}\\\\\n",
    "&= 0.6992743\n",
    "\\end{align*}"
   ]
  },
  {
   "cell_type": "code",
   "execution_count": 19,
   "metadata": {},
   "outputs": [
    {
     "data": {
      "text/plain": [
       "0.8926258175999999"
      ]
     },
     "execution_count": 19,
     "metadata": {},
     "output_type": "execute_result"
    }
   ],
   "source": [
    "1 - p₀"
   ]
  },
  {
   "cell_type": "code",
   "execution_count": 20,
   "metadata": {},
   "outputs": [
    {
     "data": {
      "text/plain": [
       "0.6992743759958213"
      ]
     },
     "execution_count": 20,
     "metadata": {},
     "output_type": "execute_result"
    }
   ],
   "source": [
    "(1 - p₀ - p₁)/(1-p₀)"
   ]
  },
  {
   "cell_type": "markdown",
   "metadata": {},
   "source": [
    "7.Find the probability that a hand of thirteen bridge cards selected at random contains exactly two red cards. Compare it with the corresponding probability in Bernoulli trials with $p=\\frac{1}{2}$.\n",
    "\n",
    "*Solution.*\n",
    "When drawing a bridge hand, the cards are sampled without replacement. So, they are not independent Bernoulli trials. Actually the number of red cards follows a hypergeometric distribution. The probability that a hand of thirteen bridge cards selected at random contains exactly two red cards is given by,\n",
    "\n",
    "\\begin{align*}\n",
    "P(X_R = 2) &= \\frac{{26 \\choose 2}{26 \\choose 11}}{52 \\choose 13}\\\\\n",
    "&= 0.0039542\n",
    "\\end{align*}\n",
    "\n",
    "In comparison, if these cards are drawn with replacement, i.e. these were independent Bernoulli trials, then \n",
    "\n",
    "\\begin{align*}\n",
    "P(X_R = 2) &= {13 \\choose 2}2^{-13}\\\\\n",
    "&= 0.0095214\n",
    "\\end{align*}"
   ]
  },
  {
   "cell_type": "code",
   "execution_count": 21,
   "metadata": {},
   "outputs": [
    {
     "data": {
      "text/plain": [
       "0.003954249420408755"
      ]
     },
     "execution_count": 21,
     "metadata": {},
     "output_type": "execute_result"
    }
   ],
   "source": [
    "p₂ = (binomial(26,2) * binomial(26,11))/binomial(52,13)"
   ]
  },
  {
   "cell_type": "code",
   "execution_count": 22,
   "metadata": {},
   "outputs": [
    {
     "data": {
      "text/plain": [
       "0.009521484375"
      ]
     },
     "execution_count": 22,
     "metadata": {},
     "output_type": "execute_result"
    }
   ],
   "source": [
    "p_binom = binomial(13,2)*2^(-13)"
   ]
  },
  {
   "cell_type": "markdown",
   "metadata": {},
   "source": [
    "8.What is the probability that the birthdays of six people fall in two calendar months leaving exactly ten calendar months free? (Assume independence and equal probabilities for all months.)\n",
    "\n",
    "*Solution.*\n",
    "We think of the six people as balls and the 12 calendar months as cells. We are placing six balls into twelve cells. We can choose the two calendar months in ${12 \\choose 2}$ distinguishable ways. \n",
    "\n",
    "Six people can fall into 2 calendar months leaving exactly ten calendar months free in $2^6$ distinguishable ways.\n",
    "\n",
    "And six people can be assigned to the twelve calendar months in $12^6$ distinguishable ways.\n",
    "\n",
    "The required probability should be,\n",
    "\n",
    "\\begin{align*}\n",
    "\\frac{{12 \\choose 2}2^6}{12^6}\n",
    "\\end{align*}"
   ]
  },
  {
   "cell_type": "code",
   "execution_count": 23,
   "metadata": {},
   "outputs": [
    {
     "data": {
      "text/plain": [
       "0.0014146090534979425"
      ]
     },
     "execution_count": 23,
     "metadata": {},
     "output_type": "execute_result"
    }
   ],
   "source": [
    "(binomial(12,2) * 2^6)/12^6"
   ]
  },
  {
   "cell_type": "markdown",
   "metadata": {},
   "source": [
    "However, we would like to leave exactly ten calendar months free, so we must exclude the possibility that six people's birthdays only in the first calendar month or only in the second calendar month. Thus, the desired probability is,\n",
    "\n",
    "\\begin{align*}\n",
    "{12 \\choose 2}\\left(\\frac{2^6}{12^6} - 2\\cdot \\frac{1}{12^6}\\right) \\approx 0.001370\n",
    "\\end{align*}"
   ]
  },
  {
   "cell_type": "code",
   "execution_count": 24,
   "metadata": {},
   "outputs": [
    {
     "data": {
      "text/plain": [
       "0.0013704025205761316"
      ]
     },
     "execution_count": 24,
     "metadata": {},
     "output_type": "execute_result"
    }
   ],
   "source": [
    "binomial(12,2)*((2^6/12^6)-2*(1/12^6))"
   ]
  },
  {
   "cell_type": "markdown",
   "metadata": {},
   "source": [
    "9.In rolling six true dice, find the probability of obtaining (a)at least one(b)exactly one (c)exactly two, aces. Compare with poisson approximations.\n",
    "\n",
    "*Solution.*\n"
   ]
  },
  {
   "cell_type": "code",
   "execution_count": null,
   "metadata": {},
   "outputs": [],
   "source": []
  }
 ],
 "metadata": {
  "kernelspec": {
   "display_name": "Julia 1.5.3",
   "language": "julia",
   "name": "julia-1.5"
  },
  "language_info": {
   "file_extension": ".jl",
   "mimetype": "application/julia",
   "name": "julia",
   "version": "1.5.3"
  }
 },
 "nbformat": 4,
 "nbformat_minor": 4
}
