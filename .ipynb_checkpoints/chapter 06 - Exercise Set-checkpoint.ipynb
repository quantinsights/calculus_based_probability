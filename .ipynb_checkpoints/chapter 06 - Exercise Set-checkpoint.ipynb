{
 "cells": [
  {
   "cell_type": "markdown",
   "metadata": {},
   "source": [
    "# Exercise Problems.\n",
    "\n",
    "1. Assuming all sex distributions to be equally probable,  what proportion of families with exactly six children should be expected to have three boys and three girls?\n",
    "\n",
    "*Solution.*\n",
    "\n",
    "Let us identify success with the child being a girl, and failure as the child being a boy. Let the r.v. $X$ be the number of successes in $n=6$ trials. The required probability is,\n",
    "\n",
    "\\begin{align*}\n",
    "P(X=3) &= {6 \\choose 3}\\left(\\frac{1}{2}\\right)^3\\left(1-\\frac{1}{2}\\right)^3\\\\\n",
    "&={6 \\choose 3}\\left(\\frac{1}{2}\\right)^6 \\\\\n",
    "&=0.3125\n",
    "\\end{align*}"
   ]
  },
  {
   "cell_type": "code",
   "execution_count": 3,
   "metadata": {},
   "outputs": [
    {
     "data": {
      "text/plain": [
       "0.3125"
      ]
     },
     "execution_count": 3,
     "metadata": {},
     "output_type": "execute_result"
    }
   ],
   "source": [
    "using Distributions\n",
    "\n",
    "binomial(6,3)*(0.5)^6"
   ]
  },
  {
   "cell_type": "markdown",
   "metadata": {},
   "source": [
    "2. A bridge player had no ace in three consecutive hands. Did he have reason to complain of ill luck?\n",
    "\n",
    "*Solution*.\n",
    "\n"
   ]
  },
  {
   "cell_type": "code",
   "execution_count": null,
   "metadata": {},
   "outputs": [],
   "source": []
  }
 ],
 "metadata": {
  "kernelspec": {
   "display_name": "Julia 1.5.3",
   "language": "julia",
   "name": "julia-1.5"
  },
  "language_info": {
   "file_extension": ".jl",
   "mimetype": "application/julia",
   "name": "julia",
   "version": "1.5.3"
  }
 },
 "nbformat": 4,
 "nbformat_minor": 4
}
