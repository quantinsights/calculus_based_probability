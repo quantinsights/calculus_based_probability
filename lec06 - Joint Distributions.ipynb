{
 "cells": [
  {
   "cell_type": "markdown",
   "metadata": {},
   "source": [
    "## Introduction.\n",
    "\n",
    "The individual distributions of two random variables do not tell us anything about whether the random variables are independent or dependent. Although, the PMF of $X$ is a complete blueprint for the distribution of $X$ and the PMF of $Y$ is a complete blueprint for the distribution of $Y$, these individual PMFs are missing important information about the dependence structure of $X$ and $Y$.\n",
    "\n",
    "Of course, in real life, we usually care about the relationship between multiple random variables in the same experiment. To give just a few examples:\n",
    "\n",
    "- Medicine : To evaluate the effectiveness of a treatement, we may take multiple measurements per patient, an ensemble of blood pressure, heart rate, and cholesterol reading can be more informative than any of these measurements considered separately.\n",
    "- Genetics : To study the relationships between various genetic markers and a particular disease, if we only looked separately at distributions for each genetic marker, we could fail to learn about whether an interaction between the markers is related to the disease. \n",
    "- Time-Series: To study how something evolves over time, we can often make a series of measurements over time, and then study the series jointly. There are many applications of such series, such as global temperatures, stock prices, or national unemployment rates. The series of measurements considered jointly can help us deduce trends for the purpose of forecasting future measurements.\n",
    "\n",
    "This write-up considers *joint-distributions*, also called *multi-variate distributions*, which capture the previously missing information about how multiple random variables interact. We introduce multivariate analogs of the CDF, PMF and the PDF in order to provide a complete specification of the relationship between multiple random variables. After this ground-work is in place, we'll study a couple of famous named multivariate distributions, generalizing the Binomial and Normal distributions to higher dimensions.\n",
    "\n",
    "## Joint, Marginal and Conditional.\n",
    "\n",
    "The three key concepts for this section are *joint, marginal* and *conditional* distributions. Recall that the distribution of a single random variable $X$ provides complete information about the probability of $X$ falling into any subset of the real line. Analogously, the joint distribution of two random variables $X$ and $Y$ provides complete information about the probability of the random vector $(X,Y)$ falling into any subset of the plane. The *marginal* distribution of $X$ is the individual distribution of $X$, ignoring the value of $Y$ and the conditional distribution of $X$ given $Y=y$ is the updated distribution for $X$ after observing $Y=y$. We'll look at these concepts in the discrete case first, then extend them to the continuous case. "
   ]
  },
  {
   "cell_type": "markdown",
   "metadata": {},
   "source": [
    "### Discrete\n",
    "\n",
    "The most general description of the joint distribution of two random variables is the *joint CDF* which applies to discrete and continuous random variables alike.\n",
    "\n",
    "---\n",
    "**Definition.** (Joint CDF). The *joint* CDF of the random variables $X$ and $Y$ is the function $F_{X,Y}$ given by :\n",
    "\n",
    "$$F_{X,Y}(x,y) = P(X \\leq x, Y \\leq y)$$\n",
    "\n",
    "---\n",
    "\n",
    "The joint CDF of a vector $n$ random variables $(X_1,X_2,\\ldots,X_n)$ is described analogously.\n",
    "\n",
    "Unfortunately, the joint CDF of discrete random variables is not a well-behaved function; as in the univariate case, it consists of jumps and flat regions. For this reason, with discrete random variables, we usually work with the joint PMF, which also determines the joint distribution and is much easier to visualize.\n",
    "\n",
    "---\n",
    "**Definition.** (Joint PMF). The *joint* PMF of discrete random variables $X$ and $Y$ is the function $f_{X,Y}$ given by,\n",
    "\n",
    "$$f_{X,Y}(x,y) = P(X = x,Y=y)$$\n",
    "\n",
    "---"
   ]
  },
  {
   "cell_type": "markdown",
   "metadata": {},
   "source": [
    "The joint PMF of a vector of $n$ discrete random variables $(X_1,X_2,\\ldots,X_n)$ is described analogously.\n",
    "\n",
    "Just as univariate PMFs must be nonnegative and sum to $1$, we require valid joint PMFs to be non-negative and sum to $1$, where the sum is taken over all possible values of $X$ and $Y$:\n",
    "\n",
    "$$\\sum_{x} \\sum_{y}P(X = x,Y = y) = 1$$"
   ]
  },
  {
   "cell_type": "markdown",
   "metadata": {},
   "source": [
    "The joint PMF determines the distribution because we can use it to find the probability of the event $(X,Y) \\in A$ for any set $A$ of points in the support of $(X,Y)$.  All we have to do is sum the joint PMF over $A$:\n",
    "\n",
    "$$P((X,Y) \\in A) = {\\sum\\sum}_{(x,y) \\in A} P(X = x, Y = y)$$"
   ]
  },
  {
   "cell_type": "code",
   "execution_count": 18,
   "metadata": {},
   "outputs": [
    {
     "data": {
      "image/png": "[encoded data removed]",
      "text/plain": [
       "<Figure size 432x288 with 1 Axes>"
      ]
     },
     "metadata": {
      "needs_background": "light"
     },
     "output_type": "display_data"
    }
   ],
   "source": [
    "import matplotlib.pyplot as plt \n",
    "import numpy as np\n",
    "\n",
    "\n",
    "X = np.random.rand(10000)\n",
    "Y = np.random.rand(10000)\n",
    "\n",
    "plt.hist2d(X, Y, bins=40)\n",
    "plt.show()"
   ]
  },
  {
   "cell_type": "markdown",
   "metadata": {},
   "source": [
    "The above figure shows what the joint PMF of two discrete random variables could look like. The brightness of the colors at any point $(x,y)$ represents the probability $P(X = x, Y =y)$. For the joint PMF to be valid, the total height of the vertical bars must be $1$."
   ]
  },
  {
   "cell_type": "markdown",
   "metadata": {},
   "source": [
    "From the joint distribution $(X,Y)$  we can easily get the distribution of $X$ alone by summing over the possible values of $Y$. This gives us the familiar PMF of $X$ that we have seen earlier. In the context of joint distributions, we will call it the *marginal* or unconditional distribution of $X$, to make it clear that we are referring to the distribution of $X$ alone, without regard for the value of $Y$.\n",
    "\n",
    "---\n",
    "**Definition.** (Marginal PMF). For discrete random variables $X$ and $Y$, the marginal PMF of $X$ is\n",
    "\n",
    "$$\n",
    "\\begin{align*}\n",
    "f_X(x) &= P(X = x) = \\sum_{y} f_{X,Y}(x,y) = \\sum_{y} P(X = x, Y = y) \\\\\\\\\n",
    "f_Y(y) &= P(X = y) = \\sum_{x} f_{X,Y}(x,y) = \\sum_{x} P(X = x, Y = y) \n",
    "\\end{align*}\n",
    "$$\n",
    "\n",
    "---"
   ]
  },
  {
   "cell_type": "markdown",
   "metadata": {},
   "source": [
    "**Example.** Suppose a dice is rolled $N = 5$ times. Let $X$ be the number of ones and $Y$ be the number of twos. The pair $(X,Y)$ follows the $Multinomial(5,1/6,1/6)$ distribution. The joint PMF $f_{X,Y}(x,y)$ can be computed as follows."
   ]
  },
  {
   "cell_type": "code",
   "execution_count": 20,
   "metadata": {},
   "outputs": [],
   "source": [
    "import numpy as np\n",
    "from scipy.special import binom\n",
    "\n",
    "class multinomial:\n",
    "    def __init__(self, numTrials, successProbabilities):\n",
    "        self.n = numTrials\n",
    "        self.p = successProbabilities\n",
    "\n",
    "    def pmf(self, x):\n",
    "        size = len(x)\n",
    "\n",
    "        probability = 1.0; k = 0; sumProbabilities = 0.0;\n",
    "\n",
    "        for j in range(size):\n",
    "            probability = probability * binom(self.n - k,x[j]) * (self.p[j]**x[j])\n",
    "            k += x[j]\n",
    "            sumProbabilities += self.p[j]\n",
    "\n",
    "        if sumProbabilities < 1.0:\n",
    "            probability = probability * (1 - sumProbabilities)**(self.n - k)\n",
    "\n",
    "        return probability\n"
   ]
  },
  {
   "cell_type": "markdown",
   "metadata": {},
   "source": [
    "We can now create a multinomial random variable and print it's joint PMF."
   ]
  },
  {
   "cell_type": "code",
   "execution_count": 21,
   "metadata": {},
   "outputs": [
    {
     "name": "stdout",
     "output_type": "stream",
     "text": [
      "[[ 1.31687243e-01  1.64609053e-01  8.23045267e-02  2.05761317e-02\n",
      "   2.57201646e-03  1.28600823e-04]\n",
      " [ 1.64609053e-01  1.64609053e-01  6.17283951e-02  1.02880658e-02\n",
      "   6.43004115e-04  0.00000000e+00]\n",
      " [ 8.23045267e-02  6.17283951e-02  1.54320988e-02  1.28600823e-03\n",
      "   0.00000000e+00  0.00000000e+00]\n",
      " [ 2.05761317e-02  1.02880658e-02  1.28600823e-03  0.00000000e+00\n",
      "   0.00000000e+00  0.00000000e+00]\n",
      " [ 2.57201646e-03  6.43004115e-04  0.00000000e+00  0.00000000e+00\n",
      "   0.00000000e+00  0.00000000e+00]\n",
      " [ 1.28600823e-04  0.00000000e+00 -0.00000000e+00  0.00000000e+00\n",
      "  -0.00000000e+00  0.00000000e+00]]\n"
     ]
    }
   ],
   "source": [
    "rv = multinomial(numTrials=5,successProbabilities=[1/6,1/6])\n",
    "\n",
    "x = np.array([0,1,2,3,4,5])\n",
    "y = np.array([0,1,2,3,4,5])\n",
    "\n",
    "jointPMF = np.zeros(shape=(6,6))\n",
    "for j in range(6):\n",
    "    for k in range(6):\n",
    "        jointPMF[j][k] = rv.pmf([x[j],y[k]])\n",
    "\n",
    "print(jointPMF)"
   ]
  },
  {
   "cell_type": "markdown",
   "metadata": {},
   "source": [
    "The probability of the event $\\{X = x_j, Y = y_k\\}$ is given by `jointPMF[j][k]`.\n",
    "\n",
    "The marginal PMF of $X$ and $Y$ can be easily computed as:"
   ]
  },
  {
   "cell_type": "code",
   "execution_count": 22,
   "metadata": {},
   "outputs": [
    {
     "name": "stdout",
     "output_type": "stream",
     "text": [
      "\n",
      "Marginal PMF of X\n",
      "[4.01877572e-01 4.01877572e-01 1.60751029e-01 3.21502058e-02\n",
      " 3.21502058e-03 1.28600823e-04]\n",
      "\n",
      "Marginal PMF of Y\n",
      "[4.01877572e-01 4.01877572e-01 1.60751029e-01 3.21502058e-02\n",
      " 3.21502058e-03 1.28600823e-04]\n"
     ]
    }
   ],
   "source": [
    "print(\"\\nMarginal PMF of X\")\n",
    "print(np.sum(jointPMF, axis=0))\n",
    "\n",
    "print(\"\\nMarginal PMF of Y\")\n",
    "print(np.sum(jointPMF, axis=1))"
   ]
  },
  {
   "cell_type": "markdown",
   "metadata": {},
   "source": [
    "---\n",
    "**Definition.** (Conditional PMF). \n",
    "\n",
    "For discrete random variables $X$ and $Y$, the conditional PMF of $X$ given $Y = k$ is,\n",
    "\n",
    "$$\n",
    "f_{X|Y=k}(x) = P(X = x|Y = k) = \\frac{P(X = x, Y = k)}{P(Y = k)} = \\frac{f_{X,Y}(x,k)}{f_Y(k)}\n",
    "$$\n",
    "\n",
    "The conditional PMF of $Y$ given $X = k$ is,\n",
    "\n",
    "$$\n",
    "f_{Y|X=k}(y) = P(Y = y|X = k) = \\frac{P(Y = y, X = x)}{P(X = k)} = \\frac{f_{X,Y}(k,y)}{f_X(k)}\n",
    "$$\n",
    "\n",
    "---"
   ]
  },
  {
   "cell_type": "markdown",
   "metadata": {},
   "source": [
    "For instance, in the dice example, the conditional PMF of the number of ones, i.e. $X$, given that we observe two, $3$ times, i.e. $Y=3$ is given by:"
   ]
  },
  {
   "cell_type": "code",
   "execution_count": 23,
   "metadata": {},
   "outputs": [
    {
     "name": "stdout",
     "output_type": "stream",
     "text": [
      "\n",
      "Conditional PMF P(X=x|Y=3)\n",
      "[0.64 0.32 0.04 0.   0.   0.  ]\n"
     ]
    }
   ],
   "source": [
    "print(\"\\nConditional PMF P(X=x|Y=3)\")\n",
    "conditionalPMF = jointPMF[:][3]/np.sum(jointPMF[:][3])\n",
    "print(conditionalPMF)"
   ]
  },
  {
   "cell_type": "code",
   "execution_count": null,
   "metadata": {},
   "outputs": [],
   "source": []
  }
 ],
 "metadata": {
  "kernelspec": {
   "display_name": "Python 3",
   "language": "python",
   "name": "python3"
  },
  "language_info": {
   "codemirror_mode": {
    "name": "ipython",
    "version": 3
   },
   "file_extension": ".py",
   "mimetype": "text/x-python",
   "name": "python",
   "nbconvert_exporter": "python",
   "pygments_lexer": "ipython3",
   "version": "3.8.3"
  }
 },
 "nbformat": 4,
 "nbformat_minor": 4
}
