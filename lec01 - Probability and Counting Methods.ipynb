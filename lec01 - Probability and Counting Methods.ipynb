{
 "cells": [
  {
   "cell_type": "markdown",
   "metadata": {},
   "source": [
    "## Introduction.\n",
    "\n",
    "The mathematical theory of probability gains practical value and an intuitive meaning in connection with real or conceptual experiments such as tossing a coin once, tossing a coin one hundred times, throwing three dice, arranging a deck of cards, matching two decks of cards, playing roulette, observing the life-span of a radio-active atom or a person, the number of busy trunklines in a telephone exchange, a random noise in an electrical communication system, routine quality control of a production process, frequency of accidents, the position of a particle under diffusion.\n",
    "\n",
    "All these descriptions are rather vague, and in, order to render the theory meaningful, we have to agree on what we mean by possible results of the experiment or observation in question. "
   ]
  },
  {
   "cell_type": "markdown",
   "metadata": {},
   "source": [
    "---\n",
    "**Definition.** (Event) The results of an experiment or observations are called *events*.\n",
    "\n",
    "---"
   ]
  },
  {
   "cell_type": "markdown",
   "metadata": {},
   "source": [
    "We speak of the event that (i) rolling a dice resulted in face value $6$, (ii) tossing a coin resulted in a heads, (iii) of five coins tossed more than three fell heads."
   ]
  },
  {
   "cell_type": "markdown",
   "metadata": {},
   "source": [
    "We shall distinguish between compound(decomposable) and simple(elementary) events. For example, saying that a throw with two dice resulted in \"sum six\" amounts to saying that it resulted in \n",
    "\n",
    "$$\\{(1,5),(2,4),(3,3),(4,2),(5,1)\\}$$"
   ]
  },
  {
   "cell_type": "markdown",
   "metadata": {},
   "source": [
    "and this enumeration decomposes the event \"sum six\" into five simple events. Similarly, the event \"two odd faces\" admits of the decomposition \n",
    "\n",
    "$$\\begin{align*}\\{&(1,1),(1,3),(1,5),\\\\&(3,1),(3,3),(3,5)\\\\&(5,1),(5,3),(5,5)\\}\\end{align*}$$"
   ]
  },
  {
   "cell_type": "markdown",
   "metadata": {},
   "source": [
    "into nine simple events. Note that if a throw results in $(3,3)$, then the same throw also results in the events \"sum six\" and \"two odd faces\"; these events are not mutually exclusive and hence may occur simultaneously."
   ]
  },
  {
   "cell_type": "markdown",
   "metadata": {},
   "source": [
    "## The Sample Space.\n",
    "\n",
    "(a) Distribution of three balls in three cells.\n",
    "\n",
    "$$\\begin{bmatrix}\n",
    "abc & - & - \\\\\n",
    "- & abc & - \\\\\n",
    "- & - & abc \\\\\n",
    "ab & c & -\\\\\n",
    "ac & b & - \\\\\n",
    "bc & a & - \\\\\n",
    "ab & - & c\\\\\n",
    "ac & - & b \\\\\n",
    "bc & - & a\n",
    "\\end{bmatrix}\\quad\\begin{bmatrix}\n",
    "a & bc & - \\\\\n",
    "b & ac & - \\\\\n",
    "c & ab & - \\\\\n",
    "a & - & bc\\\\\n",
    "b & - & ca \\\\\n",
    "c & - & ab \\\\\n",
    "- & a & bc\\\\\n",
    "- & b & ca \\\\\n",
    "- & c & ab\n",
    "\\end{bmatrix}\\quad\\begin{bmatrix}\n",
    "- & ab & c \\\\\n",
    "- & ac & b \\\\\n",
    "- & bc & a \\\\\n",
    "a & b & c\\\\\n",
    "a & c & b \\\\\n",
    "b & a & c \\\\\n",
    "b & c & a\\\\\n",
    "c & a & b \\\\\n",
    "c & b & a\n",
    "\\end{bmatrix}\n",
    "$$"
   ]
  },
  {
   "cell_type": "markdown",
   "metadata": {},
   "source": [
    "If we want to speak about experiements or observations in a theoretical way and without ambiguity, we must first agree on the simple events representing the thinkable outcomes; they define the idealized experiment. It is usual to refer to a simple event such as $\\{a|b|c\\}$ as **sample points** or **points** for short. \n",
    "\n",
    "---\n",
    "**Definition.**(Sample point) Every indecomposable result of an experiment is a simple event, and is called a sample point.\n",
    "\n",
    "---"
   ]
  },
  {
   "cell_type": "markdown",
   "metadata": {},
   "source": [
    "When distributing $3$ balls to $3$ cells, each ball $i=1,2,3$ can be assigned to one of three cells, so there are $3 \\times 3 \\times 3 = 3^3$ sample points. All events connected with the experiment with this experiement can be described in terms of the sample points. For example, the event \"each cell is singly occupied\" can be described by collection of the following $6$ sample points:\n",
    "\n",
    "$$\\{(a,b,c),(a,c,b),(b,a,c),(b,c,a),(c,a,b),(c,b,a)$$\n",
    "\n",
    "The experiment of distributing $10$ balls to $10$ has $10^{10}$ outcomes or sample points."
   ]
  },
  {
   "cell_type": "markdown",
   "metadata": {},
   "source": [
    "---\n",
    "**Definition.** (Sample space) The sample $S$ of an experiment is the collection of all possible outcomes of the experiment, i.e. all the sample points.\n",
    "\n",
    "---\n",
    "\n",
    "The sample space of an experiment can be finite, countably infinite (similar to the set $\\mathbf{N}$) or uncountable (similar to the set $\\mathbf{R})$. When the sample space is finite, we can visualize it, enumerate it like in the example above of the distribution of $3$ balls in $3$ cells."
   ]
  },
  {
   "cell_type": "markdown",
   "metadata": {},
   "source": [
    "(b) Distribution of $r$ balls in $n$ cells. THe more general case of distributing $r$ balls to $n$ cells can be studied in the same manner. Each ball $i=1,2,\\ldots,r$ can be assigned one of $1,2,3,...n$ cells. So, this experiment has $\\underbrace{n \\times n \\times \\ldots n}_{r\\text{ terms}} = n^r$ outcomes or sample points."
   ]
  },
  {
   "cell_type": "markdown",
   "metadata": {},
   "source": [
    "To us, the sample space defines the idealized experiment. We use the *picturesque language* of balls and cells, but the same sample space admits a great variety of different practical interpretations. To clarify this point, we list here a number of situations in which the intuitive background varies; all are however, abstractly equivalent to the scheme of placing $r$ balls into $n$ cells, in the sense that the outcomes differ only in their verbal description."
   ]
  },
  {
   "cell_type": "markdown",
   "metadata": {},
   "source": [
    "(b,1) *Birthdays.* The possible configurations of the the birthdays of $r$ people correspond to the different arrangements of $r$ balls in $n=365$ cells. (assuming one calendar year to have $365$ days).\n",
    "\n",
    "(b,2) *Accidents.* Classifying $r$ accidents according to the week days when they occurred is equivalent to placing $r$ balls into $n=7$ cells.\n",
    "\n",
    "(b,3) In *firing* at $n$ targets, the hits correspond to the balls, and the targets to the cells.\n",
    "\n",
    "(b,4) *Sampling*. Let a group of $r$ be classifed according to say age, or profession. The classes play the role of our cells, the people that of balls.\n",
    "\n",
    "(b,5) *Irradiation in biology.* When the cells of the retina of the eyes are exposed to light, the light particles play the role of balls, and the actual cells are the \"cells\" of our model.\n",
    "\n",
    "(b,6) In *cosmic ray experiments* the particles hitting the Geiger counters represent the balls, and the counters function as cells.\n",
    "\n",
    "(b,7) An elevator starts with $r$ passengers and stops at $n$ floors. The different arrangements of discharging the passengers are replicas of the different distributions of $r$ balls in $n$ cells. \n",
    "\n",
    "(b,8) *Dice*. The possible outcomes of a throw of $r$ dice correspond to placing $r$ balls into $n=6$ cells. When tossing a coin, we in effect dealing with only $n=2$ cells.\n",
    "\n",
    "(b,9) *Random digits.* The possible orderings of a sequence of $r$ digits correspond to the distribution of $r$ balls into ten cells called $0,1,2,\\ldots,9$.\n",
    "\n",
    "(b,10) The *sex distribution* of $r$ persons. Here we have $n=2$ cells and $r$ balls.\n",
    "\n",
    "(b,11) *Theory of photographic emulsions.* A photographic plate is covered with grains sensitive to light quanta : a grain reacts if it is hit by a certain number, $r$ of the quanta. For the theory of black-white contrast, we must know how many cells are likely to be hit by $r$ quanta. We have here an occupancy problem where the grains correspond to the cells, and the light quant to the balls."
   ]
  },
  {
   "cell_type": "markdown",
   "metadata": {},
   "source": [
    "We can now make the following statement about sample space and events.\n",
    "\n",
    "Every thinkable outcome of a random experiment can be described by a sample point. We define the term event to mean the same as any aggregate of sample points.\n",
    "\n",
    "---\n",
    "Example. (Coin Flips). A coin is flipped $10$ times. Writing Heads as $H$ and Tails as $T$, a possible outcome is $HHHTHHTTHT$, and the sample space is the set of all possible strings of length $10$ of $H$s and $T$s. We can (and will) encode $H$ as $1$ and $T$ as $0$, so that an outcome is a sequence $(s_1,\\ldots,s_10)$ with $s_j \\in \\{0,1\\}$ and the sample space $S$ is the set of all such sequences. Now, let's look at some events:\n",
    "\n",
    "---\n",
    "\n",
    "Let $A_1$ be the event that the first flip is Heads. As a set\n",
    "\n",
    "$$A_1 = \\{(1,s_2,\\ldots,s_{10}) : s_j \\in \\{0,1\\} \\text{ for }2 \\leq j \\leq 10 \\}$$"
   ]
  },
  {
   "cell_type": "markdown",
   "metadata": {},
   "source": [
    "This is subset of the sample space, so it is indeed an event; saying that $A_1$ occurs is the same thing as saying that the first flip is Heads. Similarly, let $A_j$ be the event that the $j$th flip is Heads for $j=2,3,4,\\ldots,10$."
   ]
  },
  {
   "cell_type": "markdown",
   "metadata": {},
   "source": [
    "Let $B$ be the event that at least one flip was Heads. As a set,\n",
    "\n",
    "$$B = \\bigcap_{j=1}^{10} A_j$$\n",
    "\n",
    "Let $C$ be the event that all the flips were Heads. As a set, \n",
    "\n",
    "$$C = \\bigcap_{j=1}^{10} A_j$$\n",
    "\n",
    "Let $D$ be the event that there were at least two consecuetive heads. As a set,\n",
    "\n",
    "$$D = \\bigcap_{j=1}^{9}(A_j \\cap A_{j+1})$$"
   ]
  },
  {
   "cell_type": "markdown",
   "metadata": {},
   "source": [
    "---\n",
    "Example. (Pick a card, any card). A standard deck of playing cards has $13$ ranks : $\\{2,3,4,5,6,7,8,9,10,\\text{Jack},\\text{Queen}, \\text{King}, \\text{Ace}\\}$ $\\times$ $4$ suits : $\\{\\text{Heart}, \\text{Spade}, \\text{Club}, \\text{Diamond}\\}$. Pick a card from a standard deck of $52$ cards. The sample space $S$ is the set of all $52$ cards (so there are $52$ sample points) one for each card. Consider the following four events:\n",
    "\n",
    "- $A$: card is an ace.\n",
    "- $B$: card has a black suit.\n",
    "- $D$: card is a diamond.\n",
    "- $H$: card is a heart.\n",
    "---\n",
    "\n",
    "As a set, $H$ consists of $13$ cards: \n",
    "\n",
    "$\\{\\text{Ace of hearts},\\text{Two of Hearts},\\ldots,\\text{King of hearts}\\}$\n",
    "\n",
    "We can create various other events in terms of $A,B,D,H$. For example, $A \\cap H$ is the event that the card is the Ace of Hearts, $A \\cap B$ is the event $\\{\\text{Ace of spades},\\text{Ace of clubs}\\}$ and $A \\cup D \\cup H$ is the event that the card is red or an ace. \n",
    "\n",
    "There are *many* other events that could be defined using this sample space. In fact, the counting methods introduced later in this chapter show that there are $2^{52} \\approx 4.5 \\times 10^{15}$  events in this problem, even though there are only $52$ sample points.\n"
   ]
  },
  {
   "cell_type": "markdown",
   "metadata": {},
   "source": [
    "## Relation amongst events.\n",
    "\n",
    "---\n",
    "**Definition**. We use the notation $A = 0$ or $A = \\emptyset$ to express that the event $A$ is a null event and contains no sample points (is impossible). The zero must be interpreted in a symbolic sense and not as a numeral. \n",
    "\n",
    "---"
   ]
  },
  {
   "cell_type": "markdown",
   "metadata": {},
   "source": [
    "---\n",
    "**Definition.** The event consisting of all points not contained in the event $A$ will be called the complementary event (or negation of $A$) and will be denoted by $A^C$. In particular, $S^C = \\emptyset$.\n",
    "\n",
    "---"
   ]
  },
  {
   "cell_type": "markdown",
   "metadata": {},
   "source": [
    "With any two events $A$ and $B$ one can associate two new events defined by the conditions \"both $A$ and $B$ occur\" and \"atleast one of $A$ and $B$\" occurs. These events are denoted by $A \\cap B$ and $A \\cup B$. The event $A \\cap B$ contains all the sample points which are common to $A$ and $B$. If $A$ and $B$ exclude each other, then there are no points common to $A$ and $B$ and the event $A \\cap B$ is impossible, analytically this situation is described by $A \\cap B = \\emptyset$, which should be read as $A$ and $B$ are mutually exclusive.\n",
    "\n",
    "Mathematically,\n",
    "\n",
    "$$A \\cup B = \\{x : x \\in A \\text{ or } x \\in B\\}$$\n",
    "\n",
    "and\n",
    "\n",
    "$$A \\cap B = \\{x : x \\in A \\text{ and } x \\in B\\}$$"
   ]
  },
  {
   "cell_type": "markdown",
   "metadata": {},
   "source": [
    "The event $A \\cap B^C$, means that both $A$ and $B^C$ should occur, in other words, $A$ but not $B$ occurs. This is also known as set difference and denoted by the event $A - B$. "
   ]
  },
  {
   "cell_type": "markdown",
   "metadata": {},
   "source": [
    "Similarly, $A^C \\cap B^C$ means that neither $A$ nor $B$ occurs. The event $A \\cap B$ means that atleast one of the events $A$ and $B$ occurs; it contains all sample points except those that belong neither to $A$ nor to $B$. Thus,\n",
    "\n",
    "$$A \\cup B = (A^C \\cap B^C)^C$$"
   ]
  },
  {
   "cell_type": "markdown",
   "metadata": {},
   "source": [
    "### De-Morgan's Laws\n",
    "\n"
   ]
  },
  {
   "cell_type": "markdown",
   "metadata": {},
   "source": [
    "---\n",
    "Theorem. Let $A$ and $B$ be any two events. We claim:\n",
    "\n",
    "$$\\begin{align*}\n",
    "(A \\cup B)^C &= A^C \\cap B^C\\\\\n",
    "(A \\cap B)^C &= A^C \\cup B^C\n",
    "\\end{align*}\n",
    "$$\n",
    "\n",
    "---\n",
    "\n",
    "*Proof.*\n",
    "\n",
    "(I) $\\Longrightarrow$ direction.\n",
    "\n",
    "Let $x$ be a point in $(A \\cup B)^C$. Then $x$ belongs to neither $A$, nor $B$. Consequently, $x \\in (A^C \\cap B^C)$. So, $(A \\cup B)^C \\subseteq A^C \\cap B^C$. \n",
    "\n",
    "$\\Longleftarrow$ direction.\n",
    "\n",
    "Let $x$ be a point in $A^C \\cap B^C$. By definition, $x$ belongs to both the sets $A^C$ and $B^C$. So, $x \\notin A$ and $x \\notin B$. Consequently, $x$ belongs to a set, that contains all points except those from either $A$ or $B$. Thus, $x \\in (A \\cup B)^C$. Therefore $(A^C \\cap B^C) \\subseteq (A \\cup B)^C$.\n",
    "\n",
    "Thus, $(A \\cup B)^C \\subseteq A^C \\cap B^C$ and $(A^C \\cap B^C) \\subseteq (A \\cup B)^C$. Consequently, \n",
    "\n",
    "$$(A \\cup B)^C = (A^C \\cap B^C)$$\n",
    "\n",
    "(II) It is an easy exercise to prove this proposition."
   ]
  },
  {
   "cell_type": "markdown",
   "metadata": {},
   "source": [
    "## Discrete Sample Space.\n",
    "\n",
    "---\n",
    "**Definition**(Discrete Sample Space). A sample space is called discrete if it contains a countable number of points. A countable set is one whose elements have a one-to-one correspondence with the natural numbers. \n",
    "\n",
    "---\n",
    "\n",
    "(a) Let us toss a coin as often as necessary to turn up one head. The points of the sample space can then be enumerated as:\n",
    "\n",
    "$$\\{H,TH,TTH,TTTH,TTTTH,\\ldots\\}$$\n",
    "\n",
    "This is countable and hence discrete sample space."
   ]
  },
  {
   "cell_type": "markdown",
   "metadata": {},
   "source": [
    "(b) Let us pick a real number at randomly from the interval $[0,1]$. The points of this sample space cannot be enumerated. There is no way to list them all, and you cannot have a one-to-one correspondence between the points in $[0,1]$ and the natural numbers. You cannot count them. Hence, this sample space \n",
    "\n",
    "$$S = \\{s : s\\in [0,1]\\}$$\n",
    "\n",
    "is not discrete.\n",
    "\n",
    "## Basic definitions and conventions.\n",
    "\n",
    "---\n",
    "**Fundamental Convention.** Given a discrete sample space $S$ with sample points $\\{s_1,s_2\\,\\ldots\\}$ we shall assume that with each point $s_j$, there is associated  a number, called the probability of $s_j$ and denoted by $P(\\{s_j\\})$. This number is non-negative and less than unity. We have the following axioms:\n",
    "\n",
    "(1) The probability of any event $A$ is the sum of the probabilities of all sample points in it. \n",
    "\n",
    "$$P(A) = \\sum_{s \\in A}P(\\{s\\})$$\n",
    "\n",
    "(2) By convention, the probability of the entire sample space $S$ is taken to be unity.\n",
    "\n",
    "$$P(S) = \\sum_{s \\in S} P(\\{s\\}) = 1$$\n",
    "\n",
    "Intuitively, this holds because, when a random experiment is performed, no matter what the outcome, it always belongs to $S$. So, the event $S$ is a certain event. \n",
    "\n",
    "(3) The probability of an event $A$ lies between $0$ and $1$.\n",
    "\n",
    "Since $A \\subseteq S$, the sample points in $A$ are a subset of the sample points in $S$. Their total contribution $\\sum_{s \\in A}P(\\{s\\})$ must be non-negative and less than $\\sum_{s \\in S}P(\\{s\\}) = 1$. Hence,\n",
    "\n",
    "$$0 \\leq P(A) \\leq 1$$\n",
    "\n",
    "---\n",
    "\n",
    "### Boole's Inequality.\n",
    "\n",
    "Consider now two arbitrary events $A_1$ and $A_2$. To compute the probability $P\\{A_1 \\cup A_2 \\}$ that atleast $A_1$ or $A_2$ occur, we have to add the sample points contained in either $A_1$ or in $A_2$, but each point is to be counted only once. We have the following inequality: \n",
    "\n",
    "$$P(A_1 \\cup A_2) \\leq P(A_1) + P(A_2)$$\n",
    "\n",
    "Now, if $s$ is any point contained in both $A_1$ and in $A_2$, then $P(\\{s\\})$ occurs twice in the right hand member but once in the left hand member. Therefore, the right side exceeds the left side by a factor $P(A_1 \\cap A_2)$.\n",
    "\n",
    "### Inclusion-Exclusion Principle.\n",
    "\n",
    "---\n",
    "**Theorem.** For any two events $A_1$ and $A_2$, the probability that atleast one of $A_1$ or $A_2$ occur is given by,\n",
    "\n",
    "$$P(A_1 \\cup A_2) = P(A_1) + P(A_2) - P(A_1 \\cap A_2)$$\n",
    "\n",
    "If $P(A_1 \\cap A_2) = 0$, that is if $A_1$ and $A_2$ are mutually exclusive then the above equation reduces to :\n",
    "\n",
    "$$P(A_1 \\cup A_2) = P(A_1) + P(A_2)$$\n",
    "\n",
    "---\n",
    "\n",
    "---\n",
    "Example. A coin is tossed twice. For the sample space, we take the four points $HH$, $HT$, $TH$ and $TT$ and associate with each the probability $\\frac{1}{4}$. Let $A_1$ and $A_2$ be respectively the events, \"head at first\" and \"head at second\" trial.\n",
    "\n",
    "---\n",
    "Then, $A_1$ consists of $\\{HH,HT\\}$ and $A_2$ consists of $\\{HH,TH\\}$. Furthermore, $(A_1 \\cup A_2)$ consists of $\\{HH,HT,TH\\}$ and $(A_1 \\cap A_2)$ consists of a single point $\\{HH\\}$. Thus, \n",
    "\n",
    "$$P(A_1 \\cup A_2) = \\frac{1}{2} + \\frac{1}{2} - \\frac{1}{4} = \\frac{3}{4}$$\n",
    "\n",
    "\n",
    "### Naive definition of Probability.\n",
    "\n",
    "Historically, the earliest definition of probability of an event was to count the number of ways an event could happen and divide by the total number of outcomes for the experiement. We call this the naive definition of probability; and it relies on strong assumptions. Neverhthless, it is important to understand, and it is extremely useful when not misused.\n",
    "\n",
    "---\n",
    "**Definition.** (Naive Definition of Probability).  Let $A$ be an event for an experiment with a finite sample $S$. The  probability of the event $A$ is \n",
    "\n",
    "$$P(A) = \\frac{\\text{Number of sample points in A}}{\\text{number of sample points in S}} = \\frac{n(A)}{n(S)}$$\n",
    "\n",
    "if and only if all sample points are equally likely (equiprobable).\n",
    "\n",
    "---\n"
   ]
  },
  {
   "cell_type": "markdown",
   "metadata": {},
   "source": [
    "## Elements of Combinatorial Analysis.\n",
    "\n",
    "The purpose of this section is to derive a few basic formulas and to develop the corresponding basic probabilistic background. In the study of the simple games of chance, sampling procedures, occupancy and order problems, we are usually dealing with finite sample spaces in which the same probability is attributed to all points. To compute the probability of the event $A$ we have then to divide the number of sample points in $A$ (\"favorable cases\") by the total number of sample points (\"possible cases\"). This is facilitated by the systematic use of few rules which we shall now proceed to review.\n",
    "\n",
    "---\n",
    "**Pairs.** With $m$ elements $a_1,\\ldots,a_m$ and $n$ elements $b_1,\\ldots,b_n$, it is possible to form $mn$ pairs $(a_j,b_k)$ containing one element from each group. \n",
    "\n",
    "---\n",
    "*Proof.* Arrange the pairs in a rectangular array in the form of a multiplication table with $m$ rows and $n$ columns so that $(a_j,b_k)$ stands at the intersection of the $j$th row and the $k$th column. Then, each pair appears once and only once, and the assertion becomes obvious. \n",
    "\n",
    "---\n",
    "**Multiplets.** Given $n_1$ elements $a_1,\\ldots,a_{n1}$ and $n_2$ elements $b_1,\\ldots,b_{n_2}$ upto $n_r$ elements $x_1,x_2,\\ldots,x_{n_r}$, it is possible to form $n_1 \\cdot n_2 \\cdots n_r$ ordered $r$-tuplets $(a_{j_1},b_{j_2},\\ldots,x_{j_r})$ containing one element of each kind.\n",
    "\n",
    "---\n",
    "\n",
    "*Proof.* If $r = 2$, the assertion reduces to the first rule. If $r = 3$, then take the pair $(a_i,b_j)$ as element of a new kind. There are $n_1n_2$ such pairs and $n_3$ elements $c_k$. Each triple $(a_i,b_j,c_k)$ is itself a pair consisting of $(a_i,b_j)$ and an element $c_k$; the number of triplets is therefore $n_1 n_2 n_3$. Proceeding by induction, the assertion follows for every $r$. \n",
    "\n",
    "Perhaps the simplest and the most useful way of describing the last theorem is as follows. To form an $r$-tuplet $(a_{j_1},b_{j_2},\\ldots,x_{j_r})$ we have to choose one $a$, one $b$ etc. We have to perform $r$ selections in all and have in succession $n_1,n_2,\\ldots,n_r$ possibilities to choose from. It is asserted that this procedure can lead to $n_1 \\cdot n_2 \\cdots n_r$ different results.\n",
    "\n",
    "---\n",
    "Examples. \n",
    "\n",
    "(a) Multiple classifications. Suppose that people are classified according to sex, marital status, and profession. The various categories play the role of elements. If there are $17$ professions, then we have $2 \\cdot 2 \\cdot 17 = 68$  classes in all.\n",
    "\n",
    "(b) In an agricultural experiment three different treatments are to be tested (for example, the application of a fertilizer, a spray and temperature). If these treatments can be applied at $r_1$,$r_2$ and $r_3$ levels or concentrations, respectively, then there exist a total of $r_1 r_2 r_3$ combinations or ways of treatment.\n",
    "\n",
    "(c) *Placing balls into cells* amounts to choosing one cell for each ball. With $r$ balls, we have $n$ choices for each ball, therefore $r$ balls can be placed in $n$ cells in $n^r$ different ways. For example, considering the faces of a die as cells, the experiment of throwing a die $r$ times has $6^r$ possible outcomes.\n",
    "\n",
    "(d) A set with $n$ elements has $2^n$ subsets including the empty set $\\emptyset$ and the set itself. This follows from the multiplication ruule, since for each element we can choose whether to include it or exclude it. For example, $\\{\\1,2,3\\}$ has $8$ subsets, $\\emptyset, \\{1\\}, \\{2\\}, \\{3\\}, \\{1,2\\},\\{1,3\\},\\{2,3\\},\\{1,2,3\\}$. \n",
    "\n",
    "---\n",
    "\n",
    "\n",
    "## Ordered samples.\n",
    "\n",
    "---\n",
    "**Definition (Population).** A population is a set, an aggregate of $n$ elements without regard to their order.\n",
    "\n",
    "---\n",
    "\n",
    "---\n",
    "**Definition (Sample).** Consider the set or population of $n$ elements $\\{a_1,a_2,\\ldots,a_n\\}$. Any **ordered arrangement** $(a_{j_1},a_{j_2},\\ldots,a_{j_r})$ of $r$ symbols drawn from our population is called an ordered sample of size $r$ . \n",
    "\n",
    "A sample is therefore an ordered $r$-tuple.\n",
    "\n",
    "---\n",
    "\n",
    "For example, consider the population of $2$ elements $\\{0,1\\}$. Sampling $3$ times from this population could result in :\n",
    "$(0,0,0)$, $(0,0,1)$, $(0,1,0)$, $(0,1,1)$, $(1,0,0)$, $(1,0,1)$, $(1,1,0)$ and $(1,1,1)$. Note that, the sample $(0,0,1)$ is different from $(1,0,0)$ because samples are ordered tuples.\n",
    "\n",
    "For an intuitive picture, we can imagine that the elements are selected one by one. Two procedures are then possible. First, *sampling with replacement* : here each selection is made from the entire population, so that same element can be drawn more than once. The samples are then arrangements in which repetitions are permitted. Second, *sampling without replacement*: each element once chosen is removed from the population, so that the sample becomes an arrangement without repetitions. Obviously in this case, the sample size $r$ cannot exceed the population size $n$.\n",
    "\n",
    "In sampling with replacement each of the $r$ elements can be chosen in $n$ ways: the number of possible samples is therefore $n^r$, as can be seen from the last theorem with $n_1 = n_2 = \\ldots = n$. In sampling without replacement, we have $n$ possible choices for the first element, only $n-1$ for the second, $n-2$ for the third etc. Using the same rule, we see that in this case, we have $n(n-1)\\cdots (n-r+1)$ choices in all. Products of this type appear so often that it is convenient to introduce the notation\n",
    "\n",
    "$$(n)_r = n(n-1)\\cdots (n-r+1) = \\frac{n!}{(n-r)!}$$\n",
    "\n",
    "and read it as \"n permute r\".\n",
    "\n",
    "---\n",
    "**Theorem**. For a population of $n$ elements and a prescribed sample of size $r$, there exist $n^r$ different samples with replacement and $(n)_r$ samples without replacement.\n",
    "\n",
    "---\n",
    "\n",
    "We note the special case where $r = n$. In sampling without replacement, a sample of size $n$ includes the whole population and represents a reordering (or *permutation*) of its elements. Accordingly, $n$ elements $a_1,\\ldots,a_n$ can be ordered in $(n)_n = n \\cdot (n-1)\\cdots 1$ ways. Instead of $(n)_n$ we write $n!$, which is the more usual notation. We see that our theorem has the following corollary therefore:\n",
    "\n",
    "---\n",
    "**Corollary.** The number of different orderings of $n$ elements is \n",
    "\n",
    "$$n! = n \\cdot (n-1) \\cdot (n-2) \\cdots 1$$\n",
    "\n",
    "---\n",
    "\n",
    "Drawing $r$ elements from a population of size $n$ is an experiment whose possible outcomes are samples of size $r$. Their number is $n^r$ or $(n)_r$, depending on whether or not replacement is used. In either case, our conceptual experiment is described by a sample space in which each individual point is a sample of size $r$. \n",
    "\n",
    "Thinking of any problem as a sampling experiment is an very important strategy for problem-solving. We can always try to cast the problem at hand, into (1)an allocation problem (placing $r$ balls in $n$ cells) (2) or a sampling problem (sampling $r$ times from a population of size $n$). \n",
    "\n",
    "For example, if a coin is tossed $r=2$ times, this is like placing $r=2$ distinct balls in $n=2$ cells labelled 'H' and 'T'. Equivalently, we are sampling $r=2$ symbols with replacement from the population $\\{H,T\\}$. The sample space consists of $2^2 = 4$ points:\n",
    "\n",
    "$$\n",
    "S = \\{(H,H),(H,T),(T,H),(T,T)\\}\n",
    "$$\n",
    "\n",
    "Each $2$-tuple, each sample of size $2$, such as $(H,T)$ or $(T,H)$ forms a point in the sample space $S$. The sample $(H,T)$ is different from $(T,H)$, because they are ordered tuples, and we distinguish between the two outcomes - (i) coin 1 lands heads, coin 2 lands tails vis-a-vis (2) coin 1 lands tails, coin 2 lands heads.\n",
    "\n",
    "If a die is thrown $r=3$ times, this is like placing $r=3$ balls in $n=6$ cells having ID \\{1,2,3,4,5,6\\}. Equivalently, we are sampling $r=3$ times with replacement from the population $\\{1,2,3,4,5,6\\}$. The entire sample space consists of $6^3=216$ points.\n",
    "\n",
    "$$\n",
    "\\begin{align*}\n",
    "S=\\{&(1,1,1),(1,1,2),\\ldots,(1,1,6),\\\\\n",
    "    &(1,2,1),(1,2,2),\\ldots,(1,2,6),\\\\\n",
    "    &\\vdots\\\\\n",
    "    &(6,6,1),(6,6,2),\\ldots,(6,6,6)\\}\n",
    "\\end{align*}\n",
    "$$\n",
    "\n",
    "Each $3$-tuple, each sample of size $3$, such as $(1,1,1)$ or $(1,3,5)$ forms a point in the sample space $S$. \n",
    "\n",
    "So far we have not spoken of probabilities associated with our samples. Usually, we shall assign equal probabilities to all of them and then speak of random samples. The word random is not well defined, but when applied to samples or selections it has a unique meaning. *Whenever we speak of random samples of fixed size $r$ the adjective random is to imply that all possible samples have the same probability*, namely, $\\frac{1}{n^r}$ in sampling with replacement and $\\frac{1}{(n)_r}$ in sampling without replacement. "
   ]
  },
  {
   "cell_type": "markdown",
   "metadata": {},
   "source": [
    "## Examples.\n",
    "\n",
    "We consider random samples of fixed size $r$ with replacement taken from a population of the $n$ elements $a_1,\\ldots,a_n$. We are interested in the event $A$, that in such a sample $(a_{j_1},\\ldots,a_{j_r})$ no element appears twice, that is, that our sample could have been also obtained by sampling without replacement. The last theorem shows that there exist $n^r$ different samples in all, of which $(n)_r$ satisfy the stipulated condition. Assuming that all samples have equal probability, we conclude that *probability of no repetition* in our sample is\n",
    "\n",
    "$$p = \\frac{(n)_r}{n^r} = \\frac{n \\cdot (n-1) \\cdot (n-r+1)}{n^r}$$\n",
    "\n",
    "The following concrete interpretations of the above generic statement are very interesting:\n",
    "\n",
    "(a) *Random sampling numbers*. Let the population consist of ten digits $0,1,2,\\ldots,9$. Every succession of five digits represents a sample of size $r = 5$ and we assume that each such arrangement has probability $10^{-5}$. The probability that all five consecutive random digits are all different is $p=(10)_5 (10)^{-5}$.\n",
    "\n",
    "(b) *Birthday problem*. There are $k$ people in a room. Assume each person's birthday is equally likely to be any of the $365$ days of the year (we exclude February 29), and that people's birthdays are independent (we assume there are no twins in the room). What is the probability that two or more people in the group have same birthday?\n",
    "\n",
    "Each person's birthday will fall on exactly one of the calendar days $\\{1,2,3,\\ldots,365\\}$. Thus, we are sampling $k$ times from the population $\\{1,2,3,\\ldots,365\\}$. The number of ordered samples of size $k$, without replacement(repetition) are $(365)_k$. In total, there are $365^k$ samples with replacement. \n",
    "\n",
    "So,\n",
    "\n",
    "$$\\begin{align*}\n",
    "P(\\text{No Birthday match}) &= \\frac{(365)_k}{365^k} \\\\\n",
    "&= \\frac{365 \\cdot 364 \\cdots (365-k+1)}{365 \\cdot 365 \\cdots 365} \\\\\n",
    "&= 1 \\cdot \\left(1 - \\frac{1}{365}\\right)\\left(1 - \\frac{2}{365}\\right)\\cdots \\left(1 - \\frac{k-1}{365}\\right)\n",
    "\\end{align*}$$"
   ]
  },
  {
   "cell_type": "markdown",
   "metadata": {},
   "source": [
    "Thus,\n",
    "\n",
    "$$\\begin{align*}\n",
    "P(\\text{Atleast one birthday match}) &= 1 - P(\\text{No Birthday Match})\\\\\n",
    "&= 1 - \\left(1 - \\frac{1}{365}\\right)\\left(1 - \\frac{2}{365}\\right)\\cdots \\left(1 - \\frac{k-1}{365}\\right)\n",
    "\\end{align*}$$"
   ]
  },
  {
   "cell_type": "markdown",
   "metadata": {},
   "source": [
    "Let's plot the probability of atleast one birthay match as a function of $k$. The first value of $k$ for which the probability of a match exceeds $0.50$ is $k=23$. Thus, in a group of $23$ people, there is better than $50\\%$ chance that two or more them will share the same birthday. By the time we reach $k=57$, the probability of a match exceeds $99\\%$."
   ]
  },
  {
   "cell_type": "code",
   "execution_count": 11,
   "metadata": {},
   "outputs": [],
   "source": [
    "def prob_atleast_one_bday_match(k:int) :\n",
    "    prod = 1\n",
    "    for i in range(1,k):\n",
    "        prod = prod * (1 - i/365)\n",
    "        \n",
    "    return 1 - prod"
   ]
  },
  {
   "cell_type": "code",
   "execution_count": 12,
   "metadata": {},
   "outputs": [
    {
     "data": {
      "image/png": "[encoded data removed]",
      "text/plain": [
       "<Figure size 432x288 with 1 Axes>"
      ]
     },
     "metadata": {
      "needs_background": "light"
     },
     "output_type": "display_data"
    }
   ],
   "source": [
    "import numpy as np\n",
    "import matplotlib.pyplot as plt\n",
    "\n",
    "x = [k for k in range(1,101)]\n",
    "y = [prob_atleast_one_bday_match(k) for k in range(1,101)]\n",
    "\n",
    "plt.grid(True)\n",
    "plt.xlabel('k')\n",
    "plt.ylabel('probability of atleast one match')\n",
    "plt.plot(x,y,'o')\n",
    "plt.show()"
   ]
  },
  {
   "cell_type": "markdown",
   "metadata": {},
   "source": [
    "The birthday problem is much more than fun party game and much more than a way to build intuition about coincidences, there are also important applications in statistics and computer science. \n",
    "\n",
    "**Note.** (Labeling objects). Drawing a sample from a population is a very fundamental concept in statistics. It is important to think of the objects or people in the population as named or labeled. For example, if there are $n$ balls in a jar, we can imagine that they have labels from $1$ to $n$, even if the balls look the same to the human eye. In the birthday problem, we can give each person an ID (identification) number.\n",
    "\n",
    "(c) *Elevator*. An elevator starts with $r=7$ passengers and stops at $n=10$ floors. What is the probability $p$ that no two passengers leave at the same floor. Assume that all arrangements of discharging passengers leave at the same floor. \n",
    "\n",
    "We are sampling $7$ times from the population $\\{1,2,3,\\ldots,10\\}$. The number of ordered samples of size $r=7$ without replacement (repetition) are $(10)_7$. The total number of samples with replacement are $10^7$. As each sample point is equally likely, we have:\n",
    "\n",
    "$$P(\\text{No two passengers leave at the same floor}) = \\frac{(10)_7}{10^7}$$\n",
    "\n",
    "Example. If we roll two fair dice, which is more likely: a sum of $11$ or a sum of $12$? \n",
    "\n",
    "We are sampling two times with replacement from the population \\{1,2,3,4,5,6\\}. The total number of sample points in th sample space are $6^2 = 36$. Each sample point is equally likely. Further, a sum of $11$ is obtained when two throws result in either $(5,6)$ or $(6,5)$. Therefore,\n",
    "\n",
    "$$P(\\text{Sum of throws equals }11) = \\frac{2}{36}$$\n",
    "\n",
    "A sum of $12$ is obtained when the two throws result in $(6,6)$. Therefore,\n",
    "\n",
    "$$P(\\text{Sum of throws equals }12) = \\frac{1}{36}$$"
   ]
  },
  {
   "cell_type": "markdown",
   "metadata": {},
   "source": [
    "## Subpopulations or subsets.\n",
    "\n",
    "As before we use the term *population of size $n$* to denote an aggregate of $n$ elements *without regard to their order*. Two populations are considered different if one contains an element not contained in the other. For example, the sets $\\{1,2,3\\}$ and $\\{1,2\\}$ are different, because $\\{1,2\\}$ does not contain the element $3$. On the other hand, the set $\\{1,2,3\\}$ and $\\{3,2,1\\}$ are identical populations. \n",
    "\n",
    "We choose $r$ elements and form a subset out of a given population of $n$ elements. \n",
    "\n",
    "This is similar to the following conceptual experiment. We are given two jars - a big jar 'A' and a small jar 'B'. Jar 'A' has $n$ slips of paper labelled $1,2,3,\\ldots,n$. We randomly draw $r$ slips and drop them in jar 'B'. Jar 'B' now contains a subpopulation of Jar 'A'. \n",
    "\n",
    "How many different subsets or subpopulations of size $r$ can be formed from a population of size $n$? \n",
    "\n",
    "For example, suppose Jar 'A' has three slips of paper labelled $\\{1,2,3\\}$. We randomly draw $r=2$ slips and drop them in Jar 'B'. Jar 'B' could contain one of 3 subsets $\\{1,2\\}$, $\\{1,3\\}$ or $\\{2,3\\}$. Assume that, the random experiment results in Jar 'B' containing the subset $\\{1,2\\}$. Note that, we don't distinguish between the subsets $\\{1,2\\}$ and $\\{2,1\\}$. The constitution of the jar is the same, as long as the elements in the jar are the same. So, we don't care about the order in which the slips $1$ and $2$ were drawn.\n",
    "\n",
    "Now, each subpopulation of size $r$ can be arranged in $r!$ different orders and in this way produces $r!$ samples without repetition. Conversely, each such sample of size $r$ contains $r$ different elements and thus defines a subpopulation of size $r$. We know that, there exist $(n)_r$ samples of the described sort. If $x$ is the number of subpopulations of size $r$, then obviously the number of ordered samples is $x \\cdot r!$, and we conclude that $x = (n)_r / r!$."
   ]
  },
  {
   "cell_type": "markdown",
   "metadata": {},
   "source": [
    "Number of this kind are known as binomial coefficients, and the standard notation for them is:\n",
    "\n",
    "$${n \\choose r} = \\frac{(n)_r}{r!} = \\frac{n!}{r!(n-r)!}$$\n",
    "\n",
    "read as \"n choose r\"."
   ]
  },
  {
   "cell_type": "markdown",
   "metadata": {},
   "source": [
    "We have now proved:\n",
    "\n",
    "---\n",
    "**Theorem.** The number of subsets(subpopulations) of size $k$ of a set(population) of $n$ elements is :\n",
    "\n",
    "$${n \\choose k} = \\frac{n!}{k!(n-k)!}$$\n",
    "\n",
    "---"
   ]
  },
  {
   "cell_type": "markdown",
   "metadata": {},
   "source": [
    "Now choosing the $r$ elements to be taken out of the population, is the same as choose the $(n-r)$ elements which are to stay in. It is therefore clear, that :\n",
    "\n",
    "$${n \\choose r} = {n \\choose n-r}$$"
   ]
  },
  {
   "cell_type": "markdown",
   "metadata": {},
   "source": [
    "Example. (Club Officers). In a club with $n$ people, there are $(n)_3=\\frac{n(n-1)(n-2)}{3!}$ ways to choose a president, a vice-president and a treasurer. This is like sampling $3$ times from the population $\\{1,2,3,\\ldots,n\\}$. \n",
    "\n",
    "There are ${n \\choose 3}$ ways to choose $3$ officers without pre-determined titles. This is like forming a subset of size $3$ from a population of size $n$."
   ]
  },
  {
   "cell_type": "markdown",
   "metadata": {},
   "source": [
    "Example. (Permutations of a word). How many ways are there to permute the letters in the word LALALAAA? \n",
    "\n",
    "The word LALALAAA is an $8$-letter word. Suppose, we have $8$ cells or places labelled $1,2,3,4,5,6,7,8$.\n",
    "\n",
    "$$\\begin{matrix}\n",
    "\\_ & \\_ & \\_ & \\_ & \\_ & \\_ & \\_ & \\_\\\\\n",
    "1 & 2 & 3 & 4 & 5 & 6 & 7 & 8\n",
    "\\end{matrix}\n",
    "$$\n",
    "\n",
    "Let's first choose where the $5$ A's go. We need to select $r=5$ places from the population $\\{1,2,3,4,5,6,7,8\\}$. For the sake of simplicity, suppose we pick the spots $(1,2,3,4,5)$. Note that, even if we chose the places $(5,4,3,2,1)$ in that order, the outer appearance of the word A A A A A A_ _ _ remains the same. So, we need to choose $r=5$ places without regard to their order.\n",
    "\n",
    "In other words, we select a subset of size $5$ from the place population $\\{1,2,3,4,5,6,7,8\\}$ of size $8$. This can be done ${8 \\choose 5}$ distinguishable ways. Having chosen where the $5$ A's go, equivalently means choosing where the $3$ L's are allocated. \n",
    "\n",
    "So, to sum up, there are:\n",
    "\n",
    "$${8 \\choose 5} = \\frac{8!}{3!5!}= \\frac{8 \\cdot 7 \\cdot 6}{6} = 56 \\text{ permutations.}$$"
   ]
  },
  {
   "cell_type": "markdown",
   "metadata": {},
   "source": [
    "Example. (Permutations of a word continued). How many ways are there to permute the letters in the word STATISTICS? \n",
    "\n",
    "The word STATISTICS is a $10$-letter word. Suppose we have $10$ cells or positions labelled $1,2,3,4,5,6,7,8,9,10$. \n",
    "\n",
    "Let's first choose where the $3$ S's go. We select a subset of size $3$ from the population of size $10$. This can be done in ${10 \\choose 3}$ distinguishable ways. We now have $7$ vacant positions to be occupied. \n",
    "\n",
    "Next, choose where the $3$ T's go. We select a subset of size $3$ from a population of size $7$. This can be done in ${7 \\choose 3}$ distinguishable ways. We now have $4$ vacant positions to be occupied.\n",
    "\n",
    "Next, choose where the $2$ I's go. We must select a subset of size $2$ from a population of size $4$. This can be done in ${4 \\choose 2}$ distinguishable ways. We now have $2$ vacant positions still to be occupied.\n",
    "\n",
    "Next, choose where the $1$ A will go. We select a subset of size $1$ from a population of size $2$. This can be done in ${2 \\choose 1}$ distinguishable ways. We now have only $1$ vacant position still to be occupied.\n",
    "\n",
    "Effectively we have allocated the letter $C$ to the only vacant place available.\n",
    "\n",
    "By the multiplication rule, the number of permutations of the word LALALAAA are:\n",
    "\n",
    "$${10 \\choose 3}{7 \\choose 4}{4 \\choose 2}{2 \\choose 1}{1 \\choose 1}=50400 \\text{ permutations}$$\n",
    "\n"
   ]
  },
  {
   "cell_type": "markdown",
   "metadata": {},
   "source": [
    "Example (Poker). In Poker, a $5$-card hand is dealt from a standard well-shuffled $52$-card deck. Since the order of the cards in a hand is irrelevant, by the last theorem, there are ${52 \\choose 5}=2,598,960$ hands at Poker. What is the probability that the hand at Poker contains different face values?\n",
    "\n",
    "A standard $52$-card deck of playing cards has $13$-face values $\\times$ $4$ suits. We select a subset of $5$-face values from the \"face-values\" population of size $13$. This can be done in ${13 \\choose 5}$ distinguishable ways. We sample $r=5$ times with replacement from the \"suits\" population $\\{\\text{Heart},\\text{Spade},\\text{Club},\\text{Diamond}\\}$ of size $4$. There $4^5$ such samples. It follows that:\n",
    "\n",
    "$$P(\\text{Poker hand contains 5 distinct face-values}) = \\frac{{13 \\choose 5}\\cdot 4^5}{52 \\choose 5}$$"
   ]
  },
  {
   "cell_type": "markdown",
   "metadata": {},
   "source": [
    "Example (Full house in Poker). A $5$-card hand is dealt from a standard well-shuffled $52$-card deck. The hand is called a full house in poker, if it consists of three cards of some rank and two cards of another rank e.g. three 7's and two 10's in any order. What is the probability of a full house?\n",
    "\n",
    "*Solution*.\n",
    "\n",
    "All of the ${52 \\choose 5}$ possible hands are equally likely, so the naive definition of probability is applicable. To find the number of full house hands, use the multiplication rule. There are $13$ choices for first rank. There are ${4 \\choose 3}$ distinguishable ways of selecting $3$-suits for the three cards of first rank. For concreteness, assume that we have three 7's. There are $12$ choices for the second rank. (Now, we are free to choose from any $4$-suits for these cards, because they have a different rank.) There are $\\{4 \\choose 2\\}$ distinguishable ways of selecting $2$-suits for the two cards of the other rank. \n",
    "\n",
    "$$P(\\text{full house}) = \\frac{13 {4 \\choose 3} 12 {4 \\choose 2}}{52 \\choose 5}$$"
   ]
  },
  {
   "cell_type": "code",
   "execution_count": null,
   "metadata": {},
   "outputs": [],
   "source": []
  }
 ],
 "metadata": {
  "kernelspec": {
   "display_name": "Python 3",
   "language": "python",
   "name": "python3"
  },
  "language_info": {
   "codemirror_mode": {
    "name": "ipython",
    "version": 3
   },
   "file_extension": ".py",
   "mimetype": "text/x-python",
   "name": "python",
   "nbconvert_exporter": "python",
   "pygments_lexer": "ipython3",
   "version": "3.8.3"
  }
 },
 "nbformat": 4,
 "nbformat_minor": 4
}
