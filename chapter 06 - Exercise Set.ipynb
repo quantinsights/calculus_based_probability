{
 "cells": [
  {
   "cell_type": "markdown",
   "metadata": {},
   "source": [
    "# Exercise Problems.\n",
    "\n",
    "---\n",
    "1.Assuming all sex distributions to be equally probable,  what proportion of families with exactly six children should be expected to have three boys and three girls?\n",
    "\n",
    "---\n",
    "*Solution.*\n",
    "\n",
    "Let us identify success with the child being a girl, and failure as the child being a boy. Let the r.v. $X$ be the number of successes in $n=6$ trials. The required probability is,\n",
    "\n",
    "\\begin{align*}\n",
    "P(X=3) &= {6 \\choose 3}\\left(\\frac{1}{2}\\right)^3\\left(1-\\frac{1}{2}\\right)^3\\\\\n",
    "&={6 \\choose 3}\\left(\\frac{1}{2}\\right)^6 \\\\\n",
    "&=0.3125\n",
    "\\end{align*}"
   ]
  },
  {
   "cell_type": "code",
   "execution_count": 3,
   "metadata": {},
   "outputs": [
    {
     "data": {
      "text/plain": [
       "0.3125"
      ]
     },
     "execution_count": 3,
     "metadata": {},
     "output_type": "execute_result"
    }
   ],
   "source": [
    "using Distributions\n",
    "\n",
    "binomial(6,3)*(0.5)^6"
   ]
  },
  {
   "cell_type": "markdown",
   "metadata": {},
   "source": [
    "---\n",
    "2.A bridge player had no ace in three consecutive hands. Did he have reason to complain of ill luck?\n",
    "\n",
    "---\n",
    "*Solution*.\n",
    "\n",
    "Let us identify success with getting one or more aces in drawing a bridge card hand. The probability $q$ of no ace in a bridge card hand is given by,\n",
    "\n",
    "\\begin{align*}\n",
    "q &= \\frac{{48 \\choose 13}}{{52 \\choose 13}}\\\\\n",
    "&= 0.3038175\n",
    "\\end{align*}\n",
    "\n",
    "If the $3$ bridge card hands are drawn with replacement, then these are independent Bernoulli trials. So, the probability of no ace in three consecutive hands is $q^3 = 0.028043$."
   ]
  },
  {
   "cell_type": "code",
   "execution_count": 4,
   "metadata": {},
   "outputs": [
    {
     "data": {
      "text/plain": [
       "0.30381752701080433"
      ]
     },
     "execution_count": 4,
     "metadata": {},
     "output_type": "execute_result"
    }
   ],
   "source": [
    "q = binomial(48,13)/binomial(52,13)"
   ]
  },
  {
   "cell_type": "code",
   "execution_count": 6,
   "metadata": {},
   "outputs": [
    {
     "data": {
      "text/plain": [
       "0.028043904088925094"
      ]
     },
     "execution_count": 6,
     "metadata": {},
     "output_type": "execute_result"
    }
   ],
   "source": [
    "q^3"
   ]
  },
  {
   "cell_type": "markdown",
   "metadata": {},
   "source": [
    "---\n",
    "3.How long has a series of random digits to be in order for the probability of the digit $7$ appearing to be atleast $\\frac{9}{10}$?\n",
    "\n",
    "---\n",
    "\n",
    "*Solution.*\n",
    "\n",
    "Let us identify success with the appearance of the digit $7$. The probability $p$ of success is $\\frac{1}{10}$. Since each digit is randomly drawn from $\\{0,1,2,3,4,5,6,7,8,9\\}$ with replacement, these are independent Bernoulli trials. Let $X$ be the number of successes in $n$ Bernoulli trials. $X$ follows the binomial distribution.\n",
    "\n",
    "\\begin{align*}\n",
    "P(X=k) = {n \\choose k}p^k {q^{n-k}}\n",
    "\\end{align*}\n",
    "\n",
    "We are interested to find $k$ such that,\n",
    "\n",
    "\\begin{align*}\n",
    "P(X=0) &\\leq \\left(1-\\frac{9}{10}\\right)\\\\\n",
    "q^n &\\leq 0.1\\\\\n",
    "\\left(\\frac{9}{10}\\right)^n &\\leq 0.1 \\\\\n",
    "n \\log(0.9) &\\leq \\log 0.1 \\\\\n",
    "n &\\geq \\frac{\\log 0.1}{\\log 0.9}\\\\\n",
    "&= 21.85434\n",
    "\\end{align*}\n",
    "\n",
    "So, $n \\geq 22$ trials."
   ]
  },
  {
   "cell_type": "code",
   "execution_count": 9,
   "metadata": {},
   "outputs": [
    {
     "data": {
      "text/plain": [
       "21.854345326782834"
      ]
     },
     "execution_count": 9,
     "metadata": {},
     "output_type": "execute_result"
    }
   ],
   "source": [
    "log(0.1)/log(0.9)"
   ]
  },
  {
   "cell_type": "markdown",
   "metadata": {},
   "source": [
    "---\n",
    "4.How many independent bridge dealings are required in order for the probability of a preassigned player having four aces at least once to be $\\frac{1}{2}$ or better? Solve again for some player instead of a given one.\n",
    "\n",
    "---\n",
    "\n",
    "*Solution.*\n",
    "\n",
    "(a) Let us identify success as a pre-assigned player (e.g. North) getting four aces in a bridge card hand. The probability $p$ of success is ${48 \\choose 9}/{52 \\choose 13}$. Since each dealing is independent, these are independent Bernoulli trials. Let $X$ be the number of successes in $n$ independent dealings.\n",
    "\n",
    "We are interested to have,\n",
    "\n",
    "\\begin{align*}\n",
    "P(X \\geq 1) &\\geq \\frac{1}{2}\\\\\n",
    "1 - P(X \\geq 1) &\\leq \\frac{1}{2}\\\\\n",
    "P(X = 0) &\\leq 0.50 \\\\\n",
    "\\left(1-\\frac{48 \\choose 9}{52 \\choose 13}\\right)^n  &\\leq 0.50 \\\\\n",
    "0.9973589^n & \\leq 0.50 \\\\\n",
    "n &\\geq \\frac{\\log 0.50}{\\log 0.9973589}\\\\\n",
    "n &\\geq 262.10\n",
    "\\end{align*}"
   ]
  },
  {
   "cell_type": "code",
   "execution_count": 12,
   "metadata": {},
   "outputs": [
    {
     "data": {
      "text/plain": [
       "0.9973589435774309"
      ]
     },
     "execution_count": 12,
     "metadata": {},
     "output_type": "execute_result"
    }
   ],
   "source": [
    "1-binomial(48,9)/binomial(52,13)"
   ]
  },
  {
   "cell_type": "code",
   "execution_count": 14,
   "metadata": {},
   "outputs": [
    {
     "data": {
      "text/plain": [
       "262.10400156654214"
      ]
     },
     "execution_count": 14,
     "metadata": {},
     "output_type": "execute_result"
    }
   ],
   "source": [
    "log(0.50)/ log(0.9973589435774309)"
   ]
  },
  {
   "cell_type": "markdown",
   "metadata": {},
   "source": [
    "(b) Let us identify success as some player getting four aces in a bridge card hand. The probability $p$ of success is \n",
    "\n",
    "\\begin{align*}\n",
    "p &= \\frac{{4 \\choose 1}{48 \\choose 9}{39 \\choose 13}{26 \\choose 13}{13 \\choose 13}}{{52 \\choose 13}{39 \\choose 13}{26 \\choose 13}{13 \\choose 13}}\\\\\n",
    "&= 0.01056422\n",
    "\\end{align*}\n",
    "\n",
    "Repeating the calculations as above,\n",
    "\n",
    "\\begin{align*}\n",
    "(1 - 0.01056422)^n &\\leq 0.50 \\\\\n",
    "(0.98943578)^n &\\leq 0.50 \\\\\n",
    "n &\\geq \\frac{\\log 0.50}{\\log 0.98943578}\\\\\n",
    "n &\\geq 66\n",
    "\\end{align*}"
   ]
  },
  {
   "cell_type": "code",
   "execution_count": 15,
   "metadata": {},
   "outputs": [
    {
     "data": {
      "text/plain": [
       "0.01056422569027611"
      ]
     },
     "execution_count": 15,
     "metadata": {},
     "output_type": "execute_result"
    }
   ],
   "source": [
    "binomial(4,1) * binomial(48,9) / binomial(52,13)"
   ]
  },
  {
   "cell_type": "code",
   "execution_count": 16,
   "metadata": {},
   "outputs": [
    {
     "data": {
      "text/plain": [
       "0.98943578"
      ]
     },
     "execution_count": 16,
     "metadata": {},
     "output_type": "execute_result"
    }
   ],
   "source": [
    "1-0.01056422"
   ]
  },
  {
   "cell_type": "code",
   "execution_count": 17,
   "metadata": {},
   "outputs": [
    {
     "data": {
      "text/plain": [
       "65.26553027090138"
      ]
     },
     "execution_count": 17,
     "metadata": {},
     "output_type": "execute_result"
    }
   ],
   "source": [
    "log(0.50)/log(0.98943578)"
   ]
  },
  {
   "cell_type": "markdown",
   "metadata": {},
   "source": [
    "---\n",
    "5.If the probability of hitting a target is $\\frac{1}{5}$ and ten shots are fired independently, what is the probability of the target's being hit at least twice?\n",
    "\n",
    "---\n",
    "\n",
    "*Solution.*\n",
    "\n",
    "Let us identify success as the target being hit by a shot. Let $X$ be the number of shots hitting the target. $X$ follows the binomial distribution. We have,\n",
    "\n",
    "\\begin{align*}\n",
    "P(X \\geq 2) &= 1 - P(X=0) - P(X=1)\\\\\n",
    "&= 1 - {10 \\choose 0}(0.8)^{10} - {10 \\choose 1}(0.2)^{1}(0.8)^{9} \\\\\n",
    "&= 0.624190\n",
    "\\end{align*}"
   ]
  },
  {
   "cell_type": "code",
   "execution_count": 18,
   "metadata": {},
   "outputs": [
    {
     "data": {
      "text/plain": [
       "0.6241903615999997"
      ]
     },
     "execution_count": 18,
     "metadata": {},
     "output_type": "execute_result"
    }
   ],
   "source": [
    "p₀ = 0.8^10\n",
    "p₁ = binomial(10,1)*0.2*0.8^9\n",
    "1 - p₀ - p₁"
   ]
  },
  {
   "cell_type": "markdown",
   "metadata": {},
   "source": [
    "---\n",
    "6.In problem 5, find the conditional probability of the target's being hit atleast twice, assuming that atleast one hit is scored.\n",
    "\n",
    "---\n",
    "\n",
    "*Solution.* \n",
    "\\begin{align*}\n",
    "P(X \\geq 2 | X \\geq 1) &= \\frac{P(X \\geq 2, X \\geq 1)}{P(X \\geq 1)} \\\\\n",
    "&= \\frac{P(X \\geq 2)}{P(X \\geq 1)}\\\\\n",
    "&= \\frac{1 - P(X=0) - P(X=1)}{1 - P(X=0)}\\\\\n",
    "&= \\frac{0.6241903}{0.8926258}\\\\\n",
    "&= 0.6992743\n",
    "\\end{align*}"
   ]
  },
  {
   "cell_type": "code",
   "execution_count": 19,
   "metadata": {},
   "outputs": [
    {
     "data": {
      "text/plain": [
       "0.8926258175999999"
      ]
     },
     "execution_count": 19,
     "metadata": {},
     "output_type": "execute_result"
    }
   ],
   "source": [
    "1 - p₀"
   ]
  },
  {
   "cell_type": "code",
   "execution_count": 20,
   "metadata": {},
   "outputs": [
    {
     "data": {
      "text/plain": [
       "0.6992743759958213"
      ]
     },
     "execution_count": 20,
     "metadata": {},
     "output_type": "execute_result"
    }
   ],
   "source": [
    "(1 - p₀ - p₁)/(1-p₀)"
   ]
  },
  {
   "cell_type": "markdown",
   "metadata": {},
   "source": [
    "---\n",
    "7.Find the probability that a hand of thirteen bridge cards selected at random contains exactly two red cards. Compare it with the corresponding probability in Bernoulli trials with $p=\\frac{1}{2}$.\n",
    "\n",
    "---\n",
    "\n",
    "*Solution.*\n",
    "When drawing a bridge hand, the cards are sampled without replacement. So, they are not independent Bernoulli trials. Actually the number of red cards follows a hypergeometric distribution. The probability that a hand of thirteen bridge cards selected at random contains exactly two red cards is given by,\n",
    "\n",
    "\\begin{align*}\n",
    "P(X_R = 2) &= \\frac{{26 \\choose 2}{26 \\choose 11}}{52 \\choose 13}\\\\\n",
    "&= 0.0039542\n",
    "\\end{align*}\n",
    "\n",
    "In comparison, if these cards are drawn with replacement, i.e. these were independent Bernoulli trials, then \n",
    "\n",
    "\\begin{align*}\n",
    "P(X_R = 2) &= {13 \\choose 2}2^{-13}\\\\\n",
    "&= 0.0095214\n",
    "\\end{align*}"
   ]
  },
  {
   "cell_type": "code",
   "execution_count": 21,
   "metadata": {},
   "outputs": [
    {
     "data": {
      "text/plain": [
       "0.003954249420408755"
      ]
     },
     "execution_count": 21,
     "metadata": {},
     "output_type": "execute_result"
    }
   ],
   "source": [
    "p₂ = (binomial(26,2) * binomial(26,11))/binomial(52,13)"
   ]
  },
  {
   "cell_type": "code",
   "execution_count": 22,
   "metadata": {},
   "outputs": [
    {
     "data": {
      "text/plain": [
       "0.009521484375"
      ]
     },
     "execution_count": 22,
     "metadata": {},
     "output_type": "execute_result"
    }
   ],
   "source": [
    "p_binom = binomial(13,2)*2^(-13)"
   ]
  },
  {
   "cell_type": "markdown",
   "metadata": {},
   "source": [
    "---\n",
    "8.What is the probability that the birthdays of six people fall in two calendar months leaving exactly ten calendar months free? (Assume independence and equal probabilities for all months.)\n",
    "\n",
    "---\n",
    "\n",
    "*Solution.*\n",
    "We think of the six people as balls and the 12 calendar months as cells. We are placing six balls into twelve cells. We can choose the two calendar months in ${12 \\choose 2}$ distinguishable ways. \n",
    "\n",
    "Six people can fall into 2 calendar months leaving exactly ten calendar months free in $2^6$ distinguishable ways.\n",
    "\n",
    "And six people can be assigned to the twelve calendar months in $12^6$ distinguishable ways.\n",
    "\n",
    "The required probability should be,\n",
    "\n",
    "\\begin{align*}\n",
    "\\frac{{12 \\choose 2}2^6}{12^6}\n",
    "\\end{align*}"
   ]
  },
  {
   "cell_type": "code",
   "execution_count": 23,
   "metadata": {},
   "outputs": [
    {
     "data": {
      "text/plain": [
       "0.0014146090534979425"
      ]
     },
     "execution_count": 23,
     "metadata": {},
     "output_type": "execute_result"
    }
   ],
   "source": [
    "(binomial(12,2) * 2^6)/12^6"
   ]
  },
  {
   "cell_type": "markdown",
   "metadata": {},
   "source": [
    "However, we would like to leave exactly ten calendar months free, so we must exclude the possibility that six people's birthdays fall only in the first calendar month or only in the second calendar month. Thus, the desired probability is,\n",
    "\n",
    "\\begin{align*}\n",
    "{12 \\choose 2}\\left(\\frac{2^6}{12^6} - 2\\cdot \\frac{1}{12^6}\\right) \\approx 0.001370\n",
    "\\end{align*}"
   ]
  },
  {
   "cell_type": "code",
   "execution_count": 24,
   "metadata": {},
   "outputs": [
    {
     "data": {
      "text/plain": [
       "0.0013704025205761316"
      ]
     },
     "execution_count": 24,
     "metadata": {},
     "output_type": "execute_result"
    }
   ],
   "source": [
    "binomial(12,2)*((2^6/12^6)-2*(1/12^6))"
   ]
  },
  {
   "cell_type": "markdown",
   "metadata": {},
   "source": [
    "---\n",
    "9.In rolling six true dice, find the probability of obtaining (a)at least one(b)exactly one (c)exactly two, aces. Compare with poisson approximations.\n",
    "\n",
    "---\n",
    "\n",
    "*Solution.*\n",
    "\n",
    "Let us identify success as getting an ace in a dice roll. Since each dice roll is independent, we have a sequence of $6$ independent Bernoulli trials. Let $X$ be the number of aces in the $6$ Bernoulli trials. $X$ follows the binomial distribution. The probability of success $p=1/6$.\n",
    "\n",
    "(a) \\begin{align*}\n",
    "P(X \\geq 1) &= 1 - P(X=0)\\\\\n",
    "&= 1 - q^6\\\\\n",
    "&\\approx 0.665102\n",
    "\\end{align*}\n",
    "\n",
    "(b) \\begin{align*}\n",
    "P(X = 1) &= {6 \\choose 1}pq^5\\\\\n",
    "&\\approx 0.401877\n",
    "\\end{align*}\n",
    "\n",
    "(c) \\begin{align*}\n",
    "P(X = 2) &= {6 \\choose 2}p^2 q^4\\\\\n",
    "&\\approx 0.200938\n",
    "\\end{align*}"
   ]
  },
  {
   "cell_type": "code",
   "execution_count": 26,
   "metadata": {},
   "outputs": [
    {
     "data": {
      "text/plain": [
       "(0.6651020233196159, 0.401877572016461, 0.2009387860082305)"
      ]
     },
     "execution_count": 26,
     "metadata": {},
     "output_type": "execute_result"
    }
   ],
   "source": [
    "n,p,q = 6,1/6,5/6\n",
    "1 - q^6, binomial(6,1)*p*(q^5), binomial(6,2)*(p^2)*(q^4)"
   ]
  },
  {
   "cell_type": "code",
   "execution_count": 27,
   "metadata": {},
   "outputs": [
    {
     "data": {
      "text/plain": [
       "(0.6321205588285577, 0.36787944117144233, 0.18393972058572117)"
      ]
     },
     "execution_count": 27,
     "metadata": {},
     "output_type": "execute_result"
    }
   ],
   "source": [
    "λ = n*p\n",
    "1-(ℯ^(-λ)),(ℯ^(-λ))*(λ/1), (ℯ^(-λ))*(λ^2/2)"
   ]
  },
  {
   "cell_type": "markdown",
   "metadata": {},
   "source": [
    "---\n",
    "10.If there are on the average 1 per cent left-handers, estimate the chances of having at least four left-handers among 200 people. \n",
    "\n",
    "---\n",
    "\n",
    "*Solution.*\n",
    "We have, $\\lambda = np = 0.01*200 = 2$. Here $n$ is large, $p$ is small. Let $X$ be the number of left handers among the 200 people. $X$ is a poisson random variable.\n",
    "\n",
    "\\begin{align*}\n",
    "P(X \\geq 4) &= 1 - P(X=0) - P(X=1) - P(X=2) - P(X=3)\\\\\n",
    "&= 1 - e^{-\\lambda}\\left[1+\\frac{\\lambda}{1}+\\frac{\\lambda^2}{2!} + \\frac{\\lambda^3}{3!}\\right]\\\\\n",
    "&\\approx 0.1428765\n",
    "\\end{align*}"
   ]
  },
  {
   "cell_type": "code",
   "execution_count": 2,
   "metadata": {},
   "outputs": [
    {
     "data": {
      "text/plain": [
       "(0.1353352832366127, 0.2706705664732254, 0.2706705664732254, 0.18044704431548358)"
      ]
     },
     "execution_count": 2,
     "metadata": {},
     "output_type": "execute_result"
    }
   ],
   "source": [
    "poisson(k,λ) = (ℯ^(-λ))*(λ^k/factorial(k))\n",
    "poisson(0,2), poisson(1,2), poisson(2,2), poisson(3,2)"
   ]
  },
  {
   "cell_type": "code",
   "execution_count": 34,
   "metadata": {},
   "outputs": [
    {
     "data": {
      "text/plain": [
       "0.1428765395014529"
      ]
     },
     "execution_count": 34,
     "metadata": {},
     "output_type": "execute_result"
    }
   ],
   "source": [
    "1 - poisson(0,2) - poisson(1,2) - poisson(2,2) - poisson(3,2)"
   ]
  },
  {
   "cell_type": "markdown",
   "metadata": {},
   "source": [
    "---\n",
    "11.A book of 500 pages contains 500 misprints. Estimate the chances that a given page contains atleast three misprints.\n",
    "\n",
    "---\n",
    "\n",
    "*Solution.*\n",
    "\n",
    "Here, the total number of misprints $T = 500$, and the experiment is performed $N=500$ times. On an average, the number of misprints per page $\\lambda t = T/N = 500/500 = 1$.\n",
    "\n",
    "\\begin{align*}\n",
    "P(X \\geq 3) &= 1 - P(X \\leq 2)\\\\\n",
    "&=1 - (P(X=0) + P(X=1) + P(X=3))\\\\\n",
    "&\\approx 0.080301\n",
    "\\end{align*}"
   ]
  },
  {
   "cell_type": "code",
   "execution_count": 3,
   "metadata": {},
   "outputs": [
    {
     "data": {
      "text/plain": [
       "(0.36787944117144233, 0.36787944117144233, 0.18393972058572117)"
      ]
     },
     "execution_count": 3,
     "metadata": {},
     "output_type": "execute_result"
    }
   ],
   "source": [
    "poisson(0,1),poisson(1,1),poisson(2,1)"
   ]
  },
  {
   "cell_type": "code",
   "execution_count": 4,
   "metadata": {},
   "outputs": [
    {
     "data": {
      "text/plain": [
       "0.08030139707139416"
      ]
     },
     "execution_count": 4,
     "metadata": {},
     "output_type": "execute_result"
    }
   ],
   "source": [
    "1 - poisson(0,1) - poisson(1,1) - poisson(2,1)"
   ]
  },
  {
   "cell_type": "markdown",
   "metadata": {},
   "source": [
    "---\n",
    "12.Colorblindness appears in 1 per cent of the people in a certain population. How large must a random sample (with replacements) be if the probability of its containing a colorblind person is to be 0.95 or more?\n",
    "\n",
    "---\n",
    "\n",
    "*Solution.*\n",
    "\n",
    "We are given that $P(X\\ge 1) \\geq 0.95$. Consequently,\n",
    "\n",
    "\\begin{align*}\n",
    "P(X = 0) &\\leq 0.05\\\\\n",
    "e^{-\\lambda} &\\leq 0.05 \\\\\n",
    "-\\lambda &\\leq \\log 0.05\\\\\n",
    "\\lambda &\\geq 2.9957322\\\\\n",
    "n(0.01) &\\geq 2.9957322\\\\\n",
    "n &\\geq 300\n",
    "\\end{align*}"
   ]
  },
  {
   "cell_type": "code",
   "execution_count": 6,
   "metadata": {},
   "outputs": [
    {
     "data": {
      "text/plain": [
       "2.995732273553991"
      ]
     },
     "execution_count": 6,
     "metadata": {},
     "output_type": "execute_result"
    }
   ],
   "source": [
    "-log(0.05)"
   ]
  },
  {
   "cell_type": "markdown",
   "metadata": {},
   "source": [
    "---\n",
    "13.In the preceding exercise, what is the probability that a sample of $100$ people will contain (a)no (b) two or more, colorblind people?\n",
    "\n",
    "---\n",
    "\n",
    "*Solution.*\n",
    "We have, $\\lambda = np = 100 \\cdot 0.01 = 1$. \n",
    "\n",
    "(a) \\begin{align*}\n",
    "P(X=0) = e^{-1} = 0.36787\n",
    "\\end{align*}\n",
    "\n",
    "(b) \\begin{align*}\n",
    "P(X \\geq 2) &= 1 - P(X < 2)\\\\\n",
    "&= 1 - P(X=0) - P(X=1)\\\\\n",
    "&= 1 - e^{-1} - e^{-1}/2\\\\\n",
    "&\\approx 0.44818\n",
    "\\end{align*}"
   ]
  },
  {
   "cell_type": "code",
   "execution_count": 8,
   "metadata": {},
   "outputs": [
    {
     "data": {
      "text/plain": [
       "(0.36787944117144233, 0.18393972058572117)"
      ]
     },
     "execution_count": 8,
     "metadata": {},
     "output_type": "execute_result"
    }
   ],
   "source": [
    "ℯ^(-1), ℯ^(-1)/2"
   ]
  },
  {
   "cell_type": "code",
   "execution_count": 9,
   "metadata": {},
   "outputs": [
    {
     "data": {
      "text/plain": [
       "0.4481808382428365"
      ]
     },
     "execution_count": 9,
     "metadata": {},
     "output_type": "execute_result"
    }
   ],
   "source": [
    "1 - ℯ^(-1) - ℯ^(-1)/2"
   ]
  },
  {
   "cell_type": "markdown",
   "metadata": {},
   "source": [
    "---\n",
    "14.Estimate the number of raisins which a cookie should contain on the average if it is desired that the probability of a cookie to contain atleast one raisin be 0.99 or more.\n",
    "\n",
    "---\n",
    "\n",
    "*Solution.*\n",
    "Let $X$ be the number of raisins in a cookie. $X \\sim Poisson(k;\\lambda)$.\n",
    "\n",
    "\\begin{align*}\n",
    "P(X \\geq 1 ) &\\geq 0.99 \\\\\n",
    "1 - P(X \\geq 1) &\\leq 1 - 0.99 \\\\\n",
    "P(X=0) &\\leq 0.01 \\\\\n",
    "e^{-\\lambda} &\\leq 0.01\\\\\n",
    "-\\lambda &\\leq \\log 0.01\\\\\n",
    "\\lambda &\\geq 4.60517\n",
    "\\end{align*}"
   ]
  },
  {
   "cell_type": "code",
   "execution_count": 10,
   "metadata": {},
   "outputs": [
    {
     "data": {
      "text/plain": [
       "-4.605170185988091"
      ]
     },
     "execution_count": 10,
     "metadata": {},
     "output_type": "execute_result"
    }
   ],
   "source": [
    "log(0.01)"
   ]
  },
  {
   "cell_type": "markdown",
   "metadata": {},
   "source": [
    "---\n",
    "15.The probability of a royal flush in poker is $p=1/649740$. How large has $n$ to be to render the probability of no royal flush in $n$ hands smaller than $1/e \\approx \\frac{1}{3}$? (*Note:* No calculations are necessary for the solution).\n",
    "\n",
    "---\n",
    "\n",
    "*Solution.*\n"
   ]
  },
  {
   "cell_type": "markdown",
   "metadata": {},
   "source": [
    "A royal flush is an ace, king, queen, jack and ten of a suit. \n",
    "\n",
    "The probability of a royal flush is $p = \\frac{{4 \\choose 1}}{52 \\choose 5} = \\frac{1}{649740}$."
   ]
  },
  {
   "cell_type": "code",
   "execution_count": 13,
   "metadata": {},
   "outputs": [
    {
     "data": {
      "text/plain": [
       "(1.5390771693292702e-6, 1.5390771693292702e-6)"
      ]
     },
     "execution_count": 13,
     "metadata": {},
     "output_type": "execute_result"
    }
   ],
   "source": [
    "binomial(4,1)/binomial(52,5), 1/649740"
   ]
  },
  {
   "cell_type": "markdown",
   "metadata": {},
   "source": [
    "Let $X$ be the number of royal flushes in $n$ hands. $X \\sim Poisson(k;\\lambda)$.\n",
    "\n",
    "\\begin{align*}\n",
    "P(X = 0) &\\leq \\frac{1}{e}\\\\\n",
    "e^{-\\lambda} &\\leq e^{-1}\\\\\n",
    "\\lambda &\\geq 1\\\\\n",
    "n\\cdot \\frac{1}{649470} &\\geq 1\\\\\n",
    "n &\\geq 649470\n",
    "\\end{align*}"
   ]
  },
  {
   "cell_type": "markdown",
   "metadata": {},
   "source": [
    "---\n",
    "16.A book of $n$ pages contains on the average $\\lambda$ misprints per page. Estimate the probability that at least one page will contain more than $k$ misprints.\n",
    "\n",
    "---\n",
    "\n",
    "*Solution.*\n",
    "Let $X$ be the number of misprints per page. $X \\sim Poisson(k;\\lambda)$. \n",
    "\n",
    "\\begin{align*}\n",
    "P(X > k) &=  e^{-\\lambda} \\left[\\frac{\\lambda^{k+1}}{(k+1)!} + \\ldots \\right]\n",
    "\\end{align*}\n",
    "\n",
    "This gives us the probability that a page will contain more than $k$ misprints. \n",
    "\n",
    "Let us identify success as a page containing more than $k$ misprints. Let $Y$ be the number of pages containing more than $k$ misprints. Then, $Y \\sim Binomial(m;n,p)$ where $p = e^{-\\lambda} \\left[\\frac{\\lambda^{k+1}}{(k+1)!} + \\ldots \\right]$. The probability of atleast one success equals one minus the probability that no page contains more than $k$ misprints.\n",
    "\n",
    "\\begin{align*}\n",
    "P(Y \\geq 1) &= 1 - P(Y=0)\\\\\n",
    "&= 1 - (1-p)^n\n",
    "\\end{align*}"
   ]
  },
  {
   "cell_type": "markdown",
   "metadata": {},
   "source": [
    "---\n",
    "17.Suppose that there exist two kinds of stars(or raisins in a cake, or flaws in a material). The probability that a given volume contains $j$ stars of the first kind is $p(j;a)$ and the probability that it contains $k$ stars of the second kind is $p(k;b)$; the two events are assumed to be independent. Prove that the probability that the volume contains a total of $n$ stars is $p(n;a + b)$. (Interprete the assertion and the assumptions abstractly.)\n",
    "\n",
    "---\n",
    "\n",
    "*Solution.*\n",
    "\n",
    "Let $X$ be the number of stars of the first kind in a unit volume. $X \\sim Poisson(j;a)$. $a$ is the average density of the stars of the first kind in a unit volume.\n",
    "\n",
    "Let $Y$ be the number of stars of the second kind in a unit volume. $X \\sim Poisson(k;b)$. $b$ is the average density of the stars of the second kind in a unit volume.\n",
    "\n",
    "$X$ and $Y$ are independent Poisson r.v.'s, the occurrence of the stars of one kind, reveals no additional information about the occurrence of the other kind.\n",
    "\n",
    "We are actually interested to find the probability distribution of the total number of stars $X + Y$, in a unit volume. \n",
    "\n",
    "\\begin{align*}\n",
    "P(X + Y = n) &= \\sum_{j=0}^{n} P(X + Y = n|X=j) \\cdot P(X=j)\\\\\n",
    "&= \\sum_{j=0}^{n} P(Y=n-j|X=j) \\cdot P(X=j)\\\\\n",
    "&= \\sum_{j=0}^{n} P(Y=n-j) \\cdot P(X=j) \\quad \\{ X \\text{ and } Y \\text{ are independent } \\}\\\\\n",
    "&= \\sum_{j=0}^{n} e^{-a} \\cdot \\frac{a^{n-j}}{(n-j)!} \\cdot e^{-b} \\cdot \\frac{b^j}{j!}\\\\\n",
    "&= \\frac{e^{-(a+b)}}{n!}\\sum_{j=0}^{n} {n \\choose j} a^{n-j} b^j \\\\\n",
    "&= e^{-(a+b)} \\cdot \\frac{(a+b)^n}{n!}\n",
    "\\end{align*}\n",
    "\n",
    "Thus, $X + Y \\sim Poisson(n,a+b)$."
   ]
  },
  {
   "cell_type": "markdown",
   "metadata": {},
   "source": [
    "---\n",
    "18.*A traffic problem.* The flow of traffic at a certain street crossing is described by saying that the probability of a car's passing during any given second is a constant $p$; and that there is no interaction between the passing of cars at different seconds. Treating seconds as indivisible time unit, the model of Bernoulli trials applies. Suppose that a pedestrian can cross the street only if no car is to pass during the next three seconds. Find the probability that the pedestrian has to wait for exactly $k=0,1,2,3,4$ seconds.\n",
    "(The corresponding general formulas are not obvious and will be derived in connection with the theory of success runs in a later topic.)\n",
    "\n",
    "---\n",
    "\n",
    "*Solution.*\n"
   ]
  },
  {
   "cell_type": "markdown",
   "metadata": {},
   "source": [
    "---\n",
    "19.Two people toss a true coin $n$ times each. Find the probability that they will score the same number of heads.\n",
    "\n",
    "---\n",
    "*Solution.*\n",
    "Let $X$ be the number of heads scored by the first person. And let $Y$ be the number of heads scored by the second person. We are interested to find the probability of the event $X=Y$. \n",
    "\n",
    "\\begin{align*}\n",
    "P(X=Y) &= P(X=Y|X=0) \\cdot P(X=0) + P(X=Y|X=1) \\cdot P(X = 1) + P(X = Y|X = 2) \\cdot P(X=2) + \\ldots \\\\\n",
    "&= P(Y=0) \\cdot P(X = 0) + P(Y=1)\\cdot P(X=1) + P(Y=2) \\cdot P(X=2)\\\\\n",
    "&=\\left(\\frac{1}{2}\\right)^{2n}\\left[{n \\choose 0}^2 + {n \\choose 1}^2 + {n \\choose 2}^2 + \\ldots \\right]\n",
    "\\end{align*}\n",
    "\n",
    "But we know using the story proof that, if we have $n$ white balls and $n$ black balls, then the number of ways of constructing a sample of size $n$ from a population of size $2n$ is,\n",
    "\n",
    "\\begin{align*}\n",
    "{n \\choose 0}{n \\choose n} + {n \\choose 1}{n \\choose {n-1}} + {n \\choose 2}{n \\choose n-2} + \\ldots &= {2n \\choose n}\\\\\n",
    "\\sum_k {n \\choose k}{n \\choose n - k} &= {2n \\choose n}\\\\\n",
    "\\sum_k {n \\choose k}^2 = {2n \\choose n}\n",
    "\\end{align*}"
   ]
  },
  {
   "cell_type": "markdown",
   "metadata": {},
   "source": [
    "---\n",
    "20.In a sequence of Bernoulli trials with probability $p$ for success, find the probability that $a$ successes will occur before $b$ failures. (Note: The issue is decided after at most $a+b-1$ trials. This probem playerd a role in the classical theory of games in connection with the question of how to divide the pot when the game is interrupted at a moment when one player lacks $a$ points to victory, the other $b$ points.)\n",
    "\n",
    "---\n",
    "\n",
    "*Solution.*\n",
    "The probability that $a$ successes occur before $b$ failures is given by,\n",
    "\n"
   ]
  },
  {
   "cell_type": "markdown",
   "metadata": {},
   "source": [
    "---\n",
    "21.In Banach's match box problem find the probability that at the moment when the first box is emptied (not found empty) the other contains exactly $r$  matches (where $r = 1,2,3,\\ldots,N$)\n",
    "\n",
    "---\n",
    "*Solution.* Let us identify success with drawing a match from the first box. We are interested to find the probability that the $N$th success occurs at the $(2N-r)$th trial. That, is $N-1$ successes must occur in the preceding $2N - r - 1$ trials. Therefore the desired probability is:\n",
    "\n",
    "\\begin{align*}\n",
    "{{2N - r - 1} \\choose {N - 1}}\\left(\\frac{1}{2}\\right)^{N-1}\\left(\\frac{1}{2}\\right)^{N-r}\n",
    "\\end{align*}\n",
    "\n",
    "We would like the $N$th success to occur at the $(2N-r)$th trial. That gives us,\n",
    "\n",
    "\\begin{align*}\n",
    "{{2N - r - 1} \\choose {N - 1}}\\left(\\frac{1}{2}\\right)^{N}\\left(\\frac{1}{2}\\right)^{N-r}\n",
    "\\end{align*}\n",
    "\n",
    "Because of symmetry, we can relabel the left box as the second box and right box as the first box. Hence, the desired probability is,\n",
    "\\begin{align*}\n",
    "&2{{2N - r - 1} \\choose {N - 1}}\\left(\\frac{1}{2}\\right)^{2N-r}\\\\\n",
    "=&{{2N - r - 1} \\choose {N - 1}}\\left(\\frac{1}{2}\\right)^{2N-r-1}\n",
    "\\end{align*}\n"
   ]
  },
  {
   "cell_type": "markdown",
   "metadata": {},
   "source": [
    "---\n",
    "22.*(Continuation)* Using the preceding result, find the probability $x$ that the box first emptied is not the one first found to be empty. Show that the expression thus obtained reduces to $x = {2N \\choose N}2^{-2N-1}$ or $\\frac{1}{2}(N\\pi)^{-\\frac{1}{2}}$, approximately.\n",
    "\n",
    "---"
   ]
  },
  {
   "cell_type": "markdown",
   "metadata": {},
   "source": [
    "*Solution*. Let us identify success with selecting the first box. Let us label the match box in the left pocket as 1 and the right pocket as 2. We would like to ensure that there are no more $N$ successes in the first $2N-1$ trials. Thus, the first box is emptied (but not found empty). The $2N$th trial must be a failure, so the second box is emptied after the first. Further, the $(2N+1)$st trial must result in a failure. So, the box that was emptied first is not the first one to be found empty.\n",
    "Thus the required probability is,\n",
    "\\begin{align*}\n",
    "{2N-1 \\choose N}\\left(\\frac{1}{2}\\right)^{2N-1} \\cdot \\left(\\frac{1}{2}\\right)\\cdot \\left(\\frac{1}{2}\\right)\n",
    "\\end{align*}"
   ]
  },
  {
   "cell_type": "markdown",
   "metadata": {},
   "source": [
    "By symmetry, the same applies if we relabel the match box in the left pocket as 2 and the right pocket as 1. Thus, we have:\n",
    "\n",
    "\\begin{align*}\n",
    "{2N-1 \\choose N}\\left(\\frac{1}{2}\\right)^{2N-1} \\cdot \\left(\\frac{1}{2}\\right)\\cdot \\left(\\frac{1}{2}\\right)\n",
    "\\end{align*}\n",
    "\n",
    "The total probability is:\n",
    "\n",
    "\\begin{align*}\n",
    "&{2N-1 \\choose N}\\left(\\frac{1}{2}\\right)^{2N-1} \\cdot \\left(\\frac{1}{2}\\right)\\\\\n",
    "=&\\frac{(2N-1)!}{N!(N-1)!} \\left(\\frac{1}{2}\\right)^{2N}\\\\\n",
    "=&\\frac{1}{2}\\cdot\\frac{2N(2N-1)!}{N!N(N-1)!}\\left(\\frac{1}{2}\\right)^{2N}\\\\\n",
    "=&{2N \\choose N} \\left(\\frac{1}{2}\\right)^{2N+1}\\\\\n",
    "=&{2N \\choose N} 2^{-2N-1}\n",
    "\\end{align*}\n"
   ]
  },
  {
   "cell_type": "markdown",
   "metadata": {},
   "source": [
    "---\n",
    "23.Proofs in a certain book were read independenty by two proofreaders who found, respectively, $k_1$ and $k_2$ misprints; $k_{12}$ misprints were found by both. Give a reasonable estimate of the unknown number, $n$ of misprints in the proof. (Assume that proofreading corresponds to Bernoulli trials in which the two proof readers have, respectively, probabilities $p_1$ and $p_2$ of catching a misprint. Use the law of large numbers).\n",
    "\n",
    "---\n",
    "*Solution.*"
   ]
  },
  {
   "cell_type": "markdown",
   "metadata": {},
   "source": [
    "By the law of large numbers, if a large number of identical and independent Bernoulli trials are performed, the fraction of the number of successes $S_n$ in $n$ trials, $\\frac{S_n}{n}$ nears $p$. Let $I_1$ be the indicator rv that the first proof reader catches a mispint and $I_2$ be the indicator rv that the second proof-reader catches a misprint. We have,\n",
    "\n",
    "\\begin{align*}\n",
    "P(I_1 = 1) &=\\frac{k_1}{n}\\\\\n",
    "P(I_2 = 1) &=\\frac{k_2}{n}\\\\\n",
    "P(I_1 = 1, I_2 = 1) &= \\frac{k_{12}}{n}\n",
    "\\end{align*}\n",
    "\n",
    "Since $\\{I_1 = 1\\}$ and $\\{I_2 = 1\\}$ are independent events, $P\\{I_1 = 1, I_2 = 1\\} = P\\{I_1 = 1\\} \\cdot P\\{I_2 = 1\\}$. That gives us,\n",
    "\n",
    "\\begin{align*}\n",
    "\\frac{k_{12}}{n} &= \\frac{k_1 k_2}{n^2} \\\\\n",
    "n &= \\frac{k_1 k_2}{k_{12}}\n",
    "\\end{align*}"
   ]
  },
  {
   "cell_type": "markdown",
   "metadata": {},
   "source": [
    "---\n",
    "24.To estimate the size of an animal population by trapping, traps are set $r$ times in succession. Assuming that each animal has the same probability $q$ of being trapped, that originally there were $n$ animals in all, and that the only changes in the situation between successive settings of traps are that animals have been trapped (and thus removed); find the probability that the $r$ trappings yield, repectively $n_1,n_2\\ldots,n_r$ animals.\n",
    "\n",
    "---"
   ]
  },
  {
   "cell_type": "markdown",
   "metadata": {},
   "source": [
    "If $n_1$ animals are trapped by the first trial, they are removed and the size of the animal population for the second trial is $n - n_1$. So, the $r$ trappings are not independent. We are sampling without replacement. \n",
    "\n",
    "Let \n",
    "\n",
    "$X_1$ be the number of animals trapped in the first trial, \n",
    "\n",
    "$X_2$ be the number of animals trapped in the second trial, \n",
    "\n",
    "$\\vdots$\n",
    "\n",
    "$X_r$ be the number of animals trapped in the $r$th trial."
   ]
  },
  {
   "cell_type": "markdown",
   "metadata": {},
   "source": [
    "\\begin{align*}\n",
    "P\\{X_1 = n_1, X_2 = n_2, \\ldots, X_r= n_r\\} &= P\\{X_1 = n_1\\} \\cdot P\\{X_2 = n_2 | X_1 = n_1 \\} \\cdots P\\{X_r = n_r | X_1 = n_1, X_2 =n_2 \\ldots X_{r-1} = n_{r-1}\\}\\\\\n",
    "&= {n \\choose n_1} q^{n_1}(1-q)^{n-n_1} {n-n_1 \\choose n_2} q^{n_2}(1-q)^{n-n_1-n_2} \\cdots \\\\\n",
    "&= \\frac{n!}{n_1!n_2!\\dots n_r!} q^{n_1 + n_2 + \\ldots + n_r} (1-q)^{n-(n_1 + n_2 + \\ldots + n_r)}\n",
    "\\end{align*}"
   ]
  },
  {
   "cell_type": "markdown",
   "metadata": {},
   "source": [
    "---\n",
    "25.People are arriving at a party one at a time. While waiting for more people to arrive they entertain themselves by comparing their birthdays. Let $X$ be the number people needed to obtain a birthday match i.e. before person $X$ arrives, no two people have the same birthday, but when person $X$ arrives there is a match. Find the PMF of $X$.\n",
    "\n",
    "---"
   ]
  },
  {
   "cell_type": "markdown",
   "metadata": {},
   "source": [
    "*Solution.*\n",
    "\n",
    "We are interested to form an ordered $k$-tuple from the population $\\{1,2,3,\\ldots,365\\}$. There's a total of $365^{k-1}$ birthday-tuples of length $(k-1)$. Each sample is equally likely. There are $(365)_{k-1}$ distinguishable birthday-tuples that can be formed, if we sample without replacement, that is, no birthday is repeated. Therefore, the probability that no two people share the same birthday amongst a group of $(k-1)$ people is,\n",
    "\n",
    "\\begin{align*}\n",
    "\\frac{(365)_{k-1}}{365^{k-1}}\n",
    "\\end{align*}\n",
    "\n",
    "The $k$-th person can have his birthday fall on $k-1$ out of $365$ days, so that when he arrives there is a match. So, the PMF of $X$ is,\n",
    "\n",
    "\\begin{align*}\n",
    "P(X = k) = \\frac{(k-1)(365)_{k-1}}{365^k}\n",
    "\\end{align*}"
   ]
  },
  {
   "cell_type": "markdown",
   "metadata": {},
   "source": [
    "---\n",
    "26.(a)Independent Bernoulli trials are performed, with probability $1/2$ of success, until there has been atleast one success. Find the PMF of the number of trials performed.\n",
    "\n",
    "(b)Independent Bernoulli trials are performed, with probability $1/2$ of success, until there has been at least one success and at least one failure. Find the PMF of the number of trials performed.\n",
    "\n",
    "---"
   ]
  },
  {
   "cell_type": "markdown",
   "metadata": {},
   "source": [
    "*Solution.*\n",
    "\n",
    "Let $X$ be the waiting time until the first success. We would have to wait for $r$ trials, if there is a string of $(r-1)$ failures and the first success occurs at the $r$th trial; that is, we are looking at the sequence $\\underbrace{FFF\\ldots F}_{r-1 \\text{ trials }}S$. Therefore, the probability that we need to wait till time $r$ to observe the first success is,\n",
    "\n",
    "\\begin{align*}\n",
    "P(X=r) &= \\left(\\frac{1}{2}\\right)^{r-1} \\left(\\frac{1}{2}\\right) = 2^{-r}\n",
    "\\end{align*}"
   ]
  },
  {
   "cell_type": "markdown",
   "metadata": {},
   "source": [
    "Let $Y$ be the waiting time until atleast one success and atleast one failure. We would have to wait for $r$ trials, if there is a string of $(r-1)$ failures followed by a success at the $r$th trial, or there is a string of $(r-1)$ successes followed by a failure at the $r$th trial. Therefore, the probability that we must wait until time $r$ is,\n",
    "\n",
    "\\begin{align*}\n",
    "P(Y=r) &= 2 \\cdot 2^{-r} = 2^{-r+1}\n",
    "\\end{align*}"
   ]
  },
  {
   "cell_type": "markdown",
   "metadata": {},
   "source": [
    "---\n",
    "27.Let $X$ be an r.v. with CDF $F$, and $Y = \\mu + \\sigma X$, where $\\mu$ and $\\sigma$ are real numbers with $\\sigma > 0$. (Then, $Y$ is called the location-scale transformation of $X$; we will encounter this concept many times in chapter 5 and beyond). Find the CDF of $Y$ in terms of $F$.\n",
    "\n",
    "---"
   ]
  },
  {
   "cell_type": "markdown",
   "metadata": {},
   "source": [
    "*Solution.*\n",
    "\n",
    "\\begin{align*}\n",
    "F_Y(y) &= P(Y \\leq y)\\\\\n",
    "&= P(\\mu + \\sigma X \\leq y) \\\\\n",
    "&= P(\\sigma X \\leq y - \\mu) \\\\\n",
    "&= P\\left\\{X \\leq \\frac{y - \\mu}{\\sigma} \\right\\}\\\\\n",
    "&= F_X\\left(\\frac{y - \\mu}{\\sigma}\\right)\n",
    "\\end{align*}"
   ]
  },
  {
   "cell_type": "markdown",
   "metadata": {},
   "source": [
    "---\n",
    "28.Let $n$ be a positive integer and \n",
    "\\begin{align*}\n",
    "F(x) &= \\frac{[[x]]}{n}\n",
    "\\end{align*}\n",
    "\n",
    "for $0 \\leq x \\leq n$, $F(x) = 0$ for $x < 0$ and $F(x) = 1$ for $x > n$, where $[[x]]$ is greater integer less than or equal to $x$. Show that $F$ is a CDF and find the PMF that it corresponds to.\n",
    "\n",
    "---"
   ]
  },
  {
   "cell_type": "markdown",
   "metadata": {},
   "source": [
    "*Solution.*\n",
    "\n",
    "We assume that $F$ is the CDF of a discrete random variable.\n",
    "\n",
    "(i) Non-decreasing. If $x_1 > x_2$, then $\\frac{[[x_1]]}{n} \\geq \\frac{[[x_2]]}{n} $, so $F_X(x_1) \\geq F_X(x_2)$.\n",
    "\n",
    "(ii) Right continuous.\n",
    "\n",
    "Let $k \\in \\mathbf{N}$. Let's prove that the function $f(x)=[[x]]$ is right-continuous at $k$. \n",
    "\n",
    "Consider an arbitrary sequence $(x_n) \\to k$, such that $x_n > k$. Since, $(x_n) \\to k$, for all $\\delta > 0$, there exists $N \\in\\mathbf{N}$, such that $|x_n - k|<\\delta$ for all $n \\geq N$. Pick $\\delta > 1$. Then, there exists $N$, such that $x_n \\in (k,k+1)$ for all $n \\geq N$.\n",
    "\n",
    "Let $\\epsilon > 0$ be arbitrary. Then, for all $x_n \\in (k,k+1)$, $|f(x_n) - f(k)| = |[[x_n]]-[[k]]|=k - k = 0 <\\epsilon$. So, for all $\\epsilon > 0$, there exists $\\delta > 0$, such that $|f(x_n) - f(k)| < \\epsilon$. Thus, $f(x_n) \\to f(k)$. Since, $(x_n)$ was arbitrary, this is true for all sequences $(x_n) \\to k$. Thus, $f(x) =[[x]]$ is right-continuous at $k\\in\\mathbf{N}$.\n",
    "\n",
    "Moreover, $f(x) = [[x]]$ is continuous at any point $x=c$ where $c\\in [k+\\xi,k+1)$, $k \\in\\mathbf{N}$, $0<\\xi<1$.\n",
    "\n",
    "Therefore, $\\lim_{x \\to a} F_X(x) = \\lim_{x \\to a} \\frac{[[x]]}{n} = \\frac{[[a]]}{n} = F_X(a)$.\n",
    "\n",
    "(iii) $\\lim_{x \\to -\\infty} F_X(x) = 0$, since $F_X(x) = 0$ for $x < 0$. Also, $\\lim_{x \\to \\infty} F_X(x) = 1$, since $F_X(x) = 1$ for $x > n$.\n",
    "\n",
    "Thus, $F$ is a CDF. \n",
    "\n",
    "Let $k \\in\\mathbf{N}$. The PMF of $X$ is given by :\n",
    "\n",
    "\\begin{align*}\n",
    "P(X = k) &= F_X(k + 1) - F_X(k) \\\\\n",
    "&= \\frac{k+1}{n} - \\frac{k}{n}\\\\\n",
    "&= \\frac{1}{n}\n",
    "\\end{align*}"
   ]
  },
  {
   "cell_type": "markdown",
   "metadata": {},
   "source": [
    "---\n",
    "29.(a) Show that $p(n) = \\left(\\frac{1}{2}\\right)^{n+1}$ for $n=0,1,2,\\ldots$ is a valid PMF for a discrete r.v.\n",
    "\n",
    "(b) Find the CDF of a random variable with the PMF from (a).\n",
    "\n",
    "---"
   ]
  },
  {
   "cell_type": "markdown",
   "metadata": {},
   "source": [
    "*Solution.*\n",
    "\n",
    "(a) Clearly, $p(n) \\geq 0$  for all $n=0,1,2,\\ldots$. So, the probabilities are non-negative.\n",
    "\n",
    "Moreover, $\\sum_{n=0}^{\\infty}p(n) = \\sum_{n=0}^{\\infty}\\left(\\frac{1}{2}\\right)^{n+1} = \\frac{1}{2} \\sum_{n=0}^{\\infty}\\left(\\frac{1}{2}\\right)^n = \\frac{1}{2}\\cdot \\frac{1}{1-\\frac{1}{2}}=1$.\n",
    "\n",
    "Hence, $p(n)$ is a valid PMF."
   ]
  },
  {
   "cell_type": "markdown",
   "metadata": {},
   "source": [
    "(b) The CDF of $X$ is given by \n",
    "\n",
    "\\begin{align*}\n",
    "P(X \\leq x) &= \\left(\\frac{1}{2}\\right)\\sum_{n=0}^{x}\\left(\\frac{1}{2}\\right)^x\\\\\n",
    "&= \\frac{1}{2}\\cdot\\frac{1-\\left(\\frac{1}{2}\\right)^{x+1}}{\\left(1 - \\frac{1}{2}\\right)}\\\\\n",
    "F_X(x)&=1-\\left(\\frac{1}{2}\\right)^{x+1}\n",
    "\\end{align*}"
   ]
  },
  {
   "cell_type": "markdown",
   "metadata": {},
   "source": [
    "---\n",
    "30.Benford's law states that in a very large variety of real-life datasets, the first digit approximately follows a particular distribution with about a $30$\\% chance of a $1$, an $18$\\% chance of a $2$, and in general\n",
    "\n",
    "\\begin{align*}\n",
    "P(D=j)=\\log_{10} \\left(\\frac{j+1}{j}\\right), \\quad \\text{ for } j\\in \\{1,2,3,\\ldots,9\\}\n",
    "\\end{align*}\n",
    "\n",
    "where $D$ is the first digit of a randomly chosen element. Check that this is indeed a valid PMF(using properties of logs).\n",
    "\n",
    "---"
   ]
  },
  {
   "cell_type": "markdown",
   "metadata": {},
   "source": [
    "*Solution.*\n",
    "\n",
    "\\begin{align*}\n",
    "\\log_{10}x \\geq 0 \\quad \\text{ for all } x \\geq 1\n",
    "\\end{align*}\n",
    "\n",
    "so the PMF takes non-negative values.\n",
    "\n",
    "Moreover, \n",
    "\n",
    "\\begin{align*}\n",
    "\\sum_{j=1}^{9}P(D=j) &= \\sum_{j=1}^{9} \\log_{10} \\left(\\frac{j+1}{j}\\right)\\\\\n",
    "&= \\log_{10} \\left(\\frac{2}{1}\\right) + \\log_{10} \\left(\\frac{3}{2}\\right) + \\log_{10} \\left(\\frac{4}{3}\\right) + \\ldots + \\log_{10} \\left(\\frac{10}{9}\\right)\\\\\n",
    "&= \\log_{10} \\left(\\frac{2}{1}\\cdot \\frac{3}{2}\\cdot \\frac{4}{3} \\cdots \\frac{10}{9}\\right) \\\\\n",
    "&= \\log_{10} 10\\\\\n",
    "&= 1\n",
    "\\end{align*}"
   ]
  },
  {
   "cell_type": "markdown",
   "metadata": {},
   "source": [
    "---\n",
    "31.Bob is playing a video-game that has $7$ levels. He starts at level $1$ and has the probability $p_1$ of reaching level $2$. In general, given that he reaches level $j$, he has the probability $p_j$ of reaching level $j+1$, for $1 \\leq j \\leq 6$. Let $X$ be the highest level that he reaches. Find the PMF of $X$ (in terms of $p_1,p_2,\\ldots,p_6$).\n",
    "\n",
    "---"
   ]
  },
  {
   "cell_type": "markdown",
   "metadata": {},
   "source": [
    "*Solution.*\n",
    "\\begin{align*}\n",
    "P(X = j) = \\prod_{i=1,i \\leq j}p_i\n",
    "\\end{align*}"
   ]
  },
  {
   "cell_type": "markdown",
   "metadata": {},
   "source": [
    "---\n",
    "32.There are $100$ prizes with one worth $1$ dollar, one worth $2$ dollars, $\\ldots$ and one worth $100$ dollars. There are $100$ boxes, each of which contains one of the prizes. You get $5$ prizes by picking random boxes one at a time, without replacement. Find the PMF of how much your most valuable prize is worth (as a simple expression in terms of binomial coefficients).\n",
    "\n",
    "---"
   ]
  },
  {
   "cell_type": "markdown",
   "metadata": {},
   "source": [
    "*Solution.*\n",
    "\n",
    "If the value of the highest prize is $x$, the remaining $4$ prizes must be chosen from $(x-1)$ random boxes.\n",
    "\n",
    "\\begin{align*}\n",
    "P(X =x) &= \\frac{{x-1} \\choose 4}{100 \\choose 5}\n",
    "\\end{align*}"
   ]
  },
  {
   "cell_type": "markdown",
   "metadata": {},
   "source": [
    "---\n",
    "33.Let $F_1$ and $F_2$ be CDFs, $0 < p < 1$ and $F(x) = pF_1(x) + (1-p)F_2(x)$ for all $x$.\n",
    "\n",
    "(a) Show directly that $F$ has the properties of a valid CDF. The distribution defined by $F$ is called a mixture of distributions defined by $F_1$ and $F_2$.\n",
    "\n",
    "(b) Consider creating an r.v. in the following way. Flip a coin with probability $p$ of heads. If the coin lands heads, generate an r.v. according to $F_1$; if the coin lands Tails, generate an r.v. according to $F_2$. Show that the r.v. obtained in this way has the CDF $F$.\n",
    "\n",
    "---"
   ]
  },
  {
   "cell_type": "markdown",
   "metadata": {},
   "source": [
    "*Solution.*\n",
    "\n",
    "(i) *Increasing*\n",
    "\n",
    "If $x_1 < x_2$, $F_1(x_1) < F_1(x_2)$ and $F_2(x_1) < F_2(x_2)$ since $F_1,F_2$ are CDFs. It follows that,\n",
    "\n",
    "\\begin{align*}\n",
    "pF_1(x_1) + (1-p)F_2(x_1) &< pF_1(x_2) + (1-p)F_2(x_2)\\\\\n",
    "F(x_1) &< F(x_2)\n",
    "\\end{align*}"
   ]
  },
  {
   "cell_type": "markdown",
   "metadata": {},
   "source": [
    "(ii) *Right continuous*.\n",
    "\n",
    "$F_1$ and $F_2$ are right continuous. Passing to the limits, we have:\n",
    "\n",
    "\\begin{align*}\n",
    "\\lim_{x \\to a+} F(x) &= \\lim_{x \\to a+} pF_1(x) + (1-p)F_2(x)\\\\\n",
    "&= p \\lim_{x \\to a+} F_1(x) + (1-p) \\lim_{x \\to a+} F_2(x) \\quad \\{\\text{ Algebraic Limit Theorem }\\}\\\\\n",
    "&= pF_1(a) + (1-p)F_2(a)\\\\\n",
    "&= F(a)\n",
    "\\end{align*}"
   ]
  },
  {
   "cell_type": "markdown",
   "metadata": {},
   "source": [
    "(iii) *Convergence.*\n",
    "\n",
    "\\begin{align*}\n",
    "\\lim_{x \\to -\\infty}[pF_1(x) + (1-p)F_2(x)] = 0\n",
    "\\end{align*}\n",
    "\n",
    "\\begin{align*}\n",
    "\\lim_{x \\to \\infty}[pF_1(x) + (1-p)F_2(x)] = p(1) + (1-p)(1) = 1\n",
    "\\end{align*}"
   ]
  },
  {
   "cell_type": "markdown",
   "metadata": {},
   "source": [
    "(b) Let $X$ be a $Bernoulli(p)$ random variable defined as follows:\n",
    "\n",
    "\\begin{align*}\n",
    "X = \\begin{cases}\n",
    "X_H & \\quad \\text{ if the coin lands heads }\\\\\n",
    "X_T & \\quad \\text{ if the coin lands tails }\n",
    "\\end{cases}\n",
    "\\end{align*}\n",
    "\n",
    "$X_H$ has the CDF $F_1$ and $X_T$ has the CDF $F_2$. The CDF of $X$ is given by,\n",
    "\n",
    "\\begin{align*}\n",
    "P(X \\leq x) &= P(X \\leq x|X= X_H)P(X = X_H) + P(X \\leq x|X=X_T)P(X = X_T)\\\\\n",
    "&= P(X_H \\leq x)\\cdot P(X = X_H) + P(X_T \\leq x)\\cdot P(X = X_T)\\\\\n",
    "F(x)&=F_1(x)\\cdot p + F_2(x) \\cdot (1-p)\n",
    "\\end{align*}"
   ]
  },
  {
   "cell_type": "markdown",
   "metadata": {},
   "source": [
    "---\n",
    "34.(a) Is there a discrete distribution with support $1,2,3,\\ldots$, such that the value of the PMF at $n$ is proportional to $1/n$?\n",
    "\n",
    "(b)Is there a discrete distribution with support $1,2,3,\\ldots$, such that the value of the PMF at $n$ is proportional to $1/n^2$?\n",
    "\n",
    "---"
   ]
  },
  {
   "cell_type": "markdown",
   "metadata": {},
   "source": [
    "*Solution.*\n",
    "\n",
    "(a) Since $\\sum_{n=1}^{\\infty}\\frac{1}{n}$ is divergent, no such PMF exists that satisfies (a).\n",
    "\n",
    "(b) We are interested to find a function $f(x)$ such that, (i) it is a valid PMF (ii) it's value at $n \\in\\mathbf{N}$ equals $\\frac{C}{n^2}$.\n",
    "\n",
    "Clearly, $f(x) \\geq 0 $ yields $C > 0$.\n",
    "\n",
    "Also, for $f$ to be valid PMF, it must satisfy $\\sum_{n=1}^{\\infty}P(X = n) = 1$. This gives us,\n",
    "\n",
    "\\begin{align*}\n",
    "\\sum_{n=1}^{\\infty}\\frac{C}{n^2} &= 1 \\\n",
    "C\\cdot\\frac{\\pi^2}{6} &= 1 \\\\\n",
    "C &= \\frac{6}{\\pi^2}\n",
    "\\end{align*}\n",
    "\n",
    "Thus, the desired PMF is,\n",
    "\n",
    "\\begin{align*}\n",
    "f(n) = P(X = n) = \\frac{6}{\\pi^2}\\cdot\\frac{1}{n^2}, \\quad {n=1,2,3,\\ldots}\n",
    "\\end{align*}"
   ]
  },
  {
   "cell_type": "code",
   "execution_count": null,
   "metadata": {},
   "outputs": [],
   "source": []
  }
 ],
 "metadata": {
  "kernelspec": {
   "display_name": "Julia 1.5.3",
   "language": "julia",
   "name": "julia-1.5"
  },
  "language_info": {
   "file_extension": ".jl",
   "mimetype": "application/julia",
   "name": "julia",
   "version": "1.5.3"
  }
 },
 "nbformat": 4,
 "nbformat_minor": 4
}
