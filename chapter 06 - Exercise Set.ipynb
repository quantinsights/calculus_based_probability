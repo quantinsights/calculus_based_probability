{
 "cells": [
  {
   "cell_type": "markdown",
   "metadata": {},
   "source": [
    "# Exercise Problems.\n",
    "\n",
    "---\n",
    "1.Assuming all sex distributions to be equally probable,  what proportion of families with exactly six children should be expected to have three boys and three girls?\n",
    "\n",
    "---\n",
    "*Solution.*\n",
    "\n",
    "Let us identify success with the child being a girl, and failure as the child being a boy. Let the r.v. $X$ be the number of successes in $n=6$ trials. The required probability is,\n",
    "\n",
    "\\begin{align*}\n",
    "P(X=3) &= {6 \\choose 3}\\left(\\frac{1}{2}\\right)^3\\left(1-\\frac{1}{2}\\right)^3\\\\\n",
    "&={6 \\choose 3}\\left(\\frac{1}{2}\\right)^6 \\\\\n",
    "&=0.3125\n",
    "\\end{align*}"
   ]
  },
  {
   "cell_type": "code",
   "execution_count": 3,
   "metadata": {},
   "outputs": [
    {
     "data": {
      "text/plain": [
       "0.3125"
      ]
     },
     "execution_count": 3,
     "metadata": {},
     "output_type": "execute_result"
    }
   ],
   "source": [
    "using Distributions\n",
    "\n",
    "binomial(6,3)*(0.5)^6"
   ]
  },
  {
   "cell_type": "markdown",
   "metadata": {},
   "source": [
    "---\n",
    "2.A bridge player had no ace in three consecutive hands. Did he have reason to complain of ill luck?\n",
    "\n",
    "---\n",
    "*Solution*.\n",
    "\n",
    "Let us identify success with getting one or more aces in drawing a bridge card hand. The probability $q$ of no ace in a bridge card hand is given by,\n",
    "\n",
    "\\begin{align*}\n",
    "q &= \\frac{{48 \\choose 13}}{{52 \\choose 13}}\\\\\n",
    "&= 0.3038175\n",
    "\\end{align*}\n",
    "\n",
    "If the $3$ bridge card hands are drawn with replacement, then these are independent Bernoulli trials. So, the probability of no ace in three consecutive hands is $q^3 = 0.028043$."
   ]
  },
  {
   "cell_type": "code",
   "execution_count": 4,
   "metadata": {},
   "outputs": [
    {
     "data": {
      "text/plain": [
       "0.30381752701080433"
      ]
     },
     "execution_count": 4,
     "metadata": {},
     "output_type": "execute_result"
    }
   ],
   "source": [
    "q = binomial(48,13)/binomial(52,13)"
   ]
  },
  {
   "cell_type": "code",
   "execution_count": 6,
   "metadata": {},
   "outputs": [
    {
     "data": {
      "text/plain": [
       "0.028043904088925094"
      ]
     },
     "execution_count": 6,
     "metadata": {},
     "output_type": "execute_result"
    }
   ],
   "source": [
    "q^3"
   ]
  },
  {
   "cell_type": "markdown",
   "metadata": {},
   "source": [
    "---\n",
    "3.How long has a series of random digits to be in order for the probability of the digit $7$ appearing to be atleast $\\frac{9}{10}$?\n",
    "\n",
    "---\n",
    "\n",
    "*Solution.*\n",
    "\n",
    "Let us identify success with the appearance of the digit $7$. The probability $p$ of success is $\\frac{1}{10}$. Since each digit is randomly drawn from $\\{0,1,2,3,4,5,6,7,8,9\\}$ with replacement, these are independent Bernoulli trials. Let $X$ be the number of successes in $n$ Bernoulli trials. $X$ follows the binomial distribution.\n",
    "\n",
    "\\begin{align*}\n",
    "P(X=k) = {n \\choose k}p^k {q^{n-k}}\n",
    "\\end{align*}\n",
    "\n",
    "We are interested to find $k$ such that,\n",
    "\n",
    "\\begin{align*}\n",
    "P(X=0) &\\leq \\left(1-\\frac{9}{10}\\right)\\\\\n",
    "q^n &\\leq 0.1\\\\\n",
    "\\left(\\frac{9}{10}\\right)^n &\\leq 0.1 \\\\\n",
    "n \\log(0.9) &\\leq \\log 0.1 \\\\\n",
    "n &\\geq \\frac{\\log 0.1}{\\log 0.9}\\\\\n",
    "&= 21.85434\n",
    "\\end{align*}\n",
    "\n",
    "So, $n \\geq 22$ trials."
   ]
  },
  {
   "cell_type": "code",
   "execution_count": 9,
   "metadata": {},
   "outputs": [
    {
     "data": {
      "text/plain": [
       "21.854345326782834"
      ]
     },
     "execution_count": 9,
     "metadata": {},
     "output_type": "execute_result"
    }
   ],
   "source": [
    "log(0.1)/log(0.9)"
   ]
  },
  {
   "cell_type": "markdown",
   "metadata": {},
   "source": [
    "---\n",
    "4.How many independent bridge dealings are required in order for the probability of a preassigned player having four aces at least once to be $\\frac{1}{2}$ or better? Solve again for some player instead of a given one.\n",
    "\n",
    "---\n",
    "\n",
    "*Solution.*\n",
    "\n",
    "(a) Let us identify success as a pre-assigned player (e.g. North) getting four aces in a bridge card hand. The probability $p$ of success is ${48 \\choose 9}/{52 \\choose 13}$. Since each dealing is independent, these are independent Bernoulli trials. Let $X$ be the number of successes in $n$ independent dealings.\n",
    "\n",
    "We are interested to have,\n",
    "\n",
    "\\begin{align*}\n",
    "P(X \\geq 1) &\\geq \\frac{1}{2}\\\\\n",
    "1 - P(X \\geq 1) &\\leq \\frac{1}{2}\\\\\n",
    "P(X = 0) &\\leq 0.50 \\\\\n",
    "\\left(1-\\frac{48 \\choose 9}{52 \\choose 13}\\right)^n  &\\leq 0.50 \\\\\n",
    "0.9973589^n & \\leq 0.50 \\\\\n",
    "n &\\geq \\frac{\\log 0.50}{\\log 0.9973589}\\\\\n",
    "n &\\geq 262.10\n",
    "\\end{align*}"
   ]
  },
  {
   "cell_type": "code",
   "execution_count": 12,
   "metadata": {},
   "outputs": [
    {
     "data": {
      "text/plain": [
       "0.9973589435774309"
      ]
     },
     "execution_count": 12,
     "metadata": {},
     "output_type": "execute_result"
    }
   ],
   "source": [
    "1-binomial(48,9)/binomial(52,13)"
   ]
  },
  {
   "cell_type": "code",
   "execution_count": 14,
   "metadata": {},
   "outputs": [
    {
     "data": {
      "text/plain": [
       "262.10400156654214"
      ]
     },
     "execution_count": 14,
     "metadata": {},
     "output_type": "execute_result"
    }
   ],
   "source": [
    "log(0.50)/ log(0.9973589435774309)"
   ]
  },
  {
   "cell_type": "markdown",
   "metadata": {},
   "source": [
    "(b) Let us identify success as some player getting four aces in a bridge card hand. The probability $p$ of success is \n",
    "\n",
    "\\begin{align*}\n",
    "p &= \\frac{{4 \\choose 1}{48 \\choose 9}{39 \\choose 13}{26 \\choose 13}{13 \\choose 13}}{{52 \\choose 13}{39 \\choose 13}{26 \\choose 13}{13 \\choose 13}}\\\\\n",
    "&= 0.01056422\n",
    "\\end{align*}\n",
    "\n",
    "Repeating the calculations as above,\n",
    "\n",
    "\\begin{align*}\n",
    "(1 - 0.01056422)^n &\\leq 0.50 \\\\\n",
    "(0.98943578)^n &\\leq 0.50 \\\\\n",
    "n &\\geq \\frac{\\log 0.50}{\\log 0.98943578}\\\\\n",
    "n &\\geq 66\n",
    "\\end{align*}"
   ]
  },
  {
   "cell_type": "code",
   "execution_count": 15,
   "metadata": {},
   "outputs": [
    {
     "data": {
      "text/plain": [
       "0.01056422569027611"
      ]
     },
     "execution_count": 15,
     "metadata": {},
     "output_type": "execute_result"
    }
   ],
   "source": [
    "binomial(4,1) * binomial(48,9) / binomial(52,13)"
   ]
  },
  {
   "cell_type": "code",
   "execution_count": 16,
   "metadata": {},
   "outputs": [
    {
     "data": {
      "text/plain": [
       "0.98943578"
      ]
     },
     "execution_count": 16,
     "metadata": {},
     "output_type": "execute_result"
    }
   ],
   "source": [
    "1-0.01056422"
   ]
  },
  {
   "cell_type": "code",
   "execution_count": 17,
   "metadata": {},
   "outputs": [
    {
     "data": {
      "text/plain": [
       "65.26553027090138"
      ]
     },
     "execution_count": 17,
     "metadata": {},
     "output_type": "execute_result"
    }
   ],
   "source": [
    "log(0.50)/log(0.98943578)"
   ]
  },
  {
   "cell_type": "markdown",
   "metadata": {},
   "source": [
    "---\n",
    "5.If the probability of hitting a target is $\\frac{1}{5}$ and ten shots are fired independently, what is the probability of the target's being hit at least twice?\n",
    "\n",
    "---\n",
    "\n",
    "*Solution.*\n",
    "\n",
    "Let us identify success as the target being hit by a shot. Let $X$ be the number of shots hitting the target. $X$ follows the binomial distribution. We have,\n",
    "\n",
    "\\begin{align*}\n",
    "P(X \\geq 2) &= 1 - P(X=0) - P(X=1)\\\\\n",
    "&= 1 - {10 \\choose 0}(0.8)^{10} - {10 \\choose 1}(0.2)^{1}(0.8)^{9} \\\\\n",
    "&= 0.624190\n",
    "\\end{align*}"
   ]
  },
  {
   "cell_type": "code",
   "execution_count": 18,
   "metadata": {},
   "outputs": [
    {
     "data": {
      "text/plain": [
       "0.6241903615999997"
      ]
     },
     "execution_count": 18,
     "metadata": {},
     "output_type": "execute_result"
    }
   ],
   "source": [
    "p₀ = 0.8^10\n",
    "p₁ = binomial(10,1)*0.2*0.8^9\n",
    "1 - p₀ - p₁"
   ]
  },
  {
   "cell_type": "markdown",
   "metadata": {},
   "source": [
    "---\n",
    "6.In problem 5, find the conditional probability of the target's being hit atleast twice, assuming that atleast one hit is scored.\n",
    "\n",
    "---\n",
    "\n",
    "*Solution.* \n",
    "\\begin{align*}\n",
    "P(X \\geq 2 | X \\geq 1) &= \\frac{P(X \\geq 2, X \\geq 1)}{P(X \\geq 1)} \\\\\n",
    "&= \\frac{P(X \\geq 2)}{P(X \\geq 1)}\\\\\n",
    "&= \\frac{1 - P(X=0) - P(X=1)}{1 - P(X=0)}\\\\\n",
    "&= \\frac{0.6241903}{0.8926258}\\\\\n",
    "&= 0.6992743\n",
    "\\end{align*}"
   ]
  },
  {
   "cell_type": "code",
   "execution_count": 19,
   "metadata": {},
   "outputs": [
    {
     "data": {
      "text/plain": [
       "0.8926258175999999"
      ]
     },
     "execution_count": 19,
     "metadata": {},
     "output_type": "execute_result"
    }
   ],
   "source": [
    "1 - p₀"
   ]
  },
  {
   "cell_type": "code",
   "execution_count": 20,
   "metadata": {},
   "outputs": [
    {
     "data": {
      "text/plain": [
       "0.6992743759958213"
      ]
     },
     "execution_count": 20,
     "metadata": {},
     "output_type": "execute_result"
    }
   ],
   "source": [
    "(1 - p₀ - p₁)/(1-p₀)"
   ]
  },
  {
   "cell_type": "markdown",
   "metadata": {},
   "source": [
    "---\n",
    "7.Find the probability that a hand of thirteen bridge cards selected at random contains exactly two red cards. Compare it with the corresponding probability in Bernoulli trials with $p=\\frac{1}{2}$.\n",
    "\n",
    "---\n",
    "\n",
    "*Solution.*\n",
    "When drawing a bridge hand, the cards are sampled without replacement. So, they are not independent Bernoulli trials. Actually the number of red cards follows a hypergeometric distribution. The probability that a hand of thirteen bridge cards selected at random contains exactly two red cards is given by,\n",
    "\n",
    "\\begin{align*}\n",
    "P(X_R = 2) &= \\frac{{26 \\choose 2}{26 \\choose 11}}{52 \\choose 13}\\\\\n",
    "&= 0.0039542\n",
    "\\end{align*}\n",
    "\n",
    "In comparison, if these cards are drawn with replacement, i.e. these were independent Bernoulli trials, then \n",
    "\n",
    "\\begin{align*}\n",
    "P(X_R = 2) &= {13 \\choose 2}2^{-13}\\\\\n",
    "&= 0.0095214\n",
    "\\end{align*}"
   ]
  },
  {
   "cell_type": "code",
   "execution_count": 21,
   "metadata": {},
   "outputs": [
    {
     "data": {
      "text/plain": [
       "0.003954249420408755"
      ]
     },
     "execution_count": 21,
     "metadata": {},
     "output_type": "execute_result"
    }
   ],
   "source": [
    "p₂ = (binomial(26,2) * binomial(26,11))/binomial(52,13)"
   ]
  },
  {
   "cell_type": "code",
   "execution_count": 22,
   "metadata": {},
   "outputs": [
    {
     "data": {
      "text/plain": [
       "0.009521484375"
      ]
     },
     "execution_count": 22,
     "metadata": {},
     "output_type": "execute_result"
    }
   ],
   "source": [
    "p_binom = binomial(13,2)*2^(-13)"
   ]
  },
  {
   "cell_type": "markdown",
   "metadata": {},
   "source": [
    "---\n",
    "8.What is the probability that the birthdays of six people fall in two calendar months leaving exactly ten calendar months free? (Assume independence and equal probabilities for all months.)\n",
    "\n",
    "---\n",
    "\n",
    "*Solution.*\n",
    "We think of the six people as balls and the 12 calendar months as cells. We are placing six balls into twelve cells. We can choose the two calendar months in ${12 \\choose 2}$ distinguishable ways. \n",
    "\n",
    "Six people can fall into 2 calendar months leaving exactly ten calendar months free in $2^6$ distinguishable ways.\n",
    "\n",
    "And six people can be assigned to the twelve calendar months in $12^6$ distinguishable ways.\n",
    "\n",
    "The required probability should be,\n",
    "\n",
    "\\begin{align*}\n",
    "\\frac{{12 \\choose 2}2^6}{12^6}\n",
    "\\end{align*}"
   ]
  },
  {
   "cell_type": "code",
   "execution_count": 23,
   "metadata": {},
   "outputs": [
    {
     "data": {
      "text/plain": [
       "0.0014146090534979425"
      ]
     },
     "execution_count": 23,
     "metadata": {},
     "output_type": "execute_result"
    }
   ],
   "source": [
    "(binomial(12,2) * 2^6)/12^6"
   ]
  },
  {
   "cell_type": "markdown",
   "metadata": {},
   "source": [
    "However, we would like to leave exactly ten calendar months free, so we must exclude the possibility that six people's birthdays fall only in the first calendar month or only in the second calendar month. Thus, the desired probability is,\n",
    "\n",
    "\\begin{align*}\n",
    "{12 \\choose 2}\\left(\\frac{2^6}{12^6} - 2\\cdot \\frac{1}{12^6}\\right) \\approx 0.001370\n",
    "\\end{align*}"
   ]
  },
  {
   "cell_type": "code",
   "execution_count": 24,
   "metadata": {},
   "outputs": [
    {
     "data": {
      "text/plain": [
       "0.0013704025205761316"
      ]
     },
     "execution_count": 24,
     "metadata": {},
     "output_type": "execute_result"
    }
   ],
   "source": [
    "binomial(12,2)*((2^6/12^6)-2*(1/12^6))"
   ]
  },
  {
   "cell_type": "markdown",
   "metadata": {},
   "source": [
    "---\n",
    "9.In rolling six true dice, find the probability of obtaining (a)at least one(b)exactly one (c)exactly two, aces. Compare with poisson approximations.\n",
    "\n",
    "---\n",
    "\n",
    "*Solution.*\n",
    "\n",
    "Let us identify success as getting an ace in a dice roll. Since each dice roll is independent, we have a sequence of $6$ independent Bernoulli trials. Let $X$ be the number of aces in the $6$ Bernoulli trials. $X$ follows the binomial distribution. The probability of success $p=1/6$.\n",
    "\n",
    "(a) \\begin{align*}\n",
    "P(X \\geq 1) &= 1 - P(X=0)\\\\\n",
    "&= 1 - q^6\\\\\n",
    "&\\approx 0.665102\n",
    "\\end{align*}\n",
    "\n",
    "(b) \\begin{align*}\n",
    "P(X = 1) &= {6 \\choose 1}pq^5\\\\\n",
    "&\\approx 0.401877\n",
    "\\end{align*}\n",
    "\n",
    "(c) \\begin{align*}\n",
    "P(X = 2) &= {6 \\choose 2}p^2 q^4\\\\\n",
    "&\\approx 0.200938\n",
    "\\end{align*}"
   ]
  },
  {
   "cell_type": "code",
   "execution_count": 26,
   "metadata": {},
   "outputs": [
    {
     "data": {
      "text/plain": [
       "(0.6651020233196159, 0.401877572016461, 0.2009387860082305)"
      ]
     },
     "execution_count": 26,
     "metadata": {},
     "output_type": "execute_result"
    }
   ],
   "source": [
    "n,p,q = 6,1/6,5/6\n",
    "1 - q^6, binomial(6,1)*p*(q^5), binomial(6,2)*(p^2)*(q^4)"
   ]
  },
  {
   "cell_type": "code",
   "execution_count": 27,
   "metadata": {},
   "outputs": [
    {
     "data": {
      "text/plain": [
       "(0.6321205588285577, 0.36787944117144233, 0.18393972058572117)"
      ]
     },
     "execution_count": 27,
     "metadata": {},
     "output_type": "execute_result"
    }
   ],
   "source": [
    "λ = n*p\n",
    "1-(ℯ^(-λ)),(ℯ^(-λ))*(λ/1), (ℯ^(-λ))*(λ^2/2)"
   ]
  },
  {
   "cell_type": "markdown",
   "metadata": {},
   "source": [
    "---\n",
    "10.If there are on the average 1 per cent left-handers, estimate the chances of having at least four left-handers among 200 people. \n",
    "\n",
    "---\n",
    "\n",
    "*Solution.*\n",
    "We have, $\\lambda = np = 0.01*200 = 2$. Here $n$ is large, $p$ is small. Let $X$ be the number of left handers among the 200 people. $X$ is a poisson random variable.\n",
    "\n",
    "\\begin{align*}\n",
    "P(X \\geq 4) &= 1 - P(X=0) - P(X=1) - P(X=2) - P(X=3)\\\\\n",
    "&= 1 - e^{-\\lambda}\\left[1+\\frac{\\lambda}{1}+\\frac{\\lambda^2}{2!} + \\frac{\\lambda^3}{3!}\\right]\\\\\n",
    "&\\approx 0.1428765\n",
    "\\end{align*}"
   ]
  },
  {
   "cell_type": "code",
   "execution_count": 2,
   "metadata": {},
   "outputs": [
    {
     "data": {
      "text/plain": [
       "(0.1353352832366127, 0.2706705664732254, 0.2706705664732254, 0.18044704431548358)"
      ]
     },
     "execution_count": 2,
     "metadata": {},
     "output_type": "execute_result"
    }
   ],
   "source": [
    "poisson(k,λ) = (ℯ^(-λ))*(λ^k/factorial(k))\n",
    "poisson(0,2), poisson(1,2), poisson(2,2), poisson(3,2)"
   ]
  },
  {
   "cell_type": "code",
   "execution_count": 34,
   "metadata": {},
   "outputs": [
    {
     "data": {
      "text/plain": [
       "0.1428765395014529"
      ]
     },
     "execution_count": 34,
     "metadata": {},
     "output_type": "execute_result"
    }
   ],
   "source": [
    "1 - poisson(0,2) - poisson(1,2) - poisson(2,2) - poisson(3,2)"
   ]
  },
  {
   "cell_type": "markdown",
   "metadata": {},
   "source": [
    "---\n",
    "11.A book of 500 pages contains 500 misprints. Estimate the chances that a given page contains atleast three misprints.\n",
    "\n",
    "---\n",
    "\n",
    "*Solution.*\n",
    "\n",
    "Here, the total number of misprints $T = 500$, and the experiment is performed $N=500$ times. On an average, the number of misprints per page $\\lambda t = T/N = 500/500 = 1$.\n",
    "\n",
    "\\begin{align*}\n",
    "P(X \\geq 3) &= 1 - P(X \\leq 2)\\\\\n",
    "&=1 - (P(X=0) + P(X=1) + P(X=3))\\\\\n",
    "&\\approx 0.080301\n",
    "\\end{align*}"
   ]
  },
  {
   "cell_type": "code",
   "execution_count": 3,
   "metadata": {},
   "outputs": [
    {
     "data": {
      "text/plain": [
       "(0.36787944117144233, 0.36787944117144233, 0.18393972058572117)"
      ]
     },
     "execution_count": 3,
     "metadata": {},
     "output_type": "execute_result"
    }
   ],
   "source": [
    "poisson(0,1),poisson(1,1),poisson(2,1)"
   ]
  },
  {
   "cell_type": "code",
   "execution_count": 4,
   "metadata": {},
   "outputs": [
    {
     "data": {
      "text/plain": [
       "0.08030139707139416"
      ]
     },
     "execution_count": 4,
     "metadata": {},
     "output_type": "execute_result"
    }
   ],
   "source": [
    "1 - poisson(0,1) - poisson(1,1) - poisson(2,1)"
   ]
  },
  {
   "cell_type": "markdown",
   "metadata": {},
   "source": [
    "---\n",
    "12.Colorblindness appears in 1 per cent of the people in a certain population. How large must a random sample (with replacements) be if the probability of its containing a colorblind person is to be 0.95 or more?\n",
    "\n",
    "---\n",
    "\n",
    "*Solution.*\n",
    "\n",
    "We are given that $P(X\\ge 1) \\geq 0.95$. Consequently,\n",
    "\n",
    "\\begin{align*}\n",
    "P(X = 0) &\\leq 0.05\\\\\n",
    "e^{-\\lambda} &\\leq 0.05 \\\\\n",
    "-\\lambda &\\leq \\log 0.05\\\\\n",
    "\\lambda &\\geq 2.9957322\\\\\n",
    "n(0.01) &\\geq 2.9957322\\\\\n",
    "n &\\geq 300\n",
    "\\end{align*}"
   ]
  },
  {
   "cell_type": "code",
   "execution_count": 6,
   "metadata": {},
   "outputs": [
    {
     "data": {
      "text/plain": [
       "2.995732273553991"
      ]
     },
     "execution_count": 6,
     "metadata": {},
     "output_type": "execute_result"
    }
   ],
   "source": [
    "-log(0.05)"
   ]
  },
  {
   "cell_type": "markdown",
   "metadata": {},
   "source": [
    "---\n",
    "13.In the preceding exercise, what is the probability that a sample of $100$ people will contain (a)no (b) two or more, colorblind people?\n",
    "\n",
    "---\n",
    "\n",
    "*Solution.*\n",
    "We have, $\\lambda = np = 100 \\cdot 0.01 = 1$. \n",
    "\n",
    "(a) \\begin{align*}\n",
    "P(X=0) = e^{-1} = 0.36787\n",
    "\\end{align*}\n",
    "\n",
    "(b) \\begin{align*}\n",
    "P(X \\geq 2) &= 1 - P(X < 2)\\\\\n",
    "&= 1 - P(X=0) - P(X=1)\\\\\n",
    "&= 1 - e^{-1} - e^{-1}/2\\\\\n",
    "&\\approx 0.44818\n",
    "\\end{align*}"
   ]
  },
  {
   "cell_type": "code",
   "execution_count": 8,
   "metadata": {},
   "outputs": [
    {
     "data": {
      "text/plain": [
       "(0.36787944117144233, 0.18393972058572117)"
      ]
     },
     "execution_count": 8,
     "metadata": {},
     "output_type": "execute_result"
    }
   ],
   "source": [
    "ℯ^(-1), ℯ^(-1)/2"
   ]
  },
  {
   "cell_type": "code",
   "execution_count": 9,
   "metadata": {},
   "outputs": [
    {
     "data": {
      "text/plain": [
       "0.4481808382428365"
      ]
     },
     "execution_count": 9,
     "metadata": {},
     "output_type": "execute_result"
    }
   ],
   "source": [
    "1 - ℯ^(-1) - ℯ^(-1)/2"
   ]
  },
  {
   "cell_type": "markdown",
   "metadata": {},
   "source": [
    "---\n",
    "14.Estimate the number of raisins which a cookie should contain on the average if it is desired that the probability of a cookie to contain atleast one raisin be 0.99 or more.\n",
    "\n",
    "---\n",
    "\n",
    "*Solution.*\n",
    "Let $X$ be the number of raisins in a cookie. $X \\sim Poisson(k;\\lambda)$.\n",
    "\n",
    "\\begin{align*}\n",
    "P(X \\geq 1 ) &\\geq 0.99 \\\\\n",
    "1 - P(X \\geq 1) &\\leq 1 - 0.99 \\\\\n",
    "P(X=0) &\\leq 0.01 \\\\\n",
    "e^{-\\lambda} &\\leq 0.01\\\\\n",
    "-\\lambda &\\leq \\log 0.01\\\\\n",
    "\\lambda &\\geq 4.60517\n",
    "\\end{align*}"
   ]
  },
  {
   "cell_type": "code",
   "execution_count": 10,
   "metadata": {},
   "outputs": [
    {
     "data": {
      "text/plain": [
       "-4.605170185988091"
      ]
     },
     "execution_count": 10,
     "metadata": {},
     "output_type": "execute_result"
    }
   ],
   "source": [
    "log(0.01)"
   ]
  },
  {
   "cell_type": "markdown",
   "metadata": {},
   "source": [
    "---\n",
    "15.The probability of a royal flush in poker is $p=1/649740$. How large has $n$ to be to render the probability of no royal flush in $n$ hands smaller than $1/e \\approx \\frac{1}{3}$? (*Note:* No calculations are necessary for the solution).\n",
    "\n",
    "---\n",
    "\n",
    "*Solution.*\n"
   ]
  },
  {
   "cell_type": "markdown",
   "metadata": {},
   "source": [
    "A royal flush is an ace, king, queen, jack and ten of a suit. \n",
    "\n",
    "The probability of a royal flush is $p = \\frac{{4 \\choose 1}}{52 \\choose 5} = \\frac{1}{649740}$."
   ]
  },
  {
   "cell_type": "code",
   "execution_count": 13,
   "metadata": {},
   "outputs": [
    {
     "data": {
      "text/plain": [
       "(1.5390771693292702e-6, 1.5390771693292702e-6)"
      ]
     },
     "execution_count": 13,
     "metadata": {},
     "output_type": "execute_result"
    }
   ],
   "source": [
    "binomial(4,1)/binomial(52,5), 1/649740"
   ]
  },
  {
   "cell_type": "markdown",
   "metadata": {},
   "source": [
    "Let $X$ be the number of royal flushes in $n$ hands. $X \\sim Poisson(k;\\lambda)$.\n",
    "\n",
    "\\begin{align*}\n",
    "P(X = 0) &\\leq \\frac{1}{e}\\\\\n",
    "e^{-\\lambda} &\\leq e^{-1}\\\\\n",
    "\\lambda &\\geq 1\\\\\n",
    "n\\cdot \\frac{1}{649470} &\\geq 1\\\\\n",
    "n &\\geq 649470\n",
    "\\end{align*}"
   ]
  },
  {
   "cell_type": "markdown",
   "metadata": {},
   "source": [
    "---\n",
    "16.A book of $n$ pages contains on the average $\\lambda$ misprints per page. Estimate the probability that at least one page will contain more than $k$ misprints.\n",
    "\n",
    "---\n",
    "\n",
    "*Solution.*\n",
    "Let $X$ be the number of misprints per page. $X \\sim Poisson(k;\\lambda)$. \n",
    "\n",
    "\\begin{align*}\n",
    "P(X > k) &=  e^{-\\lambda} \\left[\\frac{\\lambda^{k+1}}{(k+1)!} + \\ldots \\right]\n",
    "\\end{align*}\n",
    "\n",
    "This gives us the probability that a page will contain more than $k$ misprints. \n",
    "\n",
    "Let us identify success as a page containing more than $k$ misprints. Let $Y$ be the number of pages containing more than $k$ misprints. Then, $Y \\sim Binomial(m;n,p)$ where $p = e^{-\\lambda} \\left[\\frac{\\lambda^{k+1}}{(k+1)!} + \\ldots \\right]$. The probability of atleast one success equals one minus the probability that no page contains more than $k$ misprints.\n",
    "\n",
    "\\begin{align*}\n",
    "P(Y \\geq 1) &= 1 - P(Y=0)\\\\\n",
    "&= 1 - (1-p)^n\n",
    "\\end{align*}"
   ]
  },
  {
   "cell_type": "markdown",
   "metadata": {},
   "source": [
    "---\n",
    "17.Suppose that there exist two kinds of stars(or raisins in a cake, or flaws in a material). The probability that a given volume contains $j$ stars of the first kind is $p(j;a)$ and the probability that it contains $k$ stars of the second kind is $p(k;b)$; the two events are assumed to be independent. Prove that the probability that the volume contains a total of $n$ stars is $p(n;a + b)$. (Interprete the assertion and the assumptions abstractly.)\n",
    "\n",
    "---\n",
    "\n",
    "*Solution.*\n",
    "\n",
    "Let $X$ be the number of stars of the first kind in a unit volume. $X \\sim Poisson(j;a)$. $a$ is the average density of the stars of the first kind in a unit volume.\n",
    "\n",
    "Let $Y$ be the number of stars of the second kind in a unit volume. $X \\sim Poisson(k;b)$. $b$ is the average density of the stars of the second kind in a unit volume.\n",
    "\n",
    "$X$ and $Y$ are independent Poisson r.v.'s, the occurrence of the stars of one kind, reveals no additional information about the occurrence of the other kind.\n",
    "\n",
    "We are actually interested to find the probability distribution of the total number of stars $X + Y$, in a unit volume. \n",
    "\n",
    "\\begin{align*}\n",
    "P(X + Y = n) &= \\sum_{j=0}^{n} P(X + Y = n|X=j) \\cdot P(X=j)\\\\\n",
    "&= \\sum_{j=0}^{n} P(Y=n-j|X=j) \\cdot P(X=j)\\\\\n",
    "&= \\sum_{j=0}^{n} P(Y=n-j) \\cdot P(X=j) \\quad \\{ X \\text{ and } Y \\text{ are independent } \\}\\\\\n",
    "&= \\sum_{j=0}^{n} e^{-a} \\cdot \\frac{a^{n-j}}{(n-j)!} \\cdot e^{-b} \\cdot \\frac{b^j}{j!}\\\\\n",
    "&= \\frac{e^{-(a+b)}}{n!}\\sum_{j=0}^{n} {n \\choose j} a^{n-j} b^j \\\\\n",
    "&= e^{-(a+b)} \\cdot \\frac{(a+b)^n}{n!}\n",
    "\\end{align*}\n",
    "\n",
    "Thus, $X + Y \\sim Poisson(n,a+b)$."
   ]
  },
  {
   "cell_type": "markdown",
   "metadata": {},
   "source": [
    "---\n",
    "18.*A traffic problem.* The flow of traffic at a certain street crossing is described by saying that the probability of a car's passing during any given second is a constant $p$; and that there is no interaction between the passing of cars at different seconds. Treating seconds as indivisible time unit, the model of Bernoulli trials applies. Suppose that a pedestrian can cross the street only if no car is to pass during the next three seconds. Find the probability that the pedestrian has to wait for exactly $k=0,1,2,3,4$ seconds.\n",
    "(The corresponding general formulas are not obvious and will be derived in connection with the theory of success runs in a later topic.)\n",
    "\n",
    "---\n",
    "\n",
    "*Solution.*\n"
   ]
  },
  {
   "cell_type": "markdown",
   "metadata": {},
   "source": [
    "---\n",
    "19.Two people toss a true coin $n$ times each. Find the probability that they will score the same number of heads.\n",
    "\n",
    "---\n",
    "*Solution.*\n",
    "Let $X$ be the number of heads scored by the first person. And let $Y$ be the number of heads scored by the second person. We are interested to find the probability of the event $X=Y$. \n",
    "\n",
    "\\begin{align*}\n",
    "P(X=Y) &= P(X=Y|X=0) \\cdot P(X=0) + P(X=Y|X=1) \\cdot P(X = 1) + P(X = Y|X = 2) \\cdot P(X=2) + \\ldots \\\\\n",
    "&= P(Y=0) \\cdot P(X = 0) + P(Y=1)\\cdot P(X=1) + P(Y=2) \\cdot P(X=2)\\\\\n",
    "&=\\left(\\frac{1}{2}\\right)^{2n}\\left[{n \\choose 0}^2 + {n \\choose 1}^2 + {n \\choose 2}^2 + \\ldots \\right]\n",
    "\\end{align*}\n",
    "\n",
    "But we know using the story proof that, if we have $n$ white balls and $n$ black balls, then the number of ways of constructing a sample of size $n$ from a population of size $2n$ is,\n",
    "\n",
    "\\begin{align*}\n",
    "{n \\choose 0}{n \\choose n} + {n \\choose 1}{n \\choose {n-1}} + {n \\choose 2}{n \\choose n-2} + \\ldots &= {2n \\choose n}\\\\\n",
    "\\sum_k {n \\choose k}{n \\choose n - k} &= {2n \\choose n}\\\\\n",
    "\\sum_k {n \\choose k}^2 = {2n \\choose n}\n",
    "\\end{align*}"
   ]
  },
  {
   "cell_type": "markdown",
   "metadata": {},
   "source": [
    "---\n",
    "20.In a sequence of Bernoulli trials with probability $p$ for success, find the probability that $a$ successes will occur before $b$ failures. (Note: The issue is decided after at most $a+b-1$ trials. This probem playerd a role in the classical theory of games in connection with the question of how to divide the pot when the game is interrupted at a moment when one player lacks $a$ points to victory, the other $b$ points.)\n",
    "\n",
    "---\n",
    "\n",
    "*Solution.*\n",
    "The probability that $a$ successes occur before $b$ failures is given by,\n",
    "\n"
   ]
  },
  {
   "cell_type": "markdown",
   "metadata": {},
   "source": [
    "---\n",
    "21.In Banach's match box problem find the probability that at the moment when the first box is emptied (not found empty) the other contains exactly $r$  matches (where $r = 1,2,3,\\ldots,N$)\n",
    "\n",
    "---\n",
    "*Solution.* Let us identify success with drawing a match from the first box. We are interested to find the probability that the $N$th success occurs at the $(2N-r)$th trial. That, is $N-1$ successes must occur in the preceding $2N - r - 1$ trials. Therefore the desired probability is:\n",
    "\n",
    "\\begin{align*}\n",
    "{{2N - r - 1} \\choose {N - 1}}\\left(\\frac{1}{2}\\right)^{N-1}\\left(\\frac{1}{2}\\right)^{N-r}\n",
    "\\end{align*}\n",
    "\n",
    "We would like the $N$th success to occur at the $(2N-r)$th trial. That gives us,\n",
    "\n",
    "\\begin{align*}\n",
    "{{2N - r - 1} \\choose {N - 1}}\\left(\\frac{1}{2}\\right)^{N}\\left(\\frac{1}{2}\\right)^{N-r}\n",
    "\\end{align*}\n",
    "\n",
    "Because of symmetry, we can relabel the left box as the second box and right box as the first box. Hence, the desired probability is,\n",
    "\\begin{align*}\n",
    "&2{{2N - r - 1} \\choose {N - 1}}\\left(\\frac{1}{2}\\right)^{2N-r}\\\\\n",
    "=&{{2N - r - 1} \\choose {N - 1}}\\left(\\frac{1}{2}\\right)^{2N-r-1}\n",
    "\\end{align*}\n"
   ]
  },
  {
   "cell_type": "markdown",
   "metadata": {},
   "source": [
    "---\n",
    "23.*(Continuation)* Using the preceding result, find the probability $x$ that the box first emptied is not the one first found to be empty. Show that the expression thus obtained reduces to $x = {2N \\choose N}2^{-2N-1}$ or $\\frac{1}{2}(N\\pi)^{-\\frac{1}{2}}$, approximately.\n",
    "\n",
    "---"
   ]
  },
  {
   "cell_type": "markdown",
   "metadata": {},
   "source": [
    "*Solution*. Let us identify success with selecting the first box. Let us label the match box in the left pocket as 1 and the right pocket as 2. We would like to ensure that there are no more $N$ successes in the first $2N-1$ trials. Thus, the first box is emptied (but not found empty). The $2N$th trial must be a failure, so the second box is emptied after the first. Further, the $(2N+1)$st trial must result in a failure. So, the box that was emptied first is not the first one to be found empty.\n",
    "\n",
    "\\begin{align*}\n",
    "{2N \\choose N}\\left(\\frac{1}{2}\\right)^{2N+1}\n",
    "\\end{align*}"
   ]
  },
  {
   "cell_type": "markdown",
   "metadata": {},
   "source": [
    "We would like that the $(2N+1)$st trial results in a failure. So, the desired probability is,\n",
    "\n",
    "\\begin{align*}\n",
    "{2N \\choose N}\\left(\\frac{1}{2}\\right)^{2N+1}\n",
    "\\end{align*}"
   ]
  },
  {
   "cell_type": "code",
   "execution_count": null,
   "metadata": {},
   "outputs": [],
   "source": []
  }
 ],
 "metadata": {
  "kernelspec": {
   "display_name": "Julia 1.5.3",
   "language": "julia",
   "name": "julia-1.5"
  },
  "language_info": {
   "file_extension": ".jl",
   "mimetype": "application/julia",
   "name": "julia",
   "version": "1.5.3"
  }
 },
 "nbformat": 4,
 "nbformat_minor": 4
}
