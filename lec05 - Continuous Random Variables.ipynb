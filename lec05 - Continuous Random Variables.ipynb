{
 "cells": [
  {
   "cell_type": "markdown",
   "metadata": {},
   "source": [
    "## Introduction.\n",
    "\n",
    "A random variable $X$ is continuous if it takes uncountably many possible values. For example, consider drawing a random number $U$ from the interval $[0,1]$. $U$ is continuous random variable.\n",
    "\n",
    "A random variable $X$ is continuous if its distribution function $F(x) = P(X \\leq x)$ is differentiable. \n",
    "\n",
    "---\n",
    "**Definition.** A random variable $X$ is said to be continuous if its cumulative distribution function (CDF) $F(x)$ is differentiable and can be expressed as:\n",
    "\n",
    "$$F_X(x) = \\int_{-\\infty}^{x}f_X(x) dx \\tag{1}$$\n",
    "\n",
    "---\n",
    "\n",
    "---\n",
    "**Definition.** The function $f_X$ is called the probability density function (PDF) of the continuous random variable $X$. \n",
    "\n",
    "---\n",
    "\n",
    "Continuous random variables contrast starkly with discrete random variables in that $P(X=x)=0$ for all $x \\in \\mathbf{R}$; this may seem paradoxical since $X$ necessarily takes some value. Very roughly speaking the resolution of this paradox lies in the observation that there uncountably many possible values for $X$, this number is so large, that the probability of taking any particular value cannot exceed zero. \n",
    "\n",
    "*The numerical value $f(x)$ is not a probability*. However, we can think of $f(x)dx$ as an element of probability $P(x \\leq X \\leq x + dx)$. It is the probability that $X$ falls in an infinitesimally small interval of length $dx$. "
   ]
  },
  {
   "cell_type": "markdown",
   "metadata": {},
   "source": [
    "The probability that $X$ takes a value in the interval $[a,b]$ from (1) is:\n",
    "\n",
    "$$P(a \\leq x \\leq b)=P(X \\leq b) - P(X \\leq a) = F_X(b) - F_X(a) = \\int_{a}^{b}f_X(x) dx \\tag{2}$$"
   ]
  },
  {
   "cell_type": "markdown",
   "metadata": {},
   "source": [
    "Intuitively speaking, to calculate this probability we divide the interval $[a,b]$ into $n$-subintervals:\n",
    "\n",
    "$$a "
   ]
  }
 ],
 "metadata": {
  "kernelspec": {
   "display_name": "Python 3",
   "language": "python",
   "name": "python3"
  },
  "language_info": {
   "codemirror_mode": {
    "name": "ipython",
    "version": 3
   },
   "file_extension": ".py",
   "mimetype": "text/x-python",
   "name": "python",
   "nbconvert_exporter": "python",
   "pygments_lexer": "ipython3",
   "version": "3.8.3"
  }
 },
 "nbformat": 4,
 "nbformat_minor": 4
}
